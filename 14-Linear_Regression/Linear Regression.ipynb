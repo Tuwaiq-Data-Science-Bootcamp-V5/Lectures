{
 "cells": [
  {
   "cell_type": "markdown",
   "id": "facde6f9",
   "metadata": {},
   "source": [
    "# Intro to Machine Learning\n",
    "\n",
    "Now, after we have clean and prepare the data, we need to pass it to some algorithm to make predictions based on the data. Will, this is the machine learning!!\n",
    "\n",
    "<img src=\"images/Screenshot (864).png\">\n",
    "\n",
    "#### What is the machine learning?\n",
    "- Field of study that gives computers the ability to learn without being explicitly programmed. Arthur Samuel (1959).\n",
    "- It is a subfield of AI, and it is the process of solving problem without writing a code.\n",
    "\n",
    "#### What is the difference between AI and ML?\n",
    "- AI : It is field that focuses on creating machines or systems that can perform tasks that would typically require human intelligence.\n",
    "\n",
    "- ML : is a subset of AI that involves the development of algorithms that allow computers to learn from and make predictions or decisions based on data.\n",
    "\n",
    "AI is not good enough if the problem has unexpected input states (not discrete problem), the solution is ML, which is good to train the machine learning algorithm for the historical data to generalize the model for the new unexpected data.\n",
    "\n",
    "#### What is the machine learning algorithm?\n",
    "- A computer program that discover the patterns and relationships between the variables of the dataset (learn from the data \"Train\") to build a model for prediction.\n",
    "\n",
    "<img src=\"images/Screenshot (865).png\">\n",
    "\n",
    "#### What is the machine learning model?\n",
    "- An output of the machine learning algorithm after training to make predictions.\n",
    "\n",
    "<img src=\"images/Algorithm_Model.png\">\n",
    "\n",
    "#### When we do not need machine learning?\n",
    "\n",
    "- When the relationships between all system variables is completely understood!\n",
    "- That means, the problem has a discrete states of input data.\n",
    "\n",
    "#### Machine Learning Families\n",
    "\n",
    "<img src=\"images/Screenshot (866).png\">\n",
    "\n",
    "#### Types Machine Learning Algorithms\n",
    "\n",
    "<img src=\"images/Screenshot (867).png\">\n",
    "\n",
    "<hr>\n",
    "\n",
    "#### 1. Supervised Learning\n",
    "\n",
    "The process of training the machines from labeld dataset. This kind of lreaning is more accurate than the others because it is more specific (the target label is known).\n",
    "\n",
    "<img src=\"images/supervised.jpg\">\n",
    "\n",
    "Suppose we have a dataset contains emails, each email is labeled as spam or not spam, the model can learn from this dataset using some algorithm by mapping each email with its label, and after that, it can be more specific for predictions.\n",
    "\n",
    "<img src=\"images/Screenshot (868).png\">\n",
    "\n",
    "#### 2. Unsupervised Learning\n",
    "\n",
    "This kind of learning algorithms can learn from the dataset that are unlabeled (no target label) it can find the patterens of the dataset to make clusters or groups for each pattern based on the dataset.\n",
    "\n",
    "<img src=\"images/unsupervised.png\">\n",
    "\n",
    "#### 3. Semi-supervised Learning\n",
    "\n",
    "This Kind of learning can learn from small dataset that is labeled and large dataset that is unlabeled.\n",
    "\n",
    "This kind of process is expensive like the unsupervised learning in some cases, why?\n",
    "1. Labeled data is expensive.\n",
    "2. Labeling the unlabeled data can be difficult, why?\n",
    "    - Human annotation is boring.\n",
    "    - Labels may require experts.\n",
    "    - Labels may require special devices.\n",
    "\n",
    "<img src=\"images/semi.jpg\">\n",
    "\n",
    "#### 4. Deep Reinforcement Learning\n",
    "\n",
    "Reinforcement Learning allows the machine or software agent to learn its behavior based on feedback from the environment. This behavior can be learnt once and for all, or keep on adapting as time  goes by.\n",
    "\n",
    "<img src=\"images/rl.jpg\">\n",
    "\n",
    "Main components:\n",
    "1. An internal state , which is maintained by the agent to learn about the  environment.\n",
    "2. A reward function, which is used to train your agent how to behave.\n",
    "3. An environment , which is a scenario the agent has to face.\n",
    "4. An action , which is done by the agent in the environment and  Last but not the least, an agent which does all the deeds!\n",
    "\n",
    "#### Machine Learning Algorithms\n",
    "\n",
    "<img src=\"images/Screenshot (870).png\">\n",
    "\n",
    "#### Parametric models and Non-parametric models\n",
    "\n",
    "1. Parametric models :\n",
    "\n",
    "Parametric models assume a specific form for the underlying data distribution. For example, in linear regression, it is assumed that the relationship between the variables is linear.\n",
    "\n",
    "Parametric models have a fixed number of parameters that need to be estimated from the data. For instance, in a linear regression model, you estimate coefficients for each predictor variable.\n",
    "\n",
    "Examples :-\n",
    "\n",
    "- Linear regression.\n",
    "- Logistic regression.\n",
    "- Naive bayes.\n",
    "\n",
    "2. Non-parametric models :\n",
    "\n",
    "Non-parametric models make minimal assumptions about the underlying data distribution. They are more flexible and can adapt to a wider range of patterns.\n",
    "\n",
    "Non-parametric models can handle complex relationships without relying on a predefined functional form. For example, decision trees can capture intricate decision boundaries.\n",
    "\n",
    "Examples :-\n",
    "\n",
    "- k-Nearest Neighbors (KNN).\n",
    "- Decision trees.\n",
    "- Random forests.\n",
    "\n",
    "#### How to train a Machine Learning Algorithm?\n",
    "\n",
    "<img src=\"images/Screenshot (871).png\">\n",
    "\n",
    "1. Train Test Split : The process of splitting the dataset into two subsets, train set and test set.\n",
    "\n",
    "<img src=\"images/train_test_split.png\">\n",
    "\n",
    "2. Model Training : The process of training the machine learning algorithm based on the training set only. Why?\n",
    "\n",
    "3. Model Testing and evaluation : The process of testing the machine learning algorithm based on the testing set, to evaluate the performance of the model.\n",
    "\n",
    "4. Model Deployment : The process of deploy the final model for the public world."
   ]
  },
  {
   "cell_type": "markdown",
   "id": "43fd106d",
   "metadata": {},
   "source": [
    "# Intro to Scikit Learn Library\n",
    "\n",
    "Scikit-learn is an open source data analysis library, and the gold standard for Machine Learning (ML) in the Python ecosystem.\n",
    "It is one of the most powerful libraries in Python, such as Tensorflow, PyTorch, Keras, and Spark.\n",
    "\n",
    "<img src=\"https://miro.medium.com/v2/resize:fit:1400/1*RIrPOCyMFwFC-XULbja3rw.png\" width=\"500\" height=\"500\" style=\"padding:2px\">\n",
    "\n",
    "Key concepts and features include:\n",
    "\n",
    "Algorithmic decision-making methods, including:\n",
    "1. Classification: Identifying and categorizing data based on patterns.\n",
    "2. Regression: Predicting or projecting data values based on the average mean of existing and planned data.\n",
    "3. Clustering: Automatic grouping of similar data into datasets.\n",
    "4. Dimensionality Reduction : Tools for reducing the number of random variables.\n",
    "5. Model Selection : Tools for selecting the best parameters for different models, and the best model among of them.\n",
    "6. Preprocessing : Tools for feature extraction, feature engineering, normalization, and other preprocessing techniques.\n",
    "\n",
    "Algorithms that support predictive analysis ranging from simple linear regression to neural network pattern recognition.\n",
    "Interoperability with NumPy, pandas, and matplotlib libraries.\n",
    "Also it is used for data science tasks, such as data preprocessing, data visualization, and data analysis with help of Pandas and NumPy.\n",
    "\n",
    "<img src=\"https://miro.medium.com/v2/resize:fit:1400/1*sgdaWDnqpuacF5vYRRmX_w.png\" style=\"padding:5px\">"
   ]
  },
  {
   "cell_type": "markdown",
   "id": "1346ed1e",
   "metadata": {},
   "source": [
    "# Regression Algorithms\n",
    "\n",
    "#### Types of Regression Algorithms\n",
    "1. Linear Regression\n",
    "2. Polynomial Regression\n",
    "3. Logistic Regression\n",
    "4. Multi-class Regression\n",
    "5. Ridge Regression\n",
    "6. Lasso Regression\n",
    "7. Elastic-Net Regression"
   ]
  },
  {
   "cell_type": "markdown",
   "id": "303a1f9c",
   "metadata": {},
   "source": [
    "# 1. Linear Regression\n",
    "\n",
    "Linear regression is a supervised learning algorithm, parametric model, and statistical method used to examine the relationship between one or more independent variables and a dependent variable. It assumes a linear relationship between the independent and dependent variable.\n",
    "\n",
    "It is used to predict the quantites or continuous data.\n",
    "\n",
    "#### Examples :-\n",
    "1. What is the product price in the future?\n",
    "2. What is the product volume based on the weather?\n",
    "3. What is the book price based on the book category?\n",
    "4. What is the house price based on the house area?\n",
    "5. What is the weather in the next days based on the weather conditions?\n",
    "\n",
    "#### Linear Equation (prediction function) :-\n",
    "\n",
    "$$ Y = b + \\sum \\limits _{i=1} ^{n} X_{i} \\beta_{i} $$\n",
    "\n",
    "1. Y : Is the value we want to predict (target), which is the dependent variable.\n",
    "2. X : Is the value of the independent variable, which is the feature.\n",
    "3. β : Is the slope of the line calculated by dividing the change in y by the change in X.\n",
    "4. b : Is the y-intercept, the value of y when X is 0."
   ]
  },
  {
   "cell_type": "markdown",
   "id": "9bc9d799",
   "metadata": {},
   "source": [
    "### Simple Linear Regression\n",
    "\n",
    "It is the simplest linear regression algorithm, which studys the relationship between one independet variable and one dependent variable.\n",
    "\n",
    "$$ Y = b + X \\beta $$\n",
    "\n",
    "<img src=\"images/linear_equation.png\">"
   ]
  },
  {
   "cell_type": "markdown",
   "id": "1f55c4d1",
   "metadata": {},
   "source": [
    "### Example of the linear equation :-\n",
    "\n",
    "We have this dataset :-\n",
    "\n",
    "<center>\n",
    "    \n",
    "    | X |\n",
    "    |---|\n",
    "    | 1 |\n",
    "    | 3 |\n",
    "    | 5 |\n",
    "    \n",
    "</center>\n",
    "\n",
    "Assume that the β is 0.5 and b is 0\n",
    "\n",
    "Make predictions to find Y based on the variables we have :-\n",
    "\n",
    "- First Instance : $$ Y = \\beta X_{1} + b = (0.5) (1) + (0) = 0.5 $$\n",
    "- Second Instance : $$ Y = \\beta X_{2} + b = (0.5) (3) + (0) = 1.5 $$\n",
    "- Third Instance : $$ Y = \\beta X_{3} + b = (0.5) (5) + (0) = 2.5 $$"
   ]
  },
  {
   "cell_type": "code",
   "execution_count": 1,
   "id": "fef85d67",
   "metadata": {},
   "outputs": [],
   "source": [
    "import numpy as np\n",
    "import pandas as pd\n",
    "import matplotlib.pyplot as plt"
   ]
  },
  {
   "cell_type": "code",
   "execution_count": 2,
   "id": "88e817a8",
   "metadata": {},
   "outputs": [],
   "source": [
    "def find_y(x, beta, b):\n",
    "    y = []\n",
    "    for xi in x:\n",
    "        y.append(xi * beta + b)\n",
    "    return np.array(y)"
   ]
  },
  {
   "cell_type": "code",
   "execution_count": 3,
   "id": "a9c4484f",
   "metadata": {},
   "outputs": [
    {
     "name": "stdout",
     "output_type": "stream",
     "text": [
      "The prediction values : [0.5 1.5 2.5]\n"
     ]
    }
   ],
   "source": [
    "x = np.array([1, 3, 5])\n",
    "\n",
    "beta, b = 0.5, 0\n",
    "\n",
    "y_pred = find_y(x, beta, 0)\n",
    "\n",
    "print(f'The prediction values : {y_pred}')"
   ]
  },
  {
   "cell_type": "code",
   "execution_count": 4,
   "id": "1f4d4ace",
   "metadata": {},
   "outputs": [
    {
     "data": {
      "image/png": "[encoded data removed]",
      "text/plain": [
       "<Figure size 432x288 with 1 Axes>"
      ]
     },
     "metadata": {
      "needs_background": "light"
     },
     "output_type": "display_data"
    }
   ],
   "source": [
    "plt.scatter(x, y_pred, marker='x', c='r')\n",
    "\n",
    "plt.title(\"Prediction Function\")\n",
    "\n",
    "plt.ylabel('Y Predictions')\n",
    "plt.xlabel('X Feature')\n",
    "plt.show();"
   ]
  },
  {
   "cell_type": "markdown",
   "id": "42445632",
   "metadata": {},
   "source": [
    "### Cost Function for Linear Regression\n",
    "\n",
    "In linear regression, the cost function is a measure of how well the model fits the observed data. It quantifies the difference between the actual values and the predicted values generated by the linear regression model.\n",
    "\n",
    "$$ Cost = \\frac{1}{n} \\sum \\limits _{i=1} ^{n} (Y_{i} - \\hat{Y_{i}})^2 $$\n",
    "\n",
    "1. $ Y_{i} $ Is the actual dependent value.\n",
    "2. $ \\hat{Y_{i}} $ Is the predicted dependent value.\n",
    "3. $ n $ Is the length of the dataset.\n",
    "\n",
    "The goal is to minimize this cost function to obtain the best-fitting line that represents the relationship between the independent and dependent variables.\n",
    "\n",
    "What does that means? That means we need to find the best line that fits the data in a good way.\n",
    "\n",
    "### Example of the cost function :-\n",
    "\n",
    "We have this dataset :-\n",
    "\n",
    "<center>\n",
    "    \n",
    "    | X | Y |\n",
    "    |---|---|\n",
    "    | 1 | 1 |\n",
    "    | 3 | 2 |\n",
    "    | 5 | 3 |\n",
    "    \n",
    "</center>\n",
    "\n",
    "The Y column is the actual values.\n",
    "\n",
    "Calculate the cost :-\n",
    "\n",
    "$$ Cost = (1 - 0.5)^2 + (2 - 1.5)^2 + (3 - 2.5)^2 = 0.75 $$"
   ]
  },
  {
   "cell_type": "code",
   "execution_count": 5,
   "id": "7befa5bc",
   "metadata": {},
   "outputs": [],
   "source": [
    "def calculate_cost(y_act, y_hat):\n",
    "    cost = 0\n",
    "    for i in range(len(y_act)):\n",
    "        cost += (y_act[i] - y_hat[i]) ** 2\n",
    "    total_cost = cost / len(y_act)\n",
    "    return cost"
   ]
  },
  {
   "cell_type": "code",
   "execution_count": 6,
   "id": "6155ddc7",
   "metadata": {},
   "outputs": [
    {
     "name": "stdout",
     "output_type": "stream",
     "text": [
      "The cost function is : 0.75\n"
     ]
    }
   ],
   "source": [
    "y = np.array([1, 2, 3])\n",
    "\n",
    "cost = calculate_cost(y, y_pred)\n",
    "\n",
    "print(f'The cost function is : {cost}')"
   ]
  },
  {
   "cell_type": "code",
   "execution_count": 7,
   "id": "d3eb0def",
   "metadata": {},
   "outputs": [
    {
     "data": {
      "image/png": "[encoded data removed]",
      "text/plain": [
       "<Figure size 432x288 with 1 Axes>"
      ]
     },
     "metadata": {
      "needs_background": "light"
     },
     "output_type": "display_data"
    }
   ],
   "source": [
    "plt.plot(x, y_pred, c='b',label='Our Prediction')\n",
    "plt.scatter(x, y, marker='x', c='r',label='Actual Values')\n",
    "\n",
    "plt.title(\"Cost Function with Prediction Function\")\n",
    "\n",
    "plt.ylabel('Y Target')\n",
    "plt.xlabel('X Feature')\n",
    "plt.legend()\n",
    "\n",
    "plt.show();"
   ]
  },
  {
   "cell_type": "markdown",
   "id": "de41ad66",
   "metadata": {},
   "source": [
    "### How to find the best weights and bias?\n",
    "\n",
    "Now, we know the prediction function and the cost function, but we have initialize the wight and bias at random. What if there are wight and bias values better than the selected wight and bias? What if there are value much better than the new ones?\n",
    "\n",
    "Our goal is to minimize the cost function, we know that. So, why we did not try a different values for wights and bias and select the best wights and bias that minimize the cost function perfectly?"
   ]
  },
  {
   "cell_type": "code",
   "execution_count": 8,
   "id": "bddb139e",
   "metadata": {},
   "outputs": [
    {
     "name": "stdout",
     "output_type": "stream",
     "text": [
      "The cost value when the wight is 0.1 and bias is 0 is : 9.95\n",
      "The cost value when the wight is 0.5 and bias is 0 is : 0.75\n",
      "The cost value when the wight is 1.0 and bias is 0 is : 5.0\n"
     ]
    }
   ],
   "source": [
    "wights, bias = np.array([0.1, 0.5, 1]), 0\n",
    "costs = np.zeros(3)\n",
    "\n",
    "for i in range(3):\n",
    "    y_pred = find_y(x, wights[i], bias)\n",
    "    costs[i] = calculate_cost(y, y_pred)\n",
    "\n",
    "for i, cost in enumerate(costs):\n",
    "    print(f'The cost value when the wight is {wights[i]} and bias is {bias} is : {cost}')"
   ]
  },
  {
   "cell_type": "markdown",
   "id": "db64ec5b",
   "metadata": {},
   "source": [
    "### Find the wights and bias directly (Closed-form)\n",
    "\n",
    "1. Find the mean of training X data\n",
    "\n",
    "$$ \\hat{X} = \\frac{\\sum \\limits _{i=1} ^{n} x_{i}}{len(X)} $$\n",
    "\n",
    "2. Find the mean of actual Y data\n",
    "\n",
    "$$ \\hat{Y} = \\frac{\\sum \\limits _{i=1} ^{n} y_{i}}{len(Y)} $$\n",
    "\n",
    "3. Find the slope\n",
    "\n",
    "$$ \\beta = \\frac{\\sum \\limits _{i=1} ^{n} (x_{i} - \\hat{X}) (y_{i} - \\hat{Y})}{\\sum \\limits _{i=1} ^{n} (x_{i} - \\hat{X})^2} $$\n",
    "\n",
    "4. Find the y intercept\n",
    "\n",
    "$$ b = \\hat{Y} - \\beta_{0} \\hat{X} $$"
   ]
  },
  {
   "cell_type": "code",
   "execution_count": 9,
   "id": "c3832db7",
   "metadata": {},
   "outputs": [
    {
     "name": "stdout",
     "output_type": "stream",
     "text": [
      "The slope of the equation        : 0.5\n",
      "The y intercept of the equation  : 0.5\n"
     ]
    }
   ],
   "source": [
    "# Task 1 : Find the mean of X\n",
    "x_mean = np.mean(x)\n",
    "\n",
    "# Task 2 : Find the mean of Y\n",
    "y_mean = np.mean(y)\n",
    "\n",
    "# Task 3 : Find the slope\n",
    "slope = v1 = v2 = 0\n",
    "for i in range(len(x)):\n",
    "    v1 += (x[i] - x_mean) * (y[i] - y_mean)\n",
    "    v2 += (x[i] - x_mean) ** 2\n",
    "\n",
    "slope = v1 / v2\n",
    "print(f'The slope of the equation        : {slope}')\n",
    "\n",
    "# Task 4 : Find the y intercept\n",
    "y_intercept = y_mean - slope * x_mean\n",
    "\n",
    "print(f'The y intercept of the equation  : {y_intercept}')"
   ]
  },
  {
   "cell_type": "code",
   "execution_count": 10,
   "id": "19d1276e",
   "metadata": {},
   "outputs": [
    {
     "name": "stdout",
     "output_type": "stream",
     "text": [
      "The cost value when the wight is 0.5 and bias is 0.5 is : 0.0\n"
     ]
    }
   ],
   "source": [
    "y_pred = find_y(x, slope, y_intercept)\n",
    "cost = calculate_cost(y, y_pred)\n",
    "\n",
    "print(f'The cost value when the wight is {slope} and bias is {y_intercept} is : {cost}')"
   ]
  },
  {
   "cell_type": "code",
   "execution_count": 11,
   "id": "65efbeb0",
   "metadata": {},
   "outputs": [
    {
     "data": {
      "image/png": "[encoded data removed]",
      "text/plain": [
       "<Figure size 432x288 with 1 Axes>"
      ]
     },
     "metadata": {
      "needs_background": "light"
     },
     "output_type": "display_data"
    }
   ],
   "source": [
    "plt.plot(x, y_pred, c='b',label='Our Prediction')\n",
    "plt.scatter(x, y, marker='x', c='r',label='Actual Values')\n",
    "\n",
    "plt.title(\"Closed Form Solution\")\n",
    "\n",
    "plt.ylabel('Y Target')\n",
    "plt.xlabel('X Feature')\n",
    "plt.legend()\n",
    "\n",
    "plt.show();"
   ]
  },
  {
   "cell_type": "markdown",
   "id": "91988a8e",
   "metadata": {},
   "source": [
    "### Now, consider this example"
   ]
  },
  {
   "cell_type": "code",
   "execution_count": 12,
   "id": "968da7f6",
   "metadata": {},
   "outputs": [
    {
     "data": {
      "image/png": "[encoded data removed]",
      "text/plain": [
       "<Figure size 432x288 with 1 Axes>"
      ]
     },
     "metadata": {
      "needs_background": "light"
     },
     "output_type": "display_data"
    }
   ],
   "source": [
    "np.random.seed(0)\n",
    "\n",
    "X = 2 * np.random.rand(500,)\n",
    "y = (4 + 3 * X + np.random.randn(500,)) + X ** 2\n",
    "\n",
    "plt.scatter(X, y, marker='x', c='r',label='Actual Values')\n",
    "\n",
    "plt.title(\"Closed Form Disadvantage\")\n",
    "\n",
    "plt.ylabel('Y Target')\n",
    "plt.xlabel('X Feature')\n",
    "plt.legend()\n",
    "\n",
    "plt.show();"
   ]
  },
  {
   "cell_type": "code",
   "execution_count": 13,
   "id": "33da61c8",
   "metadata": {},
   "outputs": [
    {
     "name": "stdout",
     "output_type": "stream",
     "text": [
      "The slope of the equation        : 0.5669414834372813\n",
      "The y intercept of the equation  : 7.642628070417849\n"
     ]
    }
   ],
   "source": [
    "x_mean = np.mean(X)\n",
    "y_mean = np.mean(y)\n",
    "\n",
    "slope = v1 = v2 = 0\n",
    "for i in range(len(x)):\n",
    "    v1 += (x[i] - x_mean) * (y[i] - y_mean)\n",
    "    v2 += (x[i] - x_mean) ** 2\n",
    "\n",
    "slope = v1 / v2\n",
    "print(f'The slope of the equation        : {slope}')\n",
    "\n",
    "y_intercept = y_mean - slope * x_mean\n",
    "print(f'The y intercept of the equation  : {y_intercept}')"
   ]
  },
  {
   "cell_type": "code",
   "execution_count": 14,
   "id": "c422ac09",
   "metadata": {},
   "outputs": [
    {
     "data": {
      "image/png": "[encoded data removed]",
      "text/plain": [
       "<Figure size 432x288 with 1 Axes>"
      ]
     },
     "metadata": {
      "needs_background": "light"
     },
     "output_type": "display_data"
    }
   ],
   "source": [
    "y_pred = find_y(X, slope, y_intercept)\n",
    "cost = calculate_cost(y, y_pred)\n",
    "\n",
    "plt.plot(X, y_pred, c='b',label='Our Prediction')\n",
    "plt.scatter(X, y, marker='x', c='r',label='Actual Values')\n",
    "\n",
    "plt.title(\"Closed Form Disadvantage\")\n",
    "\n",
    "plt.ylabel('Y Target')\n",
    "plt.xlabel('X Feature')\n",
    "plt.legend()\n",
    "\n",
    "plt.show();"
   ]
  },
  {
   "cell_type": "markdown",
   "id": "dce48477",
   "metadata": {},
   "source": [
    "### Advantages of the Closed form\n",
    "\n",
    "1. Direct Solution\n",
    "2. Computational Efficiency\n",
    "3. No Hyperparameters\n",
    "4. Global Optimum if the solution is linear\n",
    "\n",
    "### Disadvantages of the Closed form\n",
    "\n",
    "1. Computationally Intensive\n",
    "2. Not Suitable for Non-linear Problems\n",
    "3. Memory Consumption\n",
    "\n",
    "Most of problems has a large dataset and not a linear. So, the solution is the gradient descent."
   ]
  },
  {
   "cell_type": "markdown",
   "id": "bddeec37",
   "metadata": {},
   "source": [
    "### Gradient Descent Algorithm\n",
    "\n",
    "Gradient descent is an iterative optimization algorithm used to minimize a cost function, by adjusting its parameters (wights and bias) iteratively.\n",
    "\n",
    "It is widely used in various machine learning algorithms, including linear regression, logistic regression, neural networks, and deep learning.\n",
    "\n",
    "The primary goal of gradient descent is to find the **local minimum** of a function by moving in the direction of the steepest descent (i.e., the negative of the gradient) of the function.\n",
    "\n",
    "Why gradient descent?\n",
    "1. Not computationaly expensive.\n",
    "2. Can solve linear and non linear problems.\n",
    "\n",
    "<img src=\"images/gradient2.png\">\n",
    "\n",
    "Gradient Descent Algorithm\n",
    "\n",
    "- We know that it is an iterative process where you start at some initial value of wight and bias (mostly at point (x0, y0)) and move towards the bottm of the hill, until we reach the minimum cost. How?\n",
    "\n",
    "    1. Start with initial values of wight and bias.\n",
    "    2. Calculate the cost based on these two values.\n",
    "    3. Take a small step to increment the wight and bias values.\n",
    "    4. Find the minimum value of the costs.\n",
    "\n",
    "*gradient descent* was described as:\n",
    "\n",
    "$$\n",
    "\\begin{align*} \\text{repeat}&\\text{ until reach minimum:} \\; \\lbrace \\newline\n",
    "\\;  \\beta_{0} &= \\beta_{0} -  \\alpha \\frac{\\partial J(\\beta_{0},\\beta_{0})}{\\partial \\beta_{0}} \\tag{1}  \\; \\newline \n",
    " \\beta_{1} &= \\beta_{1} -  \\alpha \\frac{\\partial J(\\beta_{0},\\beta_{1})}{\\partial \\beta_{1}}  \\newline \\rbrace\n",
    "\\end{align*}\n",
    "$$\n",
    "\n",
    "$ \\alpha $ or **learning_rate** is a small amount of step to move forward.\n",
    "\n",
    "where, parameters $\\beta_{0}$, $\\beta_{1}$ are updated simultaneously.  \n",
    "The gradient is defined as:\n",
    "\n",
    "$$\n",
    "\\begin{align}\n",
    "\\frac{\\partial J(\\beta_{0},\\beta_{1})}{\\partial \\beta_{0}}  &= \\sum\\limits_{i = 1}^{n} (y_{(i)} - \\hat{y}_{(i)}) x_{i}\\tag{2}\\\\\n",
    "  \\frac{\\partial J(\\beta_{0},\\beta_{1})}{\\partial \\beta_{1}}  &= \\sum\\limits_{i = 1}^{n} (y_{(i)} - \\hat{y}_{(i)}) \\tag{3}\\\\\n",
    "\\end{align}\n",
    "$$\n",
    "\n",
    "Here *simultaniously* means that you calculate the partial derivatives for all the parameters before updating any of the parameters.\n",
    "\n",
    "Here is the simulation of the gradient descent (assuming the bias is 0).\n",
    "\n",
    "<img src=\"images/gradient.png\">\n",
    "\n",
    "Updating the wights and bias using **learning_rate**\n",
    "\n",
    "<img src=\"images/learning_rate.png\">\n",
    "\n",
    "Lastly, the gradient descent is the algorithm used to train the linear regression model. Therefore, the line that fits the data is the model for prediction after training (finding the best wights and bias)."
   ]
  },
  {
   "cell_type": "markdown",
   "id": "1779c599",
   "metadata": {},
   "source": [
    "### Putting All Together\n",
    "\n",
    "Let us build the gradient descent from scratch."
   ]
  },
  {
   "cell_type": "code",
   "execution_count": 15,
   "id": "25ef8f52",
   "metadata": {},
   "outputs": [],
   "source": [
    "def prediction_function(xi, wight, bias):\n",
    "    return xi * wight + bias"
   ]
  },
  {
   "cell_type": "code",
   "execution_count": 16,
   "id": "ca7710e1",
   "metadata": {},
   "outputs": [],
   "source": [
    "def cost_function(X, y, wight, bias):\n",
    "    cost = 0\n",
    "    for i, xi in enumerate(X):\n",
    "        y_hat = prediction_function(xi, wight, bias)\n",
    "        cost = cost + (y_hat - y[i]) ** 2\n",
    "    return cost"
   ]
  },
  {
   "cell_type": "code",
   "execution_count": 17,
   "id": "36bf86d2",
   "metadata": {},
   "outputs": [],
   "source": [
    "def gradient_descent_function(X, y, wight, bias):\n",
    "    \n",
    "    m = X.shape[0]\n",
    "    dj_dwight = dj_dbias = 0\n",
    "    \n",
    "    for i in range(m):\n",
    "        y_hat = prediction_function(X[i], wight, bias)\n",
    "        \n",
    "        dj_dwight_i = (y_hat - y[i]) * X[i]\n",
    "        dj_dbias_i = y_hat - y[i]\n",
    "        \n",
    "        dj_dwight += dj_dwight_i\n",
    "        dj_dbias += dj_dbias_i\n",
    "    \n",
    "    dj_dwight = dj_dwight / m\n",
    "    dj_dbias = dj_dbias / m\n",
    "    \n",
    "    return dj_dwight, dj_dbias"
   ]
  },
  {
   "cell_type": "code",
   "execution_count": 18,
   "id": "83478da0",
   "metadata": {},
   "outputs": [],
   "source": [
    "def train_linear_regression(X, y, wight_in = 0, bias_in = 0, alpha = 0.1, num_iters = 10000):\n",
    "    \n",
    "    wight = wight_in\n",
    "    bias = bias_in\n",
    "    \n",
    "    for i in range(num_iters):\n",
    "        \n",
    "        dj_dwight, dj_dbias = gradient_descent_function(X, y, wight, bias)\n",
    "        \n",
    "        wight = wight - alpha * dj_dwight\n",
    "        bias = bias - alpha * dj_dbias\n",
    " \n",
    "    return wight, bias"
   ]
  },
  {
   "cell_type": "code",
   "execution_count": 19,
   "id": "3d51efab",
   "metadata": {},
   "outputs": [
    {
     "name": "stdout",
     "output_type": "stream",
     "text": [
      "(w,b) found by gradient descent: (5.036, 3.2039)\n"
     ]
    }
   ],
   "source": [
    "w_final, b_final = train_linear_regression(X ,y)\n",
    "\n",
    "w_final = round(w_final, 4)\n",
    "b_final = round(b_final, 4)\n",
    "\n",
    "print(f\"(w,b) found by gradient descent: ({w_final}, {b_final})\")"
   ]
  },
  {
   "cell_type": "code",
   "execution_count": 20,
   "id": "502660eb",
   "metadata": {},
   "outputs": [
    {
     "data": {
      "image/png": "[encoded data removed]",
      "text/plain": [
       "<Figure size 432x288 with 1 Axes>"
      ]
     },
     "metadata": {
      "needs_background": "light"
     },
     "output_type": "display_data"
    }
   ],
   "source": [
    "y_pred = find_y(X, w_final, b_final)\n",
    "cost = calculate_cost(y, y_pred)\n",
    "\n",
    "plt.plot(X, y_pred, c='b',label='Our Prediction')\n",
    "plt.scatter(X, y, marker='x', c='r',label='Actual Values')\n",
    "\n",
    "plt.title(\"Linear Regression Implementation\")\n",
    "\n",
    "plt.ylabel('Y Target')\n",
    "plt.xlabel('X Feature')\n",
    "plt.legend()\n",
    "\n",
    "plt.show();"
   ]
  },
  {
   "cell_type": "markdown",
   "id": "fe7129d0",
   "metadata": {},
   "source": [
    "### Training Simple Linear Regression using Sklearn"
   ]
  },
  {
   "cell_type": "code",
   "execution_count": 21,
   "id": "c403f198",
   "metadata": {},
   "outputs": [],
   "source": [
    "# Import Linear Regression from Scikit-learn\n",
    "from sklearn.linear_model import LinearRegression"
   ]
  },
  {
   "cell_type": "code",
   "execution_count": 22,
   "id": "10d142f0",
   "metadata": {},
   "outputs": [
    {
     "name": "stdout",
     "output_type": "stream",
     "text": [
      "[5.03603209] 3.2039483605489503\n"
     ]
    }
   ],
   "source": [
    "# Create the linear regression model\n",
    "linear_regression_model = LinearRegression()\n",
    "\n",
    "# Train the model using fit method\n",
    "linear_regression_model.fit(X.reshape(-1, 1), y)\n",
    "\n",
    "# Print the wight (coefficient, slope) and y bias (y intercept).\n",
    "wight = linear_regression_model.coef_\n",
    "bias = linear_regression_model.intercept_\n",
    "print(wight, bias)"
   ]
  },
  {
   "cell_type": "code",
   "execution_count": 23,
   "id": "2ae61f08",
   "metadata": {},
   "outputs": [
    {
     "data": {
      "image/png": "[encoded data removed]",
      "text/plain": [
       "<Figure size 432x288 with 1 Axes>"
      ]
     },
     "metadata": {
      "needs_background": "light"
     },
     "output_type": "display_data"
    }
   ],
   "source": [
    "y_pred = find_y(X, wight[0], bias)\n",
    "cost = calculate_cost(y, y_pred)\n",
    "\n",
    "plt.plot(X, y_pred, c='b',label='Our Prediction')\n",
    "plt.scatter(X, y, marker='x', c='r',label='Actual Values')\n",
    "\n",
    "plt.title(\"Linear Regression using Scikit-Learn\")\n",
    "\n",
    "plt.ylabel('Y Target')\n",
    "plt.xlabel('X Feature')\n",
    "plt.legend()\n",
    "\n",
    "plt.show();"
   ]
  },
  {
   "cell_type": "markdown",
   "id": "58d1680f",
   "metadata": {},
   "source": [
    "### Linear Regression Metrics\n",
    "\n",
    "1. Mean Squared Error\n",
    "\n",
    "It measures the average of the sequared differences between predicted and actual values. Larger errors contribute more to the overall score.\n",
    "\n",
    "It is the same method used for training (calculating the cost).\n",
    "\n",
    "$$ MSE = \\frac{1}{n} \\sum \\limits _{i=1} ^{n} (y_{i} - \\hat{y}_{i})^2 $$\n",
    "\n",
    "2. Root Mean Squared Error\n",
    "\n",
    "It is the square root of the MSE and provides a more interpretable measure because it is in the same unit as the dependent variable.\n",
    "\n",
    "$$ RMSE = \\sqrt{MSE} $$\n",
    "\n",
    "3. Mean Absolute Error\n",
    "\n",
    "It calculates the average absolute differences between predicted and actual values, providing a measure of the average magnitude of errors.\n",
    "\n",
    "$$ MAE = \\frac{1}{n} \\sum \\limits _{i=1} ^{n} \\left\\lvert y_{i} - \\hat{y}_{i} \\right\\rvert $$\n",
    "\n",
    "4. R Squared\n",
    "\n",
    "It represents the proportion of the variance in the dependent variable that is predictable from the independent variables. A higher R-squared indicates a better fit.\n",
    "\n",
    "$$ R^2 = 1 - \\frac{\\sum \\limits _{i=1} ^n (y_{i} - \\hat{y}_{i})^2}{\\sum \\limits _{i=1} ^n (y_{i} - mean(y))^2} $$\n",
    "\n",
    "All of these metrics can be used to calculate the cost of the training process or testing the model by passing the testing data."
   ]
  },
  {
   "cell_type": "code",
   "execution_count": 24,
   "id": "c2a226a0",
   "metadata": {},
   "outputs": [
    {
     "name": "stdout",
     "output_type": "stream",
     "text": [
      "MSE  : 1.095707435904189\n",
      "RMSE : 1.0467604481944228\n",
      "MAE  : 0.8429792984162184\n",
      "R^2  : 0.8872003027211876\n"
     ]
    }
   ],
   "source": [
    "from sklearn.metrics import mean_squared_error\n",
    "from sklearn.metrics import mean_absolute_error\n",
    "from sklearn.metrics import r2_score\n",
    "import math\n",
    "\n",
    "print(f'MSE  : {mean_squared_error(y, y_pred)}')\n",
    "print(f'RMSE : {math.sqrt(mean_squared_error(y, y_pred))}')\n",
    "print(f'MAE  : {mean_absolute_error(y, y_pred)}')\n",
    "print(f'R^2  : {r2_score(y, y_pred)}')"
   ]
  },
  {
   "cell_type": "markdown",
   "id": "46de537e",
   "metadata": {},
   "source": [
    "### Multiple Linear Regression\n",
    "\n",
    "Same as simple linear regression, but now, insted of train the model with only one independent variable, you can train the model with multiple independent variables.\n",
    "\n",
    "$$ Y = \\beta_{1} X_{1} + \\beta_{2} X_{2} + ... + \\beta_{n} X_{n} + b $$\n",
    "$$ Y = b + \\sum \\limits _{i=1} ^{n} \\beta_{i} X_{i} $$\n",
    "\n",
    "#### Three dimensions\n",
    "\n",
    "<img src=\"images/multi_linear.png\">\n",
    "\n",
    "#### N-dimensions\n",
    "\n",
    "The n dimensions is more complex than 3D dimensions. However, the multiple linear regression idea is depending on the same method used in the simple linear regression (gradient descent algorithm)."
   ]
  },
  {
   "cell_type": "markdown",
   "id": "80e5fc94",
   "metadata": {},
   "source": [
    "### Training Multiple Linear Regression using Sklearn\n",
    "\n",
    "Consider this dataset :-\n",
    "\n",
    "|   X1  |   X2  |   Y   |\n",
    "|-------|-------|-------|\n",
    "|  1.0  |  2.0  |  5.0  |\n",
    "|  2.0  |  3.0  |  8.0  |\n",
    "|  3.0  |  4.0  | 11.0  |\n",
    "|  4.0  |  5.0  | 14.0  |\n",
    "|  5.0  |  6.0  | 17.0  |"
   ]
  },
  {
   "cell_type": "code",
   "execution_count": 25,
   "id": "0618e9e8",
   "metadata": {},
   "outputs": [],
   "source": [
    "df = pd.DataFrame({\n",
    "    'X1' : np.array([1.0, 2.0, 3.0, 4.0, 5.0]),\n",
    "    'X2' : np.array([2.0, 3.0, 4.0, 5.0, 6.0]),\n",
    "    'Y'  : np.array([5.0, 8.0, 11.0, 14.0, 17.0])\n",
    "})\n",
    "\n",
    "X = df.drop(columns='Y')\n",
    "Y = df['Y'].to_numpy()"
   ]
  },
  {
   "cell_type": "code",
   "execution_count": 26,
   "id": "21d21f7b",
   "metadata": {},
   "outputs": [
    {
     "data": {
      "text/html": [
       "<style>#sk-container-id-1 {color: black;}#sk-container-id-1 pre{padding: 0;}#sk-container-id-1 div.sk-toggleable {background-color: white;}#sk-container-id-1 label.sk-toggleable__label {cursor: pointer;display: block;width: 100%;margin-bottom: 0;padding: 0.3em;box-sizing: border-box;text-align: center;}#sk-container-id-1 label.sk-toggleable__label-arrow:before {content: \"▸\";float: left;margin-right: 0.25em;color: #696969;}#sk-container-id-1 label.sk-toggleable__label-arrow:hover:before {color: black;}#sk-container-id-1 div.sk-estimator:hover label.sk-toggleable__label-arrow:before {color: black;}#sk-container-id-1 div.sk-toggleable__content {max-height: 0;max-width: 0;overflow: hidden;text-align: left;background-color: #f0f8ff;}#sk-container-id-1 div.sk-toggleable__content pre {margin: 0.2em;color: black;border-radius: 0.25em;background-color: #f0f8ff;}#sk-container-id-1 input.sk-toggleable__control:checked~div.sk-toggleable__content {max-height: 200px;max-width: 100%;overflow: auto;}#sk-container-id-1 input.sk-toggleable__control:checked~label.sk-toggleable__label-arrow:before {content: \"▾\";}#sk-container-id-1 div.sk-estimator input.sk-toggleable__control:checked~label.sk-toggleable__label {background-color: #d4ebff;}#sk-container-id-1 div.sk-label input.sk-toggleable__control:checked~label.sk-toggleable__label {background-color: #d4ebff;}#sk-container-id-1 input.sk-hidden--visually {border: 0;clip: rect(1px 1px 1px 1px);clip: rect(1px, 1px, 1px, 1px);height: 1px;margin: -1px;overflow: hidden;padding: 0;position: absolute;width: 1px;}#sk-container-id-1 div.sk-estimator {font-family: monospace;background-color: #f0f8ff;border: 1px dotted black;border-radius: 0.25em;box-sizing: border-box;margin-bottom: 0.5em;}#sk-container-id-1 div.sk-estimator:hover {background-color: #d4ebff;}#sk-container-id-1 div.sk-parallel-item::after {content: \"\";width: 100%;border-bottom: 1px solid gray;flex-grow: 1;}#sk-container-id-1 div.sk-label:hover label.sk-toggleable__label {background-color: #d4ebff;}#sk-container-id-1 div.sk-serial::before {content: \"\";position: absolute;border-left: 1px solid gray;box-sizing: border-box;top: 0;bottom: 0;left: 50%;z-index: 0;}#sk-container-id-1 div.sk-serial {display: flex;flex-direction: column;align-items: center;background-color: white;padding-right: 0.2em;padding-left: 0.2em;position: relative;}#sk-container-id-1 div.sk-item {position: relative;z-index: 1;}#sk-container-id-1 div.sk-parallel {display: flex;align-items: stretch;justify-content: center;background-color: white;position: relative;}#sk-container-id-1 div.sk-item::before, #sk-container-id-1 div.sk-parallel-item::before {content: \"\";position: absolute;border-left: 1px solid gray;box-sizing: border-box;top: 0;bottom: 0;left: 50%;z-index: -1;}#sk-container-id-1 div.sk-parallel-item {display: flex;flex-direction: column;z-index: 1;position: relative;background-color: white;}#sk-container-id-1 div.sk-parallel-item:first-child::after {align-self: flex-end;width: 50%;}#sk-container-id-1 div.sk-parallel-item:last-child::after {align-self: flex-start;width: 50%;}#sk-container-id-1 div.sk-parallel-item:only-child::after {width: 0;}#sk-container-id-1 div.sk-dashed-wrapped {border: 1px dashed gray;margin: 0 0.4em 0.5em 0.4em;box-sizing: border-box;padding-bottom: 0.4em;background-color: white;}#sk-container-id-1 div.sk-label label {font-family: monospace;font-weight: bold;display: inline-block;line-height: 1.2em;}#sk-container-id-1 div.sk-label-container {text-align: center;}#sk-container-id-1 div.sk-container {/* jupyter's `normalize.less` sets `[hidden] { display: none; }` but bootstrap.min.css set `[hidden] { display: none !important; }` so we also need the `!important` here to be able to override the default hidden behavior on the sphinx rendered scikit-learn.org. See: https://github.com/scikit-learn/scikit-learn/issues/21755 */display: inline-block !important;position: relative;}#sk-container-id-1 div.sk-text-repr-fallback {display: none;}</style><div id=\"sk-container-id-1\" class=\"sk-top-container\"><div class=\"sk-text-repr-fallback\"><pre>LinearRegression()</pre><b>In a Jupyter environment, please rerun this cell to show the HTML representation or trust the notebook. <br />On GitHub, the HTML representation is unable to render, please try loading this page with nbviewer.org.</b></div><div class=\"sk-container\" hidden><div class=\"sk-item\"><div class=\"sk-estimator sk-toggleable\"><input class=\"sk-toggleable__control sk-hidden--visually\" id=\"sk-estimator-id-1\" type=\"checkbox\" checked><label for=\"sk-estimator-id-1\" class=\"sk-toggleable__label sk-toggleable__label-arrow\">LinearRegression</label><div class=\"sk-toggleable__content\"><pre>LinearRegression()</pre></div></div></div></div></div>"
      ],
      "text/plain": [
       "LinearRegression()"
      ]
     },
     "execution_count": 26,
     "metadata": {},
     "output_type": "execute_result"
    }
   ],
   "source": [
    "multiple_linear_regression = LinearRegression()\n",
    "multiple_linear_regression.fit(X, Y)"
   ]
  },
  {
   "cell_type": "code",
   "execution_count": 27,
   "id": "af430df2",
   "metadata": {},
   "outputs": [
    {
     "name": "stdout",
     "output_type": "stream",
     "text": [
      "The wights of the model      : [1.5 1.5]\n",
      "The Y-intercept of the model : 0.49999999999999645\n"
     ]
    }
   ],
   "source": [
    "wights = multiple_linear_regression.coef_\n",
    "intercept = multiple_linear_regression.intercept_\n",
    "\n",
    "print(f'The wights of the model      : {wights}')\n",
    "print(f'The Y-intercept of the model : {intercept}')"
   ]
  },
  {
   "cell_type": "code",
   "execution_count": 28,
   "id": "2ccb3c4e",
   "metadata": {},
   "outputs": [
    {
     "name": "stdout",
     "output_type": "stream",
     "text": [
      "MSE  : 3.1554436208840472e-30\n",
      "RMSE : 1.7763568394002505e-15\n",
      "MAE  : 1.0658141036401502e-15\n",
      "R^2  : 1.0\n"
     ]
    }
   ],
   "source": [
    "y_hat = wights[0] * X['X1'] + wights[1] * X['X2'] + intercept\n",
    "y_hat = y_hat.to_numpy()\n",
    "\n",
    "print(f'MSE  : {mean_squared_error(Y, y_hat)}')\n",
    "print(f'RMSE : {math.sqrt(mean_squared_error(Y, y_hat))}')\n",
    "print(f'MAE  : {mean_absolute_error(Y, y_hat)}')\n",
    "print(f'R^2  : {r2_score(Y, y_hat)}')"
   ]
  },
  {
   "cell_type": "code",
   "execution_count": 29,
   "id": "cc8c13d2",
   "metadata": {},
   "outputs": [
    {
     "data": {
      "image/png": "[encoded data removed]",
      "text/plain": [
       "<Figure size 432x432 with 1 Axes>"
      ]
     },
     "metadata": {
      "needs_background": "light"
     },
     "output_type": "display_data"
    }
   ],
   "source": [
    "fig = plt.figure(figsize=(6, 6))\n",
    "ax = fig.add_subplot(111, projection='3d')\n",
    "ax.scatter(X['X1'], X['X2'], Y, c='r', marker='o', label='Data points')\n",
    "ax.plot(X['X1'], X['X2'], y_hat, c='b');"
   ]
  },
  {
   "cell_type": "markdown",
   "id": "b06391da",
   "metadata": {},
   "source": [
    "### Ploynomial Regression\n",
    "\n",
    "What if the feature X has a polynomial relationship with the dependent feature?\n",
    "\n",
    "<img src=\"images/polynomial.png\" width=\"500\">\n",
    "\n",
    "Same as Linear Regression, but in nth-degree polynomial. In simple terms, it extends the linear regression model by allowing for a curved relationship between the variables.\n",
    "\n",
    "The general form of a polynomial regression equation with one independent variable is:\n",
    "\n",
    "$$ Y = \\beta_{1} X_{1}^{1} + \\beta_{2} X_{2}^{2} + ... + \\beta_{k} X_{k}^{k} + b $$\n",
    "\n",
    "$$ Y = b + \\sum \\limits _{i=1} ^{k} \\beta_{i} X_{i}^{i} $$\n",
    "\n",
    "1. $ k $ Is the degree number.\n",
    "\n",
    "<img src=\"images/degrees.png\">\n",
    "\n",
    "#### Disscusion\n",
    "- What if the dataset has one feature $ X1 $ with linear relationship with $ Y $ and the other feature $ X2 $ has a polynomial relationship with $ Y $? How can we represents the equation?\n",
    "\n",
    "Assume the degree (k) of the second feature equal 3.\n",
    "\n",
    "$$ Y = (\\beta_{1} X_{1}) + (\\beta_{2} X_{2}^{1} + \\beta_{3} X_{2}^{2} + \\beta_{4} X_{2}^{3}) $$"
   ]
  },
  {
   "cell_type": "markdown",
   "id": "44f3ee23",
   "metadata": {},
   "source": [
    "### Training Polynomial Regression using Sklearn"
   ]
  },
  {
   "cell_type": "code",
   "execution_count": null,
   "id": "ed83ad35",
   "metadata": {},
   "outputs": [],
   "source": [
    "from sklearn.preprocessing import PolynomialFeatures"
   ]
  },
  {
   "cell_type": "code",
   "execution_count": null,
   "id": "e3391fc9",
   "metadata": {},
   "outputs": [],
   "source": [
    "np.random.seed(42)\n",
    "X = 2 * np.random.rand(100, 1)\n",
    "y = 4 + 3 * X + 1.5 * X**2 + 0.5 * X**3 + np.random.randn(100, 1)"
   ]
  },
  {
   "cell_type": "code",
   "execution_count": null,
   "id": "8e19d4a5",
   "metadata": {},
   "outputs": [],
   "source": [
    "degree = 2\n",
    "poly_features = PolynomialFeatures(degree=degree, include_bias=False)\n",
    "X_poly = poly_features.fit_transform(X)"
   ]
  },
  {
   "cell_type": "code",
   "execution_count": null,
   "id": "eb362f57",
   "metadata": {},
   "outputs": [],
   "source": [
    "model = LinearRegression()\n",
    "model.fit(X_poly, y)"
   ]
  },
  {
   "cell_type": "code",
   "execution_count": null,
   "id": "248fbc62",
   "metadata": {},
   "outputs": [],
   "source": [
    "y_pred = model.predict(X_poly)"
   ]
  },
  {
   "cell_type": "code",
   "execution_count": null,
   "id": "49b7bcc8",
   "metadata": {},
   "outputs": [],
   "source": [
    "mse = mean_squared_error(y, y_pred)\n",
    "print(f\"Training MSE: {mse_train}\")"
   ]
  },
  {
   "cell_type": "code",
   "execution_count": null,
   "id": "9854eb06",
   "metadata": {},
   "outputs": [],
   "source": [
    "X_new = np.linspace(0, 2, 100).reshape(-1, 1)\n",
    "X_poly_new = poly_features.transform(X_new)\n",
    "y_new = model.predict(X_poly_new)\n",
    "\n",
    "plt.scatter(X, y, label='data')\n",
    "plt.plot(X_new, y_new, 'r-', label=f'Degree {degree} Polynomial Regression')\n",
    "plt.xlabel('X')\n",
    "plt.ylabel('y')\n",
    "plt.legend()\n",
    "plt.show();"
   ]
  },
  {
   "cell_type": "markdown",
   "id": "33c0bc46",
   "metadata": {},
   "source": [
    "### Conclusion\n",
    "\n",
    "1. Linear Regression:\n",
    "- Advantages:\n",
    "    1. Simplicity: Linear regression is simple and easy to understand. The relationship between variables is assumed to be linear, making interpretation straightforward.\n",
    "\n",
    "    2. Interpretability: The coefficients in linear regression have clear and interpretable meanings. They represent the change in the dependent variable for a one-unit change in the corresponding independent variable.\n",
    "\n",
    "    3. Computationally Efficient: Training a linear regression model is computationally efficient, making it suitable for large datasets.\n",
    "\n",
    "- Disadvantages:\n",
    "    1. Assumption of Linearity: The main limitation is the assumption of a linear relationship between variables. If the relationship is not linear, linear regression may not provide accurate results.\n",
    "\n",
    "    2. Sensitivity to Outliers: Linear regression is sensitive to outliers, which can significantly impact the model's performance.\n",
    "\n",
    "2. Polynomial Regression:\n",
    "- Advantages:\n",
    "    1. Flexibility: Polynomial regression can model non-linear relationships between variables. By introducing higher-degree polynomial terms, the model can capture more complex patterns.\n",
    "\n",
    "    2. Better Fit: In situations where the relationship is inherently non-linear, polynomial regression can provide a better fit to the data compared to linear regression.\n",
    "\n",
    "- Disadvantages:\n",
    "    1. Overfitting: A major drawback is the risk of overfitting, especially when using high-degree polynomials. The model may fit the training data well but fail to generalize to new, unseen data.\n",
    "\n",
    "    2. Increased Complexity: As the degree of the polynomial increases, the model becomes more complex and harder to interpret. This complexity may lead to difficulties in understanding the true nature of the relationship between variables.\n",
    "\n",
    "    3. Computational Cost: Training polynomial regression models with high-degree polynomials can be computationally expensive, especially for large datasets.\n",
    "\n",
    "- Conclusion:\n",
    "The choice between linear and polynomial regression depends on the underlying relationship in the data. Linear regression is suitable for simple, linear relationships, while polynomial regression can capture more complex patterns. However, it's crucial to be cautious with polynomial regression to avoid overfitting and increased complexity. Model selection should be based on the specific characteristics of the dataset and the goals of the analysis.\n",
    "\n",
    "For most problems in real world, non linear problems (not polynomial also) are there. So, linear regression and polynomial regression are not suitable for this kind of problems. Insted, you need to use different type of algorithms, such as Support Vector Regressor, Neural Networks, etc."
   ]
  }
 ],
 "metadata": {
  "kernelspec": {
   "display_name": "Python 3 (ipykernel)",
   "language": "python",
   "name": "python3"
  },
  "language_info": {
   "codemirror_mode": {
    "name": "ipython",
    "version": 3
   },
   "file_extension": ".py",
   "mimetype": "text/x-python",
   "name": "python",
   "nbconvert_exporter": "python",
   "pygments_lexer": "ipython3",
   "version": "3.9.12"
  }
 },
 "nbformat": 4,
 "nbformat_minor": 5
}
