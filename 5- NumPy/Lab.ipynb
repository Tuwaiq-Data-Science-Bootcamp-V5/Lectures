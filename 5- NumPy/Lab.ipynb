{
 "cells": [
  {
   "cell_type": "markdown",
   "id": "6afa14cf-45d7-4df7-bce7-39ab3e95b69c",
   "metadata": {},
   "source": [
    "# Numpy"
   ]
  },
  {
   "cell_type": "code",
   "execution_count": 1,
   "id": "e3af1639-d8f7-4d1a-bf58-58fdb45134a0",
   "metadata": {},
   "outputs": [],
   "source": [
    "import numpy as np"
   ]
  },
  {
   "cell_type": "code",
   "execution_count": 2,
   "id": "568a9b3a-6139-447c-8951-13279aa82b18",
   "metadata": {},
   "outputs": [],
   "source": [
    "scalar = np.array(1)"
   ]
  },
  {
   "cell_type": "code",
   "execution_count": 3,
   "id": "63a59edc-b6ab-446d-bff0-dfc2f06a556a",
   "metadata": {},
   "outputs": [
    {
     "name": "stdout",
     "output_type": "stream",
     "text": [
      "1\n"
     ]
    }
   ],
   "source": [
    "print(scalar)"
   ]
  },
  {
   "cell_type": "code",
   "execution_count": 4,
   "id": "90c9fa88-de78-4414-a96a-fe0b85fabdf8",
   "metadata": {},
   "outputs": [],
   "source": [
    "lst_1d = [1, 2, 3, 4, 5]\n",
    "arr_1d = np.array(lst_1d)"
   ]
  },
  {
   "cell_type": "code",
   "execution_count": 5,
   "id": "715ca59a-26c2-446a-b929-8d62722d5b43",
   "metadata": {},
   "outputs": [
    {
     "name": "stdout",
     "output_type": "stream",
     "text": [
      "[1, 2, 3, 4, 5]\n",
      "[1 2 3 4 5]\n"
     ]
    }
   ],
   "source": [
    "print(lst_1d)\n",
    "print(arr_1d)"
   ]
  },
  {
   "cell_type": "code",
   "execution_count": 6,
   "id": "aeaac68f-c348-45a4-88e5-c8d241e79438",
   "metadata": {},
   "outputs": [
    {
     "name": "stdout",
     "output_type": "stream",
     "text": [
      "<class 'list'>\n",
      "<class 'numpy.ndarray'>\n"
     ]
    }
   ],
   "source": [
    "print(type(lst_1d))\n",
    "print(type(arr_1d))"
   ]
  },
  {
   "cell_type": "markdown",
   "id": "c4d09264-e31c-4166-8cc2-465c2f97ef27",
   "metadata": {},
   "source": [
    "# ------------------------------------"
   ]
  },
  {
   "cell_type": "code",
   "execution_count": 7,
   "id": "7ba7284c-f4e7-45fa-93c3-a499c5bf3a32",
   "metadata": {},
   "outputs": [],
   "source": [
    "lst_2d = [[1, 2, 3], [4, 5, 6]]\n",
    "arr_2d = np.array(lst_2d)"
   ]
  },
  {
   "cell_type": "code",
   "execution_count": 8,
   "id": "2e03dcd6-925f-4700-a6ff-09b49b5b6774",
   "metadata": {},
   "outputs": [
    {
     "name": "stdout",
     "output_type": "stream",
     "text": [
      "[[1, 2, 3], [4, 5, 6]]\n",
      "[[1 2 3]\n",
      " [4 5 6]]\n"
     ]
    }
   ],
   "source": [
    "print(lst_2d)\n",
    "print(arr_2d)"
   ]
  },
  {
   "cell_type": "markdown",
   "id": "a6875336-f8d2-4178-8c8c-e146c4ed9b9d",
   "metadata": {},
   "source": [
    "# ------------------------------------"
   ]
  },
  {
   "cell_type": "code",
   "execution_count": 9,
   "id": "cee245d1-f2b1-43a5-be24-e7660772dde4",
   "metadata": {},
   "outputs": [],
   "source": [
    "lst_3d = [[[1, 2, 3], [4, 5, 6], [7, 8, 9]], [[10, 11, 12], [13, 14, 15], [16, 17, 18]]]\n",
    "arr_3d = np.array(lst_3d)"
   ]
  },
  {
   "cell_type": "code",
   "execution_count": 10,
   "id": "d3ef7ff2-f336-433a-b4d2-fb85a50e6e10",
   "metadata": {},
   "outputs": [],
   "source": [
    "arr_4d = np.array([[[[1,2], [3, 4]]]])"
   ]
  },
  {
   "cell_type": "code",
   "execution_count": 11,
   "id": "e556f5ff-623b-477e-89cd-4e259148a322",
   "metadata": {},
   "outputs": [
    {
     "name": "stdout",
     "output_type": "stream",
     "text": [
      "[[[1, 2, 3], [4, 5, 6], [7, 8, 9]], [[10, 11, 12], [13, 14, 15], [16, 17, 18]]]\n",
      "-----------\n",
      "[[[ 1  2  3]\n",
      "  [ 4  5  6]\n",
      "  [ 7  8  9]]\n",
      "\n",
      " [[10 11 12]\n",
      "  [13 14 15]\n",
      "  [16 17 18]]]\n"
     ]
    }
   ],
   "source": [
    "print(lst_3d)\n",
    "print(\"-----------\")\n",
    "print(arr_3d)"
   ]
  },
  {
   "cell_type": "code",
   "execution_count": 12,
   "id": "59163e1b-9685-4ab3-9ac9-4833adea6126",
   "metadata": {},
   "outputs": [
    {
     "data": {
      "text/plain": [
       "2"
      ]
     },
     "execution_count": 12,
     "metadata": {},
     "output_type": "execute_result"
    }
   ],
   "source": [
    "len(lst_3d)"
   ]
  },
  {
   "cell_type": "code",
   "execution_count": 13,
   "id": "213fcf65-2456-47ad-953f-8168fc8ac91f",
   "metadata": {},
   "outputs": [
    {
     "data": {
      "text/plain": [
       "2"
      ]
     },
     "execution_count": 13,
     "metadata": {},
     "output_type": "execute_result"
    }
   ],
   "source": [
    "len(arr_3d)"
   ]
  },
  {
   "cell_type": "code",
   "execution_count": 14,
   "id": "05cea250-1bb4-46b4-ab5a-a2ec3900b141",
   "metadata": {},
   "outputs": [
    {
     "data": {
      "text/plain": [
       "(2, 3, 3)"
      ]
     },
     "execution_count": 14,
     "metadata": {},
     "output_type": "execute_result"
    }
   ],
   "source": [
    "arr_3d.shape"
   ]
  },
  {
   "cell_type": "code",
   "execution_count": 15,
   "id": "4b838249-5888-491d-80d1-8e6fd045ed81",
   "metadata": {},
   "outputs": [
    {
     "data": {
      "text/plain": [
       "18"
      ]
     },
     "execution_count": 15,
     "metadata": {},
     "output_type": "execute_result"
    }
   ],
   "source": [
    "arr_3d.size"
   ]
  },
  {
   "cell_type": "code",
   "execution_count": 16,
   "id": "719b214a-f3b5-4122-ae41-8a72429fa923",
   "metadata": {},
   "outputs": [
    {
     "data": {
      "text/plain": [
       "3"
      ]
     },
     "execution_count": 16,
     "metadata": {},
     "output_type": "execute_result"
    }
   ],
   "source": [
    "arr_3d.ndim"
   ]
  },
  {
   "cell_type": "code",
   "execution_count": 17,
   "id": "f3b236c2-3cac-4647-9fc0-c6b05bd894db",
   "metadata": {},
   "outputs": [
    {
     "data": {
      "text/plain": [
       "dtype('int64')"
      ]
     },
     "execution_count": 17,
     "metadata": {},
     "output_type": "execute_result"
    }
   ],
   "source": [
    "arr_3d.dtype"
   ]
  },
  {
   "cell_type": "code",
   "execution_count": 18,
   "id": "7d48d52f-3cda-4e87-88d5-716b2d6e3f37",
   "metadata": {},
   "outputs": [
    {
     "name": "stdout",
     "output_type": "stream",
     "text": [
      "type =  int64\n",
      "number of dimensions =  3\n",
      "shape =  (2, 3, 3)\n",
      "size =  18\n",
      "itemsize =  8  Bytes\n",
      "data =  <memory at 0x108bfa980>\n"
     ]
    }
   ],
   "source": [
    "print('type = ', arr_3d.dtype)\n",
    "print('number of dimensions = ', arr_3d.ndim)\n",
    "print('shape = ', arr_3d.shape)\n",
    "print('size = ', arr_3d.size)\n",
    "print('itemsize = ', arr_3d.itemsize, \" Bytes\")\n",
    "print('data = ', arr_3d.data)"
   ]
  },
  {
   "cell_type": "code",
   "execution_count": 19,
   "id": "80ea3347-09ce-4cfb-980b-af94fe5c3333",
   "metadata": {},
   "outputs": [],
   "source": [
    "arr_float = np.array([1,2,3], dtype= str)"
   ]
  },
  {
   "cell_type": "code",
   "execution_count": 20,
   "id": "cb9bb8e2-edfc-4435-b6ca-d84ea0cfce60",
   "metadata": {},
   "outputs": [
    {
     "data": {
      "text/plain": [
       "array(['1', '2', '3'], dtype='<U1')"
      ]
     },
     "execution_count": 20,
     "metadata": {},
     "output_type": "execute_result"
    }
   ],
   "source": [
    "arr_float"
   ]
  },
  {
   "cell_type": "code",
   "execution_count": 21,
   "id": "2b08a75d-a802-4ae6-8914-66b9b8686bac",
   "metadata": {},
   "outputs": [
    {
     "data": {
      "text/plain": [
       "dtype('<U1')"
      ]
     },
     "execution_count": 21,
     "metadata": {},
     "output_type": "execute_result"
    }
   ],
   "source": [
    "arr_float.dtype"
   ]
  },
  {
   "cell_type": "code",
   "execution_count": 22,
   "id": "395409cc-5aad-49a6-a201-2202de89c914",
   "metadata": {},
   "outputs": [
    {
     "data": {
      "text/plain": [
       "numpy.str_"
      ]
     },
     "execution_count": 22,
     "metadata": {},
     "output_type": "execute_result"
    }
   ],
   "source": [
    "type(arr_float[0])"
   ]
  },
  {
   "cell_type": "code",
   "execution_count": 23,
   "id": "58226c20-4ae4-43bd-b935-1984a7f25e88",
   "metadata": {},
   "outputs": [],
   "source": [
    "arr_float = np.array((1,2,3), dtype= str)"
   ]
  },
  {
   "cell_type": "code",
   "execution_count": 24,
   "id": "c85bdb87-d2d0-40a1-a5ad-5aed477183b9",
   "metadata": {},
   "outputs": [
    {
     "name": "stdout",
     "output_type": "stream",
     "text": [
      "[[1 2 3]\n",
      " [4 5 6]]\n"
     ]
    }
   ],
   "source": [
    "print(arr_2d)"
   ]
  },
  {
   "cell_type": "code",
   "execution_count": 25,
   "id": "cf38cb70-0ee7-4404-bcf0-d7abd54c3b7a",
   "metadata": {},
   "outputs": [
    {
     "data": {
      "text/plain": [
       "array([[1, 2],\n",
       "       [3, 4],\n",
       "       [5, 6]])"
      ]
     },
     "execution_count": 25,
     "metadata": {},
     "output_type": "execute_result"
    }
   ],
   "source": [
    "arr_2d.reshape(3, 2)"
   ]
  },
  {
   "cell_type": "code",
   "execution_count": 26,
   "id": "bf266bc2-b009-42b7-a20d-65af52f7febb",
   "metadata": {},
   "outputs": [
    {
     "data": {
      "text/plain": [
       "array([[1, 2, 3],\n",
       "       [4, 5, 6]])"
      ]
     },
     "execution_count": 26,
     "metadata": {},
     "output_type": "execute_result"
    }
   ],
   "source": [
    "arr_2d"
   ]
  },
  {
   "cell_type": "code",
   "execution_count": 27,
   "id": "698884c7-e3aa-4306-999f-8ff2821e1367",
   "metadata": {},
   "outputs": [],
   "source": [
    "arr_2d = arr_2d.reshape(3, 2)"
   ]
  },
  {
   "cell_type": "code",
   "execution_count": 28,
   "id": "c296965a-2d7d-48aa-b8be-c0aaf1cbcf84",
   "metadata": {},
   "outputs": [
    {
     "data": {
      "text/plain": [
       "array([[1, 2],\n",
       "       [3, 4],\n",
       "       [5, 6]])"
      ]
     },
     "execution_count": 28,
     "metadata": {},
     "output_type": "execute_result"
    }
   ],
   "source": [
    "arr_2d"
   ]
  },
  {
   "cell_type": "code",
   "execution_count": 29,
   "id": "af3513e9-deb3-40fa-bbc4-306f2ec8c77f",
   "metadata": {},
   "outputs": [],
   "source": [
    "arr_2d.shape = (1, 2, 3)"
   ]
  },
  {
   "cell_type": "code",
   "execution_count": 30,
   "id": "75a9fc8c-ad04-4d73-8ed0-16cef9c074ad",
   "metadata": {},
   "outputs": [
    {
     "data": {
      "text/plain": [
       "array([[[1, 2, 3],\n",
       "        [4, 5, 6]]])"
      ]
     },
     "execution_count": 30,
     "metadata": {},
     "output_type": "execute_result"
    }
   ],
   "source": [
    "arr_2d"
   ]
  },
  {
   "cell_type": "markdown",
   "id": "6be9fd67-f469-4dad-9906-8ab39c5ca548",
   "metadata": {},
   "source": [
    "# -------------------------------------"
   ]
  },
  {
   "cell_type": "code",
   "execution_count": 31,
   "id": "df759b4d-304d-4a05-9f8b-25a2c4ff07c8",
   "metadata": {},
   "outputs": [
    {
     "data": {
      "text/plain": [
       "array([[0., 0.],\n",
       "       [0., 0.]])"
      ]
     },
     "execution_count": 31,
     "metadata": {},
     "output_type": "execute_result"
    }
   ],
   "source": [
    "np.empty([2, 2])"
   ]
  },
  {
   "cell_type": "code",
   "execution_count": 32,
   "id": "90a25d8e-e3f8-4ece-b1b8-e29d7e75f5b7",
   "metadata": {},
   "outputs": [
    {
     "data": {
      "text/plain": [
       "array([[0., 0., 0., 0., 0.],\n",
       "       [0., 0., 0., 0., 0.],\n",
       "       [0., 0., 0., 0., 0.]])"
      ]
     },
     "execution_count": 32,
     "metadata": {},
     "output_type": "execute_result"
    }
   ],
   "source": [
    "np.zeros((3, 5))"
   ]
  },
  {
   "cell_type": "code",
   "execution_count": 33,
   "id": "f28d01cd-0377-431d-92a7-3c51e0cd7e94",
   "metadata": {},
   "outputs": [
    {
     "data": {
      "text/plain": [
       "array([[[1., 1., 1.],\n",
       "        [1., 1., 1.],\n",
       "        [1., 1., 1.]],\n",
       "\n",
       "       [[1., 1., 1.],\n",
       "        [1., 1., 1.],\n",
       "        [1., 1., 1.]],\n",
       "\n",
       "       [[1., 1., 1.],\n",
       "        [1., 1., 1.],\n",
       "        [1., 1., 1.]]])"
      ]
     },
     "execution_count": 33,
     "metadata": {},
     "output_type": "execute_result"
    }
   ],
   "source": [
    "np.ones((3, 3, 3))"
   ]
  },
  {
   "cell_type": "code",
   "execution_count": 34,
   "id": "bc6feaa3-35e5-45a1-b683-4595270dae2a",
   "metadata": {},
   "outputs": [
    {
     "data": {
      "text/plain": [
       "array([[[255, 255, 255],\n",
       "        [255, 255, 255],\n",
       "        [255, 255, 255]],\n",
       "\n",
       "       [[255, 255, 255],\n",
       "        [255, 255, 255],\n",
       "        [255, 255, 255]],\n",
       "\n",
       "       [[255, 255, 255],\n",
       "        [255, 255, 255],\n",
       "        [255, 255, 255]]])"
      ]
     },
     "execution_count": 34,
     "metadata": {},
     "output_type": "execute_result"
    }
   ],
   "source": [
    "np.full((3, 3, 3), 255)"
   ]
  },
  {
   "cell_type": "code",
   "execution_count": 35,
   "id": "038803aa-fa45-49b5-875d-f9c412d2b819",
   "metadata": {},
   "outputs": [
    {
     "data": {
      "text/plain": [
       "array([[[255, 255,   0],\n",
       "        [255, 255,   0],\n",
       "        [255, 255,   0]],\n",
       "\n",
       "       [[255, 255,   0],\n",
       "        [255, 255,   0],\n",
       "        [255, 255,   0]],\n",
       "\n",
       "       [[255, 255,   0],\n",
       "        [255, 255,   0],\n",
       "        [255, 255,   0]]])"
      ]
     },
     "execution_count": 35,
     "metadata": {},
     "output_type": "execute_result"
    }
   ],
   "source": [
    "np.full((3, 3, 3), [255, 255, 0])"
   ]
  },
  {
   "cell_type": "code",
   "execution_count": 36,
   "id": "0e185890-b871-4bdc-9921-97da1cadcf91",
   "metadata": {},
   "outputs": [
    {
     "data": {
      "text/plain": [
       "array([[1., 0., 0.],\n",
       "       [0., 1., 0.],\n",
       "       [0., 0., 1.]])"
      ]
     },
     "execution_count": 36,
     "metadata": {},
     "output_type": "execute_result"
    }
   ],
   "source": [
    "np.eye(3)"
   ]
  },
  {
   "cell_type": "code",
   "execution_count": 204,
   "id": "040dac78-781e-495d-bcd7-b222f07ace3e",
   "metadata": {},
   "outputs": [
    {
     "data": {
      "text/plain": [
       "array([[4, 2, 6],\n",
       "       [8, 2, 9],\n",
       "       [6, 9, 8]])"
      ]
     },
     "execution_count": 204,
     "metadata": {},
     "output_type": "execute_result"
    }
   ],
   "source": [
    "a = np.random.randint(10, size= (3, 3))\n",
    "a"
   ]
  },
  {
   "cell_type": "code",
   "execution_count": 206,
   "id": "1aad6fab-c253-4218-84be-65be552a0a03",
   "metadata": {},
   "outputs": [
    {
     "data": {
      "text/plain": [
       "array([[4., 0., 0.],\n",
       "       [0., 2., 0.],\n",
       "       [0., 0., 8.]])"
      ]
     },
     "execution_count": 206,
     "metadata": {},
     "output_type": "execute_result"
    }
   ],
   "source": [
    "np.multiply(a, np.eye(3))"
   ]
  },
  {
   "cell_type": "code",
   "execution_count": 37,
   "id": "e84218c5-e4f6-4662-95cd-41e9e6269538",
   "metadata": {},
   "outputs": [
    {
     "data": {
      "text/plain": [
       "array([0, 2, 4, 6, 8])"
      ]
     },
     "execution_count": 37,
     "metadata": {},
     "output_type": "execute_result"
    }
   ],
   "source": [
    "np.arange(0, 10, 2)"
   ]
  },
  {
   "cell_type": "code",
   "execution_count": 38,
   "id": "7dad68a0-5478-4ca0-a5ef-90ca6ab6a961",
   "metadata": {},
   "outputs": [
    {
     "data": {
      "text/plain": [
       "array([ 0. ,  7.5, 15. ])"
      ]
     },
     "execution_count": 38,
     "metadata": {},
     "output_type": "execute_result"
    }
   ],
   "source": [
    "np.linspace(0, 15, 3)"
   ]
  },
  {
   "cell_type": "code",
   "execution_count": 39,
   "id": "1ea869a3-b042-4519-bd1b-a4a99ffb7a29",
   "metadata": {},
   "outputs": [
    {
     "data": {
      "text/plain": [
       "array([[0.82730552, 0.37413804, 0.00268901],\n",
       "       [0.99951296, 0.07131605, 0.68681659],\n",
       "       [0.61525155, 0.86918848, 0.17776269]])"
      ]
     },
     "execution_count": 39,
     "metadata": {},
     "output_type": "execute_result"
    }
   ],
   "source": [
    "np.random.random((3, 3))"
   ]
  },
  {
   "cell_type": "code",
   "execution_count": 40,
   "id": "f795a058-af67-4ff3-ac0b-555cc4bfd38c",
   "metadata": {},
   "outputs": [
    {
     "data": {
      "text/plain": [
       "4"
      ]
     },
     "execution_count": 40,
     "metadata": {},
     "output_type": "execute_result"
    }
   ],
   "source": [
    "np.random.randint(4,5)"
   ]
  },
  {
   "cell_type": "code",
   "execution_count": 41,
   "id": "43eba0c9-fcb3-4440-bb2b-2850a0825911",
   "metadata": {},
   "outputs": [
    {
     "data": {
      "text/plain": [
       "array([[7, 2, 8, 2],\n",
       "       [7, 7, 7, 4],\n",
       "       [8, 7, 6, 7]])"
      ]
     },
     "execution_count": 41,
     "metadata": {},
     "output_type": "execute_result"
    }
   ],
   "source": [
    "np.random.randint(1, 10, size=(3, 4))"
   ]
  },
  {
   "cell_type": "markdown",
   "id": "78f23c51-c93b-4e87-8424-1fc10537d84a",
   "metadata": {},
   "source": [
    "# ------------------------------"
   ]
  },
  {
   "cell_type": "code",
   "execution_count": 42,
   "id": "0e5a1eca-8062-421a-9137-5949862edc9c",
   "metadata": {},
   "outputs": [
    {
     "ename": "ValueError",
     "evalue": "operands could not be broadcast together with shapes (4,) (5,) ",
     "output_type": "error",
     "traceback": [
      "\u001b[0;31m---------------------------------------------------------------------------\u001b[0m",
      "\u001b[0;31mValueError\u001b[0m                                Traceback (most recent call last)",
      "Cell \u001b[0;32mIn[42], line 3\u001b[0m\n\u001b[1;32m      1\u001b[0m a \u001b[38;5;241m=\u001b[39m np\u001b[38;5;241m.\u001b[39marange(\u001b[38;5;241m4\u001b[39m)\n\u001b[1;32m      2\u001b[0m b \u001b[38;5;241m=\u001b[39m np\u001b[38;5;241m.\u001b[39marange(\u001b[38;5;241m4\u001b[39m, \u001b[38;5;241m9\u001b[39m)\n\u001b[0;32m----> 3\u001b[0m \u001b[43mnp\u001b[49m\u001b[38;5;241;43m.\u001b[39;49m\u001b[43madd\u001b[49m\u001b[43m(\u001b[49m\u001b[43ma\u001b[49m\u001b[43m,\u001b[49m\u001b[43m \u001b[49m\u001b[43mb\u001b[49m\u001b[43m)\u001b[49m\n",
      "\u001b[0;31mValueError\u001b[0m: operands could not be broadcast together with shapes (4,) (5,) "
     ]
    }
   ],
   "source": [
    "a = np.arange(4)\n",
    "b = np.arange(4, 9)\n",
    "np.add(a, b)"
   ]
  },
  {
   "cell_type": "code",
   "execution_count": 43,
   "id": "20ec82c5-3b72-4b92-a13c-6ca327a93986",
   "metadata": {},
   "outputs": [
    {
     "name": "stdout",
     "output_type": "stream",
     "text": [
      "a =  [0 1 2 3]\n",
      "b =  [4 5 6 7]\n"
     ]
    }
   ],
   "source": [
    "a = np.arange(4)\n",
    "b = np.arange(4, 8)\n",
    "print(\"a = \", a)\n",
    "print(\"b = \", b)"
   ]
  },
  {
   "cell_type": "code",
   "execution_count": 44,
   "id": "f1b99e98-8af0-4019-8a8a-2db320a8e854",
   "metadata": {},
   "outputs": [
    {
     "data": {
      "text/plain": [
       "array([ 4,  6,  8, 10])"
      ]
     },
     "execution_count": 44,
     "metadata": {},
     "output_type": "execute_result"
    }
   ],
   "source": [
    "np.add(a, b)"
   ]
  },
  {
   "cell_type": "code",
   "execution_count": 45,
   "id": "8a7ba221-b8d2-4250-b9d2-c8512e34d2c4",
   "metadata": {},
   "outputs": [
    {
     "data": {
      "text/plain": [
       "array([-4, -4, -4, -4])"
      ]
     },
     "execution_count": 45,
     "metadata": {},
     "output_type": "execute_result"
    }
   ],
   "source": [
    "np.subtract(a, b)"
   ]
  },
  {
   "cell_type": "code",
   "execution_count": 46,
   "id": "ca6b6e73-bdbe-4883-bb8c-46a9790dd3f5",
   "metadata": {},
   "outputs": [
    {
     "data": {
      "text/plain": [
       "array([ 0,  5, 12, 21])"
      ]
     },
     "execution_count": 46,
     "metadata": {},
     "output_type": "execute_result"
    }
   ],
   "source": [
    "np.multiply(a, b)"
   ]
  },
  {
   "cell_type": "code",
   "execution_count": 47,
   "id": "7d09f839-a2ac-4244-a8a3-30907fc4beb4",
   "metadata": {},
   "outputs": [
    {
     "data": {
      "text/plain": [
       "array([0.        , 0.2       , 0.33333333, 0.42857143])"
      ]
     },
     "execution_count": 47,
     "metadata": {},
     "output_type": "execute_result"
    }
   ],
   "source": [
    "np.divide(a, b)"
   ]
  },
  {
   "cell_type": "code",
   "execution_count": 48,
   "id": "0e92176f-880b-410c-8a14-abd6e2e833a2",
   "metadata": {},
   "outputs": [
    {
     "data": {
      "text/plain": [
       "38"
      ]
     },
     "execution_count": 48,
     "metadata": {},
     "output_type": "execute_result"
    }
   ],
   "source": [
    "np.dot(a, b)"
   ]
  },
  {
   "cell_type": "markdown",
   "id": "827379ed-4c8e-486b-8449-5a13949f401f",
   "metadata": {},
   "source": [
    "## Universal Functions"
   ]
  },
  {
   "cell_type": "code",
   "execution_count": 49,
   "id": "c458f298-7fd8-41bd-92b4-a4868ea307c4",
   "metadata": {},
   "outputs": [
    {
     "data": {
      "text/plain": [
       "array([0.        , 1.        , 1.41421356, 1.73205081])"
      ]
     },
     "execution_count": 49,
     "metadata": {},
     "output_type": "execute_result"
    }
   ],
   "source": [
    "np.sqrt(a)"
   ]
  },
  {
   "cell_type": "code",
   "execution_count": 150,
   "id": "af4fcd3c-3648-418e-bbc9-ad3fad7fe1a5",
   "metadata": {},
   "outputs": [
    {
     "data": {
      "text/plain": [
       "1.6094379124341003"
      ]
     },
     "execution_count": 150,
     "metadata": {},
     "output_type": "execute_result"
    }
   ],
   "source": [
    "np.log(5)"
   ]
  },
  {
   "cell_type": "code",
   "execution_count": 144,
   "id": "ab32e1d0-251c-4864-8d4a-1f2beefea68b",
   "metadata": {},
   "outputs": [
    {
     "data": {
      "text/plain": [
       "1.0"
      ]
     },
     "execution_count": 144,
     "metadata": {},
     "output_type": "execute_result"
    }
   ],
   "source": [
    "np.log10(10)"
   ]
  },
  {
   "cell_type": "code",
   "execution_count": 153,
   "id": "48922638-895b-4b67-a334-e52a564fc21c",
   "metadata": {},
   "outputs": [
    {
     "data": {
      "text/plain": [
       "7.38905609893065"
      ]
     },
     "execution_count": 153,
     "metadata": {},
     "output_type": "execute_result"
    }
   ],
   "source": [
    "np.exp(2)"
   ]
  },
  {
   "cell_type": "code",
   "execution_count": 155,
   "id": "701408bb-606e-4be1-8ffc-8ebc2bcb60fd",
   "metadata": {},
   "outputs": [
    {
     "data": {
      "text/plain": [
       "8.0"
      ]
     },
     "execution_count": 155,
     "metadata": {},
     "output_type": "execute_result"
    }
   ],
   "source": [
    "np.exp2(3)"
   ]
  },
  {
   "cell_type": "markdown",
   "id": "a26dd323-ebab-464a-a6ed-9e87347ae1b8",
   "metadata": {},
   "source": [
    "## Aggregate Functions"
   ]
  },
  {
   "cell_type": "code",
   "execution_count": 219,
   "id": "da0b211a-955f-42ce-b32b-cf429bd9f474",
   "metadata": {},
   "outputs": [
    {
     "data": {
      "text/plain": [
       "array([100,   1,   2,   3,   4,   5])"
      ]
     },
     "execution_count": 219,
     "metadata": {},
     "output_type": "execute_result"
    }
   ],
   "source": [
    "a = np.array([100, 1, 2, 3, 4, 5])\n",
    "a"
   ]
  },
  {
   "cell_type": "code",
   "execution_count": 220,
   "id": "0d261cfe-b871-4a7f-a6a4-d8ca0d38e7db",
   "metadata": {},
   "outputs": [
    {
     "data": {
      "text/plain": [
       "1"
      ]
     },
     "execution_count": 220,
     "metadata": {},
     "output_type": "execute_result"
    }
   ],
   "source": [
    "a.min()"
   ]
  },
  {
   "cell_type": "code",
   "execution_count": 221,
   "id": "c7bb9175-8f41-4de6-9c4c-c96bb1dea39c",
   "metadata": {},
   "outputs": [
    {
     "data": {
      "text/plain": [
       "100"
      ]
     },
     "execution_count": 221,
     "metadata": {},
     "output_type": "execute_result"
    }
   ],
   "source": [
    "a.max()"
   ]
  },
  {
   "cell_type": "code",
   "execution_count": 222,
   "id": "3deb422e-4f3e-4def-a841-1273d9153fa4",
   "metadata": {},
   "outputs": [
    {
     "data": {
      "text/plain": [
       "19.166666666666668"
      ]
     },
     "execution_count": 222,
     "metadata": {},
     "output_type": "execute_result"
    }
   ],
   "source": [
    "a.mean()"
   ]
  },
  {
   "cell_type": "code",
   "execution_count": 223,
   "id": "89781c5d-31f1-4fe8-9b83-c22eddc4e1c8",
   "metadata": {},
   "outputs": [
    {
     "data": {
      "text/plain": [
       "36.17281053805775"
      ]
     },
     "execution_count": 223,
     "metadata": {},
     "output_type": "execute_result"
    }
   ],
   "source": [
    "a.std()"
   ]
  },
  {
   "cell_type": "code",
   "execution_count": 227,
   "id": "730de27b-7283-4693-a8f1-c118507d2766",
   "metadata": {},
   "outputs": [
    {
     "data": {
      "text/plain": [
       "array([  1,   2,   3,   4,   5, 100])"
      ]
     },
     "execution_count": 227,
     "metadata": {},
     "output_type": "execute_result"
    }
   ],
   "source": [
    "np.sort(a)"
   ]
  },
  {
   "cell_type": "code",
   "execution_count": 224,
   "id": "6f9d2ad5-3fb9-4f0f-8e79-5925e372a2ba",
   "metadata": {},
   "outputs": [
    {
     "data": {
      "text/plain": [
       "0"
      ]
     },
     "execution_count": 224,
     "metadata": {},
     "output_type": "execute_result"
    }
   ],
   "source": [
    "a.argmax()"
   ]
  },
  {
   "cell_type": "code",
   "execution_count": 225,
   "id": "12fe0bb4-ee6f-4bdc-9314-9e41e07786bc",
   "metadata": {},
   "outputs": [
    {
     "data": {
      "text/plain": [
       "1"
      ]
     },
     "execution_count": 225,
     "metadata": {},
     "output_type": "execute_result"
    }
   ],
   "source": [
    "a.argmin()"
   ]
  },
  {
   "cell_type": "code",
   "execution_count": 226,
   "id": "06f2baf6-9038-4701-8d2b-d91760992768",
   "metadata": {},
   "outputs": [
    {
     "data": {
      "text/plain": [
       "array([1, 2, 3, 4, 5, 0])"
      ]
     },
     "execution_count": 226,
     "metadata": {},
     "output_type": "execute_result"
    }
   ],
   "source": [
    "a.argsort()"
   ]
  },
  {
   "cell_type": "code",
   "execution_count": null,
   "id": "fa2ffba8-3c51-4030-af09-f35c243fa967",
   "metadata": {},
   "outputs": [],
   "source": []
  },
  {
   "cell_type": "markdown",
   "id": "aa371c48-75ef-4efc-9836-b5c706956938",
   "metadata": {},
   "source": [
    "# Indexing, Slicing"
   ]
  },
  {
   "cell_type": "code",
   "execution_count": 56,
   "id": "f3a584d9-a59b-4cf6-84f5-4f8d6f02c809",
   "metadata": {},
   "outputs": [
    {
     "data": {
      "text/plain": [
       "array([0, 1, 2, 3, 4, 5])"
      ]
     },
     "execution_count": 56,
     "metadata": {},
     "output_type": "execute_result"
    }
   ],
   "source": [
    "a = np.array([0, 1, 2, 3, 4, 5])\n",
    "a"
   ]
  },
  {
   "cell_type": "code",
   "execution_count": 57,
   "id": "f50e8a4d-18a4-4860-bf70-1d2ea3da45fb",
   "metadata": {},
   "outputs": [
    {
     "data": {
      "text/plain": [
       "0"
      ]
     },
     "execution_count": 57,
     "metadata": {},
     "output_type": "execute_result"
    }
   ],
   "source": [
    "a[0]"
   ]
  },
  {
   "cell_type": "markdown",
   "id": "8e872be1-5817-4227-a460-8fe8e88c82cc",
   "metadata": {},
   "source": [
    "a[1]"
   ]
  },
  {
   "cell_type": "code",
   "execution_count": 58,
   "id": "d8f7cf3b-851b-4e72-9180-68bbcad966fe",
   "metadata": {},
   "outputs": [
    {
     "data": {
      "text/plain": [
       "array([1, 2])"
      ]
     },
     "execution_count": 58,
     "metadata": {},
     "output_type": "execute_result"
    }
   ],
   "source": [
    "a[1:3]"
   ]
  },
  {
   "cell_type": "code",
   "execution_count": 59,
   "id": "e0b77bd8-eed8-4f43-9512-afd9c9980c0e",
   "metadata": {},
   "outputs": [
    {
     "data": {
      "text/plain": [
       "array([[74, 87, 78, 54,  0],\n",
       "       [24, 64, 12, 81, 21],\n",
       "       [83,  4, 96, 99,  8],\n",
       "       [34, 45, 33, 47, 70]])"
      ]
     },
     "execution_count": 59,
     "metadata": {},
     "output_type": "execute_result"
    }
   ],
   "source": [
    "b = np.random.randint(0, 100, size= (4, 5))\n",
    "b "
   ]
  },
  {
   "cell_type": "code",
   "execution_count": 60,
   "id": "e68cc723-cabf-4498-bc16-40878125f00f",
   "metadata": {},
   "outputs": [
    {
     "data": {
      "text/plain": [
       "99"
      ]
     },
     "execution_count": 60,
     "metadata": {},
     "output_type": "execute_result"
    }
   ],
   "source": [
    "b[2, 3]"
   ]
  },
  {
   "cell_type": "code",
   "execution_count": 61,
   "id": "e08eb42e-d2fc-4f2b-a61b-0cb88929b6d0",
   "metadata": {},
   "outputs": [
    {
     "data": {
      "text/plain": [
       "96"
      ]
     },
     "execution_count": 61,
     "metadata": {},
     "output_type": "execute_result"
    }
   ],
   "source": [
    "b[2, 2]"
   ]
  },
  {
   "cell_type": "code",
   "execution_count": 62,
   "id": "7c4d76de-0061-4226-aca6-90da42f582b0",
   "metadata": {},
   "outputs": [
    {
     "data": {
      "text/plain": [
       "array([[87, 78, 54],\n",
       "       [64, 12, 81],\n",
       "       [ 4, 96, 99]])"
      ]
     },
     "execution_count": 62,
     "metadata": {},
     "output_type": "execute_result"
    }
   ],
   "source": [
    "b[0:3, 1:4]"
   ]
  },
  {
   "cell_type": "code",
   "execution_count": 63,
   "id": "e3a5c84f-6984-4d81-9495-52a330337df5",
   "metadata": {},
   "outputs": [
    {
     "data": {
      "text/plain": [
       "array([[87, 54],\n",
       "       [ 4, 99]])"
      ]
     },
     "execution_count": 63,
     "metadata": {},
     "output_type": "execute_result"
    }
   ],
   "source": [
    "b[0:3:2, 1:4:2]"
   ]
  },
  {
   "cell_type": "markdown",
   "id": "211103ad-8e69-400f-8d8b-698973a69dd5",
   "metadata": {},
   "source": [
    "# Iterating"
   ]
  },
  {
   "cell_type": "code",
   "execution_count": 92,
   "id": "527c2621-a7b4-4f3a-8a0b-a029fcf064ee",
   "metadata": {},
   "outputs": [
    {
     "data": {
      "text/plain": [
       "array([8, 9, 7, 8, 1, 7, 4, 5, 9, 3, 4, 7])"
      ]
     },
     "execution_count": 92,
     "metadata": {},
     "output_type": "execute_result"
    }
   ],
   "source": [
    "c = np.random.randint(1, 10, size=(12, ))\n",
    "c"
   ]
  },
  {
   "cell_type": "code",
   "execution_count": 93,
   "id": "49577007-979f-4a32-a8aa-bc1054356713",
   "metadata": {},
   "outputs": [
    {
     "name": "stdout",
     "output_type": "stream",
     "text": [
      "8\n",
      "9\n",
      "7\n",
      "8\n",
      "1\n",
      "7\n",
      "4\n",
      "5\n",
      "9\n",
      "3\n",
      "4\n",
      "7\n"
     ]
    }
   ],
   "source": [
    "for i in c:\n",
    "    print(i)"
   ]
  },
  {
   "cell_type": "code",
   "execution_count": 94,
   "id": "32a0a319-b5a1-402a-bef0-7c50dd43aba1",
   "metadata": {},
   "outputs": [
    {
     "data": {
      "text/plain": [
       "array([[8, 9, 7, 8],\n",
       "       [1, 7, 4, 5],\n",
       "       [9, 3, 4, 7]])"
      ]
     },
     "execution_count": 94,
     "metadata": {},
     "output_type": "execute_result"
    }
   ],
   "source": [
    "c.shape = (3, 4)\n",
    "c"
   ]
  },
  {
   "cell_type": "code",
   "execution_count": 95,
   "id": "0eeb3fc6-9cdc-4389-8bed-b7e097efdc6c",
   "metadata": {},
   "outputs": [
    {
     "name": "stdout",
     "output_type": "stream",
     "text": [
      "8\n",
      "9\n",
      "7\n",
      "8\n",
      "1\n",
      "7\n",
      "4\n",
      "5\n",
      "9\n",
      "3\n",
      "4\n",
      "7\n"
     ]
    }
   ],
   "source": [
    "for i in c:\n",
    "    for j in i:\n",
    "        print(j)"
   ]
  },
  {
   "cell_type": "markdown",
   "id": "6a0ff11e-68b5-4d2a-a490-304e13226aa1",
   "metadata": {},
   "source": [
    "# Flat very important"
   ]
  },
  {
   "cell_type": "code",
   "execution_count": 96,
   "id": "5f947d57-5756-4d43-aa6b-279bc842d338",
   "metadata": {},
   "outputs": [
    {
     "data": {
      "text/plain": [
       "array([8, 9, 7, 8, 1, 7, 4, 5, 9, 3, 4, 7])"
      ]
     },
     "execution_count": 96,
     "metadata": {},
     "output_type": "execute_result"
    }
   ],
   "source": [
    "np.array(c.flat)"
   ]
  },
  {
   "cell_type": "code",
   "execution_count": 97,
   "id": "2faa0b4c-e794-4998-95a1-2b65cf526511",
   "metadata": {},
   "outputs": [
    {
     "name": "stdout",
     "output_type": "stream",
     "text": [
      "8\n",
      "9\n",
      "7\n",
      "8\n",
      "1\n",
      "7\n",
      "4\n",
      "5\n",
      "9\n",
      "3\n",
      "4\n",
      "7\n"
     ]
    }
   ],
   "source": [
    "for i in c.flat:\n",
    "    print(i)"
   ]
  },
  {
   "cell_type": "code",
   "execution_count": 98,
   "id": "771a946a-45e0-4ba4-b7a2-eb07893ca4f2",
   "metadata": {},
   "outputs": [
    {
     "name": "stdout",
     "output_type": "stream",
     "text": [
      "8\n",
      "9\n",
      "7\n",
      "8\n",
      "1\n"
     ]
    }
   ],
   "source": [
    "for i in c.flat[:5]:\n",
    "    print(i)"
   ]
  },
  {
   "cell_type": "markdown",
   "id": "ec3e6f68-8cf0-4d61-b1d0-585d3fc962e2",
   "metadata": {},
   "source": [
    "## ----------------------"
   ]
  },
  {
   "cell_type": "code",
   "execution_count": 100,
   "id": "c08f0d79-e07b-406a-adc9-de49feb01cf5",
   "metadata": {},
   "outputs": [
    {
     "data": {
      "text/plain": [
       "array([[8, 9, 7, 8],\n",
       "       [1, 7, 4, 5],\n",
       "       [9, 3, 4, 7]])"
      ]
     },
     "execution_count": 100,
     "metadata": {},
     "output_type": "execute_result"
    }
   ],
   "source": [
    "c"
   ]
  },
  {
   "cell_type": "code",
   "execution_count": null,
   "id": "3063366c-ad0e-4680-bdac-15522a9f0df1",
   "metadata": {},
   "outputs": [],
   "source": [
    "# 0 for col\n",
    "# 1 for row"
   ]
  },
  {
   "cell_type": "code",
   "execution_count": 125,
   "id": "8b15e2c1-aa9a-4a59-b30d-63a86b93a0a7",
   "metadata": {},
   "outputs": [
    {
     "data": {
      "text/plain": [
       "array([8.  , 4.25, 5.75])"
      ]
     },
     "execution_count": 125,
     "metadata": {},
     "output_type": "execute_result"
    }
   ],
   "source": [
    "np.apply_along_axis(np.mean, axis=1, arr= c)"
   ]
  },
  {
   "cell_type": "code",
   "execution_count": 126,
   "id": "4740e940-7b8d-4544-891d-12762e3eff35",
   "metadata": {},
   "outputs": [],
   "source": [
    "def std(x):\n",
    "    x = np.sum(x)\n",
    "    \n",
    "    if x >= 30:\n",
    "        return True\n",
    "    else:\n",
    "        return False"
   ]
  },
  {
   "cell_type": "code",
   "execution_count": 127,
   "id": "05cce81a-f2ac-4f47-892c-5c4fefcc9f3d",
   "metadata": {},
   "outputs": [
    {
     "data": {
      "text/plain": [
       "array([ True, False, False])"
      ]
     },
     "execution_count": 127,
     "metadata": {},
     "output_type": "execute_result"
    }
   ],
   "source": [
    "np.apply_along_axis(std, axis=1, arr= c)"
   ]
  },
  {
   "cell_type": "markdown",
   "id": "5ca07865-1b4b-4ffd-820a-0c18a6efc36d",
   "metadata": {},
   "source": [
    "## Conditions and Boolean Arrays\n"
   ]
  },
  {
   "cell_type": "code",
   "execution_count": 235,
   "id": "08fdb29b-654c-4643-bef2-0c8f878b6a5b",
   "metadata": {},
   "outputs": [
    {
     "data": {
      "text/plain": [
       "array([[0.56330673, 0.4408479 , 0.45309023, 0.46063311],\n",
       "       [0.53405272, 0.43394032, 0.1239646 , 0.512968  ],\n",
       "       [0.93663621, 0.14416194, 0.0783045 , 0.72990426],\n",
       "       [0.60614347, 0.2809762 , 0.19274539, 0.20522171]])"
      ]
     },
     "execution_count": 235,
     "metadata": {},
     "output_type": "execute_result"
    }
   ],
   "source": [
    "a = np.random.random((4, 4))\n",
    "a"
   ]
  },
  {
   "cell_type": "code",
   "execution_count": 236,
   "id": "bab439b4-6661-4c8c-b668-ac1286262c0a",
   "metadata": {},
   "outputs": [
    {
     "data": {
      "text/plain": [
       "array([[ True, False, False, False],\n",
       "       [ True, False, False,  True],\n",
       "       [ True, False, False,  True],\n",
       "       [ True, False, False, False]])"
      ]
     },
     "execution_count": 236,
     "metadata": {},
     "output_type": "execute_result"
    }
   ],
   "source": [
    "a > 0.5"
   ]
  },
  {
   "cell_type": "code",
   "execution_count": 237,
   "id": "6234d1b0-7ee0-4f69-8661-4140ae25871d",
   "metadata": {},
   "outputs": [
    {
     "data": {
      "text/plain": [
       "array([0.56330673, 0.53405272, 0.512968  , 0.93663621, 0.72990426,\n",
       "       0.60614347])"
      ]
     },
     "execution_count": 237,
     "metadata": {},
     "output_type": "execute_result"
    }
   ],
   "source": [
    "a[a > 0.5]"
   ]
  },
  {
   "cell_type": "code",
   "execution_count": 238,
   "id": "d7dca665-9257-4565-9bb5-c78a625c342e",
   "metadata": {},
   "outputs": [
    {
     "data": {
      "text/plain": [
       "(array([0, 1, 1, 2, 2, 3]), array([0, 0, 3, 0, 3, 0]))"
      ]
     },
     "execution_count": 238,
     "metadata": {},
     "output_type": "execute_result"
    }
   ],
   "source": [
    "np.where(a > 0.5)"
   ]
  },
  {
   "cell_type": "markdown",
   "id": "74b344c1-0be5-4266-8a8d-d305952d19fa",
   "metadata": {},
   "source": [
    "# Array Manipulation"
   ]
  },
  {
   "cell_type": "code",
   "execution_count": 161,
   "id": "e710f020-1995-48d4-977f-129c017eb19a",
   "metadata": {},
   "outputs": [
    {
     "name": "stdout",
     "output_type": "stream",
     "text": [
      "[[0. 0. 0.]\n",
      " [0. 0. 0.]\n",
      " [0. 0. 0.]]\n",
      "\n",
      "[[1. 1. 1.]\n",
      " [1. 1. 1.]\n",
      " [1. 1. 1.]]\n"
     ]
    }
   ],
   "source": [
    "a = np.zeros((3, 3))\n",
    "b = np.ones((3, 3))\n",
    "print(a)\n",
    "print()\n",
    "print(b)"
   ]
  },
  {
   "cell_type": "code",
   "execution_count": 162,
   "id": "8b3aee2d-a493-4207-b072-ca04e0481dcb",
   "metadata": {},
   "outputs": [
    {
     "data": {
      "text/plain": [
       "array([[0., 0., 0.],\n",
       "       [0., 0., 0.],\n",
       "       [0., 0., 0.],\n",
       "       [1., 1., 1.],\n",
       "       [1., 1., 1.],\n",
       "       [1., 1., 1.]])"
      ]
     },
     "execution_count": 162,
     "metadata": {},
     "output_type": "execute_result"
    }
   ],
   "source": [
    "np.vstack((a, b))"
   ]
  },
  {
   "cell_type": "code",
   "execution_count": 163,
   "id": "9843b5b5-0a23-4951-be76-b6ce3874aa54",
   "metadata": {},
   "outputs": [
    {
     "data": {
      "text/plain": [
       "array([[0., 0., 0., 1., 1., 1.],\n",
       "       [0., 0., 0., 1., 1., 1.],\n",
       "       [0., 0., 0., 1., 1., 1.]])"
      ]
     },
     "execution_count": 163,
     "metadata": {},
     "output_type": "execute_result"
    }
   ],
   "source": [
    "np.hstack((a, b))"
   ]
  },
  {
   "cell_type": "code",
   "execution_count": 164,
   "id": "a2db2609-ece5-4b22-a561-c602b5cf06ad",
   "metadata": {},
   "outputs": [],
   "source": [
    "a = np.array([0, 1, 2])\n",
    "b = np.array([3, 4, 5])\n",
    "c = np.array([6, 7, 8])"
   ]
  },
  {
   "cell_type": "code",
   "execution_count": 179,
   "id": "b6cb1664-7cbc-4d3c-93c7-a55e4089b01e",
   "metadata": {},
   "outputs": [
    {
     "data": {
      "text/plain": [
       "array([[0, 1, 2],\n",
       "       [3, 4, 5],\n",
       "       [6, 7, 8]])"
      ]
     },
     "execution_count": 179,
     "metadata": {},
     "output_type": "execute_result"
    }
   ],
   "source": [
    "e = np.row_stack((a, b, c))\n",
    "e"
   ]
  },
  {
   "cell_type": "code",
   "execution_count": 180,
   "id": "557dad6f-0676-490c-9a18-4b35811a30de",
   "metadata": {},
   "outputs": [
    {
     "data": {
      "text/plain": [
       "array([[0, 3, 6],\n",
       "       [1, 4, 7],\n",
       "       [2, 5, 8]])"
      ]
     },
     "execution_count": 180,
     "metadata": {},
     "output_type": "execute_result"
    }
   ],
   "source": [
    "e = np.column_stack((a, b, c))\n",
    "e"
   ]
  },
  {
   "cell_type": "code",
   "execution_count": 182,
   "id": "5c1d61ee-442c-44c9-961a-6dbafd1ba340",
   "metadata": {},
   "outputs": [
    {
     "data": {
      "text/plain": [
       "[array([[0],\n",
       "        [1],\n",
       "        [2]]),\n",
       " array([[3],\n",
       "        [4],\n",
       "        [5]]),\n",
       " array([[6],\n",
       "        [7],\n",
       "        [8]])]"
      ]
     },
     "execution_count": 182,
     "metadata": {},
     "output_type": "execute_result"
    }
   ],
   "source": [
    "np.hsplit(e, 3)"
   ]
  },
  {
   "cell_type": "code",
   "execution_count": 183,
   "id": "a77160b7-a31d-467f-b369-d4b747908152",
   "metadata": {},
   "outputs": [
    {
     "data": {
      "text/plain": [
       "[array([[0, 3, 6]]), array([[1, 4, 7]]), array([[2, 5, 8]])]"
      ]
     },
     "execution_count": 183,
     "metadata": {},
     "output_type": "execute_result"
    }
   ],
   "source": [
    "np.vsplit(e, 3)"
   ]
  },
  {
   "cell_type": "code",
   "execution_count": 229,
   "id": "c6da7866-efb6-427c-91cc-e42f089e196d",
   "metadata": {},
   "outputs": [
    {
     "data": {
      "text/plain": [
       "array([[8, 5, 5, 6, 6, 3],\n",
       "       [8, 5, 2, 3, 3, 6],\n",
       "       [3, 4, 5, 8, 8, 8]])"
      ]
     },
     "execution_count": 229,
     "metadata": {},
     "output_type": "execute_result"
    }
   ],
   "source": [
    "a = np.random.randint(10, size=(3, 6))\n",
    "a"
   ]
  },
  {
   "cell_type": "code",
   "execution_count": 230,
   "id": "ebc62895-524a-445f-b5a8-2e8f385dd53c",
   "metadata": {},
   "outputs": [
    {
     "data": {
      "text/plain": [
       "array([[8, 8, 3],\n",
       "       [5, 5, 4],\n",
       "       [5, 2, 5],\n",
       "       [6, 3, 8],\n",
       "       [6, 3, 8],\n",
       "       [3, 6, 8]])"
      ]
     },
     "execution_count": 230,
     "metadata": {},
     "output_type": "execute_result"
    }
   ],
   "source": [
    "a.transpose()"
   ]
  },
  {
   "cell_type": "markdown",
   "id": "ea480fe7-88ce-436f-a17e-37880aec7b37",
   "metadata": {},
   "source": [
    "\n",
    "# Copies or Views of Objects\n"
   ]
  },
  {
   "cell_type": "code",
   "execution_count": 185,
   "id": "c37a0300-35af-4721-9100-f3a9c7277564",
   "metadata": {},
   "outputs": [
    {
     "data": {
      "text/plain": [
       "array([1, 3, 5, 7, 9])"
      ]
     },
     "execution_count": 185,
     "metadata": {},
     "output_type": "execute_result"
    }
   ],
   "source": [
    "a = np.arange(1, 10, 2)\n",
    "a"
   ]
  },
  {
   "cell_type": "code",
   "execution_count": 186,
   "id": "83c26afc-d61d-40f5-bbef-66e5b094af75",
   "metadata": {},
   "outputs": [],
   "source": [
    "b = a"
   ]
  },
  {
   "cell_type": "code",
   "execution_count": 187,
   "id": "2b1642b7-df40-42f1-9cac-a6aeb36a2627",
   "metadata": {},
   "outputs": [
    {
     "name": "stdout",
     "output_type": "stream",
     "text": [
      "a =  [1 3 5 7 9]\n",
      "b =  [1 3 5 7 9]\n"
     ]
    }
   ],
   "source": [
    "print(\"a = \", a)\n",
    "print(\"b = \", b)"
   ]
  },
  {
   "cell_type": "code",
   "execution_count": 188,
   "id": "e94b99dc-8dc0-4a64-a67f-a4a7b3e19029",
   "metadata": {},
   "outputs": [],
   "source": [
    "b[2] = 10"
   ]
  },
  {
   "cell_type": "code",
   "execution_count": 189,
   "id": "b3eb778a-fa51-41e2-b7a6-0206050f8086",
   "metadata": {},
   "outputs": [
    {
     "name": "stdout",
     "output_type": "stream",
     "text": [
      "a =  [ 1  3 10  7  9]\n",
      "b =  [ 1  3 10  7  9]\n"
     ]
    }
   ],
   "source": [
    "print(\"a = \", a)\n",
    "print(\"b = \", b)"
   ]
  },
  {
   "cell_type": "code",
   "execution_count": 190,
   "id": "8e0d369e-cc2e-4cd7-baa7-44cf56a1b647",
   "metadata": {},
   "outputs": [],
   "source": [
    "b = a.copy()"
   ]
  },
  {
   "cell_type": "code",
   "execution_count": 191,
   "id": "966c5d61-ea8f-4c9b-a200-9332d2c6c789",
   "metadata": {},
   "outputs": [
    {
     "name": "stdout",
     "output_type": "stream",
     "text": [
      "a =  [ 1  3 10  7  9]\n",
      "b =  [ 1  3 10  7  9]\n"
     ]
    }
   ],
   "source": [
    "print(\"a = \", a)\n",
    "print(\"b = \", b)"
   ]
  },
  {
   "cell_type": "code",
   "execution_count": 192,
   "id": "e95ed658-d91d-4663-a6f4-d775580b223d",
   "metadata": {},
   "outputs": [],
   "source": [
    "b[2] = 100"
   ]
  },
  {
   "cell_type": "code",
   "execution_count": 193,
   "id": "6443e753-915e-4974-96d9-c7b3667d04d3",
   "metadata": {},
   "outputs": [
    {
     "name": "stdout",
     "output_type": "stream",
     "text": [
      "a =  [ 1  3 10  7  9]\n",
      "b =  [  1   3 100   7   9]\n"
     ]
    }
   ],
   "source": [
    "print(\"a = \", a)\n",
    "print(\"b = \", b)"
   ]
  }
 ],
 "metadata": {
  "kernelspec": {
   "display_name": "Python 3 (ipykernel)",
   "language": "python",
   "name": "python3"
  },
  "language_info": {
   "codemirror_mode": {
    "name": "ipython",
    "version": 3
   },
   "file_extension": ".py",
   "mimetype": "text/x-python",
   "name": "python",
   "nbconvert_exporter": "python",
   "pygments_lexer": "ipython3",
   "version": "3.11.6"
  }
 },
 "nbformat": 4,
 "nbformat_minor": 5
}
