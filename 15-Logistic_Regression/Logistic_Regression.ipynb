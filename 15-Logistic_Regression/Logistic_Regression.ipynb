{
 "cells": [
  {
   "cell_type": "markdown",
   "id": "427209a9",
   "metadata": {},
   "source": [
    "# 1. Introduction\n",
    "\n",
    "Now we know the linear regression that is deal with the continuous target feature to predict based on the features. What if the target is a discrete feature? (True/False), (Sick/Not sick), (Red, Green, Blue)?\n",
    "\n",
    "This introduce us the logistic regression. It is one of the main classification algorithms, such as (SVM, Decision trees, Random forests, KNN, Naive bayes, etc).\n",
    "\n",
    "Logistic regression has the same idea as linear regression, but at this time, the y label is in range of discrete values (0 and 1).\n",
    "\n",
    "#### Examples"
   ]
  },
  {
   "cell_type": "markdown",
   "id": "b1dd4449",
   "metadata": {},
   "source": [
    "# 2. Logistic Regression\n",
    "\n",
    "Logistic Regression is the almost the most classification algorithm used in the world.\n",
    "\n",
    "Logistic Regression is a statistical method used for binary classification problems. Despite its name, logistic regression is a classification algorithm, not a regression one. It is commonly used when the dependent variable is binary, meaning it has only two possible outcomes. The algorithm models the probability that a given input belongs to a particular category.\n",
    "\n",
    "It uses the same prediction function in the linear regression, but with some helper functions used to make it suitable for classification.\n",
    "\n",
    "$$ z = b + \\sum \\limits _{i=1} ^{n} X_{i} \\beta_{i} $$\n",
    "\n",
    "#### Sigmoid function :-\n",
    "\n",
    "The sigmoid function maps any real-valued number to the range [0, 1]. The formula for the sigmoid function is:\n",
    "\n",
    "$$ \\hat{Y} = \\sigma(z) = \\frac{1}{1 + e^{-z}} $$\n",
    "\n",
    "#### Why we use sigmoid function?\n",
    "It is used for binary classification problems, which maps the prediction of some instance to a value between 0 and 1. After that, a sigmoid line will show, that is the decision boundary (the model).\n",
    "\n",
    "<img src=\"images/logistic_linear.png\">\n",
    "\n",
    "#### Decision Boundary Function :-\n",
    "\n",
    "It is the prediction function in logistic regression, if the $ \\sigma(z) >= 0.5 $ ? Then, the output is 1, else 0. Typically the decision boundary is a threshold of the value 0.5\n",
    "\n",
    "<hr>\n",
    "\n",
    "<center>\n",
    "    Y = if $ \\sigma(z) >= threshold $, then 1. Else 0"
   ]
  },
  {
   "cell_type": "markdown",
   "id": "b1ad6145",
   "metadata": {},
   "source": [
    "#### Example :-\n",
    "\n",
    "We have this dataset :-\n",
    "\n",
    "<center>\n",
    "    \n",
    "    | X |\n",
    "    |---|\n",
    "    | 1 |\n",
    "    | 3 |\n",
    "    | 5 |\n",
    "    \n",
    "</center>\n",
    "\n",
    "Assume that the β is 0.5 and b is 0\n",
    "\n",
    "First, find z values for each instance :-\n",
    "\n",
    "- First Instance : $$ z_{1} = \\beta X_{1} + b = (0.5) (1) + (0) = 0.5 $$\n",
    "- Second Instance : $$ z_{2} = \\beta X_{2} + b = (0.5) (3) + (0) = 1.5 $$\n",
    "- Third Instance : $$ z_{3} = \\beta X_{3} + b = (0.5) (5) + (0) = 2.5 $$\n",
    "\n",
    "Second, find $ \\sigma(z) $ for each instance :-\n",
    "\n",
    "- First Instance : $$ \\sigma(z_{1}) = \\frac{1}{1 + e^{-z}} = \\frac{1}{1 + 0.606} = 0.622 $$\n",
    "- Second Instance : $$ \\sigma(z_{2}) = \\frac{1}{1 + e^{-z}} = \\frac{1}{1 + 0.223} = 0.817 $$\n",
    "- Third Instance : $$ \\sigma(z_{3}) = \\frac{1}{1 + e^{-z}} = \\frac{1}{1 + 0.082} = 0.924 $$\n",
    "\n",
    "Third, you will make predictions :-\n",
    "\n",
    "- First Instance : $ 0.622 >= 0.5 $ $$ \\hat{Y_{1}} = 1 $$\n",
    "- Second Instance : $ 0.817 >= 0.5 $ $$ \\hat{Y_{1}} = 1 $$\n",
    "- Third Instance : $ 0.924 >= 0.5 $ $$ \\hat{Y_{1}} = 1 $$"
   ]
  },
  {
   "cell_type": "markdown",
   "id": "1c13264a",
   "metadata": {},
   "source": [
    "#### Cost function :-\n",
    "\n",
    "Remember that the cost function in linear regression is used to calculate the cost for the instance data, and we call it for each iteration in the gradient decsent algorithm. The goal is to minimize the total cost function, right?\n",
    "\n",
    "Now, what if the problem is classification? Not a continuous data.\n",
    "\n",
    "The equation for linear regression is :-\n",
    "\n",
    "$$ Cost = \\frac{1}{n} \\sum \\limits _{i=1} ^{n} (Y_{i} - \\sigma(z))^2 $$\n",
    "\n",
    "For a logistic regression (classification problem), this equation is not a good one.\n",
    "\n",
    "$$ Cost = \\frac{1}{n} \\sum \\limits _{i=1} ^{n} (Loss(y, \\sigma(z))) $$\n",
    "\n",
    "* $Loss(y, \\sigma(z))$ is the cost for a single data point, which is:\n",
    "\n",
    "\\begin{equation}\n",
    "  Loss(y, \\sigma(z)) = \\begin{cases}\n",
    "    - \\log(\\sigma(z)) & \\text{if $y_{i}=1$}\\\\\n",
    "    - \\log(1 - \\sigma(z)) & \\text{if $y_{i}=0$}\n",
    "  \\end{cases}\n",
    "\\end{equation}\n",
    "\n",
    "Therefore, the loss function can be written as :\n",
    "\n",
    "$$ Loss(y, \\sigma(z)) = -y_{i} \\log(\\sigma(z)) - (1 - y_{i}) \\log(1 - \\sigma(z)) $$\n",
    "\n",
    "If $y_{i} = 1$:\n",
    "\n",
    "$$ Loss(1, \\sigma(z)) = -(1) \\log(\\sigma(z)) - (1 - 1) \\log(1 - \\sigma(z)) $$\n",
    "\n",
    "$$ Loss(1, \\sigma(z)) = -(1) \\log(\\sigma(z)) $$\n",
    "\n",
    "If $y_{i} = 0$:\n",
    "\n",
    "$$ Loss(0, \\sigma(z)) = -(0) \\log(\\sigma(z)) - (1 - 0) \\log(1 - \\sigma(z)) $$\n",
    "\n",
    "$$ Loss(0, \\sigma(z)) = -(1) \\log(1 - \\sigma(z)) $$"
   ]
  },
  {
   "cell_type": "markdown",
   "id": "09bd3d56",
   "metadata": {},
   "source": [
    "#### Example :-\n",
    "\n",
    "| Tumor Size | Malignant? |\n",
    "|------------|------------|\n",
    "| 10 | 1 |\n",
    "| 2 | 0 |\n",
    "| 5 | 0 |\n",
    "| 12 | 1 |\n",
    "\n",
    "Suppose the wight equals 1 and bias equals 0\n",
    "\n",
    "Calculate the cost for each instance :-\n",
    "\n",
    "First, let us calculate the sigmoid function for each instance :-\n",
    "\n",
    "1. The first instance X = 10 :-\n",
    "\n",
    "$$ z = WX + b = (1) (10) + (0) = 10 $$\n",
    "\n",
    "$$ \\sigma(10) = \\frac{1}{1 + e^{-10}} = 0.99 $$\n",
    "\n",
    "2. The second instance X = 2 :-\n",
    "\n",
    "$$ z = WX + b = (1) (2) + (0) = 2 $$\n",
    "\n",
    "$$ \\sigma(2) = \\frac{1}{1 + e^{-2}} = 0.88 $$\n",
    "\n",
    "3. The third instance X = 5 :-\n",
    "\n",
    "$$ z = WX + b = (1) (5) + (0) = 5 $$\n",
    "\n",
    "$$ \\sigma(5) = \\frac{1}{1 + e^{-5}} = 0.99 $$\n",
    "\n",
    "4. The fourth instance X = 12 :-\n",
    "\n",
    "$$ z = WX + b = (1) (12) + (0) = 12 $$\n",
    "\n",
    "$$ \\sigma(12) = \\frac{1}{1 + e^{-12}} = 0.99 $$\n",
    "\n",
    "<hr>\n",
    "\n",
    "Now, let us calculate the cost :-\n",
    "\n",
    "$$ Cost = \\frac{1}{4} \\sum \\limits _{i=1} ^{4} (Loss(y, \\sigma(z))) $$\n",
    "\n",
    "1. First iteration (first instance and Y = 1) :-\n",
    "\n",
    "$$ Loss(1, 0.99) = -(1) \\log(0.99) = 0.0043 $$\n",
    "\n",
    "2. Second iteration (second instance and Y = 0) :-\n",
    "\n",
    "$$ Loss(1, 0.88) = -(1) \\log(1 - 0.88) = 2.12 $$\n",
    "\n",
    "3. Third iteration (third instance and Y = 0) :-\n",
    "\n",
    "$$ Loss(1, 0.99) = -(1) \\log(1 - 0.99) = 4.605 $$\n",
    "\n",
    "4. Fourth iteration (fourth instance and Y = 1) :-\n",
    "\n",
    "$$ Loss(1, 0.99) = -(1) \\log(0.99) = 0.0043 $$\n",
    "\n",
    "<hr>\n",
    "\n",
    "Now, let us summing the costs to get the final cost :-\n",
    "\n",
    "$$ 0.0043 + 2.12 + 4.605 + 0.0043 = 6.7336 $$\n",
    "\n",
    "Therefore, the total cost when the wight is 1 and  bias is 0 is **6.7336**"
   ]
  },
  {
   "cell_type": "markdown",
   "id": "97dfa594",
   "metadata": {},
   "source": [
    "#### Selecting the wights and bias (Gradient descent)\n",
    "\n",
    "Same as gradient descent in linear regression, but the goal is to minimize the cost function.\n",
    "\n",
    "$$\n",
    "\\begin{align*} \\text{repeat}&\\text{ until reach minimum:} \\; \\lbrace \\newline\n",
    "\\;  \\beta_{0} &= \\beta_{0} -  \\alpha \\frac{\\partial J(\\beta_{0},\\beta_{0})}{\\partial \\beta_{0}} \\tag{1}  \\; \\newline \n",
    " \\beta_{1} &= \\beta_{1} -  \\alpha \\frac{\\partial J(\\beta_{0},\\beta_{1})}{\\partial \\beta_{1}}  \\newline \\rbrace\n",
    "\\end{align*}\n",
    "$$\n",
    "\n",
    "$ \\alpha $ or **learning_rate** is a small amount of step to move forward.\n",
    "\n",
    "where, parameters $\\beta_{0}$, $\\beta_{1}$ are updated simultaneously.  \n",
    "The gradient is defined as:\n",
    "\n",
    "$$\n",
    "\\begin{align}\n",
    "\\frac{\\partial J(\\beta_{0},\\beta_{1})}{\\partial \\beta_{0}}  &= \\sum\\limits_{i = 1}^{n} (\\sigma({z_{i}}) - y_{i}) x_{i}\\tag{2}\\\\\n",
    "  \\frac{\\partial J(\\beta_{0},\\beta_{1})}{\\partial \\beta_{1}}  &= \\sum\\limits_{i = 1}^{n} (\\sigma({z_{i}}) - y_{i}) \\tag{3}\\\\\n",
    "\\end{align}\n",
    "$$"
   ]
  },
  {
   "cell_type": "markdown",
   "id": "7ae144a3",
   "metadata": {},
   "source": [
    "### Training a Logistic Regression using Sklearn"
   ]
  },
  {
   "cell_type": "code",
   "execution_count": 1,
   "id": "5d3991f4",
   "metadata": {},
   "outputs": [],
   "source": [
    "import warnings\n",
    "warnings.filterwarnings(\"ignore\")\n",
    "import pandas as pd\n",
    "import numpy as np\n",
    "import matplotlib.pyplot as plt\n",
    "import seaborn as sns\n",
    "%matplotlib inline"
   ]
  },
  {
   "cell_type": "code",
   "execution_count": 2,
   "id": "c91aa258",
   "metadata": {},
   "outputs": [
    {
     "data": {
      "text/html": [
       "<div>\n",
       "<style scoped>\n",
       "    .dataframe tbody tr th:only-of-type {\n",
       "        vertical-align: middle;\n",
       "    }\n",
       "\n",
       "    .dataframe tbody tr th {\n",
       "        vertical-align: top;\n",
       "    }\n",
       "\n",
       "    .dataframe thead th {\n",
       "        text-align: right;\n",
       "    }\n",
       "</style>\n",
       "<table border=\"1\" class=\"dataframe\">\n",
       "  <thead>\n",
       "    <tr style=\"text-align: right;\">\n",
       "      <th></th>\n",
       "      <th>age</th>\n",
       "      <th>workclass</th>\n",
       "      <th>fnlwgt</th>\n",
       "      <th>education</th>\n",
       "      <th>education.num</th>\n",
       "      <th>marital.status</th>\n",
       "      <th>occupation</th>\n",
       "      <th>relationship</th>\n",
       "      <th>race</th>\n",
       "      <th>sex</th>\n",
       "      <th>capital.gain</th>\n",
       "      <th>capital.loss</th>\n",
       "      <th>hours.per.week</th>\n",
       "      <th>native.country</th>\n",
       "      <th>income</th>\n",
       "    </tr>\n",
       "  </thead>\n",
       "  <tbody>\n",
       "    <tr>\n",
       "      <th>0</th>\n",
       "      <td>90</td>\n",
       "      <td>?</td>\n",
       "      <td>77053</td>\n",
       "      <td>HS-grad</td>\n",
       "      <td>9</td>\n",
       "      <td>Widowed</td>\n",
       "      <td>?</td>\n",
       "      <td>Not-in-family</td>\n",
       "      <td>White</td>\n",
       "      <td>Female</td>\n",
       "      <td>0</td>\n",
       "      <td>4356</td>\n",
       "      <td>40</td>\n",
       "      <td>United-States</td>\n",
       "      <td>&lt;=50K</td>\n",
       "    </tr>\n",
       "    <tr>\n",
       "      <th>1</th>\n",
       "      <td>82</td>\n",
       "      <td>Private</td>\n",
       "      <td>132870</td>\n",
       "      <td>HS-grad</td>\n",
       "      <td>9</td>\n",
       "      <td>Widowed</td>\n",
       "      <td>Exec-managerial</td>\n",
       "      <td>Not-in-family</td>\n",
       "      <td>White</td>\n",
       "      <td>Female</td>\n",
       "      <td>0</td>\n",
       "      <td>4356</td>\n",
       "      <td>18</td>\n",
       "      <td>United-States</td>\n",
       "      <td>&lt;=50K</td>\n",
       "    </tr>\n",
       "    <tr>\n",
       "      <th>2</th>\n",
       "      <td>66</td>\n",
       "      <td>?</td>\n",
       "      <td>186061</td>\n",
       "      <td>Some-college</td>\n",
       "      <td>10</td>\n",
       "      <td>Widowed</td>\n",
       "      <td>?</td>\n",
       "      <td>Unmarried</td>\n",
       "      <td>Black</td>\n",
       "      <td>Female</td>\n",
       "      <td>0</td>\n",
       "      <td>4356</td>\n",
       "      <td>40</td>\n",
       "      <td>United-States</td>\n",
       "      <td>&lt;=50K</td>\n",
       "    </tr>\n",
       "    <tr>\n",
       "      <th>3</th>\n",
       "      <td>54</td>\n",
       "      <td>Private</td>\n",
       "      <td>140359</td>\n",
       "      <td>7th-8th</td>\n",
       "      <td>4</td>\n",
       "      <td>Divorced</td>\n",
       "      <td>Machine-op-inspct</td>\n",
       "      <td>Unmarried</td>\n",
       "      <td>White</td>\n",
       "      <td>Female</td>\n",
       "      <td>0</td>\n",
       "      <td>3900</td>\n",
       "      <td>40</td>\n",
       "      <td>United-States</td>\n",
       "      <td>&lt;=50K</td>\n",
       "    </tr>\n",
       "    <tr>\n",
       "      <th>4</th>\n",
       "      <td>41</td>\n",
       "      <td>Private</td>\n",
       "      <td>264663</td>\n",
       "      <td>Some-college</td>\n",
       "      <td>10</td>\n",
       "      <td>Separated</td>\n",
       "      <td>Prof-specialty</td>\n",
       "      <td>Own-child</td>\n",
       "      <td>White</td>\n",
       "      <td>Female</td>\n",
       "      <td>0</td>\n",
       "      <td>3900</td>\n",
       "      <td>40</td>\n",
       "      <td>United-States</td>\n",
       "      <td>&lt;=50K</td>\n",
       "    </tr>\n",
       "    <tr>\n",
       "      <th>...</th>\n",
       "      <td>...</td>\n",
       "      <td>...</td>\n",
       "      <td>...</td>\n",
       "      <td>...</td>\n",
       "      <td>...</td>\n",
       "      <td>...</td>\n",
       "      <td>...</td>\n",
       "      <td>...</td>\n",
       "      <td>...</td>\n",
       "      <td>...</td>\n",
       "      <td>...</td>\n",
       "      <td>...</td>\n",
       "      <td>...</td>\n",
       "      <td>...</td>\n",
       "      <td>...</td>\n",
       "    </tr>\n",
       "    <tr>\n",
       "      <th>32556</th>\n",
       "      <td>22</td>\n",
       "      <td>Private</td>\n",
       "      <td>310152</td>\n",
       "      <td>Some-college</td>\n",
       "      <td>10</td>\n",
       "      <td>Never-married</td>\n",
       "      <td>Protective-serv</td>\n",
       "      <td>Not-in-family</td>\n",
       "      <td>White</td>\n",
       "      <td>Male</td>\n",
       "      <td>0</td>\n",
       "      <td>0</td>\n",
       "      <td>40</td>\n",
       "      <td>United-States</td>\n",
       "      <td>&lt;=50K</td>\n",
       "    </tr>\n",
       "    <tr>\n",
       "      <th>32557</th>\n",
       "      <td>27</td>\n",
       "      <td>Private</td>\n",
       "      <td>257302</td>\n",
       "      <td>Assoc-acdm</td>\n",
       "      <td>12</td>\n",
       "      <td>Married-civ-spouse</td>\n",
       "      <td>Tech-support</td>\n",
       "      <td>Wife</td>\n",
       "      <td>White</td>\n",
       "      <td>Female</td>\n",
       "      <td>0</td>\n",
       "      <td>0</td>\n",
       "      <td>38</td>\n",
       "      <td>United-States</td>\n",
       "      <td>&lt;=50K</td>\n",
       "    </tr>\n",
       "    <tr>\n",
       "      <th>32558</th>\n",
       "      <td>40</td>\n",
       "      <td>Private</td>\n",
       "      <td>154374</td>\n",
       "      <td>HS-grad</td>\n",
       "      <td>9</td>\n",
       "      <td>Married-civ-spouse</td>\n",
       "      <td>Machine-op-inspct</td>\n",
       "      <td>Husband</td>\n",
       "      <td>White</td>\n",
       "      <td>Male</td>\n",
       "      <td>0</td>\n",
       "      <td>0</td>\n",
       "      <td>40</td>\n",
       "      <td>United-States</td>\n",
       "      <td>&gt;50K</td>\n",
       "    </tr>\n",
       "    <tr>\n",
       "      <th>32559</th>\n",
       "      <td>58</td>\n",
       "      <td>Private</td>\n",
       "      <td>151910</td>\n",
       "      <td>HS-grad</td>\n",
       "      <td>9</td>\n",
       "      <td>Widowed</td>\n",
       "      <td>Adm-clerical</td>\n",
       "      <td>Unmarried</td>\n",
       "      <td>White</td>\n",
       "      <td>Female</td>\n",
       "      <td>0</td>\n",
       "      <td>0</td>\n",
       "      <td>40</td>\n",
       "      <td>United-States</td>\n",
       "      <td>&lt;=50K</td>\n",
       "    </tr>\n",
       "    <tr>\n",
       "      <th>32560</th>\n",
       "      <td>22</td>\n",
       "      <td>Private</td>\n",
       "      <td>201490</td>\n",
       "      <td>HS-grad</td>\n",
       "      <td>9</td>\n",
       "      <td>Never-married</td>\n",
       "      <td>Adm-clerical</td>\n",
       "      <td>Own-child</td>\n",
       "      <td>White</td>\n",
       "      <td>Male</td>\n",
       "      <td>0</td>\n",
       "      <td>0</td>\n",
       "      <td>20</td>\n",
       "      <td>United-States</td>\n",
       "      <td>&lt;=50K</td>\n",
       "    </tr>\n",
       "  </tbody>\n",
       "</table>\n",
       "<p>32561 rows × 15 columns</p>\n",
       "</div>"
      ],
      "text/plain": [
       "       age workclass  fnlwgt     education  education.num      marital.status  \\\n",
       "0       90         ?   77053       HS-grad              9             Widowed   \n",
       "1       82   Private  132870       HS-grad              9             Widowed   \n",
       "2       66         ?  186061  Some-college             10             Widowed   \n",
       "3       54   Private  140359       7th-8th              4            Divorced   \n",
       "4       41   Private  264663  Some-college             10           Separated   \n",
       "...    ...       ...     ...           ...            ...                 ...   \n",
       "32556   22   Private  310152  Some-college             10       Never-married   \n",
       "32557   27   Private  257302    Assoc-acdm             12  Married-civ-spouse   \n",
       "32558   40   Private  154374       HS-grad              9  Married-civ-spouse   \n",
       "32559   58   Private  151910       HS-grad              9             Widowed   \n",
       "32560   22   Private  201490       HS-grad              9       Never-married   \n",
       "\n",
       "              occupation   relationship   race     sex  capital.gain  \\\n",
       "0                      ?  Not-in-family  White  Female             0   \n",
       "1        Exec-managerial  Not-in-family  White  Female             0   \n",
       "2                      ?      Unmarried  Black  Female             0   \n",
       "3      Machine-op-inspct      Unmarried  White  Female             0   \n",
       "4         Prof-specialty      Own-child  White  Female             0   \n",
       "...                  ...            ...    ...     ...           ...   \n",
       "32556    Protective-serv  Not-in-family  White    Male             0   \n",
       "32557       Tech-support           Wife  White  Female             0   \n",
       "32558  Machine-op-inspct        Husband  White    Male             0   \n",
       "32559       Adm-clerical      Unmarried  White  Female             0   \n",
       "32560       Adm-clerical      Own-child  White    Male             0   \n",
       "\n",
       "       capital.loss  hours.per.week native.country income  \n",
       "0              4356              40  United-States  <=50K  \n",
       "1              4356              18  United-States  <=50K  \n",
       "2              4356              40  United-States  <=50K  \n",
       "3              3900              40  United-States  <=50K  \n",
       "4              3900              40  United-States  <=50K  \n",
       "...             ...             ...            ...    ...  \n",
       "32556             0              40  United-States  <=50K  \n",
       "32557             0              38  United-States  <=50K  \n",
       "32558             0              40  United-States   >50K  \n",
       "32559             0              40  United-States  <=50K  \n",
       "32560             0              20  United-States  <=50K  \n",
       "\n",
       "[32561 rows x 15 columns]"
      ]
     },
     "execution_count": 2,
     "metadata": {},
     "output_type": "execute_result"
    }
   ],
   "source": [
    "df = pd.read_csv('adult_dataset.csv')\n",
    "df"
   ]
  },
  {
   "cell_type": "code",
   "execution_count": 3,
   "id": "a4a63580",
   "metadata": {},
   "outputs": [
    {
     "name": "stdout",
     "output_type": "stream",
     "text": [
      "<class 'pandas.core.frame.DataFrame'>\n",
      "RangeIndex: 32561 entries, 0 to 32560\n",
      "Data columns (total 15 columns):\n",
      " #   Column          Non-Null Count  Dtype \n",
      "---  ------          --------------  ----- \n",
      " 0   age             32561 non-null  int64 \n",
      " 1   workclass       32561 non-null  object\n",
      " 2   fnlwgt          32561 non-null  int64 \n",
      " 3   education       32561 non-null  object\n",
      " 4   education.num   32561 non-null  int64 \n",
      " 5   marital.status  32561 non-null  object\n",
      " 6   occupation      32561 non-null  object\n",
      " 7   relationship    32561 non-null  object\n",
      " 8   race            32561 non-null  object\n",
      " 9   sex             32561 non-null  object\n",
      " 10  capital.gain    32561 non-null  int64 \n",
      " 11  capital.loss    32561 non-null  int64 \n",
      " 12  hours.per.week  32561 non-null  int64 \n",
      " 13  native.country  32561 non-null  object\n",
      " 14  income          32561 non-null  object\n",
      "dtypes: int64(6), object(9)\n",
      "memory usage: 3.7+ MB\n"
     ]
    }
   ],
   "source": [
    "df.info()"
   ]
  },
  {
   "cell_type": "code",
   "execution_count": 4,
   "id": "0f3b7b01",
   "metadata": {},
   "outputs": [
    {
     "data": {
      "text/html": [
       "<div>\n",
       "<style scoped>\n",
       "    .dataframe tbody tr th:only-of-type {\n",
       "        vertical-align: middle;\n",
       "    }\n",
       "\n",
       "    .dataframe tbody tr th {\n",
       "        vertical-align: top;\n",
       "    }\n",
       "\n",
       "    .dataframe thead th {\n",
       "        text-align: right;\n",
       "    }\n",
       "</style>\n",
       "<table border=\"1\" class=\"dataframe\">\n",
       "  <thead>\n",
       "    <tr style=\"text-align: right;\">\n",
       "      <th></th>\n",
       "      <th>age</th>\n",
       "      <th>fnlwgt</th>\n",
       "      <th>education.num</th>\n",
       "      <th>capital.gain</th>\n",
       "      <th>capital.loss</th>\n",
       "      <th>hours.per.week</th>\n",
       "    </tr>\n",
       "  </thead>\n",
       "  <tbody>\n",
       "    <tr>\n",
       "      <th>count</th>\n",
       "      <td>32561.000000</td>\n",
       "      <td>3.256100e+04</td>\n",
       "      <td>32561.000000</td>\n",
       "      <td>32561.000000</td>\n",
       "      <td>32561.000000</td>\n",
       "      <td>32561.000000</td>\n",
       "    </tr>\n",
       "    <tr>\n",
       "      <th>mean</th>\n",
       "      <td>38.581647</td>\n",
       "      <td>1.897784e+05</td>\n",
       "      <td>10.080679</td>\n",
       "      <td>1077.648844</td>\n",
       "      <td>87.303830</td>\n",
       "      <td>40.437456</td>\n",
       "    </tr>\n",
       "    <tr>\n",
       "      <th>std</th>\n",
       "      <td>13.640433</td>\n",
       "      <td>1.055500e+05</td>\n",
       "      <td>2.572720</td>\n",
       "      <td>7385.292085</td>\n",
       "      <td>402.960219</td>\n",
       "      <td>12.347429</td>\n",
       "    </tr>\n",
       "    <tr>\n",
       "      <th>min</th>\n",
       "      <td>17.000000</td>\n",
       "      <td>1.228500e+04</td>\n",
       "      <td>1.000000</td>\n",
       "      <td>0.000000</td>\n",
       "      <td>0.000000</td>\n",
       "      <td>1.000000</td>\n",
       "    </tr>\n",
       "    <tr>\n",
       "      <th>25%</th>\n",
       "      <td>28.000000</td>\n",
       "      <td>1.178270e+05</td>\n",
       "      <td>9.000000</td>\n",
       "      <td>0.000000</td>\n",
       "      <td>0.000000</td>\n",
       "      <td>40.000000</td>\n",
       "    </tr>\n",
       "    <tr>\n",
       "      <th>50%</th>\n",
       "      <td>37.000000</td>\n",
       "      <td>1.783560e+05</td>\n",
       "      <td>10.000000</td>\n",
       "      <td>0.000000</td>\n",
       "      <td>0.000000</td>\n",
       "      <td>40.000000</td>\n",
       "    </tr>\n",
       "    <tr>\n",
       "      <th>75%</th>\n",
       "      <td>48.000000</td>\n",
       "      <td>2.370510e+05</td>\n",
       "      <td>12.000000</td>\n",
       "      <td>0.000000</td>\n",
       "      <td>0.000000</td>\n",
       "      <td>45.000000</td>\n",
       "    </tr>\n",
       "    <tr>\n",
       "      <th>max</th>\n",
       "      <td>90.000000</td>\n",
       "      <td>1.484705e+06</td>\n",
       "      <td>16.000000</td>\n",
       "      <td>99999.000000</td>\n",
       "      <td>4356.000000</td>\n",
       "      <td>99.000000</td>\n",
       "    </tr>\n",
       "  </tbody>\n",
       "</table>\n",
       "</div>"
      ],
      "text/plain": [
       "                age        fnlwgt  education.num  capital.gain  capital.loss  \\\n",
       "count  32561.000000  3.256100e+04   32561.000000  32561.000000  32561.000000   \n",
       "mean      38.581647  1.897784e+05      10.080679   1077.648844     87.303830   \n",
       "std       13.640433  1.055500e+05       2.572720   7385.292085    402.960219   \n",
       "min       17.000000  1.228500e+04       1.000000      0.000000      0.000000   \n",
       "25%       28.000000  1.178270e+05       9.000000      0.000000      0.000000   \n",
       "50%       37.000000  1.783560e+05      10.000000      0.000000      0.000000   \n",
       "75%       48.000000  2.370510e+05      12.000000      0.000000      0.000000   \n",
       "max       90.000000  1.484705e+06      16.000000  99999.000000   4356.000000   \n",
       "\n",
       "       hours.per.week  \n",
       "count    32561.000000  \n",
       "mean        40.437456  \n",
       "std         12.347429  \n",
       "min          1.000000  \n",
       "25%         40.000000  \n",
       "50%         40.000000  \n",
       "75%         45.000000  \n",
       "max         99.000000  "
      ]
     },
     "execution_count": 4,
     "metadata": {},
     "output_type": "execute_result"
    }
   ],
   "source": [
    "df.describe()"
   ]
  },
  {
   "cell_type": "code",
   "execution_count": 5,
   "id": "aa38d9c1",
   "metadata": {},
   "outputs": [
    {
     "data": {
      "text/plain": [
       "(32561, 15)"
      ]
     },
     "execution_count": 5,
     "metadata": {},
     "output_type": "execute_result"
    }
   ],
   "source": [
    "df.shape"
   ]
  },
  {
   "cell_type": "code",
   "execution_count": 6,
   "id": "3f221b33",
   "metadata": {},
   "outputs": [
    {
     "data": {
      "text/plain": [
       "workclass         1836\n",
       "education            0\n",
       "marital.status       0\n",
       "occupation        1843\n",
       "relationship         0\n",
       "race                 0\n",
       "sex                  0\n",
       "native.country     583\n",
       "income               0\n",
       "dtype: int64"
      ]
     },
     "execution_count": 6,
     "metadata": {},
     "output_type": "execute_result"
    }
   ],
   "source": [
    "df_categorical = df.select_dtypes(include=['object'])\n",
    "\n",
    "df_categorical.apply(lambda x: x==\"?\", axis=0).sum()"
   ]
  },
  {
   "cell_type": "code",
   "execution_count": 7,
   "id": "694421e2",
   "metadata": {},
   "outputs": [
    {
     "data": {
      "text/html": [
       "<div>\n",
       "<style scoped>\n",
       "    .dataframe tbody tr th:only-of-type {\n",
       "        vertical-align: middle;\n",
       "    }\n",
       "\n",
       "    .dataframe tbody tr th {\n",
       "        vertical-align: top;\n",
       "    }\n",
       "\n",
       "    .dataframe thead th {\n",
       "        text-align: right;\n",
       "    }\n",
       "</style>\n",
       "<table border=\"1\" class=\"dataframe\">\n",
       "  <thead>\n",
       "    <tr style=\"text-align: right;\">\n",
       "      <th></th>\n",
       "      <th>age</th>\n",
       "      <th>workclass</th>\n",
       "      <th>fnlwgt</th>\n",
       "      <th>education</th>\n",
       "      <th>education.num</th>\n",
       "      <th>marital.status</th>\n",
       "      <th>occupation</th>\n",
       "      <th>relationship</th>\n",
       "      <th>race</th>\n",
       "      <th>sex</th>\n",
       "      <th>capital.gain</th>\n",
       "      <th>capital.loss</th>\n",
       "      <th>hours.per.week</th>\n",
       "      <th>native.country</th>\n",
       "      <th>income</th>\n",
       "    </tr>\n",
       "  </thead>\n",
       "  <tbody>\n",
       "    <tr>\n",
       "      <th>1</th>\n",
       "      <td>82</td>\n",
       "      <td>Private</td>\n",
       "      <td>132870</td>\n",
       "      <td>HS-grad</td>\n",
       "      <td>9</td>\n",
       "      <td>Widowed</td>\n",
       "      <td>Exec-managerial</td>\n",
       "      <td>Not-in-family</td>\n",
       "      <td>White</td>\n",
       "      <td>Female</td>\n",
       "      <td>0</td>\n",
       "      <td>4356</td>\n",
       "      <td>18</td>\n",
       "      <td>United-States</td>\n",
       "      <td>&lt;=50K</td>\n",
       "    </tr>\n",
       "    <tr>\n",
       "      <th>3</th>\n",
       "      <td>54</td>\n",
       "      <td>Private</td>\n",
       "      <td>140359</td>\n",
       "      <td>7th-8th</td>\n",
       "      <td>4</td>\n",
       "      <td>Divorced</td>\n",
       "      <td>Machine-op-inspct</td>\n",
       "      <td>Unmarried</td>\n",
       "      <td>White</td>\n",
       "      <td>Female</td>\n",
       "      <td>0</td>\n",
       "      <td>3900</td>\n",
       "      <td>40</td>\n",
       "      <td>United-States</td>\n",
       "      <td>&lt;=50K</td>\n",
       "    </tr>\n",
       "    <tr>\n",
       "      <th>4</th>\n",
       "      <td>41</td>\n",
       "      <td>Private</td>\n",
       "      <td>264663</td>\n",
       "      <td>Some-college</td>\n",
       "      <td>10</td>\n",
       "      <td>Separated</td>\n",
       "      <td>Prof-specialty</td>\n",
       "      <td>Own-child</td>\n",
       "      <td>White</td>\n",
       "      <td>Female</td>\n",
       "      <td>0</td>\n",
       "      <td>3900</td>\n",
       "      <td>40</td>\n",
       "      <td>United-States</td>\n",
       "      <td>&lt;=50K</td>\n",
       "    </tr>\n",
       "    <tr>\n",
       "      <th>5</th>\n",
       "      <td>34</td>\n",
       "      <td>Private</td>\n",
       "      <td>216864</td>\n",
       "      <td>HS-grad</td>\n",
       "      <td>9</td>\n",
       "      <td>Divorced</td>\n",
       "      <td>Other-service</td>\n",
       "      <td>Unmarried</td>\n",
       "      <td>White</td>\n",
       "      <td>Female</td>\n",
       "      <td>0</td>\n",
       "      <td>3770</td>\n",
       "      <td>45</td>\n",
       "      <td>United-States</td>\n",
       "      <td>&lt;=50K</td>\n",
       "    </tr>\n",
       "    <tr>\n",
       "      <th>6</th>\n",
       "      <td>38</td>\n",
       "      <td>Private</td>\n",
       "      <td>150601</td>\n",
       "      <td>10th</td>\n",
       "      <td>6</td>\n",
       "      <td>Separated</td>\n",
       "      <td>Adm-clerical</td>\n",
       "      <td>Unmarried</td>\n",
       "      <td>White</td>\n",
       "      <td>Male</td>\n",
       "      <td>0</td>\n",
       "      <td>3770</td>\n",
       "      <td>40</td>\n",
       "      <td>United-States</td>\n",
       "      <td>&lt;=50K</td>\n",
       "    </tr>\n",
       "  </tbody>\n",
       "</table>\n",
       "</div>"
      ],
      "text/plain": [
       "   age workclass  fnlwgt     education  education.num marital.status  \\\n",
       "1   82   Private  132870       HS-grad              9        Widowed   \n",
       "3   54   Private  140359       7th-8th              4       Divorced   \n",
       "4   41   Private  264663  Some-college             10      Separated   \n",
       "5   34   Private  216864       HS-grad              9       Divorced   \n",
       "6   38   Private  150601          10th              6      Separated   \n",
       "\n",
       "          occupation   relationship   race     sex  capital.gain  \\\n",
       "1    Exec-managerial  Not-in-family  White  Female             0   \n",
       "3  Machine-op-inspct      Unmarried  White  Female             0   \n",
       "4     Prof-specialty      Own-child  White  Female             0   \n",
       "5      Other-service      Unmarried  White  Female             0   \n",
       "6       Adm-clerical      Unmarried  White    Male             0   \n",
       "\n",
       "   capital.loss  hours.per.week native.country income  \n",
       "1          4356              18  United-States  <=50K  \n",
       "3          3900              40  United-States  <=50K  \n",
       "4          3900              40  United-States  <=50K  \n",
       "5          3770              45  United-States  <=50K  \n",
       "6          3770              40  United-States  <=50K  "
      ]
     },
     "execution_count": 7,
     "metadata": {},
     "output_type": "execute_result"
    }
   ],
   "source": [
    "df = df[df['workclass'] != '?']\n",
    "df = df[df['occupation'] != '?']\n",
    "df = df[df['native.country'] != '?']\n",
    "df.head()"
   ]
  },
  {
   "cell_type": "code",
   "execution_count": 8,
   "id": "27ddc679",
   "metadata": {},
   "outputs": [
    {
     "data": {
      "text/html": [
       "<div>\n",
       "<style scoped>\n",
       "    .dataframe tbody tr th:only-of-type {\n",
       "        vertical-align: middle;\n",
       "    }\n",
       "\n",
       "    .dataframe tbody tr th {\n",
       "        vertical-align: top;\n",
       "    }\n",
       "\n",
       "    .dataframe thead th {\n",
       "        text-align: right;\n",
       "    }\n",
       "</style>\n",
       "<table border=\"1\" class=\"dataframe\">\n",
       "  <thead>\n",
       "    <tr style=\"text-align: right;\">\n",
       "      <th></th>\n",
       "      <th>workclass</th>\n",
       "      <th>education</th>\n",
       "      <th>marital.status</th>\n",
       "      <th>occupation</th>\n",
       "      <th>relationship</th>\n",
       "      <th>race</th>\n",
       "      <th>sex</th>\n",
       "      <th>native.country</th>\n",
       "      <th>income</th>\n",
       "    </tr>\n",
       "  </thead>\n",
       "  <tbody>\n",
       "    <tr>\n",
       "      <th>1</th>\n",
       "      <td>Private</td>\n",
       "      <td>HS-grad</td>\n",
       "      <td>Widowed</td>\n",
       "      <td>Exec-managerial</td>\n",
       "      <td>Not-in-family</td>\n",
       "      <td>White</td>\n",
       "      <td>Female</td>\n",
       "      <td>United-States</td>\n",
       "      <td>&lt;=50K</td>\n",
       "    </tr>\n",
       "    <tr>\n",
       "      <th>3</th>\n",
       "      <td>Private</td>\n",
       "      <td>7th-8th</td>\n",
       "      <td>Divorced</td>\n",
       "      <td>Machine-op-inspct</td>\n",
       "      <td>Unmarried</td>\n",
       "      <td>White</td>\n",
       "      <td>Female</td>\n",
       "      <td>United-States</td>\n",
       "      <td>&lt;=50K</td>\n",
       "    </tr>\n",
       "    <tr>\n",
       "      <th>4</th>\n",
       "      <td>Private</td>\n",
       "      <td>Some-college</td>\n",
       "      <td>Separated</td>\n",
       "      <td>Prof-specialty</td>\n",
       "      <td>Own-child</td>\n",
       "      <td>White</td>\n",
       "      <td>Female</td>\n",
       "      <td>United-States</td>\n",
       "      <td>&lt;=50K</td>\n",
       "    </tr>\n",
       "    <tr>\n",
       "      <th>5</th>\n",
       "      <td>Private</td>\n",
       "      <td>HS-grad</td>\n",
       "      <td>Divorced</td>\n",
       "      <td>Other-service</td>\n",
       "      <td>Unmarried</td>\n",
       "      <td>White</td>\n",
       "      <td>Female</td>\n",
       "      <td>United-States</td>\n",
       "      <td>&lt;=50K</td>\n",
       "    </tr>\n",
       "    <tr>\n",
       "      <th>6</th>\n",
       "      <td>Private</td>\n",
       "      <td>10th</td>\n",
       "      <td>Separated</td>\n",
       "      <td>Adm-clerical</td>\n",
       "      <td>Unmarried</td>\n",
       "      <td>White</td>\n",
       "      <td>Male</td>\n",
       "      <td>United-States</td>\n",
       "      <td>&lt;=50K</td>\n",
       "    </tr>\n",
       "  </tbody>\n",
       "</table>\n",
       "</div>"
      ],
      "text/plain": [
       "  workclass     education marital.status         occupation   relationship  \\\n",
       "1   Private       HS-grad        Widowed    Exec-managerial  Not-in-family   \n",
       "3   Private       7th-8th       Divorced  Machine-op-inspct      Unmarried   \n",
       "4   Private  Some-college      Separated     Prof-specialty      Own-child   \n",
       "5   Private       HS-grad       Divorced      Other-service      Unmarried   \n",
       "6   Private          10th      Separated       Adm-clerical      Unmarried   \n",
       "\n",
       "    race     sex native.country income  \n",
       "1  White  Female  United-States  <=50K  \n",
       "3  White  Female  United-States  <=50K  \n",
       "4  White  Female  United-States  <=50K  \n",
       "5  White  Female  United-States  <=50K  \n",
       "6  White    Male  United-States  <=50K  "
      ]
     },
     "execution_count": 8,
     "metadata": {},
     "output_type": "execute_result"
    }
   ],
   "source": [
    "from sklearn import preprocessing\n",
    "\n",
    "# select all categorical variables\n",
    "df_categorical = df.select_dtypes(include=['object'])\n",
    "df_categorical.head()"
   ]
  },
  {
   "cell_type": "code",
   "execution_count": 9,
   "id": "787ef603",
   "metadata": {},
   "outputs": [
    {
     "data": {
      "text/html": [
       "<div>\n",
       "<style scoped>\n",
       "    .dataframe tbody tr th:only-of-type {\n",
       "        vertical-align: middle;\n",
       "    }\n",
       "\n",
       "    .dataframe tbody tr th {\n",
       "        vertical-align: top;\n",
       "    }\n",
       "\n",
       "    .dataframe thead th {\n",
       "        text-align: right;\n",
       "    }\n",
       "</style>\n",
       "<table border=\"1\" class=\"dataframe\">\n",
       "  <thead>\n",
       "    <tr style=\"text-align: right;\">\n",
       "      <th></th>\n",
       "      <th>workclass</th>\n",
       "      <th>education</th>\n",
       "      <th>marital.status</th>\n",
       "      <th>occupation</th>\n",
       "      <th>relationship</th>\n",
       "      <th>race</th>\n",
       "      <th>sex</th>\n",
       "      <th>native.country</th>\n",
       "      <th>income</th>\n",
       "    </tr>\n",
       "  </thead>\n",
       "  <tbody>\n",
       "    <tr>\n",
       "      <th>1</th>\n",
       "      <td>2</td>\n",
       "      <td>11</td>\n",
       "      <td>6</td>\n",
       "      <td>3</td>\n",
       "      <td>1</td>\n",
       "      <td>4</td>\n",
       "      <td>0</td>\n",
       "      <td>38</td>\n",
       "      <td>0</td>\n",
       "    </tr>\n",
       "    <tr>\n",
       "      <th>3</th>\n",
       "      <td>2</td>\n",
       "      <td>5</td>\n",
       "      <td>0</td>\n",
       "      <td>6</td>\n",
       "      <td>4</td>\n",
       "      <td>4</td>\n",
       "      <td>0</td>\n",
       "      <td>38</td>\n",
       "      <td>0</td>\n",
       "    </tr>\n",
       "    <tr>\n",
       "      <th>4</th>\n",
       "      <td>2</td>\n",
       "      <td>15</td>\n",
       "      <td>5</td>\n",
       "      <td>9</td>\n",
       "      <td>3</td>\n",
       "      <td>4</td>\n",
       "      <td>0</td>\n",
       "      <td>38</td>\n",
       "      <td>0</td>\n",
       "    </tr>\n",
       "    <tr>\n",
       "      <th>5</th>\n",
       "      <td>2</td>\n",
       "      <td>11</td>\n",
       "      <td>0</td>\n",
       "      <td>7</td>\n",
       "      <td>4</td>\n",
       "      <td>4</td>\n",
       "      <td>0</td>\n",
       "      <td>38</td>\n",
       "      <td>0</td>\n",
       "    </tr>\n",
       "    <tr>\n",
       "      <th>6</th>\n",
       "      <td>2</td>\n",
       "      <td>0</td>\n",
       "      <td>5</td>\n",
       "      <td>0</td>\n",
       "      <td>4</td>\n",
       "      <td>4</td>\n",
       "      <td>1</td>\n",
       "      <td>38</td>\n",
       "      <td>0</td>\n",
       "    </tr>\n",
       "  </tbody>\n",
       "</table>\n",
       "</div>"
      ],
      "text/plain": [
       "   workclass  education  marital.status  occupation  relationship  race  sex  \\\n",
       "1          2         11               6           3             1     4    0   \n",
       "3          2          5               0           6             4     4    0   \n",
       "4          2         15               5           9             3     4    0   \n",
       "5          2         11               0           7             4     4    0   \n",
       "6          2          0               5           0             4     4    1   \n",
       "\n",
       "   native.country  income  \n",
       "1              38       0  \n",
       "3              38       0  \n",
       "4              38       0  \n",
       "5              38       0  \n",
       "6              38       0  "
      ]
     },
     "execution_count": 9,
     "metadata": {},
     "output_type": "execute_result"
    }
   ],
   "source": [
    "le = preprocessing.LabelEncoder()\n",
    "df_categorical = df_categorical.apply(le.fit_transform)\n",
    "df_categorical.head()"
   ]
  },
  {
   "cell_type": "code",
   "execution_count": 10,
   "id": "b5855615",
   "metadata": {},
   "outputs": [
    {
     "data": {
      "text/html": [
       "<div>\n",
       "<style scoped>\n",
       "    .dataframe tbody tr th:only-of-type {\n",
       "        vertical-align: middle;\n",
       "    }\n",
       "\n",
       "    .dataframe tbody tr th {\n",
       "        vertical-align: top;\n",
       "    }\n",
       "\n",
       "    .dataframe thead th {\n",
       "        text-align: right;\n",
       "    }\n",
       "</style>\n",
       "<table border=\"1\" class=\"dataframe\">\n",
       "  <thead>\n",
       "    <tr style=\"text-align: right;\">\n",
       "      <th></th>\n",
       "      <th>age</th>\n",
       "      <th>fnlwgt</th>\n",
       "      <th>education.num</th>\n",
       "      <th>capital.gain</th>\n",
       "      <th>capital.loss</th>\n",
       "      <th>hours.per.week</th>\n",
       "      <th>workclass</th>\n",
       "      <th>education</th>\n",
       "      <th>marital.status</th>\n",
       "      <th>occupation</th>\n",
       "      <th>relationship</th>\n",
       "      <th>race</th>\n",
       "      <th>sex</th>\n",
       "      <th>native.country</th>\n",
       "      <th>income</th>\n",
       "    </tr>\n",
       "  </thead>\n",
       "  <tbody>\n",
       "    <tr>\n",
       "      <th>1</th>\n",
       "      <td>82</td>\n",
       "      <td>132870</td>\n",
       "      <td>9</td>\n",
       "      <td>0</td>\n",
       "      <td>4356</td>\n",
       "      <td>18</td>\n",
       "      <td>2</td>\n",
       "      <td>11</td>\n",
       "      <td>6</td>\n",
       "      <td>3</td>\n",
       "      <td>1</td>\n",
       "      <td>4</td>\n",
       "      <td>0</td>\n",
       "      <td>38</td>\n",
       "      <td>0</td>\n",
       "    </tr>\n",
       "    <tr>\n",
       "      <th>3</th>\n",
       "      <td>54</td>\n",
       "      <td>140359</td>\n",
       "      <td>4</td>\n",
       "      <td>0</td>\n",
       "      <td>3900</td>\n",
       "      <td>40</td>\n",
       "      <td>2</td>\n",
       "      <td>5</td>\n",
       "      <td>0</td>\n",
       "      <td>6</td>\n",
       "      <td>4</td>\n",
       "      <td>4</td>\n",
       "      <td>0</td>\n",
       "      <td>38</td>\n",
       "      <td>0</td>\n",
       "    </tr>\n",
       "    <tr>\n",
       "      <th>4</th>\n",
       "      <td>41</td>\n",
       "      <td>264663</td>\n",
       "      <td>10</td>\n",
       "      <td>0</td>\n",
       "      <td>3900</td>\n",
       "      <td>40</td>\n",
       "      <td>2</td>\n",
       "      <td>15</td>\n",
       "      <td>5</td>\n",
       "      <td>9</td>\n",
       "      <td>3</td>\n",
       "      <td>4</td>\n",
       "      <td>0</td>\n",
       "      <td>38</td>\n",
       "      <td>0</td>\n",
       "    </tr>\n",
       "    <tr>\n",
       "      <th>5</th>\n",
       "      <td>34</td>\n",
       "      <td>216864</td>\n",
       "      <td>9</td>\n",
       "      <td>0</td>\n",
       "      <td>3770</td>\n",
       "      <td>45</td>\n",
       "      <td>2</td>\n",
       "      <td>11</td>\n",
       "      <td>0</td>\n",
       "      <td>7</td>\n",
       "      <td>4</td>\n",
       "      <td>4</td>\n",
       "      <td>0</td>\n",
       "      <td>38</td>\n",
       "      <td>0</td>\n",
       "    </tr>\n",
       "    <tr>\n",
       "      <th>6</th>\n",
       "      <td>38</td>\n",
       "      <td>150601</td>\n",
       "      <td>6</td>\n",
       "      <td>0</td>\n",
       "      <td>3770</td>\n",
       "      <td>40</td>\n",
       "      <td>2</td>\n",
       "      <td>0</td>\n",
       "      <td>5</td>\n",
       "      <td>0</td>\n",
       "      <td>4</td>\n",
       "      <td>4</td>\n",
       "      <td>1</td>\n",
       "      <td>38</td>\n",
       "      <td>0</td>\n",
       "    </tr>\n",
       "  </tbody>\n",
       "</table>\n",
       "</div>"
      ],
      "text/plain": [
       "   age  fnlwgt  education.num  capital.gain  capital.loss  hours.per.week  \\\n",
       "1   82  132870              9             0          4356              18   \n",
       "3   54  140359              4             0          3900              40   \n",
       "4   41  264663             10             0          3900              40   \n",
       "5   34  216864              9             0          3770              45   \n",
       "6   38  150601              6             0          3770              40   \n",
       "\n",
       "   workclass  education  marital.status  occupation  relationship  race  sex  \\\n",
       "1          2         11               6           3             1     4    0   \n",
       "3          2          5               0           6             4     4    0   \n",
       "4          2         15               5           9             3     4    0   \n",
       "5          2         11               0           7             4     4    0   \n",
       "6          2          0               5           0             4     4    1   \n",
       "\n",
       "   native.country  income  \n",
       "1              38       0  \n",
       "3              38       0  \n",
       "4              38       0  \n",
       "5              38       0  \n",
       "6              38       0  "
      ]
     },
     "execution_count": 10,
     "metadata": {},
     "output_type": "execute_result"
    }
   ],
   "source": [
    "df = df.drop(df_categorical.columns, axis=1)\n",
    "df = pd.concat([df, df_categorical], axis=1)\n",
    "df.head()"
   ]
  },
  {
   "cell_type": "code",
   "execution_count": 11,
   "id": "2111cbd0",
   "metadata": {},
   "outputs": [
    {
     "data": {
      "text/plain": [
       "1        0\n",
       "3        0\n",
       "4        0\n",
       "5        0\n",
       "6        0\n",
       "        ..\n",
       "32556    0\n",
       "32557    0\n",
       "32558    1\n",
       "32559    0\n",
       "32560    0\n",
       "Name: income, Length: 30162, dtype: category\n",
       "Categories (2, int64): [0, 1]"
      ]
     },
     "execution_count": 11,
     "metadata": {},
     "output_type": "execute_result"
    }
   ],
   "source": [
    "df['income'] = df['income'].astype('category')\n",
    "df['income']"
   ]
  },
  {
   "cell_type": "code",
   "execution_count": 12,
   "id": "7670774f",
   "metadata": {},
   "outputs": [],
   "source": [
    "# Putting feature variable to X\n",
    "X = df.drop('income',axis=1)\n",
    "\n",
    "# Putting response variable to y\n",
    "y = df['income']"
   ]
  },
  {
   "cell_type": "code",
   "execution_count": 13,
   "id": "7e596a08",
   "metadata": {},
   "outputs": [
    {
     "data": {
      "text/plain": [
       "0    22654\n",
       "1     7508\n",
       "Name: income, dtype: int64"
      ]
     },
     "execution_count": 13,
     "metadata": {},
     "output_type": "execute_result"
    }
   ],
   "source": [
    "y.value_counts()"
   ]
  },
  {
   "cell_type": "code",
   "execution_count": 14,
   "id": "4af9d84b",
   "metadata": {},
   "outputs": [
    {
     "data": {
      "text/plain": [
       "((21113, 14), (9049, 14), (21113,), (9049,))"
      ]
     },
     "execution_count": 14,
     "metadata": {},
     "output_type": "execute_result"
    }
   ],
   "source": [
    "# Importing train-test-split \n",
    "from sklearn.model_selection import train_test_split\n",
    "\n",
    "X_train, X_test, y_train, y_test = train_test_split(\n",
    "    X, y, test_size=0.30, random_state = 99\n",
    ")\n",
    "\n",
    "X_train.shape, X_test.shape, y_train.shape, y_test.shape"
   ]
  },
  {
   "cell_type": "code",
   "execution_count": 15,
   "id": "b7b8aba0",
   "metadata": {},
   "outputs": [
    {
     "name": "stdout",
     "output_type": "stream",
     "text": [
      "5326\n",
      "15787\n"
     ]
    }
   ],
   "source": [
    "print(len(y_train[y_train == 1]))\n",
    "print(len(y_train[y_train == 0]))"
   ]
  },
  {
   "cell_type": "code",
   "execution_count": 16,
   "id": "a40310d4",
   "metadata": {},
   "outputs": [],
   "source": [
    "# pip install --user -U scikit-learn==1.2.2"
   ]
  },
  {
   "cell_type": "code",
   "execution_count": 17,
   "id": "5e5ddbad",
   "metadata": {},
   "outputs": [
    {
     "data": {
      "text/plain": [
       "0    15787\n",
       "1    15787\n",
       "Name: income, dtype: int64"
      ]
     },
     "execution_count": 17,
     "metadata": {},
     "output_type": "execute_result"
    }
   ],
   "source": [
    "import imblearn\n",
    "from imblearn.over_sampling import SMOTE\n",
    "\n",
    "smote = SMOTE(sampling_strategy='minority')\n",
    "\n",
    "X_SMOTE, y_SMOTE = smote.fit_resample(X_train, y_train)\n",
    "X_SMOTE = pd.DataFrame(data = X_SMOTE, columns = X_SMOTE.columns)\n",
    "\n",
    "y_SMOTE.value_counts()"
   ]
  },
  {
   "cell_type": "code",
   "execution_count": 18,
   "id": "087a7fc0",
   "metadata": {},
   "outputs": [
    {
     "data": {
      "text/html": [
       "<style>#sk-container-id-1 {color: black;background-color: white;}#sk-container-id-1 pre{padding: 0;}#sk-container-id-1 div.sk-toggleable {background-color: white;}#sk-container-id-1 label.sk-toggleable__label {cursor: pointer;display: block;width: 100%;margin-bottom: 0;padding: 0.3em;box-sizing: border-box;text-align: center;}#sk-container-id-1 label.sk-toggleable__label-arrow:before {content: \"▸\";float: left;margin-right: 0.25em;color: #696969;}#sk-container-id-1 label.sk-toggleable__label-arrow:hover:before {color: black;}#sk-container-id-1 div.sk-estimator:hover label.sk-toggleable__label-arrow:before {color: black;}#sk-container-id-1 div.sk-toggleable__content {max-height: 0;max-width: 0;overflow: hidden;text-align: left;background-color: #f0f8ff;}#sk-container-id-1 div.sk-toggleable__content pre {margin: 0.2em;color: black;border-radius: 0.25em;background-color: #f0f8ff;}#sk-container-id-1 input.sk-toggleable__control:checked~div.sk-toggleable__content {max-height: 200px;max-width: 100%;overflow: auto;}#sk-container-id-1 input.sk-toggleable__control:checked~label.sk-toggleable__label-arrow:before {content: \"▾\";}#sk-container-id-1 div.sk-estimator input.sk-toggleable__control:checked~label.sk-toggleable__label {background-color: #d4ebff;}#sk-container-id-1 div.sk-label input.sk-toggleable__control:checked~label.sk-toggleable__label {background-color: #d4ebff;}#sk-container-id-1 input.sk-hidden--visually {border: 0;clip: rect(1px 1px 1px 1px);clip: rect(1px, 1px, 1px, 1px);height: 1px;margin: -1px;overflow: hidden;padding: 0;position: absolute;width: 1px;}#sk-container-id-1 div.sk-estimator {font-family: monospace;background-color: #f0f8ff;border: 1px dotted black;border-radius: 0.25em;box-sizing: border-box;margin-bottom: 0.5em;}#sk-container-id-1 div.sk-estimator:hover {background-color: #d4ebff;}#sk-container-id-1 div.sk-parallel-item::after {content: \"\";width: 100%;border-bottom: 1px solid gray;flex-grow: 1;}#sk-container-id-1 div.sk-label:hover label.sk-toggleable__label {background-color: #d4ebff;}#sk-container-id-1 div.sk-serial::before {content: \"\";position: absolute;border-left: 1px solid gray;box-sizing: border-box;top: 0;bottom: 0;left: 50%;z-index: 0;}#sk-container-id-1 div.sk-serial {display: flex;flex-direction: column;align-items: center;background-color: white;padding-right: 0.2em;padding-left: 0.2em;position: relative;}#sk-container-id-1 div.sk-item {position: relative;z-index: 1;}#sk-container-id-1 div.sk-parallel {display: flex;align-items: stretch;justify-content: center;background-color: white;position: relative;}#sk-container-id-1 div.sk-item::before, #sk-container-id-1 div.sk-parallel-item::before {content: \"\";position: absolute;border-left: 1px solid gray;box-sizing: border-box;top: 0;bottom: 0;left: 50%;z-index: -1;}#sk-container-id-1 div.sk-parallel-item {display: flex;flex-direction: column;z-index: 1;position: relative;background-color: white;}#sk-container-id-1 div.sk-parallel-item:first-child::after {align-self: flex-end;width: 50%;}#sk-container-id-1 div.sk-parallel-item:last-child::after {align-self: flex-start;width: 50%;}#sk-container-id-1 div.sk-parallel-item:only-child::after {width: 0;}#sk-container-id-1 div.sk-dashed-wrapped {border: 1px dashed gray;margin: 0 0.4em 0.5em 0.4em;box-sizing: border-box;padding-bottom: 0.4em;background-color: white;}#sk-container-id-1 div.sk-label label {font-family: monospace;font-weight: bold;display: inline-block;line-height: 1.2em;}#sk-container-id-1 div.sk-label-container {text-align: center;}#sk-container-id-1 div.sk-container {/* jupyter's `normalize.less` sets `[hidden] { display: none; }` but bootstrap.min.css set `[hidden] { display: none !important; }` so we also need the `!important` here to be able to override the default hidden behavior on the sphinx rendered scikit-learn.org. See: https://github.com/scikit-learn/scikit-learn/issues/21755 */display: inline-block !important;position: relative;}#sk-container-id-1 div.sk-text-repr-fallback {display: none;}</style><div id=\"sk-container-id-1\" class=\"sk-top-container\"><div class=\"sk-text-repr-fallback\"><pre>LogisticRegression()</pre><b>In a Jupyter environment, please rerun this cell to show the HTML representation or trust the notebook. <br />On GitHub, the HTML representation is unable to render, please try loading this page with nbviewer.org.</b></div><div class=\"sk-container\" hidden><div class=\"sk-item\"><div class=\"sk-estimator sk-toggleable\"><input class=\"sk-toggleable__control sk-hidden--visually\" id=\"sk-estimator-id-1\" type=\"checkbox\" checked><label for=\"sk-estimator-id-1\" class=\"sk-toggleable__label sk-toggleable__label-arrow\">LogisticRegression</label><div class=\"sk-toggleable__content\"><pre>LogisticRegression()</pre></div></div></div></div></div>"
      ],
      "text/plain": [
       "LogisticRegression()"
      ]
     },
     "execution_count": 18,
     "metadata": {},
     "output_type": "execute_result"
    }
   ],
   "source": [
    "from sklearn.linear_model import LogisticRegression\n",
    "\n",
    "logmodel = LogisticRegression()\n",
    "logmodel"
   ]
  },
  {
   "cell_type": "code",
   "execution_count": 19,
   "id": "65d3b62b",
   "metadata": {},
   "outputs": [
    {
     "data": {
      "text/html": [
       "<style>#sk-container-id-2 {color: black;background-color: white;}#sk-container-id-2 pre{padding: 0;}#sk-container-id-2 div.sk-toggleable {background-color: white;}#sk-container-id-2 label.sk-toggleable__label {cursor: pointer;display: block;width: 100%;margin-bottom: 0;padding: 0.3em;box-sizing: border-box;text-align: center;}#sk-container-id-2 label.sk-toggleable__label-arrow:before {content: \"▸\";float: left;margin-right: 0.25em;color: #696969;}#sk-container-id-2 label.sk-toggleable__label-arrow:hover:before {color: black;}#sk-container-id-2 div.sk-estimator:hover label.sk-toggleable__label-arrow:before {color: black;}#sk-container-id-2 div.sk-toggleable__content {max-height: 0;max-width: 0;overflow: hidden;text-align: left;background-color: #f0f8ff;}#sk-container-id-2 div.sk-toggleable__content pre {margin: 0.2em;color: black;border-radius: 0.25em;background-color: #f0f8ff;}#sk-container-id-2 input.sk-toggleable__control:checked~div.sk-toggleable__content {max-height: 200px;max-width: 100%;overflow: auto;}#sk-container-id-2 input.sk-toggleable__control:checked~label.sk-toggleable__label-arrow:before {content: \"▾\";}#sk-container-id-2 div.sk-estimator input.sk-toggleable__control:checked~label.sk-toggleable__label {background-color: #d4ebff;}#sk-container-id-2 div.sk-label input.sk-toggleable__control:checked~label.sk-toggleable__label {background-color: #d4ebff;}#sk-container-id-2 input.sk-hidden--visually {border: 0;clip: rect(1px 1px 1px 1px);clip: rect(1px, 1px, 1px, 1px);height: 1px;margin: -1px;overflow: hidden;padding: 0;position: absolute;width: 1px;}#sk-container-id-2 div.sk-estimator {font-family: monospace;background-color: #f0f8ff;border: 1px dotted black;border-radius: 0.25em;box-sizing: border-box;margin-bottom: 0.5em;}#sk-container-id-2 div.sk-estimator:hover {background-color: #d4ebff;}#sk-container-id-2 div.sk-parallel-item::after {content: \"\";width: 100%;border-bottom: 1px solid gray;flex-grow: 1;}#sk-container-id-2 div.sk-label:hover label.sk-toggleable__label {background-color: #d4ebff;}#sk-container-id-2 div.sk-serial::before {content: \"\";position: absolute;border-left: 1px solid gray;box-sizing: border-box;top: 0;bottom: 0;left: 50%;z-index: 0;}#sk-container-id-2 div.sk-serial {display: flex;flex-direction: column;align-items: center;background-color: white;padding-right: 0.2em;padding-left: 0.2em;position: relative;}#sk-container-id-2 div.sk-item {position: relative;z-index: 1;}#sk-container-id-2 div.sk-parallel {display: flex;align-items: stretch;justify-content: center;background-color: white;position: relative;}#sk-container-id-2 div.sk-item::before, #sk-container-id-2 div.sk-parallel-item::before {content: \"\";position: absolute;border-left: 1px solid gray;box-sizing: border-box;top: 0;bottom: 0;left: 50%;z-index: -1;}#sk-container-id-2 div.sk-parallel-item {display: flex;flex-direction: column;z-index: 1;position: relative;background-color: white;}#sk-container-id-2 div.sk-parallel-item:first-child::after {align-self: flex-end;width: 50%;}#sk-container-id-2 div.sk-parallel-item:last-child::after {align-self: flex-start;width: 50%;}#sk-container-id-2 div.sk-parallel-item:only-child::after {width: 0;}#sk-container-id-2 div.sk-dashed-wrapped {border: 1px dashed gray;margin: 0 0.4em 0.5em 0.4em;box-sizing: border-box;padding-bottom: 0.4em;background-color: white;}#sk-container-id-2 div.sk-label label {font-family: monospace;font-weight: bold;display: inline-block;line-height: 1.2em;}#sk-container-id-2 div.sk-label-container {text-align: center;}#sk-container-id-2 div.sk-container {/* jupyter's `normalize.less` sets `[hidden] { display: none; }` but bootstrap.min.css set `[hidden] { display: none !important; }` so we also need the `!important` here to be able to override the default hidden behavior on the sphinx rendered scikit-learn.org. See: https://github.com/scikit-learn/scikit-learn/issues/21755 */display: inline-block !important;position: relative;}#sk-container-id-2 div.sk-text-repr-fallback {display: none;}</style><div id=\"sk-container-id-2\" class=\"sk-top-container\"><div class=\"sk-text-repr-fallback\"><pre>LogisticRegression()</pre><b>In a Jupyter environment, please rerun this cell to show the HTML representation or trust the notebook. <br />On GitHub, the HTML representation is unable to render, please try loading this page with nbviewer.org.</b></div><div class=\"sk-container\" hidden><div class=\"sk-item\"><div class=\"sk-estimator sk-toggleable\"><input class=\"sk-toggleable__control sk-hidden--visually\" id=\"sk-estimator-id-2\" type=\"checkbox\" checked><label for=\"sk-estimator-id-2\" class=\"sk-toggleable__label sk-toggleable__label-arrow\">LogisticRegression</label><div class=\"sk-toggleable__content\"><pre>LogisticRegression()</pre></div></div></div></div></div>"
      ],
      "text/plain": [
       "LogisticRegression()"
      ]
     },
     "execution_count": 19,
     "metadata": {},
     "output_type": "execute_result"
    }
   ],
   "source": [
    "logmodel.fit(X_SMOTE,y_SMOTE)"
   ]
  },
  {
   "cell_type": "code",
   "execution_count": 20,
   "id": "31daf834",
   "metadata": {},
   "outputs": [
    {
     "data": {
      "text/plain": [
       "0.6714385253689745"
      ]
     },
     "execution_count": 20,
     "metadata": {},
     "output_type": "execute_result"
    }
   ],
   "source": [
    "logmodel.score(X_SMOTE,y_SMOTE)"
   ]
  },
  {
   "cell_type": "code",
   "execution_count": 21,
   "id": "07a5487d",
   "metadata": {},
   "outputs": [],
   "source": [
    "predictions = logmodel.predict(X_test)"
   ]
  },
  {
   "cell_type": "code",
   "execution_count": 22,
   "id": "8342c8a1",
   "metadata": {},
   "outputs": [
    {
     "data": {
      "text/html": [
       "<div>\n",
       "<style scoped>\n",
       "    .dataframe tbody tr th:only-of-type {\n",
       "        vertical-align: middle;\n",
       "    }\n",
       "\n",
       "    .dataframe tbody tr th {\n",
       "        vertical-align: top;\n",
       "    }\n",
       "\n",
       "    .dataframe thead th {\n",
       "        text-align: right;\n",
       "    }\n",
       "</style>\n",
       "<table border=\"1\" class=\"dataframe\">\n",
       "  <thead>\n",
       "    <tr style=\"text-align: right;\">\n",
       "      <th></th>\n",
       "      <th>income</th>\n",
       "      <th>predictions</th>\n",
       "    </tr>\n",
       "  </thead>\n",
       "  <tbody>\n",
       "    <tr>\n",
       "      <th>22299</th>\n",
       "      <td>0</td>\n",
       "      <td>0</td>\n",
       "    </tr>\n",
       "    <tr>\n",
       "      <th>22895</th>\n",
       "      <td>0</td>\n",
       "      <td>1</td>\n",
       "    </tr>\n",
       "    <tr>\n",
       "      <th>9048</th>\n",
       "      <td>0</td>\n",
       "      <td>0</td>\n",
       "    </tr>\n",
       "    <tr>\n",
       "      <th>20948</th>\n",
       "      <td>1</td>\n",
       "      <td>1</td>\n",
       "    </tr>\n",
       "    <tr>\n",
       "      <th>25361</th>\n",
       "      <td>0</td>\n",
       "      <td>1</td>\n",
       "    </tr>\n",
       "    <tr>\n",
       "      <th>...</th>\n",
       "      <td>...</td>\n",
       "      <td>...</td>\n",
       "    </tr>\n",
       "    <tr>\n",
       "      <th>22713</th>\n",
       "      <td>0</td>\n",
       "      <td>0</td>\n",
       "    </tr>\n",
       "    <tr>\n",
       "      <th>24718</th>\n",
       "      <td>0</td>\n",
       "      <td>0</td>\n",
       "    </tr>\n",
       "    <tr>\n",
       "      <th>3255</th>\n",
       "      <td>0</td>\n",
       "      <td>1</td>\n",
       "    </tr>\n",
       "    <tr>\n",
       "      <th>25999</th>\n",
       "      <td>0</td>\n",
       "      <td>1</td>\n",
       "    </tr>\n",
       "    <tr>\n",
       "      <th>24937</th>\n",
       "      <td>0</td>\n",
       "      <td>1</td>\n",
       "    </tr>\n",
       "  </tbody>\n",
       "</table>\n",
       "<p>9049 rows × 2 columns</p>\n",
       "</div>"
      ],
      "text/plain": [
       "      income  predictions\n",
       "22299      0            0\n",
       "22895      0            1\n",
       "9048       0            0\n",
       "20948      1            1\n",
       "25361      0            1\n",
       "...      ...          ...\n",
       "22713      0            0\n",
       "24718      0            0\n",
       "3255       0            1\n",
       "25999      0            1\n",
       "24937      0            1\n",
       "\n",
       "[9049 rows x 2 columns]"
      ]
     },
     "execution_count": 22,
     "metadata": {},
     "output_type": "execute_result"
    }
   ],
   "source": [
    "comp_result = pd.DataFrame(y_test)\n",
    "comp_result['predictions']= predictions\n",
    "comp_result"
   ]
  },
  {
   "cell_type": "markdown",
   "id": "871c8c12",
   "metadata": {},
   "source": [
    "### Evaluation Metrics for Classification\n",
    "\n",
    "Classification algorithms are often evaluated using various metrics to assess their performance. Here are some common metrics used in classification:\n",
    "\n",
    "1. Accuracy :\n",
    "\n",
    "The proportion of correctly classified instances out of the total number of instances.\n",
    "\n",
    "$$ Accuracy = \\frac{Correct Predictions}{Number of Instances} $$\n",
    "\n",
    "2. Precision :\n",
    "\n",
    "The proportion of true positive predictions out of all positive predictions made by the model.\n",
    "\n",
    "$$ Precision = \\frac{TP}{TP+FP} $$\n",
    "\n",
    "3. Recall :\n",
    "\n",
    "The proportion of true positive predictions out of all actual positive instances.\n",
    "\n",
    "$$ Recall = \\frac{TP}{TP+FN} $$\n",
    "\n",
    "4. F1 Score :\n",
    "\n",
    "The harmonic mean of precision and recall, providing a balance between the two metrics.\n",
    "\n",
    "$$ F1 = \\frac{Precision * Recall}{Precision + Recall} $$\n",
    "\n",
    "5. Area Under the Receiver Operating Characteristic curve (AUC-ROC) :\n",
    "\n",
    "The area under the curve of the Receiver Operating Characteristic (ROC) plot, which shows the trade-off between sensitivity and specificity at various thresholds.\n",
    "\n",
    "6. Area Under the Precision-Recall curve (AUC-PR) :\n",
    "\n",
    "The area under the curve of the Precision-Recall plot, which shows the trade-off between precision and recall at various probability thresholds.\n",
    "\n",
    "7. Confusion Matrix :\n",
    "\n",
    "A table that summarizes the performance of a classification algorithm, showing the number of True Positives, True Negatives, False Positives, and False Negatives.\n",
    "\n",
    "| Metric | When We Use It? |\n",
    "|--------|-----------------|\n",
    "| Accuracy | Balanced dataset |\n",
    "| Precision | False positives are costly |\n",
    "| Recall | False negatives are costly |\n",
    "| F1 Score | Want both precision and Recall |\n",
    "| AUC-ROC | You want to evaluate the model's ability to discriminate between positive and negative instances across different probability thresholds |\n",
    "| AUC-PR | Precision and recall are both important, and there is an imbalance in class distribution |"
   ]
  },
  {
   "cell_type": "code",
   "execution_count": 23,
   "id": "d76abf3c",
   "metadata": {},
   "outputs": [],
   "source": [
    "from sklearn.metrics import \\\n",
    "     classification_report, confusion_matrix,\\\n",
    "     accuracy_score, precision_score, recall_score, f1_score"
   ]
  },
  {
   "cell_type": "code",
   "execution_count": 24,
   "id": "ed2e80ee",
   "metadata": {},
   "outputs": [
    {
     "name": "stdout",
     "output_type": "stream",
     "text": [
      "The accuracy of the model : 0.6543264449110399\n"
     ]
    }
   ],
   "source": [
    "print(f'The accuracy of the model : {accuracy_score(y_test, predictions)}')"
   ]
  },
  {
   "cell_type": "code",
   "execution_count": 25,
   "id": "8fbd34fd",
   "metadata": {},
   "outputs": [
    {
     "name": "stdout",
     "output_type": "stream",
     "text": [
      "The precision of the model : 0.3834975369458128\n"
     ]
    }
   ],
   "source": [
    "print(f'The precision of the model : {precision_score(y_test, predictions)}')"
   ]
  },
  {
   "cell_type": "code",
   "execution_count": 26,
   "id": "18f3eaf0",
   "metadata": {},
   "outputs": [
    {
     "name": "stdout",
     "output_type": "stream",
     "text": [
      "The recall of the model : 0.7135655362053163\n"
     ]
    }
   ],
   "source": [
    "print(f'The recall of the model : {recall_score(y_test, predictions)}')"
   ]
  },
  {
   "cell_type": "code",
   "execution_count": 27,
   "id": "8575986c",
   "metadata": {},
   "outputs": [
    {
     "name": "stdout",
     "output_type": "stream",
     "text": [
      "The f1 score of the model : 0.4988785645626402\n"
     ]
    }
   ],
   "source": [
    "print(f'The f1 score of the model : {f1_score(y_test, predictions)}')"
   ]
  },
  {
   "cell_type": "code",
   "execution_count": 28,
   "id": "4bc5b7c4",
   "metadata": {},
   "outputs": [
    {
     "name": "stdout",
     "output_type": "stream",
     "text": [
      "The classification report :-\n",
      "[[4364 2503]\n",
      " [ 625 1557]]\n"
     ]
    }
   ],
   "source": [
    "print(f'The classification report :-\\n{confusion_matrix(y_test, predictions)}')"
   ]
  },
  {
   "cell_type": "code",
   "execution_count": 29,
   "id": "fac130c7",
   "metadata": {},
   "outputs": [
    {
     "name": "stdout",
     "output_type": "stream",
     "text": [
      "The confusion matrix :-\n",
      "              precision    recall  f1-score   support\n",
      "\n",
      "           0       0.87      0.64      0.74      6867\n",
      "           1       0.38      0.71      0.50      2182\n",
      "\n",
      "    accuracy                           0.65      9049\n",
      "   macro avg       0.63      0.67      0.62      9049\n",
      "weighted avg       0.76      0.65      0.68      9049\n",
      "\n"
     ]
    }
   ],
   "source": [
    "print(f'The confusion matrix :-\\n{classification_report(y_test, predictions)}')"
   ]
  },
  {
   "cell_type": "markdown",
   "id": "8560c3ca",
   "metadata": {},
   "source": [
    "# 3. Overfitting and Underfitting\n",
    "\n",
    "#### Overfitting\n",
    "\n",
    "Overfitting occurs when a model learns the training data too well, capturing noise or random fluctuations in the data that don't represent the true underlying patterns. As a result, an overfit model performs well on the training set but poorly on new, unseen data.\n",
    "\n",
    "1. The model fits the training data closely, capturing even the noise.\n",
    "2. It may have high complexity, with too many parameters or features.\n",
    "3. Performance on the training set is excellent, but it fails to generalize to new data.\n",
    "\n",
    "#### Underfitting\n",
    "\n",
    "Underfitting occurs when a model is too simple to capture the underlying patterns in the training data. As a result, it performs poorly on both the training set and new, unseen data.\n",
    "\n",
    "1. The model fails to capture the underlying trends in the data.\n",
    "2. It may be too simple, with too few parameters or features.\n",
    "3. Poor performance on both training and validation/test sets.\n",
    "\n",
    "<img src=\"https://encrypted-tbn0.gstatic.com/images?q=tbn:ANd9GcS31ABP2wFATMvewUBphv80TF0noUjimLTDNA&usqp=CAU\">\n",
    "\n",
    "<img src=\"data:image/png;base64,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\">\n",
    "\n",
    "#### Handling Overfitting and Underfitting:\n",
    "\n",
    "Finding the right balance between overfitting and underfitting is crucial for building a model that generalizes well to new, unseen data. This often involves:\n",
    "\n",
    "1. Collect more data : To reduce noice data and gereanlize the dataset perfectly.\n",
    "\n",
    "2. Feature engineering : Create new features or select the best features again.\n",
    "\n",
    "3. Regularization : Reduce the size of wights (parameters).\n",
    "\n",
    "4. Ensemble methods : Another type of learning (we will discuss this concept later).\n",
    "\n",
    "5. Cross-validation : Another method of evaluating the models (we will discuss this later)."
   ]
  },
  {
   "cell_type": "markdown",
   "id": "97d7bc9d",
   "metadata": {},
   "source": [
    "### Regulerization\n",
    "\n",
    "Regularization is a technique used in machine learning to prevent overfitting by adding a penalty term to the loss function. The purpose of regularization is to discourage the learning algorithm from fitting the training data too closely, especially when the model is complex and has a large number of parameters. This helps improve the model's ability to generalize to new, unseen data."
   ]
  },
  {
   "cell_type": "markdown",
   "id": "64d840d0",
   "metadata": {},
   "source": [
    "### Ridge and Lasso Penalties\n",
    "\n",
    "There are two common types of regularization: L1 regularization (Lasso) and L2 regularization (Ridge).\n",
    "\n",
    "#### L1 Regularization (Lasso):\n",
    "\n",
    "L1 regularization, the penalty term added to the loss function is the absolute sum of the model's coefficients (parameters) multiplied by a regularization parameter (lambda).\n",
    "\n",
    "That when we update the wights, we add some loss value to our model to make it more gerenal.\n",
    "\n",
    "The equation that will added to the cost function is\n",
    "\n",
    "$$ \\lambda \\sum \\limits _{i=1} ^{n} \\left\\lvert \\beta_{i} \\right\\rvert $$\n",
    "\n",
    "Let us take the linear regression algorithm cost function as example\n",
    "\n",
    "In the gradient descent will be as follows :\n",
    "\n",
    "$$\n",
    "\\begin{align*} \\text{repeat}&\\text{ until reach minimum:} \\; \\lbrace \\newline\n",
    "\\;  \\beta_{0} &= \\beta_{0} -  \\alpha \\frac{\\partial J(\\beta_{0},\\beta_{0})}{\\partial \\beta_{0}} \\tag{1}  \\; \\newline \n",
    " \\beta_{1} &= \\beta_{1} -  \\alpha \\frac{\\partial J(\\beta_{0},\\beta_{1})}{\\partial \\beta_{1}}  \\newline \\rbrace\n",
    "\\end{align*}\n",
    "$$\n",
    "\n",
    "$$\n",
    "\\begin{align}\n",
    "\\frac{\\partial J(\\beta_{0},\\beta_{1})}{\\partial \\beta_{0}}  &= \\sum\\limits_{i = 1}^{n} ((y_{(i)} - \\hat{y}_{(i)}) x_{i}) + \\lambda \\sum \\limits _{i=1} ^{n} \\left\\lvert \\beta_{i} \\right\\rvert \\tag{2}\\\\\n",
    "  \\frac{\\partial J(\\beta_{0},\\beta_{1})}{\\partial \\beta_{1}}  &= \\sum\\limits_{i = 1}^{n} (y_{(i)} - \\hat{y}_{(i)}) \\tag{3}\\\\\n",
    "\\end{align}\n",
    "$$\n",
    "\n",
    "#### L2 Regularization (Ridge):\n",
    "\n",
    "In L2 regularization, the penalty term is the squared sum of the model's coefficients (parameters) multiplied by a regularization parameter (lambda).\n",
    "\n",
    "Same as L1, when we update the wights, we add some loss value to our model to make it more gerenal.\n",
    "\n",
    "The equation that will added to the cost function is\n",
    "\n",
    "$$ \\lambda \\sum \\limits _{i=1} ^{n} \\beta_{i}^2 $$\n",
    "\n",
    "Let us take the linear regression algorithm cost function as example\n",
    "\n",
    "In the gradient descent will be as follows :\n",
    "\n",
    "$$\n",
    "\\begin{align*} \\text{repeat}&\\text{ until reach minimum:} \\; \\lbrace \\newline\n",
    "\\;  \\beta_{0} &= \\beta_{0} -  \\alpha \\frac{\\partial J(\\beta_{0},\\beta_{0})}{\\partial \\beta_{0}} \\tag{1}  \\; \\newline \n",
    " \\beta_{1} &= \\beta_{1} -  \\alpha \\frac{\\partial J(\\beta_{0},\\beta_{1})}{\\partial \\beta_{1}}  \\newline \\rbrace\n",
    "\\end{align*}\n",
    "$$\n",
    "\n",
    "$$\n",
    "\\begin{align}\n",
    "\\frac{\\partial J(\\beta_{0},\\beta_{1})}{\\partial \\beta_{0}}  &= \\sum\\limits_{i = 1}^{n} ((y_{(i)} - \\hat{y}_{(i)}) x_{i}) + \\lambda \\sum \\limits _{i=1} ^{n} \\beta_{i}^2 \\tag{2}\\\\\n",
    "  \\frac{\\partial J(\\beta_{0},\\beta_{1})}{\\partial \\beta_{1}}  &= \\sum\\limits_{i = 1}^{n} (y_{(i)} - \\hat{y}_{(i)}) \\tag{3}\\\\\n",
    "\\end{align}\n",
    "$$\n",
    "\n",
    "Note that the bias value (y intercept) does not take the Regularization loss function, because it is one parameter always.\n",
    "\n",
    "Regularization is a technique used in machine learning to prevent overfitting and improve the generalization ability of a model. Overfitting occurs when a model fits the training data too closely, capturing noise or random fluctuations that don't represent the true underlying patterns in the data. Regularization addresses this issue by adding a penalty term to the model's loss function, discouraging the learning algorithm from fitting the training data too well."
   ]
  },
  {
   "cell_type": "markdown",
   "id": "e1994e44",
   "metadata": {},
   "source": [
    "### Training Regulerization Regressions using Sklearn"
   ]
  },
  {
   "cell_type": "code",
   "execution_count": 30,
   "id": "f998ec46",
   "metadata": {},
   "outputs": [],
   "source": [
    "from sklearn.linear_model import Ridge\n",
    "from sklearn.metrics import mean_squared_error"
   ]
  },
  {
   "cell_type": "code",
   "execution_count": 31,
   "id": "e1f1219c",
   "metadata": {},
   "outputs": [],
   "source": [
    "np.random.seed(42)\n",
    "X = 2 * np.random.rand(100, 1)\n",
    "y = 5 + 3 * X + 1.5 * X**2 + 2 * np.random.randn(100, 1)"
   ]
  },
  {
   "cell_type": "code",
   "execution_count": 32,
   "id": "38eb0304",
   "metadata": {},
   "outputs": [],
   "source": [
    "X_train, X_test, y_train, y_test = train_test_split(X, y, test_size=0.2, random_state=42)"
   ]
  },
  {
   "cell_type": "code",
   "execution_count": 33,
   "id": "34042be6",
   "metadata": {},
   "outputs": [
    {
     "data": {
      "text/html": [
       "<style>#sk-container-id-3 {color: black;background-color: white;}#sk-container-id-3 pre{padding: 0;}#sk-container-id-3 div.sk-toggleable {background-color: white;}#sk-container-id-3 label.sk-toggleable__label {cursor: pointer;display: block;width: 100%;margin-bottom: 0;padding: 0.3em;box-sizing: border-box;text-align: center;}#sk-container-id-3 label.sk-toggleable__label-arrow:before {content: \"▸\";float: left;margin-right: 0.25em;color: #696969;}#sk-container-id-3 label.sk-toggleable__label-arrow:hover:before {color: black;}#sk-container-id-3 div.sk-estimator:hover label.sk-toggleable__label-arrow:before {color: black;}#sk-container-id-3 div.sk-toggleable__content {max-height: 0;max-width: 0;overflow: hidden;text-align: left;background-color: #f0f8ff;}#sk-container-id-3 div.sk-toggleable__content pre {margin: 0.2em;color: black;border-radius: 0.25em;background-color: #f0f8ff;}#sk-container-id-3 input.sk-toggleable__control:checked~div.sk-toggleable__content {max-height: 200px;max-width: 100%;overflow: auto;}#sk-container-id-3 input.sk-toggleable__control:checked~label.sk-toggleable__label-arrow:before {content: \"▾\";}#sk-container-id-3 div.sk-estimator input.sk-toggleable__control:checked~label.sk-toggleable__label {background-color: #d4ebff;}#sk-container-id-3 div.sk-label input.sk-toggleable__control:checked~label.sk-toggleable__label {background-color: #d4ebff;}#sk-container-id-3 input.sk-hidden--visually {border: 0;clip: rect(1px 1px 1px 1px);clip: rect(1px, 1px, 1px, 1px);height: 1px;margin: -1px;overflow: hidden;padding: 0;position: absolute;width: 1px;}#sk-container-id-3 div.sk-estimator {font-family: monospace;background-color: #f0f8ff;border: 1px dotted black;border-radius: 0.25em;box-sizing: border-box;margin-bottom: 0.5em;}#sk-container-id-3 div.sk-estimator:hover {background-color: #d4ebff;}#sk-container-id-3 div.sk-parallel-item::after {content: \"\";width: 100%;border-bottom: 1px solid gray;flex-grow: 1;}#sk-container-id-3 div.sk-label:hover label.sk-toggleable__label {background-color: #d4ebff;}#sk-container-id-3 div.sk-serial::before {content: \"\";position: absolute;border-left: 1px solid gray;box-sizing: border-box;top: 0;bottom: 0;left: 50%;z-index: 0;}#sk-container-id-3 div.sk-serial {display: flex;flex-direction: column;align-items: center;background-color: white;padding-right: 0.2em;padding-left: 0.2em;position: relative;}#sk-container-id-3 div.sk-item {position: relative;z-index: 1;}#sk-container-id-3 div.sk-parallel {display: flex;align-items: stretch;justify-content: center;background-color: white;position: relative;}#sk-container-id-3 div.sk-item::before, #sk-container-id-3 div.sk-parallel-item::before {content: \"\";position: absolute;border-left: 1px solid gray;box-sizing: border-box;top: 0;bottom: 0;left: 50%;z-index: -1;}#sk-container-id-3 div.sk-parallel-item {display: flex;flex-direction: column;z-index: 1;position: relative;background-color: white;}#sk-container-id-3 div.sk-parallel-item:first-child::after {align-self: flex-end;width: 50%;}#sk-container-id-3 div.sk-parallel-item:last-child::after {align-self: flex-start;width: 50%;}#sk-container-id-3 div.sk-parallel-item:only-child::after {width: 0;}#sk-container-id-3 div.sk-dashed-wrapped {border: 1px dashed gray;margin: 0 0.4em 0.5em 0.4em;box-sizing: border-box;padding-bottom: 0.4em;background-color: white;}#sk-container-id-3 div.sk-label label {font-family: monospace;font-weight: bold;display: inline-block;line-height: 1.2em;}#sk-container-id-3 div.sk-label-container {text-align: center;}#sk-container-id-3 div.sk-container {/* jupyter's `normalize.less` sets `[hidden] { display: none; }` but bootstrap.min.css set `[hidden] { display: none !important; }` so we also need the `!important` here to be able to override the default hidden behavior on the sphinx rendered scikit-learn.org. See: https://github.com/scikit-learn/scikit-learn/issues/21755 */display: inline-block !important;position: relative;}#sk-container-id-3 div.sk-text-repr-fallback {display: none;}</style><div id=\"sk-container-id-3\" class=\"sk-top-container\"><div class=\"sk-text-repr-fallback\"><pre>Ridge(alpha=0)</pre><b>In a Jupyter environment, please rerun this cell to show the HTML representation or trust the notebook. <br />On GitHub, the HTML representation is unable to render, please try loading this page with nbviewer.org.</b></div><div class=\"sk-container\" hidden><div class=\"sk-item\"><div class=\"sk-estimator sk-toggleable\"><input class=\"sk-toggleable__control sk-hidden--visually\" id=\"sk-estimator-id-3\" type=\"checkbox\" checked><label for=\"sk-estimator-id-3\" class=\"sk-toggleable__label sk-toggleable__label-arrow\">Ridge</label><div class=\"sk-toggleable__content\"><pre>Ridge(alpha=0)</pre></div></div></div></div></div>"
      ],
      "text/plain": [
       "Ridge(alpha=0)"
      ]
     },
     "execution_count": 33,
     "metadata": {},
     "output_type": "execute_result"
    }
   ],
   "source": [
    "model_overfit = Ridge(alpha=0) # Lambda\n",
    "model_overfit.fit(X_train, y_train)"
   ]
  },
  {
   "cell_type": "code",
   "execution_count": 34,
   "id": "1256687d",
   "metadata": {},
   "outputs": [],
   "source": [
    "y_pred_overfit = model_overfit.predict(X_test)"
   ]
  },
  {
   "cell_type": "code",
   "execution_count": 35,
   "id": "8c338b6d",
   "metadata": {},
   "outputs": [],
   "source": [
    "mse_overfit = mean_squared_error(y_test, y_pred_overfit)"
   ]
  },
  {
   "cell_type": "code",
   "execution_count": 36,
   "id": "f921ea40",
   "metadata": {},
   "outputs": [
    {
     "data": {
      "image/png": "[encoded data removed]",
      "text/plain": [
       "<Figure size 432x288 with 1 Axes>"
      ]
     },
     "metadata": {
      "needs_background": "light"
     },
     "output_type": "display_data"
    }
   ],
   "source": [
    "plt.scatter(X, y, label='Training data')\n",
    "x_range = np.linspace(0, 2, 100).reshape(-1, 1)\n",
    "y_range_overfit = model_overfit.predict(x_range)\n",
    "plt.plot(x_range, y_range_overfit, color='red', label='Regression line')\n",
    "plt.title('Overfitting (No Regularization)')\n",
    "plt.xlabel('X')\n",
    "plt.ylabel('y')\n",
    "plt.legend()\n",
    "plt.show();"
   ]
  },
  {
   "cell_type": "code",
   "execution_count": 37,
   "id": "ce25fb9a",
   "metadata": {},
   "outputs": [
    {
     "name": "stdout",
     "output_type": "stream",
     "text": [
      "Overfitting (No Regularization) Model Evaluation:\n",
      "Mean Squared Error: 3.01\n"
     ]
    }
   ],
   "source": [
    "print(\"Overfitting (No Regularization) Model Evaluation:\")\n",
    "print(f'Mean Squared Error: {mse_overfit:.2f}')"
   ]
  },
  {
   "cell_type": "code",
   "execution_count": 38,
   "id": "c34fb423",
   "metadata": {},
   "outputs": [
    {
     "data": {
      "text/html": [
       "<style>#sk-container-id-4 {color: black;background-color: white;}#sk-container-id-4 pre{padding: 0;}#sk-container-id-4 div.sk-toggleable {background-color: white;}#sk-container-id-4 label.sk-toggleable__label {cursor: pointer;display: block;width: 100%;margin-bottom: 0;padding: 0.3em;box-sizing: border-box;text-align: center;}#sk-container-id-4 label.sk-toggleable__label-arrow:before {content: \"▸\";float: left;margin-right: 0.25em;color: #696969;}#sk-container-id-4 label.sk-toggleable__label-arrow:hover:before {color: black;}#sk-container-id-4 div.sk-estimator:hover label.sk-toggleable__label-arrow:before {color: black;}#sk-container-id-4 div.sk-toggleable__content {max-height: 0;max-width: 0;overflow: hidden;text-align: left;background-color: #f0f8ff;}#sk-container-id-4 div.sk-toggleable__content pre {margin: 0.2em;color: black;border-radius: 0.25em;background-color: #f0f8ff;}#sk-container-id-4 input.sk-toggleable__control:checked~div.sk-toggleable__content {max-height: 200px;max-width: 100%;overflow: auto;}#sk-container-id-4 input.sk-toggleable__control:checked~label.sk-toggleable__label-arrow:before {content: \"▾\";}#sk-container-id-4 div.sk-estimator input.sk-toggleable__control:checked~label.sk-toggleable__label {background-color: #d4ebff;}#sk-container-id-4 div.sk-label input.sk-toggleable__control:checked~label.sk-toggleable__label {background-color: #d4ebff;}#sk-container-id-4 input.sk-hidden--visually {border: 0;clip: rect(1px 1px 1px 1px);clip: rect(1px, 1px, 1px, 1px);height: 1px;margin: -1px;overflow: hidden;padding: 0;position: absolute;width: 1px;}#sk-container-id-4 div.sk-estimator {font-family: monospace;background-color: #f0f8ff;border: 1px dotted black;border-radius: 0.25em;box-sizing: border-box;margin-bottom: 0.5em;}#sk-container-id-4 div.sk-estimator:hover {background-color: #d4ebff;}#sk-container-id-4 div.sk-parallel-item::after {content: \"\";width: 100%;border-bottom: 1px solid gray;flex-grow: 1;}#sk-container-id-4 div.sk-label:hover label.sk-toggleable__label {background-color: #d4ebff;}#sk-container-id-4 div.sk-serial::before {content: \"\";position: absolute;border-left: 1px solid gray;box-sizing: border-box;top: 0;bottom: 0;left: 50%;z-index: 0;}#sk-container-id-4 div.sk-serial {display: flex;flex-direction: column;align-items: center;background-color: white;padding-right: 0.2em;padding-left: 0.2em;position: relative;}#sk-container-id-4 div.sk-item {position: relative;z-index: 1;}#sk-container-id-4 div.sk-parallel {display: flex;align-items: stretch;justify-content: center;background-color: white;position: relative;}#sk-container-id-4 div.sk-item::before, #sk-container-id-4 div.sk-parallel-item::before {content: \"\";position: absolute;border-left: 1px solid gray;box-sizing: border-box;top: 0;bottom: 0;left: 50%;z-index: -1;}#sk-container-id-4 div.sk-parallel-item {display: flex;flex-direction: column;z-index: 1;position: relative;background-color: white;}#sk-container-id-4 div.sk-parallel-item:first-child::after {align-self: flex-end;width: 50%;}#sk-container-id-4 div.sk-parallel-item:last-child::after {align-self: flex-start;width: 50%;}#sk-container-id-4 div.sk-parallel-item:only-child::after {width: 0;}#sk-container-id-4 div.sk-dashed-wrapped {border: 1px dashed gray;margin: 0 0.4em 0.5em 0.4em;box-sizing: border-box;padding-bottom: 0.4em;background-color: white;}#sk-container-id-4 div.sk-label label {font-family: monospace;font-weight: bold;display: inline-block;line-height: 1.2em;}#sk-container-id-4 div.sk-label-container {text-align: center;}#sk-container-id-4 div.sk-container {/* jupyter's `normalize.less` sets `[hidden] { display: none; }` but bootstrap.min.css set `[hidden] { display: none !important; }` so we also need the `!important` here to be able to override the default hidden behavior on the sphinx rendered scikit-learn.org. See: https://github.com/scikit-learn/scikit-learn/issues/21755 */display: inline-block !important;position: relative;}#sk-container-id-4 div.sk-text-repr-fallback {display: none;}</style><div id=\"sk-container-id-4\" class=\"sk-top-container\"><div class=\"sk-text-repr-fallback\"><pre>Ridge()</pre><b>In a Jupyter environment, please rerun this cell to show the HTML representation or trust the notebook. <br />On GitHub, the HTML representation is unable to render, please try loading this page with nbviewer.org.</b></div><div class=\"sk-container\" hidden><div class=\"sk-item\"><div class=\"sk-estimator sk-toggleable\"><input class=\"sk-toggleable__control sk-hidden--visually\" id=\"sk-estimator-id-4\" type=\"checkbox\" checked><label for=\"sk-estimator-id-4\" class=\"sk-toggleable__label sk-toggleable__label-arrow\">Ridge</label><div class=\"sk-toggleable__content\"><pre>Ridge()</pre></div></div></div></div></div>"
      ],
      "text/plain": [
       "Ridge()"
      ]
     },
     "execution_count": 38,
     "metadata": {},
     "output_type": "execute_result"
    }
   ],
   "source": [
    "model_regularized = Ridge(alpha=1.0) # Lambda\n",
    "model_regularized.fit(X_train, y_train)"
   ]
  },
  {
   "cell_type": "code",
   "execution_count": 39,
   "id": "1fcc609d",
   "metadata": {},
   "outputs": [],
   "source": [
    "y_pred_regularized = model_regularized.predict(X_test)"
   ]
  },
  {
   "cell_type": "code",
   "execution_count": 40,
   "id": "2f112eff",
   "metadata": {},
   "outputs": [],
   "source": [
    "mse_regularized = mean_squared_error(y_test, y_pred_regularized)"
   ]
  },
  {
   "cell_type": "code",
   "execution_count": 41,
   "id": "40e04740",
   "metadata": {},
   "outputs": [
    {
     "data": {
      "image/png": "[encoded data removed]",
      "text/plain": [
       "<Figure size 432x288 with 1 Axes>"
      ]
     },
     "metadata": {
      "needs_background": "light"
     },
     "output_type": "display_data"
    }
   ],
   "source": [
    "plt.scatter(X, y, label='Training data')\n",
    "y_range_regularized = model_regularized.predict(x_range)\n",
    "plt.plot(x_range, y_range_regularized, color='red', label='Regression line')\n",
    "plt.title('Regularized Model (L2 Regularization)')\n",
    "plt.xlabel('X')\n",
    "plt.ylabel('y')\n",
    "plt.legend()\n",
    "plt.show();"
   ]
  },
  {
   "cell_type": "code",
   "execution_count": 42,
   "id": "e133b618",
   "metadata": {},
   "outputs": [
    {
     "name": "stdout",
     "output_type": "stream",
     "text": [
      "\n",
      "Regularized Model (L2 Regularization) Evaluation:\n",
      "Mean Squared Error: 2.98\n"
     ]
    }
   ],
   "source": [
    "print(\"\\nRegularized Model (L2 Regularization) Evaluation:\")\n",
    "print(f'Mean Squared Error: {mse_regularized:.2f}')"
   ]
  },
  {
   "cell_type": "code",
   "execution_count": null,
   "id": "1df5cc6b",
   "metadata": {},
   "outputs": [],
   "source": []
  }
 ],
 "metadata": {
  "kernelspec": {
   "display_name": "Python 3 (ipykernel)",
   "language": "python",
   "name": "python3"
  },
  "language_info": {
   "codemirror_mode": {
    "name": "ipython",
    "version": 3
   },
   "file_extension": ".py",
   "mimetype": "text/x-python",
   "name": "python",
   "nbconvert_exporter": "python",
   "pygments_lexer": "ipython3",
   "version": "3.9.12"
  }
 },
 "nbformat": 4,
 "nbformat_minor": 5
}
