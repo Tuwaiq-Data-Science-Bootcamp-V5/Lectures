{
 "cells": [
  {
   "cell_type": "markdown",
   "id": "7f0a3f72",
   "metadata": {},
   "source": [
    "# Import Libraries"
   ]
  },
  {
   "cell_type": "code",
   "execution_count": 1,
   "id": "d88d71bc",
   "metadata": {},
   "outputs": [
    {
     "name": "stdout",
     "output_type": "stream",
     "text": [
      "Libraries used in this project:\n",
      "- Python 3.9.12 (main, Apr  4 2022, 05:22:27) [MSC v.1916 64 bit (AMD64)]\n",
      "- NumPy 1.26.1\n",
      "- pandas 1.5.3\n",
      "- Matplotlib 3.8.0\n",
      "- Seaborn 0.11.2\n"
     ]
    }
   ],
   "source": [
    "import sys                                                  # Read system parameters.\n",
    "import numpy as np                                          # Work with multi-dimensional arrays.\n",
    "import pandas as pd                                         # Manipulate and analyze data.\n",
    "import matplotlib                                           # Create and format charts.\n",
    "import matplotlib.pyplot as plt  \n",
    "import seaborn as sns                                       # Make charting easier.\n",
    "\n",
    "import warnings                                             # Suppress warnings.\n",
    "warnings.filterwarnings('ignore')\n",
    "\n",
    "print('Libraries used in this project:')\n",
    "print('- Python {}'.format(sys.version))\n",
    "print('- NumPy {}'.format(np.__version__))\n",
    "print('- pandas {}'.format(pd.__version__))\n",
    "print('- Matplotlib {}'.format(matplotlib.__version__))\n",
    "print('- Seaborn {}'.format(sns.__version__))"
   ]
  },
  {
   "cell_type": "markdown",
   "id": "5312dbf5",
   "metadata": {},
   "source": [
    "# Load the Dataset"
   ]
  },
  {
   "cell_type": "code",
   "execution_count": 2,
   "id": "06c7d369",
   "metadata": {},
   "outputs": [
    {
     "data": {
      "text/html": [
       "<div>\n",
       "<style scoped>\n",
       "    .dataframe tbody tr th:only-of-type {\n",
       "        vertical-align: middle;\n",
       "    }\n",
       "\n",
       "    .dataframe tbody tr th {\n",
       "        vertical-align: top;\n",
       "    }\n",
       "\n",
       "    .dataframe thead th {\n",
       "        text-align: right;\n",
       "    }\n",
       "</style>\n",
       "<table border=\"1\" class=\"dataframe\">\n",
       "  <thead>\n",
       "    <tr style=\"text-align: right;\">\n",
       "      <th></th>\n",
       "      <th>user_id</th>\n",
       "      <th>number_transactions</th>\n",
       "      <th>total_amount_usd</th>\n",
       "      <th>age</th>\n",
       "      <th>job</th>\n",
       "      <th>marital</th>\n",
       "      <th>education</th>\n",
       "      <th>default</th>\n",
       "      <th>housing</th>\n",
       "      <th>loan</th>\n",
       "      <th>contact</th>\n",
       "      <th>duration</th>\n",
       "      <th>campaign</th>\n",
       "      <th>pdays</th>\n",
       "      <th>previous</th>\n",
       "      <th>poutcome</th>\n",
       "      <th>term_deposit</th>\n",
       "      <th>date_joined</th>\n",
       "      <th>device</th>\n",
       "    </tr>\n",
       "  </thead>\n",
       "  <tbody>\n",
       "    <tr>\n",
       "      <th>0</th>\n",
       "      <td>9231c446-cb16-4b2b-a7f7-ddfc8b25aaf6</td>\n",
       "      <td>3.0</td>\n",
       "      <td>2143.0</td>\n",
       "      <td>58</td>\n",
       "      <td>management</td>\n",
       "      <td>married</td>\n",
       "      <td>tertiary</td>\n",
       "      <td>False</td>\n",
       "      <td>True</td>\n",
       "      <td>False</td>\n",
       "      <td>None</td>\n",
       "      <td>261</td>\n",
       "      <td>1</td>\n",
       "      <td>-1</td>\n",
       "      <td>0</td>\n",
       "      <td>None</td>\n",
       "      <td>False</td>\n",
       "      <td>1998-08-23</td>\n",
       "      <td>mobile</td>\n",
       "    </tr>\n",
       "    <tr>\n",
       "      <th>1</th>\n",
       "      <td>bb92765a-08de-4963-b432-496524b39157</td>\n",
       "      <td>NaN</td>\n",
       "      <td>NaN</td>\n",
       "      <td>44</td>\n",
       "      <td>technician</td>\n",
       "      <td>single</td>\n",
       "      <td>secondary</td>\n",
       "      <td>False</td>\n",
       "      <td>True</td>\n",
       "      <td>False</td>\n",
       "      <td>None</td>\n",
       "      <td>151</td>\n",
       "      <td>1</td>\n",
       "      <td>-1</td>\n",
       "      <td>0</td>\n",
       "      <td>None</td>\n",
       "      <td>False</td>\n",
       "      <td>2008-07-15</td>\n",
       "      <td>desktop</td>\n",
       "    </tr>\n",
       "    <tr>\n",
       "      <th>2</th>\n",
       "      <td>573de577-49ef-42b9-83da-d3cfb817b5c1</td>\n",
       "      <td>2.0</td>\n",
       "      <td>2.0</td>\n",
       "      <td>33</td>\n",
       "      <td>entrepreneur</td>\n",
       "      <td>married</td>\n",
       "      <td>secondary</td>\n",
       "      <td>False</td>\n",
       "      <td>True</td>\n",
       "      <td>True</td>\n",
       "      <td>None</td>\n",
       "      <td>76</td>\n",
       "      <td>1</td>\n",
       "      <td>-1</td>\n",
       "      <td>0</td>\n",
       "      <td>None</td>\n",
       "      <td>False</td>\n",
       "      <td>2002-06-04</td>\n",
       "      <td>mobile</td>\n",
       "    </tr>\n",
       "    <tr>\n",
       "      <th>3</th>\n",
       "      <td>d6b66b9d-7c8f-4257-a682-e136f640b7e3</td>\n",
       "      <td>NaN</td>\n",
       "      <td>NaN</td>\n",
       "      <td>47</td>\n",
       "      <td>blue-collar</td>\n",
       "      <td>married</td>\n",
       "      <td>None</td>\n",
       "      <td>False</td>\n",
       "      <td>True</td>\n",
       "      <td>False</td>\n",
       "      <td>None</td>\n",
       "      <td>92</td>\n",
       "      <td>1</td>\n",
       "      <td>-1</td>\n",
       "      <td>0</td>\n",
       "      <td>None</td>\n",
       "      <td>False</td>\n",
       "      <td>1995-06-29</td>\n",
       "      <td>tablet</td>\n",
       "    </tr>\n",
       "    <tr>\n",
       "      <th>4</th>\n",
       "      <td>fade0b20-7594-4d9a-84cd-c02f79b1b526</td>\n",
       "      <td>1.0</td>\n",
       "      <td>1.0</td>\n",
       "      <td>33</td>\n",
       "      <td>None</td>\n",
       "      <td>single</td>\n",
       "      <td>None</td>\n",
       "      <td>False</td>\n",
       "      <td>False</td>\n",
       "      <td>False</td>\n",
       "      <td>None</td>\n",
       "      <td>198</td>\n",
       "      <td>1</td>\n",
       "      <td>-1</td>\n",
       "      <td>0</td>\n",
       "      <td>None</td>\n",
       "      <td>False</td>\n",
       "      <td>1995-08-01</td>\n",
       "      <td>mobile</td>\n",
       "    </tr>\n",
       "    <tr>\n",
       "      <th>...</th>\n",
       "      <td>...</td>\n",
       "      <td>...</td>\n",
       "      <td>...</td>\n",
       "      <td>...</td>\n",
       "      <td>...</td>\n",
       "      <td>...</td>\n",
       "      <td>...</td>\n",
       "      <td>...</td>\n",
       "      <td>...</td>\n",
       "      <td>...</td>\n",
       "      <td>...</td>\n",
       "      <td>...</td>\n",
       "      <td>...</td>\n",
       "      <td>...</td>\n",
       "      <td>...</td>\n",
       "      <td>...</td>\n",
       "      <td>...</td>\n",
       "      <td>...</td>\n",
       "      <td>...</td>\n",
       "    </tr>\n",
       "    <tr>\n",
       "      <th>45211</th>\n",
       "      <td>a218c1d6-880a-4431-a314-a1bd3dc36b21</td>\n",
       "      <td>2.0</td>\n",
       "      <td>825.0</td>\n",
       "      <td>51</td>\n",
       "      <td>technician</td>\n",
       "      <td>married</td>\n",
       "      <td>tertiary</td>\n",
       "      <td>False</td>\n",
       "      <td>False</td>\n",
       "      <td>False</td>\n",
       "      <td>cellular</td>\n",
       "      <td>977</td>\n",
       "      <td>3</td>\n",
       "      <td>-1</td>\n",
       "      <td>0</td>\n",
       "      <td>None</td>\n",
       "      <td>True</td>\n",
       "      <td>2002-12-28</td>\n",
       "      <td>desktop</td>\n",
       "    </tr>\n",
       "    <tr>\n",
       "      <th>45212</th>\n",
       "      <td>6a6bf402-9416-4e71-97c6-727e8298a3a5</td>\n",
       "      <td>4.0</td>\n",
       "      <td>1729.0</td>\n",
       "      <td>71</td>\n",
       "      <td>retired</td>\n",
       "      <td>divorced</td>\n",
       "      <td>primary</td>\n",
       "      <td>False</td>\n",
       "      <td>False</td>\n",
       "      <td>False</td>\n",
       "      <td>cellular</td>\n",
       "      <td>456</td>\n",
       "      <td>2</td>\n",
       "      <td>-1</td>\n",
       "      <td>0</td>\n",
       "      <td>None</td>\n",
       "      <td>True</td>\n",
       "      <td>2010-11-18</td>\n",
       "      <td>desktop</td>\n",
       "    </tr>\n",
       "    <tr>\n",
       "      <th>45213</th>\n",
       "      <td>be32ba96-b178-4b54-b32a-f75b714793df</td>\n",
       "      <td>2.0</td>\n",
       "      <td>5715.0</td>\n",
       "      <td>72</td>\n",
       "      <td>retired</td>\n",
       "      <td>married</td>\n",
       "      <td>secondary</td>\n",
       "      <td>False</td>\n",
       "      <td>False</td>\n",
       "      <td>False</td>\n",
       "      <td>cellular</td>\n",
       "      <td>1127</td>\n",
       "      <td>5</td>\n",
       "      <td>184</td>\n",
       "      <td>3</td>\n",
       "      <td>success</td>\n",
       "      <td>True</td>\n",
       "      <td>1996-06-18</td>\n",
       "      <td>mobile</td>\n",
       "    </tr>\n",
       "    <tr>\n",
       "      <th>45214</th>\n",
       "      <td>44623a48-4e9b-48fd-b155-a17d1c06a754</td>\n",
       "      <td>NaN</td>\n",
       "      <td>NaN</td>\n",
       "      <td>57</td>\n",
       "      <td>blue-collar</td>\n",
       "      <td>married</td>\n",
       "      <td>secondary</td>\n",
       "      <td>False</td>\n",
       "      <td>False</td>\n",
       "      <td>False</td>\n",
       "      <td>telephone</td>\n",
       "      <td>508</td>\n",
       "      <td>4</td>\n",
       "      <td>-1</td>\n",
       "      <td>0</td>\n",
       "      <td>None</td>\n",
       "      <td>False</td>\n",
       "      <td>1996-09-14</td>\n",
       "      <td>desktop</td>\n",
       "    </tr>\n",
       "    <tr>\n",
       "      <th>45215</th>\n",
       "      <td>5905741c-3f30-416f-8ee5-71abad035de6</td>\n",
       "      <td>3.0</td>\n",
       "      <td>2971.0</td>\n",
       "      <td>37</td>\n",
       "      <td>entrepreneur</td>\n",
       "      <td>married</td>\n",
       "      <td>secondary</td>\n",
       "      <td>False</td>\n",
       "      <td>False</td>\n",
       "      <td>False</td>\n",
       "      <td>cellular</td>\n",
       "      <td>361</td>\n",
       "      <td>2</td>\n",
       "      <td>188</td>\n",
       "      <td>11</td>\n",
       "      <td>other</td>\n",
       "      <td>False</td>\n",
       "      <td>1994-04-28</td>\n",
       "      <td>mobile</td>\n",
       "    </tr>\n",
       "  </tbody>\n",
       "</table>\n",
       "<p>45209 rows × 19 columns</p>\n",
       "</div>"
      ],
      "text/plain": [
       "                                    user_id  number_transactions  \\\n",
       "0      9231c446-cb16-4b2b-a7f7-ddfc8b25aaf6                  3.0   \n",
       "1      bb92765a-08de-4963-b432-496524b39157                  NaN   \n",
       "2      573de577-49ef-42b9-83da-d3cfb817b5c1                  2.0   \n",
       "3      d6b66b9d-7c8f-4257-a682-e136f640b7e3                  NaN   \n",
       "4      fade0b20-7594-4d9a-84cd-c02f79b1b526                  1.0   \n",
       "...                                     ...                  ...   \n",
       "45211  a218c1d6-880a-4431-a314-a1bd3dc36b21                  2.0   \n",
       "45212  6a6bf402-9416-4e71-97c6-727e8298a3a5                  4.0   \n",
       "45213  be32ba96-b178-4b54-b32a-f75b714793df                  2.0   \n",
       "45214  44623a48-4e9b-48fd-b155-a17d1c06a754                  NaN   \n",
       "45215  5905741c-3f30-416f-8ee5-71abad035de6                  3.0   \n",
       "\n",
       "       total_amount_usd  age           job   marital  education  default  \\\n",
       "0                2143.0   58    management   married   tertiary    False   \n",
       "1                   NaN   44    technician    single  secondary    False   \n",
       "2                   2.0   33  entrepreneur   married  secondary    False   \n",
       "3                   NaN   47   blue-collar   married       None    False   \n",
       "4                   1.0   33          None    single       None    False   \n",
       "...                 ...  ...           ...       ...        ...      ...   \n",
       "45211             825.0   51    technician   married   tertiary    False   \n",
       "45212            1729.0   71       retired  divorced    primary    False   \n",
       "45213            5715.0   72       retired   married  secondary    False   \n",
       "45214               NaN   57   blue-collar   married  secondary    False   \n",
       "45215            2971.0   37  entrepreneur   married  secondary    False   \n",
       "\n",
       "       housing   loan    contact  duration  campaign  pdays  previous  \\\n",
       "0         True  False       None       261         1     -1         0   \n",
       "1         True  False       None       151         1     -1         0   \n",
       "2         True   True       None        76         1     -1         0   \n",
       "3         True  False       None        92         1     -1         0   \n",
       "4        False  False       None       198         1     -1         0   \n",
       "...        ...    ...        ...       ...       ...    ...       ...   \n",
       "45211    False  False   cellular       977         3     -1         0   \n",
       "45212    False  False   cellular       456         2     -1         0   \n",
       "45213    False  False   cellular      1127         5    184         3   \n",
       "45214    False  False  telephone       508         4     -1         0   \n",
       "45215    False  False   cellular       361         2    188        11   \n",
       "\n",
       "      poutcome  term_deposit date_joined   device  \n",
       "0         None         False  1998-08-23   mobile  \n",
       "1         None         False  2008-07-15  desktop  \n",
       "2         None         False  2002-06-04   mobile  \n",
       "3         None         False  1995-06-29   tablet  \n",
       "4         None         False  1995-08-01   mobile  \n",
       "...        ...           ...         ...      ...  \n",
       "45211     None          True  2002-12-28  desktop  \n",
       "45212     None          True  2010-11-18  desktop  \n",
       "45213  success          True  1996-06-18   mobile  \n",
       "45214     None         False  1996-09-14  desktop  \n",
       "45215    other         False  1994-04-28   mobile  \n",
       "\n",
       "[45209 rows x 19 columns]"
      ]
     },
     "execution_count": 2,
     "metadata": {},
     "output_type": "execute_result"
    }
   ],
   "source": [
    "users_data = pd.read_pickle('C:/Users/Hamad/--TRAINING--/AI_Bootcamp/CDSP/2-Analysis/data/users_data_cleaned.pickle')\n",
    "users_data"
   ]
  },
  {
   "cell_type": "markdown",
   "id": "349f999a",
   "metadata": {},
   "source": [
    "# Check the Shape of the Dataset"
   ]
  },
  {
   "cell_type": "code",
   "execution_count": 3,
   "id": "f821da10",
   "metadata": {},
   "outputs": [
    {
     "name": "stdout",
     "output_type": "stream",
     "text": [
      "The shape of the dataset : (45209, 19).\n"
     ]
    }
   ],
   "source": [
    "print(f'The shape of the dataset : {users_data.shape}.')"
   ]
  },
  {
   "cell_type": "markdown",
   "id": "d3db5f96",
   "metadata": {},
   "source": [
    "# Check the Number of Unique Users"
   ]
  },
  {
   "cell_type": "code",
   "execution_count": 4,
   "id": "df8fe342",
   "metadata": {},
   "outputs": [
    {
     "name": "stdout",
     "output_type": "stream",
     "text": [
      "The number of users in the dataset        : 45209.\n",
      "The number of user ids that are unique    : 45209.\n",
      "Check if all user ids are unique          : True.\n",
      "The number of Null values in the user ids : 0.\n"
     ]
    }
   ],
   "source": [
    "print(f'The number of users in the dataset        : {users_data.shape[0]}.')\n",
    "print(f'The number of user ids that are unique    : {len(np.unique(users_data.user_id))}.')\n",
    "print(f'Check if all user ids are unique          : {len(np.unique(users_data.user_id)) == users_data.shape[0]}.')\n",
    "print(f'The number of Null values in the user ids : {users_data.user_id.isnull().sum()}.')"
   ]
  },
  {
   "cell_type": "markdown",
   "id": "610a7c76",
   "metadata": {},
   "source": [
    "# Check the Data Types"
   ]
  },
  {
   "cell_type": "code",
   "execution_count": 5,
   "id": "1df925d5",
   "metadata": {},
   "outputs": [
    {
     "name": "stdout",
     "output_type": "stream",
     "text": [
      "bool :\n",
      "default housing loan term_deposit \n",
      "\n",
      "int64 :\n",
      "age duration campaign pdays previous \n",
      "\n",
      "float64 :\n",
      "number_transactions total_amount_usd \n",
      "\n",
      "datetime64[ns] :\n",
      "date_joined \n",
      "\n",
      "object :\n",
      "user_id job marital education contact poutcome device \n",
      "\n"
     ]
    }
   ],
   "source": [
    "dtyptes_dic = users_data.columns.to_series().groupby(users_data.dtypes).groups\n",
    "\n",
    "for i in dtyptes_dic.keys():\n",
    "    print(i, ':')\n",
    "    for j in dtyptes_dic[i]:\n",
    "        print(j, end=\" \")\n",
    "    print('\\n')"
   ]
  },
  {
   "cell_type": "markdown",
   "id": "69eae469",
   "metadata": {},
   "source": [
    "# Print the Basic Information of the Dataset"
   ]
  },
  {
   "cell_type": "code",
   "execution_count": 6,
   "id": "2c556ea9",
   "metadata": {},
   "outputs": [
    {
     "name": "stdout",
     "output_type": "stream",
     "text": [
      "<class 'pandas.core.frame.DataFrame'>\n",
      "Int64Index: 45209 entries, 0 to 45215\n",
      "Data columns (total 19 columns):\n",
      " #   Column               Non-Null Count  Dtype         \n",
      "---  ------               --------------  -----         \n",
      " 0   user_id              45209 non-null  object        \n",
      " 1   number_transactions  35210 non-null  float64       \n",
      " 2   total_amount_usd     35210 non-null  float64       \n",
      " 3   age                  45209 non-null  int64         \n",
      " 4   job                  44921 non-null  object        \n",
      " 5   marital              45209 non-null  object        \n",
      " 6   education            43352 non-null  object        \n",
      " 7   default              45209 non-null  bool          \n",
      " 8   housing              45209 non-null  bool          \n",
      " 9   loan                 45209 non-null  bool          \n",
      " 10  contact              32191 non-null  object        \n",
      " 11  duration             45209 non-null  int64         \n",
      " 12  campaign             45209 non-null  int64         \n",
      " 13  pdays                45209 non-null  int64         \n",
      " 14  previous             45209 non-null  int64         \n",
      " 15  poutcome             8252 non-null   object        \n",
      " 16  term_deposit         45209 non-null  bool          \n",
      " 17  date_joined          45179 non-null  datetime64[ns]\n",
      " 18  device               45115 non-null  object        \n",
      "dtypes: bool(4), datetime64[ns](1), float64(2), int64(5), object(7)\n",
      "memory usage: 5.7+ MB\n"
     ]
    }
   ],
   "source": [
    "users_data.info()"
   ]
  },
  {
   "cell_type": "markdown",
   "id": "27a0d5ca",
   "metadata": {},
   "source": [
    "# Generate Summary Statistics for all of the Dataset"
   ]
  },
  {
   "cell_type": "code",
   "execution_count": 9,
   "id": "61966785",
   "metadata": {},
   "outputs": [
    {
     "data": {
      "text/html": [
       "<div>\n",
       "<style scoped>\n",
       "    .dataframe tbody tr th:only-of-type {\n",
       "        vertical-align: middle;\n",
       "    }\n",
       "\n",
       "    .dataframe tbody tr th {\n",
       "        vertical-align: top;\n",
       "    }\n",
       "\n",
       "    .dataframe thead th {\n",
       "        text-align: right;\n",
       "    }\n",
       "</style>\n",
       "<table border=\"1\" class=\"dataframe\">\n",
       "  <thead>\n",
       "    <tr style=\"text-align: right;\">\n",
       "      <th></th>\n",
       "      <th>count</th>\n",
       "      <th>unique</th>\n",
       "      <th>top</th>\n",
       "      <th>freq</th>\n",
       "      <th>mean</th>\n",
       "      <th>min</th>\n",
       "      <th>25%</th>\n",
       "      <th>50%</th>\n",
       "      <th>75%</th>\n",
       "      <th>max</th>\n",
       "      <th>std</th>\n",
       "    </tr>\n",
       "  </thead>\n",
       "  <tbody>\n",
       "    <tr>\n",
       "      <th>user_id</th>\n",
       "      <td>45209</td>\n",
       "      <td>45209</td>\n",
       "      <td>9231c446-cb16-4b2b-a7f7-ddfc8b25aaf6</td>\n",
       "      <td>1</td>\n",
       "      <td>NaN</td>\n",
       "      <td>NaN</td>\n",
       "      <td>NaN</td>\n",
       "      <td>NaN</td>\n",
       "      <td>NaN</td>\n",
       "      <td>NaN</td>\n",
       "      <td>NaN</td>\n",
       "    </tr>\n",
       "    <tr>\n",
       "      <th>number_transactions</th>\n",
       "      <td>35210.0</td>\n",
       "      <td>NaN</td>\n",
       "      <td>NaN</td>\n",
       "      <td>NaN</td>\n",
       "      <td>3.977052</td>\n",
       "      <td>1.0</td>\n",
       "      <td>2.0</td>\n",
       "      <td>3.0</td>\n",
       "      <td>4.0</td>\n",
       "      <td>20.0</td>\n",
       "      <td>3.814329</td>\n",
       "    </tr>\n",
       "    <tr>\n",
       "      <th>total_amount_usd</th>\n",
       "      <td>35210.0</td>\n",
       "      <td>NaN</td>\n",
       "      <td>NaN</td>\n",
       "      <td>NaN</td>\n",
       "      <td>1369.417751</td>\n",
       "      <td>-8019.0</td>\n",
       "      <td>73.0</td>\n",
       "      <td>451.0</td>\n",
       "      <td>1438.0</td>\n",
       "      <td>102127.0</td>\n",
       "      <td>3063.412688</td>\n",
       "    </tr>\n",
       "    <tr>\n",
       "      <th>age</th>\n",
       "      <td>45209.0</td>\n",
       "      <td>NaN</td>\n",
       "      <td>NaN</td>\n",
       "      <td>NaN</td>\n",
       "      <td>40.935853</td>\n",
       "      <td>18.0</td>\n",
       "      <td>33.0</td>\n",
       "      <td>39.0</td>\n",
       "      <td>48.0</td>\n",
       "      <td>95.0</td>\n",
       "      <td>10.618653</td>\n",
       "    </tr>\n",
       "    <tr>\n",
       "      <th>job</th>\n",
       "      <td>44921</td>\n",
       "      <td>11</td>\n",
       "      <td>blue-collar</td>\n",
       "      <td>9731</td>\n",
       "      <td>NaN</td>\n",
       "      <td>NaN</td>\n",
       "      <td>NaN</td>\n",
       "      <td>NaN</td>\n",
       "      <td>NaN</td>\n",
       "      <td>NaN</td>\n",
       "      <td>NaN</td>\n",
       "    </tr>\n",
       "    <tr>\n",
       "      <th>marital</th>\n",
       "      <td>45209</td>\n",
       "      <td>3</td>\n",
       "      <td>married</td>\n",
       "      <td>27212</td>\n",
       "      <td>NaN</td>\n",
       "      <td>NaN</td>\n",
       "      <td>NaN</td>\n",
       "      <td>NaN</td>\n",
       "      <td>NaN</td>\n",
       "      <td>NaN</td>\n",
       "      <td>NaN</td>\n",
       "    </tr>\n",
       "    <tr>\n",
       "      <th>education</th>\n",
       "      <td>43352</td>\n",
       "      <td>3</td>\n",
       "      <td>secondary</td>\n",
       "      <td>23202</td>\n",
       "      <td>NaN</td>\n",
       "      <td>NaN</td>\n",
       "      <td>NaN</td>\n",
       "      <td>NaN</td>\n",
       "      <td>NaN</td>\n",
       "      <td>NaN</td>\n",
       "      <td>NaN</td>\n",
       "    </tr>\n",
       "    <tr>\n",
       "      <th>default</th>\n",
       "      <td>45209</td>\n",
       "      <td>2</td>\n",
       "      <td>False</td>\n",
       "      <td>44394</td>\n",
       "      <td>NaN</td>\n",
       "      <td>NaN</td>\n",
       "      <td>NaN</td>\n",
       "      <td>NaN</td>\n",
       "      <td>NaN</td>\n",
       "      <td>NaN</td>\n",
       "      <td>NaN</td>\n",
       "    </tr>\n",
       "    <tr>\n",
       "      <th>housing</th>\n",
       "      <td>45209</td>\n",
       "      <td>2</td>\n",
       "      <td>True</td>\n",
       "      <td>25128</td>\n",
       "      <td>NaN</td>\n",
       "      <td>NaN</td>\n",
       "      <td>NaN</td>\n",
       "      <td>NaN</td>\n",
       "      <td>NaN</td>\n",
       "      <td>NaN</td>\n",
       "      <td>NaN</td>\n",
       "    </tr>\n",
       "    <tr>\n",
       "      <th>loan</th>\n",
       "      <td>45209</td>\n",
       "      <td>2</td>\n",
       "      <td>False</td>\n",
       "      <td>37965</td>\n",
       "      <td>NaN</td>\n",
       "      <td>NaN</td>\n",
       "      <td>NaN</td>\n",
       "      <td>NaN</td>\n",
       "      <td>NaN</td>\n",
       "      <td>NaN</td>\n",
       "      <td>NaN</td>\n",
       "    </tr>\n",
       "    <tr>\n",
       "      <th>contact</th>\n",
       "      <td>32191</td>\n",
       "      <td>2</td>\n",
       "      <td>cellular</td>\n",
       "      <td>29285</td>\n",
       "      <td>NaN</td>\n",
       "      <td>NaN</td>\n",
       "      <td>NaN</td>\n",
       "      <td>NaN</td>\n",
       "      <td>NaN</td>\n",
       "      <td>NaN</td>\n",
       "      <td>NaN</td>\n",
       "    </tr>\n",
       "    <tr>\n",
       "      <th>duration</th>\n",
       "      <td>45209.0</td>\n",
       "      <td>NaN</td>\n",
       "      <td>NaN</td>\n",
       "      <td>NaN</td>\n",
       "      <td>258.153067</td>\n",
       "      <td>0.0</td>\n",
       "      <td>103.0</td>\n",
       "      <td>180.0</td>\n",
       "      <td>319.0</td>\n",
       "      <td>4918.0</td>\n",
       "      <td>257.525446</td>\n",
       "    </tr>\n",
       "    <tr>\n",
       "      <th>campaign</th>\n",
       "      <td>45209.0</td>\n",
       "      <td>NaN</td>\n",
       "      <td>NaN</td>\n",
       "      <td>NaN</td>\n",
       "      <td>2.763897</td>\n",
       "      <td>1.0</td>\n",
       "      <td>1.0</td>\n",
       "      <td>2.0</td>\n",
       "      <td>3.0</td>\n",
       "      <td>63.0</td>\n",
       "      <td>3.098076</td>\n",
       "    </tr>\n",
       "    <tr>\n",
       "      <th>pdays</th>\n",
       "      <td>45209.0</td>\n",
       "      <td>NaN</td>\n",
       "      <td>NaN</td>\n",
       "      <td>NaN</td>\n",
       "      <td>40.199651</td>\n",
       "      <td>-1.0</td>\n",
       "      <td>-1.0</td>\n",
       "      <td>-1.0</td>\n",
       "      <td>-1.0</td>\n",
       "      <td>871.0</td>\n",
       "      <td>100.130586</td>\n",
       "    </tr>\n",
       "    <tr>\n",
       "      <th>previous</th>\n",
       "      <td>45209.0</td>\n",
       "      <td>NaN</td>\n",
       "      <td>NaN</td>\n",
       "      <td>NaN</td>\n",
       "      <td>0.580349</td>\n",
       "      <td>0.0</td>\n",
       "      <td>0.0</td>\n",
       "      <td>0.0</td>\n",
       "      <td>0.0</td>\n",
       "      <td>275.0</td>\n",
       "      <td>2.303489</td>\n",
       "    </tr>\n",
       "    <tr>\n",
       "      <th>poutcome</th>\n",
       "      <td>8252</td>\n",
       "      <td>3</td>\n",
       "      <td>failure</td>\n",
       "      <td>4901</td>\n",
       "      <td>NaN</td>\n",
       "      <td>NaN</td>\n",
       "      <td>NaN</td>\n",
       "      <td>NaN</td>\n",
       "      <td>NaN</td>\n",
       "      <td>NaN</td>\n",
       "      <td>NaN</td>\n",
       "    </tr>\n",
       "    <tr>\n",
       "      <th>term_deposit</th>\n",
       "      <td>45209</td>\n",
       "      <td>2</td>\n",
       "      <td>False</td>\n",
       "      <td>39920</td>\n",
       "      <td>NaN</td>\n",
       "      <td>NaN</td>\n",
       "      <td>NaN</td>\n",
       "      <td>NaN</td>\n",
       "      <td>NaN</td>\n",
       "      <td>NaN</td>\n",
       "      <td>NaN</td>\n",
       "    </tr>\n",
       "    <tr>\n",
       "      <th>date_joined</th>\n",
       "      <td>45179</td>\n",
       "      <td>NaN</td>\n",
       "      <td>NaN</td>\n",
       "      <td>NaN</td>\n",
       "      <td>1999-06-14 21:54:38.558622336</td>\n",
       "      <td>1988-01-01 00:00:00</td>\n",
       "      <td>1993-09-18 00:00:00</td>\n",
       "      <td>1999-06-11 00:00:00</td>\n",
       "      <td>2005-03-18 00:00:00</td>\n",
       "      <td>2010-11-30 00:00:00</td>\n",
       "      <td>NaN</td>\n",
       "    </tr>\n",
       "    <tr>\n",
       "      <th>device</th>\n",
       "      <td>45115</td>\n",
       "      <td>3</td>\n",
       "      <td>mobile</td>\n",
       "      <td>27504</td>\n",
       "      <td>NaN</td>\n",
       "      <td>NaN</td>\n",
       "      <td>NaN</td>\n",
       "      <td>NaN</td>\n",
       "      <td>NaN</td>\n",
       "      <td>NaN</td>\n",
       "      <td>NaN</td>\n",
       "    </tr>\n",
       "  </tbody>\n",
       "</table>\n",
       "</div>"
      ],
      "text/plain": [
       "                       count unique                                   top  \\\n",
       "user_id                45209  45209  9231c446-cb16-4b2b-a7f7-ddfc8b25aaf6   \n",
       "number_transactions  35210.0    NaN                                   NaN   \n",
       "total_amount_usd     35210.0    NaN                                   NaN   \n",
       "age                  45209.0    NaN                                   NaN   \n",
       "job                    44921     11                           blue-collar   \n",
       "marital                45209      3                               married   \n",
       "education              43352      3                             secondary   \n",
       "default                45209      2                                 False   \n",
       "housing                45209      2                                  True   \n",
       "loan                   45209      2                                 False   \n",
       "contact                32191      2                              cellular   \n",
       "duration             45209.0    NaN                                   NaN   \n",
       "campaign             45209.0    NaN                                   NaN   \n",
       "pdays                45209.0    NaN                                   NaN   \n",
       "previous             45209.0    NaN                                   NaN   \n",
       "poutcome                8252      3                               failure   \n",
       "term_deposit           45209      2                                 False   \n",
       "date_joined            45179    NaN                                   NaN   \n",
       "device                 45115      3                                mobile   \n",
       "\n",
       "                      freq                           mean  \\\n",
       "user_id                  1                            NaN   \n",
       "number_transactions    NaN                       3.977052   \n",
       "total_amount_usd       NaN                    1369.417751   \n",
       "age                    NaN                      40.935853   \n",
       "job                   9731                            NaN   \n",
       "marital              27212                            NaN   \n",
       "education            23202                            NaN   \n",
       "default              44394                            NaN   \n",
       "housing              25128                            NaN   \n",
       "loan                 37965                            NaN   \n",
       "contact              29285                            NaN   \n",
       "duration               NaN                     258.153067   \n",
       "campaign               NaN                       2.763897   \n",
       "pdays                  NaN                      40.199651   \n",
       "previous               NaN                       0.580349   \n",
       "poutcome              4901                            NaN   \n",
       "term_deposit         39920                            NaN   \n",
       "date_joined            NaN  1999-06-14 21:54:38.558622336   \n",
       "device               27504                            NaN   \n",
       "\n",
       "                                     min                  25%  \\\n",
       "user_id                              NaN                  NaN   \n",
       "number_transactions                  1.0                  2.0   \n",
       "total_amount_usd                 -8019.0                 73.0   \n",
       "age                                 18.0                 33.0   \n",
       "job                                  NaN                  NaN   \n",
       "marital                              NaN                  NaN   \n",
       "education                            NaN                  NaN   \n",
       "default                              NaN                  NaN   \n",
       "housing                              NaN                  NaN   \n",
       "loan                                 NaN                  NaN   \n",
       "contact                              NaN                  NaN   \n",
       "duration                             0.0                103.0   \n",
       "campaign                             1.0                  1.0   \n",
       "pdays                               -1.0                 -1.0   \n",
       "previous                             0.0                  0.0   \n",
       "poutcome                             NaN                  NaN   \n",
       "term_deposit                         NaN                  NaN   \n",
       "date_joined          1988-01-01 00:00:00  1993-09-18 00:00:00   \n",
       "device                               NaN                  NaN   \n",
       "\n",
       "                                     50%                  75%  \\\n",
       "user_id                              NaN                  NaN   \n",
       "number_transactions                  3.0                  4.0   \n",
       "total_amount_usd                   451.0               1438.0   \n",
       "age                                 39.0                 48.0   \n",
       "job                                  NaN                  NaN   \n",
       "marital                              NaN                  NaN   \n",
       "education                            NaN                  NaN   \n",
       "default                              NaN                  NaN   \n",
       "housing                              NaN                  NaN   \n",
       "loan                                 NaN                  NaN   \n",
       "contact                              NaN                  NaN   \n",
       "duration                           180.0                319.0   \n",
       "campaign                             2.0                  3.0   \n",
       "pdays                               -1.0                 -1.0   \n",
       "previous                             0.0                  0.0   \n",
       "poutcome                             NaN                  NaN   \n",
       "term_deposit                         NaN                  NaN   \n",
       "date_joined          1999-06-11 00:00:00  2005-03-18 00:00:00   \n",
       "device                               NaN                  NaN   \n",
       "\n",
       "                                     max          std  \n",
       "user_id                              NaN          NaN  \n",
       "number_transactions                 20.0     3.814329  \n",
       "total_amount_usd                102127.0  3063.412688  \n",
       "age                                 95.0    10.618653  \n",
       "job                                  NaN          NaN  \n",
       "marital                              NaN          NaN  \n",
       "education                            NaN          NaN  \n",
       "default                              NaN          NaN  \n",
       "housing                              NaN          NaN  \n",
       "loan                                 NaN          NaN  \n",
       "contact                              NaN          NaN  \n",
       "duration                          4918.0   257.525446  \n",
       "campaign                            63.0     3.098076  \n",
       "pdays                              871.0   100.130586  \n",
       "previous                           275.0     2.303489  \n",
       "poutcome                             NaN          NaN  \n",
       "term_deposit                         NaN          NaN  \n",
       "date_joined          2010-11-30 00:00:00          NaN  \n",
       "device                               NaN          NaN  "
      ]
     },
     "execution_count": 9,
     "metadata": {},
     "output_type": "execute_result"
    }
   ],
   "source": [
    "users_data.describe(datetime_is_numeric = True, include = 'all').T"
   ]
  },
  {
   "cell_type": "markdown",
   "id": "1a85c429",
   "metadata": {},
   "source": [
    "# Generate Summary Statistics for numerical Data only"
   ]
  },
  {
   "cell_type": "code",
   "execution_count": 10,
   "id": "8d71c6ed",
   "metadata": {},
   "outputs": [
    {
     "data": {
      "text/html": [
       "<div>\n",
       "<style scoped>\n",
       "    .dataframe tbody tr th:only-of-type {\n",
       "        vertical-align: middle;\n",
       "    }\n",
       "\n",
       "    .dataframe tbody tr th {\n",
       "        vertical-align: top;\n",
       "    }\n",
       "\n",
       "    .dataframe thead th {\n",
       "        text-align: right;\n",
       "    }\n",
       "</style>\n",
       "<table border=\"1\" class=\"dataframe\">\n",
       "  <thead>\n",
       "    <tr style=\"text-align: right;\">\n",
       "      <th></th>\n",
       "      <th>number_transactions</th>\n",
       "      <th>total_amount_usd</th>\n",
       "      <th>age</th>\n",
       "      <th>duration</th>\n",
       "      <th>campaign</th>\n",
       "      <th>pdays</th>\n",
       "      <th>previous</th>\n",
       "    </tr>\n",
       "  </thead>\n",
       "  <tbody>\n",
       "    <tr>\n",
       "      <th>count</th>\n",
       "      <td>35210.000000</td>\n",
       "      <td>35210.000000</td>\n",
       "      <td>45209.000000</td>\n",
       "      <td>45209.000000</td>\n",
       "      <td>45209.000000</td>\n",
       "      <td>45209.000000</td>\n",
       "      <td>45209.000000</td>\n",
       "    </tr>\n",
       "    <tr>\n",
       "      <th>mean</th>\n",
       "      <td>3.977052</td>\n",
       "      <td>1369.417751</td>\n",
       "      <td>40.935853</td>\n",
       "      <td>258.153067</td>\n",
       "      <td>2.763897</td>\n",
       "      <td>40.199651</td>\n",
       "      <td>0.580349</td>\n",
       "    </tr>\n",
       "    <tr>\n",
       "      <th>std</th>\n",
       "      <td>3.814329</td>\n",
       "      <td>3063.412688</td>\n",
       "      <td>10.618653</td>\n",
       "      <td>257.525446</td>\n",
       "      <td>3.098076</td>\n",
       "      <td>100.130586</td>\n",
       "      <td>2.303489</td>\n",
       "    </tr>\n",
       "    <tr>\n",
       "      <th>min</th>\n",
       "      <td>1.000000</td>\n",
       "      <td>-8019.000000</td>\n",
       "      <td>18.000000</td>\n",
       "      <td>0.000000</td>\n",
       "      <td>1.000000</td>\n",
       "      <td>-1.000000</td>\n",
       "      <td>0.000000</td>\n",
       "    </tr>\n",
       "    <tr>\n",
       "      <th>25%</th>\n",
       "      <td>2.000000</td>\n",
       "      <td>73.000000</td>\n",
       "      <td>33.000000</td>\n",
       "      <td>103.000000</td>\n",
       "      <td>1.000000</td>\n",
       "      <td>-1.000000</td>\n",
       "      <td>0.000000</td>\n",
       "    </tr>\n",
       "    <tr>\n",
       "      <th>50%</th>\n",
       "      <td>3.000000</td>\n",
       "      <td>451.000000</td>\n",
       "      <td>39.000000</td>\n",
       "      <td>180.000000</td>\n",
       "      <td>2.000000</td>\n",
       "      <td>-1.000000</td>\n",
       "      <td>0.000000</td>\n",
       "    </tr>\n",
       "    <tr>\n",
       "      <th>75%</th>\n",
       "      <td>4.000000</td>\n",
       "      <td>1438.000000</td>\n",
       "      <td>48.000000</td>\n",
       "      <td>319.000000</td>\n",
       "      <td>3.000000</td>\n",
       "      <td>-1.000000</td>\n",
       "      <td>0.000000</td>\n",
       "    </tr>\n",
       "    <tr>\n",
       "      <th>max</th>\n",
       "      <td>20.000000</td>\n",
       "      <td>102127.000000</td>\n",
       "      <td>95.000000</td>\n",
       "      <td>4918.000000</td>\n",
       "      <td>63.000000</td>\n",
       "      <td>871.000000</td>\n",
       "      <td>275.000000</td>\n",
       "    </tr>\n",
       "  </tbody>\n",
       "</table>\n",
       "</div>"
      ],
      "text/plain": [
       "       number_transactions  total_amount_usd           age      duration  \\\n",
       "count         35210.000000      35210.000000  45209.000000  45209.000000   \n",
       "mean              3.977052       1369.417751     40.935853    258.153067   \n",
       "std               3.814329       3063.412688     10.618653    257.525446   \n",
       "min               1.000000      -8019.000000     18.000000      0.000000   \n",
       "25%               2.000000         73.000000     33.000000    103.000000   \n",
       "50%               3.000000        451.000000     39.000000    180.000000   \n",
       "75%               4.000000       1438.000000     48.000000    319.000000   \n",
       "max              20.000000     102127.000000     95.000000   4918.000000   \n",
       "\n",
       "           campaign         pdays      previous  \n",
       "count  45209.000000  45209.000000  45209.000000  \n",
       "mean       2.763897     40.199651      0.580349  \n",
       "std        3.098076    100.130586      2.303489  \n",
       "min        1.000000     -1.000000      0.000000  \n",
       "25%        1.000000     -1.000000      0.000000  \n",
       "50%        2.000000     -1.000000      0.000000  \n",
       "75%        3.000000     -1.000000      0.000000  \n",
       "max       63.000000    871.000000    275.000000  "
      ]
     },
     "execution_count": 10,
     "metadata": {},
     "output_type": "execute_result"
    }
   ],
   "source": [
    "users_data.describe()"
   ]
  },
  {
   "cell_type": "markdown",
   "id": "cd53aadb",
   "metadata": {},
   "source": [
    "# Generate Mode values for all data\n",
    "- Do not forget to drop the id column."
   ]
  },
  {
   "cell_type": "code",
   "execution_count": 11,
   "id": "78189556",
   "metadata": {},
   "outputs": [
    {
     "data": {
      "text/html": [
       "<div>\n",
       "<style scoped>\n",
       "    .dataframe tbody tr th:only-of-type {\n",
       "        vertical-align: middle;\n",
       "    }\n",
       "\n",
       "    .dataframe tbody tr th {\n",
       "        vertical-align: top;\n",
       "    }\n",
       "\n",
       "    .dataframe thead th {\n",
       "        text-align: right;\n",
       "    }\n",
       "</style>\n",
       "<table border=\"1\" class=\"dataframe\">\n",
       "  <thead>\n",
       "    <tr style=\"text-align: right;\">\n",
       "      <th></th>\n",
       "      <th>Mode</th>\n",
       "    </tr>\n",
       "  </thead>\n",
       "  <tbody>\n",
       "    <tr>\n",
       "      <th>number_transactions</th>\n",
       "      <td>2.0</td>\n",
       "    </tr>\n",
       "    <tr>\n",
       "      <th>total_amount_usd</th>\n",
       "      <td>0.0</td>\n",
       "    </tr>\n",
       "    <tr>\n",
       "      <th>age</th>\n",
       "      <td>32.0</td>\n",
       "    </tr>\n",
       "    <tr>\n",
       "      <th>job</th>\n",
       "      <td>blue-collar</td>\n",
       "    </tr>\n",
       "    <tr>\n",
       "      <th>marital</th>\n",
       "      <td>married</td>\n",
       "    </tr>\n",
       "    <tr>\n",
       "      <th>education</th>\n",
       "      <td>secondary</td>\n",
       "    </tr>\n",
       "    <tr>\n",
       "      <th>default</th>\n",
       "      <td>False</td>\n",
       "    </tr>\n",
       "    <tr>\n",
       "      <th>housing</th>\n",
       "      <td>True</td>\n",
       "    </tr>\n",
       "    <tr>\n",
       "      <th>loan</th>\n",
       "      <td>False</td>\n",
       "    </tr>\n",
       "    <tr>\n",
       "      <th>contact</th>\n",
       "      <td>cellular</td>\n",
       "    </tr>\n",
       "    <tr>\n",
       "      <th>duration</th>\n",
       "      <td>124.0</td>\n",
       "    </tr>\n",
       "    <tr>\n",
       "      <th>campaign</th>\n",
       "      <td>1.0</td>\n",
       "    </tr>\n",
       "    <tr>\n",
       "      <th>pdays</th>\n",
       "      <td>-1.0</td>\n",
       "    </tr>\n",
       "    <tr>\n",
       "      <th>previous</th>\n",
       "      <td>0.0</td>\n",
       "    </tr>\n",
       "    <tr>\n",
       "      <th>poutcome</th>\n",
       "      <td>failure</td>\n",
       "    </tr>\n",
       "    <tr>\n",
       "      <th>term_deposit</th>\n",
       "      <td>False</td>\n",
       "    </tr>\n",
       "    <tr>\n",
       "      <th>date_joined</th>\n",
       "      <td>1990-07-05 00:00:00</td>\n",
       "    </tr>\n",
       "    <tr>\n",
       "      <th>device</th>\n",
       "      <td>mobile</td>\n",
       "    </tr>\n",
       "  </tbody>\n",
       "</table>\n",
       "</div>"
      ],
      "text/plain": [
       "                                    Mode\n",
       "number_transactions                  2.0\n",
       "total_amount_usd                     0.0\n",
       "age                                 32.0\n",
       "job                          blue-collar\n",
       "marital                          married\n",
       "education                      secondary\n",
       "default                            False\n",
       "housing                             True\n",
       "loan                               False\n",
       "contact                         cellular\n",
       "duration                           124.0\n",
       "campaign                             1.0\n",
       "pdays                               -1.0\n",
       "previous                             0.0\n",
       "poutcome                         failure\n",
       "term_deposit                       False\n",
       "date_joined          1990-07-05 00:00:00\n",
       "device                            mobile"
      ]
     },
     "execution_count": 11,
     "metadata": {},
     "output_type": "execute_result"
    }
   ],
   "source": [
    "mode = users_data.drop(['user_id'], axis = 1, inplace = False).mode().T\n",
    "mode = mode.rename(columns = {0 : 'Mode'})\n",
    "mode.iloc[:, 0:1]"
   ]
  },
  {
   "cell_type": "markdown",
   "id": "00fe190c",
   "metadata": {},
   "source": [
    "# Generate Skewness and Kurtosis Measurements"
   ]
  },
  {
   "cell_type": "code",
   "execution_count": 12,
   "id": "1d3ee6fe",
   "metadata": {},
   "outputs": [
    {
     "data": {
      "text/html": [
       "<div>\n",
       "<style scoped>\n",
       "    .dataframe tbody tr th:only-of-type {\n",
       "        vertical-align: middle;\n",
       "    }\n",
       "\n",
       "    .dataframe tbody tr th {\n",
       "        vertical-align: top;\n",
       "    }\n",
       "\n",
       "    .dataframe thead th {\n",
       "        text-align: right;\n",
       "    }\n",
       "</style>\n",
       "<table border=\"1\" class=\"dataframe\">\n",
       "  <thead>\n",
       "    <tr style=\"text-align: right;\">\n",
       "      <th></th>\n",
       "      <th>Skewness</th>\n",
       "    </tr>\n",
       "  </thead>\n",
       "  <tbody>\n",
       "    <tr>\n",
       "      <th>number_transactions</th>\n",
       "      <td>2.704543</td>\n",
       "    </tr>\n",
       "    <tr>\n",
       "      <th>total_amount_usd</th>\n",
       "      <td>8.596128</td>\n",
       "    </tr>\n",
       "    <tr>\n",
       "      <th>age</th>\n",
       "      <td>0.684861</td>\n",
       "    </tr>\n",
       "    <tr>\n",
       "      <th>default</th>\n",
       "      <td>7.245206</td>\n",
       "    </tr>\n",
       "    <tr>\n",
       "      <th>housing</th>\n",
       "      <td>-0.224686</td>\n",
       "    </tr>\n",
       "    <tr>\n",
       "      <th>loan</th>\n",
       "      <td>1.852545</td>\n",
       "    </tr>\n",
       "    <tr>\n",
       "      <th>duration</th>\n",
       "      <td>3.144556</td>\n",
       "    </tr>\n",
       "    <tr>\n",
       "      <th>campaign</th>\n",
       "      <td>4.898555</td>\n",
       "    </tr>\n",
       "    <tr>\n",
       "      <th>pdays</th>\n",
       "      <td>2.615635</td>\n",
       "    </tr>\n",
       "    <tr>\n",
       "      <th>previous</th>\n",
       "      <td>41.845672</td>\n",
       "    </tr>\n",
       "    <tr>\n",
       "      <th>term_deposit</th>\n",
       "      <td>2.383403</td>\n",
       "    </tr>\n",
       "  </tbody>\n",
       "</table>\n",
       "</div>"
      ],
      "text/plain": [
       "                      Skewness\n",
       "number_transactions   2.704543\n",
       "total_amount_usd      8.596128\n",
       "age                   0.684861\n",
       "default               7.245206\n",
       "housing              -0.224686\n",
       "loan                  1.852545\n",
       "duration              3.144556\n",
       "campaign              4.898555\n",
       "pdays                 2.615635\n",
       "previous             41.845672\n",
       "term_deposit          2.383403"
      ]
     },
     "execution_count": 12,
     "metadata": {},
     "output_type": "execute_result"
    }
   ],
   "source": [
    "pd.DataFrame(users_data.skew(), columns=['Skewness'])"
   ]
  },
  {
   "cell_type": "code",
   "execution_count": 13,
   "id": "1067508b",
   "metadata": {},
   "outputs": [
    {
     "data": {
      "text/html": [
       "<div>\n",
       "<style scoped>\n",
       "    .dataframe tbody tr th:only-of-type {\n",
       "        vertical-align: middle;\n",
       "    }\n",
       "\n",
       "    .dataframe tbody tr th {\n",
       "        vertical-align: top;\n",
       "    }\n",
       "\n",
       "    .dataframe thead th {\n",
       "        text-align: right;\n",
       "    }\n",
       "</style>\n",
       "<table border=\"1\" class=\"dataframe\">\n",
       "  <thead>\n",
       "    <tr style=\"text-align: right;\">\n",
       "      <th></th>\n",
       "      <th>Kurtosis</th>\n",
       "    </tr>\n",
       "  </thead>\n",
       "  <tbody>\n",
       "    <tr>\n",
       "      <th>number_transactions</th>\n",
       "      <td>6.659034</td>\n",
       "    </tr>\n",
       "    <tr>\n",
       "      <th>total_amount_usd</th>\n",
       "      <td>150.790967</td>\n",
       "    </tr>\n",
       "    <tr>\n",
       "      <th>age</th>\n",
       "      <td>0.319760</td>\n",
       "    </tr>\n",
       "    <tr>\n",
       "      <th>default</th>\n",
       "      <td>50.495241</td>\n",
       "    </tr>\n",
       "    <tr>\n",
       "      <th>housing</th>\n",
       "      <td>-1.949602</td>\n",
       "    </tr>\n",
       "    <tr>\n",
       "      <th>loan</th>\n",
       "      <td>1.431987</td>\n",
       "    </tr>\n",
       "    <tr>\n",
       "      <th>duration</th>\n",
       "      <td>18.155941</td>\n",
       "    </tr>\n",
       "    <tr>\n",
       "      <th>campaign</th>\n",
       "      <td>39.248145</td>\n",
       "    </tr>\n",
       "    <tr>\n",
       "      <th>pdays</th>\n",
       "      <td>6.934713</td>\n",
       "    </tr>\n",
       "    <tr>\n",
       "      <th>previous</th>\n",
       "      <td>4506.684640</td>\n",
       "    </tr>\n",
       "    <tr>\n",
       "      <th>term_deposit</th>\n",
       "      <td>3.680770</td>\n",
       "    </tr>\n",
       "  </tbody>\n",
       "</table>\n",
       "</div>"
      ],
      "text/plain": [
       "                        Kurtosis\n",
       "number_transactions     6.659034\n",
       "total_amount_usd      150.790967\n",
       "age                     0.319760\n",
       "default                50.495241\n",
       "housing                -1.949602\n",
       "loan                    1.431987\n",
       "duration               18.155941\n",
       "campaign               39.248145\n",
       "pdays                   6.934713\n",
       "previous             4506.684640\n",
       "term_deposit            3.680770"
      ]
     },
     "execution_count": 13,
     "metadata": {},
     "output_type": "execute_result"
    }
   ],
   "source": [
    "pd.DataFrame(users_data.kurt(), columns=['Kurtosis'])"
   ]
  },
  {
   "cell_type": "markdown",
   "id": "6ff29276",
   "metadata": {},
   "source": [
    "# Plot Histograms for all Numerical Columns\n",
    "\n",
    "- Use Seaborn only.\n",
    "- Select all numerical columns.\n",
    "- Customize the plot\n",
    "    1. Use set function with a style.\n",
    "    2. Use a subplot, with 7 rows and 1 column, figsize is 10 by (6 * number of numerical columns).\n",
    "- kde is False, fontsize of the titles is 14, and fontsize of labels is 12."
   ]
  },
  {
   "cell_type": "code",
   "execution_count": 14,
   "id": "9fbb96cf",
   "metadata": {
    "scrolled": false
   },
   "outputs": [
    {
     "data": {
      "image/png": "[encoded data removed]",
      "text/plain": [
       "<Figure size 720x3024 with 7 Axes>"
      ]
     },
     "metadata": {
      "needs_background": "light"
     },
     "output_type": "display_data"
    }
   ],
   "source": [
    "users_data_for_hist = users_data.select_dtypes(include=['float64', 'int64'])\n",
    "\n",
    "sns.set(style=\"whitegrid\")\n",
    "fig, axes = plt.subplots(nrows=len(users_data_for_hist.columns), ncols=1, figsize=(10, 6 * len(users_data_for_hist.columns)))\n",
    "\n",
    "for i, column in enumerate(users_data_for_hist.columns):\n",
    "    sns.histplot(users_data_for_hist[column], kde=False, ax=axes[i])\n",
    "    axes[i].set_title(f'Distribution of {column}', fontsize=14)\n",
    "    axes[i].set_xlabel(column, fontsize=12)\n",
    "    axes[i].set_ylabel('Count', fontsize=12)\n",
    "\n",
    "plt.tight_layout()\n",
    "plt.show();"
   ]
  },
  {
   "cell_type": "markdown",
   "id": "891cfe86",
   "metadata": {},
   "source": [
    "# Generate a box plot for age"
   ]
  },
  {
   "cell_type": "code",
   "execution_count": 15,
   "id": "31665295",
   "metadata": {},
   "outputs": [
    {
     "data": {
      "image/png": "[encoded data removed]",
      "text/plain": [
       "<Figure size 576x288 with 1 Axes>"
      ]
     },
     "metadata": {
      "needs_background": "light"
     },
     "output_type": "display_data"
    }
   ],
   "source": [
    "plt.figure(figsize = (8, 4))\n",
    "sns.boxplot(x = users_data['age'], linewidth = 0.9);"
   ]
  },
  {
   "cell_type": "markdown",
   "id": "9748611d",
   "metadata": {},
   "source": [
    "# Generate a violin plot for age"
   ]
  },
  {
   "cell_type": "code",
   "execution_count": 16,
   "id": "a1fac8b3",
   "metadata": {},
   "outputs": [
    {
     "data": {
      "image/png": "[encoded data removed]",
      "text/plain": [
       "<Figure size 576x288 with 1 Axes>"
      ]
     },
     "metadata": {
      "needs_background": "light"
     },
     "output_type": "display_data"
    }
   ],
   "source": [
    "plt.figure(figsize = (8, 4))\n",
    "sns.violinplot(x = users_data['age'], linewidth = 0.9);"
   ]
  },
  {
   "cell_type": "markdown",
   "id": "534cd668",
   "metadata": {},
   "source": [
    "# Generate a box plot for number_transactions"
   ]
  },
  {
   "cell_type": "code",
   "execution_count": 17,
   "id": "eeb22d7e",
   "metadata": {},
   "outputs": [
    {
     "data": {
      "image/png": "[encoded data removed]",
      "text/plain": [
       "<Figure size 432x144 with 1 Axes>"
      ]
     },
     "metadata": {
      "needs_background": "light"
     },
     "output_type": "display_data"
    }
   ],
   "source": [
    "plt.figure(figsize = (6, 2))\n",
    "sns.boxplot(x = users_data['number_transactions'], linewidth = 0.9);"
   ]
  },
  {
   "cell_type": "markdown",
   "id": "0de7b599",
   "metadata": {},
   "source": [
    "# Generate a violin plot for number_transactions"
   ]
  },
  {
   "cell_type": "code",
   "execution_count": 18,
   "id": "4654289b",
   "metadata": {},
   "outputs": [
    {
     "data": {
      "image/png": "[encoded data removed]",
      "text/plain": [
       "<Figure size 432x288 with 1 Axes>"
      ]
     },
     "metadata": {
      "needs_background": "light"
     },
     "output_type": "display_data"
    }
   ],
   "source": [
    "sns.violinplot(x = users_data['number_transactions'], linewidth=0.9);"
   ]
  },
  {
   "cell_type": "markdown",
   "id": "cd1c52c5",
   "metadata": {},
   "source": [
    "# Generate scatter plots comparing total_amount_usd to number_transactions"
   ]
  },
  {
   "cell_type": "code",
   "execution_count": 19,
   "id": "d9c0a94e",
   "metadata": {},
   "outputs": [
    {
     "data": {
      "image/png": "[encoded data removed]",
      "text/plain": [
       "<Figure size 432x288 with 1 Axes>"
      ]
     },
     "metadata": {
      "needs_background": "light"
     },
     "output_type": "display_data"
    }
   ],
   "source": [
    "sns.scatterplot(\n",
    "    data = users_data,\n",
    "    x = 'total_amount_usd',\n",
    "    y = 'number_transactions'\n",
    ");"
   ]
  },
  {
   "cell_type": "code",
   "execution_count": 20,
   "id": "4132d8aa",
   "metadata": {},
   "outputs": [
    {
     "data": {
      "image/png": "[encoded data removed]",
      "text/plain": [
       "<Figure size 432x288 with 1 Axes>"
      ]
     },
     "metadata": {
      "needs_background": "light"
     },
     "output_type": "display_data"
    }
   ],
   "source": [
    "sns.scatterplot(\n",
    "    data = users_data,\n",
    "    x = 'total_amount_usd',\n",
    "    y = 'number_transactions',\n",
    "    hue = 'education'\n",
    ");"
   ]
  },
  {
   "cell_type": "code",
   "execution_count": 21,
   "id": "f5c545ea",
   "metadata": {},
   "outputs": [
    {
     "data": {
      "image/png": "[encoded data removed]",
      "text/plain": [
       "<Figure size 432x288 with 1 Axes>"
      ]
     },
     "metadata": {
      "needs_background": "light"
     },
     "output_type": "display_data"
    }
   ],
   "source": [
    "sns.scatterplot(data = users_data, x = 'total_amount_usd', y = 'number_transactions', hue = 'marital');"
   ]
  },
  {
   "cell_type": "markdown",
   "id": "130a4be9",
   "metadata": {},
   "source": [
    "# Generate a line plot for total_amount_usd"
   ]
  },
  {
   "cell_type": "code",
   "execution_count": 22,
   "id": "a29db0c8",
   "metadata": {},
   "outputs": [
    {
     "data": {
      "image/png": "[encoded data removed]",
      "text/plain": [
       "<Figure size 432x288 with 1 Axes>"
      ]
     },
     "metadata": {
      "needs_background": "light"
     },
     "output_type": "display_data"
    }
   ],
   "source": [
    "years = users_data['date_joined'].dt.year\n",
    "\n",
    "sns.lineplot(data = users_data, x = years, y = 'total_amount_usd', estimator = np.mean);"
   ]
  },
  {
   "cell_type": "markdown",
   "id": "a6ed28d7",
   "metadata": {},
   "source": [
    "# Generate bar charts for job"
   ]
  },
  {
   "cell_type": "code",
   "execution_count": 23,
   "id": "43aaebce",
   "metadata": {},
   "outputs": [
    {
     "data": {
      "text/plain": [
       "blue-collar      9731\n",
       "management       9457\n",
       "technician       7597\n",
       "admin.           5171\n",
       "services         4154\n",
       "retired          2264\n",
       "self-employed    1579\n",
       "entrepreneur     1487\n",
       "unemployed       1303\n",
       "housemaid        1240\n",
       "student           938\n",
       "Name: job, dtype: int64"
      ]
     },
     "execution_count": 23,
     "metadata": {},
     "output_type": "execute_result"
    }
   ],
   "source": [
    "users_job_dist = users_data['job'].value_counts()\n",
    "users_job_dist"
   ]
  },
  {
   "cell_type": "code",
   "execution_count": 24,
   "id": "47879cca",
   "metadata": {},
   "outputs": [
    {
     "data": {
      "image/png": "[encoded data removed]",
      "text/plain": [
       "<Figure size 1152x720 with 1 Axes>"
      ]
     },
     "metadata": {},
     "output_type": "display_data"
    }
   ],
   "source": [
    "# Customize the plot\n",
    "sns.set(style=\"whitegrid\")\n",
    "plt.figure(figsize=(16, 10))\n",
    "\n",
    "# Create the bar plot\n",
    "sns.barplot(x=users_job_dist.index, y=users_job_dist.values.flatten())\n",
    "plt.title('Distribution of Jobs')\n",
    "plt.xlabel('Jobs')\n",
    "plt.ylabel('Count')\n",
    "\n",
    "plt.show();"
   ]
  },
  {
   "cell_type": "code",
   "execution_count": 25,
   "id": "ce5be74a",
   "metadata": {},
   "outputs": [
    {
     "data": {
      "image/png": "[encoded data removed]",
      "text/plain": [
       "<Figure size 720x432 with 1 Axes>"
      ]
     },
     "metadata": {},
     "output_type": "display_data"
    }
   ],
   "source": [
    "# Customize the plot\n",
    "sns.set(style=\"whitegrid\")\n",
    "plt.figure(figsize=(10, 6))\n",
    "\n",
    "# Create the horizontal bar plot\n",
    "sns.barplot(x=users_job_dist.values.flatten(), y=users_job_dist.index, orient='h')\n",
    "plt.title('Distribution of Jobs')\n",
    "plt.xlabel('Count')\n",
    "plt.ylabel('Jobs')\n",
    "\n",
    "plt.show();"
   ]
  },
  {
   "cell_type": "markdown",
   "id": "b7aa59ef",
   "metadata": {},
   "source": [
    "# Generate a bar chart for marital"
   ]
  },
  {
   "cell_type": "code",
   "execution_count": 26,
   "id": "90b6f002",
   "metadata": {},
   "outputs": [
    {
     "data": {
      "text/plain": [
       "married     27212\n",
       "single      12790\n",
       "divorced     5207\n",
       "Name: marital, dtype: int64"
      ]
     },
     "execution_count": 26,
     "metadata": {},
     "output_type": "execute_result"
    }
   ],
   "source": [
    "users_marital_dist = users_data['marital'].value_counts()\n",
    "users_marital_dist"
   ]
  },
  {
   "cell_type": "code",
   "execution_count": 27,
   "id": "b71a3a4e",
   "metadata": {},
   "outputs": [
    {
     "data": {
      "image/png": "[encoded data removed]",
      "text/plain": [
       "<Figure size 720x432 with 1 Axes>"
      ]
     },
     "metadata": {},
     "output_type": "display_data"
    }
   ],
   "source": [
    "# Customize the plot\n",
    "sns.set(style=\"whitegrid\")\n",
    "plt.figure(figsize=(10, 6))\n",
    "\n",
    "# Create the bar plot\n",
    "sns.barplot(x=users_marital_dist.index, y=users_marital_dist.values.flatten())\n",
    "plt.title('Distribution of Marital Status')\n",
    "plt.xlabel('Marital Status')\n",
    "plt.ylabel('Count')\n",
    "\n",
    "plt.show();"
   ]
  },
  {
   "cell_type": "markdown",
   "id": "2df01639",
   "metadata": {},
   "source": [
    "# Generate a bar chart for education"
   ]
  },
  {
   "cell_type": "code",
   "execution_count": 28,
   "id": "8bd441b8",
   "metadata": {},
   "outputs": [
    {
     "data": {
      "text/plain": [
       "secondary    23202\n",
       "tertiary     13300\n",
       "primary       6850\n",
       "Name: education, dtype: int64"
      ]
     },
     "execution_count": 28,
     "metadata": {},
     "output_type": "execute_result"
    }
   ],
   "source": [
    "users_education_dist = users_data['education'].value_counts()\n",
    "users_education_dist"
   ]
  },
  {
   "cell_type": "code",
   "execution_count": 29,
   "id": "24c7d723",
   "metadata": {},
   "outputs": [
    {
     "data": {
      "image/png": "[encoded data removed]",
      "text/plain": [
       "<Figure size 720x432 with 1 Axes>"
      ]
     },
     "metadata": {},
     "output_type": "display_data"
    }
   ],
   "source": [
    "# Customize the plot\n",
    "sns.set(style=\"whitegrid\")\n",
    "plt.figure(figsize=(10, 6))\n",
    "\n",
    "# Create the bar plot\n",
    "sns.barplot(x=users_education_dist.index, y=users_education_dist.values.flatten())\n",
    "plt.title('Distribution of Education')\n",
    "plt.xlabel('Education Level')\n",
    "plt.ylabel('Count')\n",
    "\n",
    "plt.show();"
   ]
  },
  {
   "cell_type": "markdown",
   "id": "3a900b8a",
   "metadata": {},
   "source": [
    "# Generate a bar chart for contact"
   ]
  },
  {
   "cell_type": "code",
   "execution_count": 30,
   "id": "c69b8cc6",
   "metadata": {},
   "outputs": [
    {
     "data": {
      "image/png": "[encoded data removed]",
      "text/plain": [
       "<Figure size 720x432 with 1 Axes>"
      ]
     },
     "metadata": {},
     "output_type": "display_data"
    }
   ],
   "source": [
    "users_contact_dist = users_data['contact'].value_counts()\n",
    "\n",
    "# Customize the plot\n",
    "sns.set(style=\"whitegrid\")\n",
    "plt.figure(figsize=(10, 6))\n",
    "\n",
    "# Create the bar plot\n",
    "sns.barplot(x=users_contact_dist.index, y=users_contact_dist.values.flatten())\n",
    "plt.title('Distribution of Contact')\n",
    "plt.xlabel('Contact')\n",
    "plt.ylabel('Count')\n",
    "\n",
    "plt.show();"
   ]
  },
  {
   "cell_type": "markdown",
   "id": "dd2961c6",
   "metadata": {},
   "source": [
    "# Generate a bar chart for poutcome"
   ]
  },
  {
   "cell_type": "code",
   "execution_count": 31,
   "id": "7647fe63",
   "metadata": {},
   "outputs": [
    {
     "data": {
      "image/png": "[encoded data removed]",
      "text/plain": [
       "<Figure size 720x432 with 1 Axes>"
      ]
     },
     "metadata": {},
     "output_type": "display_data"
    }
   ],
   "source": [
    "users_poutcome_dist = users_data['poutcome'].value_counts()\n",
    "\n",
    "# Customize the plot\n",
    "sns.set(style=\"whitegrid\")\n",
    "plt.figure(figsize=(10, 6))\n",
    "\n",
    "# Create the bar plot\n",
    "sns.barplot(x=users_poutcome_dist.index, y=users_poutcome_dist.values.flatten())\n",
    "plt.title('Distribution of Poutcome')\n",
    "plt.xlabel('Poutcome')\n",
    "plt.ylabel('Count')\n",
    "\n",
    "plt.show();"
   ]
  },
  {
   "cell_type": "markdown",
   "id": "86c4850c",
   "metadata": {},
   "source": [
    "# Generate a bar chart for default"
   ]
  },
  {
   "cell_type": "code",
   "execution_count": 34,
   "id": "67b8ecd0",
   "metadata": {},
   "outputs": [
    {
     "data": {
      "image/png": "[encoded data removed]",
      "text/plain": [
       "<Figure size 720x432 with 1 Axes>"
      ]
     },
     "metadata": {},
     "output_type": "display_data"
    }
   ],
   "source": [
    "users_device_dist = users_data['default'].value_counts()\n",
    "\n",
    "# Customize the plot\n",
    "sns.set(style=\"whitegrid\")\n",
    "plt.figure(figsize=(10, 6))\n",
    "\n",
    "# Create the bar plot\n",
    "sns.barplot(x=users_device_dist.index, y=users_device_dist.values.flatten())\n",
    "plt.title('Distribution of default')\n",
    "plt.xlabel('default')\n",
    "plt.ylabel('Count')\n",
    "\n",
    "plt.show();"
   ]
  },
  {
   "cell_type": "markdown",
   "id": "7eedfc0b",
   "metadata": {},
   "source": [
    "# Generate a bar chart for device"
   ]
  },
  {
   "cell_type": "code",
   "execution_count": 35,
   "id": "a24cb362",
   "metadata": {},
   "outputs": [
    {
     "data": {
      "image/png": "[encoded data removed]",
      "text/plain": [
       "<Figure size 720x432 with 1 Axes>"
      ]
     },
     "metadata": {},
     "output_type": "display_data"
    }
   ],
   "source": [
    "users_device_dist = users_data['device'].value_counts()\n",
    "\n",
    "# Customize the plot\n",
    "sns.set(style=\"whitegrid\")\n",
    "plt.figure(figsize=(10, 6))\n",
    "\n",
    "# Create the bar plot\n",
    "sns.barplot(x=users_device_dist.index, y=users_device_dist.values.flatten())\n",
    "plt.title('Distribution of Poutcome')\n",
    "plt.xlabel('Poutcome')\n",
    "plt.ylabel('Count')\n",
    "\n",
    "plt.show();"
   ]
  },
  {
   "cell_type": "markdown",
   "id": "cab4a729",
   "metadata": {},
   "source": [
    "# Generate a heatmap for the feature correlations"
   ]
  },
  {
   "cell_type": "code",
   "execution_count": 36,
   "id": "9d77c3aa",
   "metadata": {},
   "outputs": [
    {
     "data": {
      "image/png": "[encoded data removed]",
      "text/plain": [
       "<Figure size 720x540 with 2 Axes>"
      ]
     },
     "metadata": {},
     "output_type": "display_data"
    }
   ],
   "source": [
    "# Abs method make negative numbers positive.\n",
    "corr_matrix = users_data.corr().abs()\n",
    "fig = plt.figure(figsize = (10, 7.5))\n",
    "sns.heatmap(corr_matrix);"
   ]
  },
  {
   "cell_type": "markdown",
   "id": "464029cf",
   "metadata": {},
   "source": [
    "# Identify missing values"
   ]
  },
  {
   "cell_type": "code",
   "execution_count": 37,
   "id": "867f7ed3",
   "metadata": {},
   "outputs": [
    {
     "name": "stdout",
     "output_type": "stream",
     "text": [
      "The number of rows     45209\n",
      "****************************\n"
     ]
    },
    {
     "data": {
      "text/plain": [
       "user_id                    0\n",
       "number_transactions     9999\n",
       "total_amount_usd        9999\n",
       "age                        0\n",
       "job                      288\n",
       "marital                    0\n",
       "education               1857\n",
       "default                    0\n",
       "housing                    0\n",
       "loan                       0\n",
       "contact                13018\n",
       "duration                   0\n",
       "campaign                   0\n",
       "pdays                      0\n",
       "previous                   0\n",
       "poutcome               36957\n",
       "term_deposit               0\n",
       "date_joined               30\n",
       "device                    94\n",
       "dtype: int64"
      ]
     },
     "execution_count": 37,
     "metadata": {},
     "output_type": "execute_result"
    }
   ],
   "source": [
    "print(f'The number of rows     {users_data.shape[0]}\\n****************************')\n",
    "users_data.isnull().sum()"
   ]
  },
  {
   "cell_type": "markdown",
   "id": "75d8fd17",
   "metadata": {},
   "source": [
    "# Identify the percentage of missing values for each feature"
   ]
  },
  {
   "cell_type": "code",
   "execution_count": 38,
   "id": "064d1219",
   "metadata": {},
   "outputs": [
    {
     "data": {
      "text/plain": [
       "user_id                 0.00\n",
       "number_transactions    22.12\n",
       "total_amount_usd       22.12\n",
       "age                     0.00\n",
       "job                     0.64\n",
       "marital                 0.00\n",
       "education               4.11\n",
       "default                 0.00\n",
       "housing                 0.00\n",
       "loan                    0.00\n",
       "contact                28.80\n",
       "duration                0.00\n",
       "campaign                0.00\n",
       "pdays                   0.00\n",
       "previous                0.00\n",
       "poutcome               81.75\n",
       "term_deposit            0.00\n",
       "date_joined             0.07\n",
       "device                  0.21\n",
       "dtype: float64"
      ]
     },
     "execution_count": 38,
     "metadata": {},
     "output_type": "execute_result"
    }
   ],
   "source": [
    "percent_missing = (users_data.isnull().mean() * 100).round(2)\n",
    "percent_missing"
   ]
  },
  {
   "cell_type": "markdown",
   "id": "fffc3b27",
   "metadata": {},
   "source": [
    "# Complete the following function\n",
    "\n",
    "- Generate a missing value report"
   ]
  },
  {
   "cell_type": "code",
   "execution_count": 39,
   "id": "1d306675",
   "metadata": {},
   "outputs": [],
   "source": [
    "def missing_value_pct_df(data):\n",
    "    \"\"\"Create a DataFrame to summarize missing values.\"\"\"\n",
    "    \n",
    "    percent_missing = data.isnull().mean() \n",
    "    missing_value_df = pd.DataFrame(percent_missing).reset_index()\n",
    "    \n",
    "    missing_value_df = missing_value_df.rename(columns = {'index': 'column_name', 0: 'percent_missing'})\n",
    "\n",
    "    # Multiply by 100 and round to 2 decimal places.\n",
    "    missing_value_df['percent_missing'] = missing_value_df['percent_missing'].apply(lambda x: round(x * 100, 2)) \n",
    "\n",
    "    # Sort the dataframe.\n",
    "    missing_value_df = missing_value_df.sort_values(by = ['percent_missing'], ascending = False)\n",
    "\n",
    "    return missing_value_df"
   ]
  },
  {
   "cell_type": "code",
   "execution_count": 40,
   "id": "023562d0",
   "metadata": {},
   "outputs": [
    {
     "data": {
      "text/html": [
       "<div>\n",
       "<style scoped>\n",
       "    .dataframe tbody tr th:only-of-type {\n",
       "        vertical-align: middle;\n",
       "    }\n",
       "\n",
       "    .dataframe tbody tr th {\n",
       "        vertical-align: top;\n",
       "    }\n",
       "\n",
       "    .dataframe thead th {\n",
       "        text-align: right;\n",
       "    }\n",
       "</style>\n",
       "<table border=\"1\" class=\"dataframe\">\n",
       "  <thead>\n",
       "    <tr style=\"text-align: right;\">\n",
       "      <th></th>\n",
       "      <th>column_name</th>\n",
       "      <th>percent_missing</th>\n",
       "    </tr>\n",
       "  </thead>\n",
       "  <tbody>\n",
       "    <tr>\n",
       "      <th>15</th>\n",
       "      <td>poutcome</td>\n",
       "      <td>81.75</td>\n",
       "    </tr>\n",
       "    <tr>\n",
       "      <th>10</th>\n",
       "      <td>contact</td>\n",
       "      <td>28.80</td>\n",
       "    </tr>\n",
       "    <tr>\n",
       "      <th>2</th>\n",
       "      <td>total_amount_usd</td>\n",
       "      <td>22.12</td>\n",
       "    </tr>\n",
       "    <tr>\n",
       "      <th>1</th>\n",
       "      <td>number_transactions</td>\n",
       "      <td>22.12</td>\n",
       "    </tr>\n",
       "    <tr>\n",
       "      <th>6</th>\n",
       "      <td>education</td>\n",
       "      <td>4.11</td>\n",
       "    </tr>\n",
       "    <tr>\n",
       "      <th>4</th>\n",
       "      <td>job</td>\n",
       "      <td>0.64</td>\n",
       "    </tr>\n",
       "    <tr>\n",
       "      <th>18</th>\n",
       "      <td>device</td>\n",
       "      <td>0.21</td>\n",
       "    </tr>\n",
       "    <tr>\n",
       "      <th>17</th>\n",
       "      <td>date_joined</td>\n",
       "      <td>0.07</td>\n",
       "    </tr>\n",
       "    <tr>\n",
       "      <th>12</th>\n",
       "      <td>campaign</td>\n",
       "      <td>0.00</td>\n",
       "    </tr>\n",
       "    <tr>\n",
       "      <th>16</th>\n",
       "      <td>term_deposit</td>\n",
       "      <td>0.00</td>\n",
       "    </tr>\n",
       "    <tr>\n",
       "      <th>14</th>\n",
       "      <td>previous</td>\n",
       "      <td>0.00</td>\n",
       "    </tr>\n",
       "    <tr>\n",
       "      <th>13</th>\n",
       "      <td>pdays</td>\n",
       "      <td>0.00</td>\n",
       "    </tr>\n",
       "    <tr>\n",
       "      <th>0</th>\n",
       "      <td>user_id</td>\n",
       "      <td>0.00</td>\n",
       "    </tr>\n",
       "    <tr>\n",
       "      <th>11</th>\n",
       "      <td>duration</td>\n",
       "      <td>0.00</td>\n",
       "    </tr>\n",
       "    <tr>\n",
       "      <th>8</th>\n",
       "      <td>housing</td>\n",
       "      <td>0.00</td>\n",
       "    </tr>\n",
       "    <tr>\n",
       "      <th>7</th>\n",
       "      <td>default</td>\n",
       "      <td>0.00</td>\n",
       "    </tr>\n",
       "    <tr>\n",
       "      <th>5</th>\n",
       "      <td>marital</td>\n",
       "      <td>0.00</td>\n",
       "    </tr>\n",
       "    <tr>\n",
       "      <th>3</th>\n",
       "      <td>age</td>\n",
       "      <td>0.00</td>\n",
       "    </tr>\n",
       "    <tr>\n",
       "      <th>9</th>\n",
       "      <td>loan</td>\n",
       "      <td>0.00</td>\n",
       "    </tr>\n",
       "  </tbody>\n",
       "</table>\n",
       "</div>"
      ],
      "text/plain": [
       "            column_name  percent_missing\n",
       "15             poutcome            81.75\n",
       "10              contact            28.80\n",
       "2      total_amount_usd            22.12\n",
       "1   number_transactions            22.12\n",
       "6             education             4.11\n",
       "4                   job             0.64\n",
       "18               device             0.21\n",
       "17          date_joined             0.07\n",
       "12             campaign             0.00\n",
       "16         term_deposit             0.00\n",
       "14             previous             0.00\n",
       "13                pdays             0.00\n",
       "0               user_id             0.00\n",
       "11             duration             0.00\n",
       "8               housing             0.00\n",
       "7               default             0.00\n",
       "5               marital             0.00\n",
       "3                   age             0.00\n",
       "9                  loan             0.00"
      ]
     },
     "execution_count": 40,
     "metadata": {},
     "output_type": "execute_result"
    }
   ],
   "source": [
    "missing_value_df = missing_value_pct_df(users_data)\n",
    "missing_value_df"
   ]
  },
  {
   "cell_type": "markdown",
   "id": "be1e2627",
   "metadata": {},
   "source": [
    "# Remove features with a high percentage of missing values\n",
    "\n",
    "- Put a threshold"
   ]
  },
  {
   "cell_type": "code",
   "execution_count": 41,
   "id": "0cf2797b",
   "metadata": {},
   "outputs": [
    {
     "name": "stdout",
     "output_type": "stream",
     "text": [
      "Number of features to drop: 1\n",
      "Features with missing values greater than 60%: ['poutcome']\n"
     ]
    }
   ],
   "source": [
    "threshold = 60\n",
    "\n",
    "cols_to_drop = list(missing_value_df[missing_value_df['percent_missing'] > threshold]['column_name'])\n",
    "\n",
    "print('Number of features to drop:', missing_value_df[missing_value_df['percent_missing'] > threshold].shape[0])\n",
    "print(f'Features with missing values greater than {threshold}%:', cols_to_drop)"
   ]
  },
  {
   "cell_type": "code",
   "execution_count": 42,
   "id": "bebd57e7",
   "metadata": {},
   "outputs": [
    {
     "name": "stdout",
     "output_type": "stream",
     "text": [
      "After dropping ['poutcome'] column(s), number of features with missing values: 7.\n"
     ]
    }
   ],
   "source": [
    "users_data_cleaned = users_data.drop(cols_to_drop, axis = 1)\n",
    "\n",
    "missing_value_df = missing_value_pct_df(users_data_cleaned)\n",
    "missing_columns = list(missing_value_df[missing_value_df['percent_missing'] > 0]['column_name'])\n",
    "print(f'After dropping {cols_to_drop} column(s), number of features with missing values: {len(missing_columns)}.')"
   ]
  },
  {
   "cell_type": "code",
   "execution_count": 43,
   "id": "1305c541",
   "metadata": {},
   "outputs": [
    {
     "name": "stdout",
     "output_type": "stream",
     "text": [
      "The columns that have missing values :\n"
     ]
    },
    {
     "data": {
      "text/html": [
       "<div>\n",
       "<style scoped>\n",
       "    .dataframe tbody tr th:only-of-type {\n",
       "        vertical-align: middle;\n",
       "    }\n",
       "\n",
       "    .dataframe tbody tr th {\n",
       "        vertical-align: top;\n",
       "    }\n",
       "\n",
       "    .dataframe thead th {\n",
       "        text-align: right;\n",
       "    }\n",
       "</style>\n",
       "<table border=\"1\" class=\"dataframe\">\n",
       "  <thead>\n",
       "    <tr style=\"text-align: right;\">\n",
       "      <th></th>\n",
       "      <th>Column_name</th>\n",
       "    </tr>\n",
       "  </thead>\n",
       "  <tbody>\n",
       "    <tr>\n",
       "      <th>0</th>\n",
       "      <td>contact</td>\n",
       "    </tr>\n",
       "    <tr>\n",
       "      <th>1</th>\n",
       "      <td>total_amount_usd</td>\n",
       "    </tr>\n",
       "    <tr>\n",
       "      <th>2</th>\n",
       "      <td>number_transactions</td>\n",
       "    </tr>\n",
       "    <tr>\n",
       "      <th>3</th>\n",
       "      <td>education</td>\n",
       "    </tr>\n",
       "    <tr>\n",
       "      <th>4</th>\n",
       "      <td>job</td>\n",
       "    </tr>\n",
       "    <tr>\n",
       "      <th>5</th>\n",
       "      <td>device</td>\n",
       "    </tr>\n",
       "    <tr>\n",
       "      <th>6</th>\n",
       "      <td>date_joined</td>\n",
       "    </tr>\n",
       "  </tbody>\n",
       "</table>\n",
       "</div>"
      ],
      "text/plain": [
       "           Column_name\n",
       "0              contact\n",
       "1     total_amount_usd\n",
       "2  number_transactions\n",
       "3            education\n",
       "4                  job\n",
       "5               device\n",
       "6          date_joined"
      ]
     },
     "execution_count": 43,
     "metadata": {},
     "output_type": "execute_result"
    }
   ],
   "source": [
    "print('The columns that have missing values :')\n",
    "pd.DataFrame(missing_columns, columns = ['Column_name'])"
   ]
  },
  {
   "cell_type": "markdown",
   "id": "9ca72dae",
   "metadata": {},
   "source": [
    "# Identify numerical data with missing values"
   ]
  },
  {
   "cell_type": "code",
   "execution_count": 44,
   "id": "1ee6e907",
   "metadata": {},
   "outputs": [
    {
     "name": "stdout",
     "output_type": "stream",
     "text": [
      "Numerical features with missing values: ['number_transactions', 'total_amount_usd']\n"
     ]
    },
    {
     "data": {
      "text/html": [
       "<div>\n",
       "<style scoped>\n",
       "    .dataframe tbody tr th:only-of-type {\n",
       "        vertical-align: middle;\n",
       "    }\n",
       "\n",
       "    .dataframe tbody tr th {\n",
       "        vertical-align: top;\n",
       "    }\n",
       "\n",
       "    .dataframe thead th {\n",
       "        text-align: right;\n",
       "    }\n",
       "</style>\n",
       "<table border=\"1\" class=\"dataframe\">\n",
       "  <thead>\n",
       "    <tr style=\"text-align: right;\">\n",
       "      <th></th>\n",
       "      <th>Numerical_columns</th>\n",
       "    </tr>\n",
       "  </thead>\n",
       "  <tbody>\n",
       "    <tr>\n",
       "      <th>0</th>\n",
       "      <td>number_transactions</td>\n",
       "    </tr>\n",
       "    <tr>\n",
       "      <th>1</th>\n",
       "      <td>total_amount_usd</td>\n",
       "    </tr>\n",
       "  </tbody>\n",
       "</table>\n",
       "</div>"
      ],
      "text/plain": [
       "     Numerical_columns\n",
       "0  number_transactions\n",
       "1     total_amount_usd"
      ]
     },
     "execution_count": 44,
     "metadata": {},
     "output_type": "execute_result"
    }
   ],
   "source": [
    "dtypes = ['int64', 'float64']\n",
    "numerical_columns = list(users_data_cleaned.select_dtypes(dtypes).columns)\n",
    "numerical_missing_columns = list(set(numerical_columns).intersection(missing_columns))\n",
    "print('Numerical features with missing values:', numerical_missing_columns)\n",
    "pd.DataFrame(numerical_missing_columns, columns = ['Numerical_columns'])"
   ]
  },
  {
   "cell_type": "markdown",
   "id": "9a2c662f",
   "metadata": {},
   "source": [
    "# Impute missing data values for total_amount_usd"
   ]
  },
  {
   "cell_type": "code",
   "execution_count": 45,
   "id": "220af0e3",
   "metadata": {},
   "outputs": [
    {
     "data": {
      "text/plain": [
       "9999"
      ]
     },
     "execution_count": 45,
     "metadata": {},
     "output_type": "execute_result"
    }
   ],
   "source": [
    "users_data_cleaned['total_amount_usd'].isnull().sum()"
   ]
  },
  {
   "cell_type": "code",
   "execution_count": 46,
   "id": "adb4b6aa",
   "metadata": {},
   "outputs": [
    {
     "name": "stdout",
     "output_type": "stream",
     "text": [
      "Mean total_amount_usd: 1369.42\n"
     ]
    }
   ],
   "source": [
    "# Print mean of total_amount_usd.\n",
    "tot_amt_usd_mean = round(users_data_cleaned['total_amount_usd'].mean(), 2)\n",
    "print('Mean total_amount_usd:', tot_amt_usd_mean)\n",
    "\n",
    "# Impute missing values for total_amount_usd with mean.\n",
    "users_data_cleaned['total_amount_usd'].fillna(tot_amt_usd_mean, inplace = True)"
   ]
  },
  {
   "cell_type": "code",
   "execution_count": 47,
   "id": "c8d28d33",
   "metadata": {},
   "outputs": [
    {
     "data": {
      "text/plain": [
       "0"
      ]
     },
     "execution_count": 47,
     "metadata": {},
     "output_type": "execute_result"
    }
   ],
   "source": [
    "users_data_cleaned['total_amount_usd'].isnull().sum()"
   ]
  },
  {
   "cell_type": "markdown",
   "id": "916d19bf",
   "metadata": {},
   "source": [
    "# Replace missing values for number_transactions with 0"
   ]
  },
  {
   "cell_type": "code",
   "execution_count": 48,
   "id": "6e38157e",
   "metadata": {},
   "outputs": [
    {
     "data": {
      "text/plain": [
       "9999"
      ]
     },
     "execution_count": 48,
     "metadata": {},
     "output_type": "execute_result"
    }
   ],
   "source": [
    "users_data_cleaned['number_transactions'].isnull().sum()"
   ]
  },
  {
   "cell_type": "code",
   "execution_count": 49,
   "id": "347c06fd",
   "metadata": {},
   "outputs": [],
   "source": [
    "users_data_cleaned['number_transactions'].fillna(0, inplace = True)"
   ]
  },
  {
   "cell_type": "code",
   "execution_count": 50,
   "id": "712ddc0d",
   "metadata": {},
   "outputs": [
    {
     "data": {
      "text/plain": [
       "0"
      ]
     },
     "execution_count": 50,
     "metadata": {},
     "output_type": "execute_result"
    }
   ],
   "source": [
    "users_data_cleaned['number_transactions'].isnull().sum()"
   ]
  },
  {
   "cell_type": "markdown",
   "id": "45272676",
   "metadata": {},
   "source": [
    "# Identify categorical data with missing values"
   ]
  },
  {
   "cell_type": "code",
   "execution_count": 51,
   "id": "018491f4",
   "metadata": {},
   "outputs": [
    {
     "name": "stdout",
     "output_type": "stream",
     "text": [
      "Object and boolean type features (10) :\n",
      "\n",
      "['user_id', 'job', 'marital', 'education', 'default', 'housing', 'loan', 'contact', 'term_deposit', 'device']\n",
      "\n",
      "\n",
      "\n",
      "*************************************************************************************************************\n",
      "\n",
      "\n",
      "\n",
      "Categorical features with missing values (4) :\n",
      "\n",
      "['contact', 'education', 'device', 'job']\n"
     ]
    }
   ],
   "source": [
    "dtypes = ['object', 'bool']\n",
    "nonnumbers_columns = list(users_data_cleaned.select_dtypes(dtypes).columns)\n",
    "categorical_columns = list(set(nonnumbers_columns).intersection(missing_columns))\n",
    "\n",
    "print(f'Object and boolean type features ({len(nonnumbers_columns)}) :\\n\\n{nonnumbers_columns}')\n",
    "print('\\n\\n\\n*************************************************************************************************************\\n\\n\\n')\n",
    "print(f'Categorical features with missing values ({len(categorical_columns)}) :\\n\\n{categorical_columns}')"
   ]
  },
  {
   "cell_type": "markdown",
   "id": "889f286f",
   "metadata": {},
   "source": [
    "# Deal with categorical missing values\n",
    "\n",
    "- Use 'Unkown' replace value or Mode method (imputation).\n",
    "- It depends on the insights you have find before in the data visualization."
   ]
  },
  {
   "cell_type": "code",
   "execution_count": 52,
   "id": "e3960e06",
   "metadata": {},
   "outputs": [
    {
     "name": "stdout",
     "output_type": "stream",
     "text": [
      "Device 94\n",
      "Education 1857\n",
      "Contact 13018\n",
      "Job 288\n"
     ]
    }
   ],
   "source": [
    "print('Device', users_data_cleaned['device'].isnull().sum())\n",
    "print('Education', users_data_cleaned['education'].isnull().sum())\n",
    "print('Contact', users_data_cleaned['contact'].isnull().sum())\n",
    "print('Job', users_data_cleaned['job'].isnull().sum())"
   ]
  },
  {
   "cell_type": "code",
   "execution_count": 53,
   "id": "11460562",
   "metadata": {},
   "outputs": [],
   "source": [
    "users_data_cleaned['device'].fillna('Unknown', inplace = True)\n",
    "users_data_cleaned['education'].fillna('Unknown', inplace = True)\n",
    "users_data_cleaned['contact'].fillna('Unknown', inplace = True)\n",
    "users_data_cleaned['job'].fillna('Unknown', inplace = True)"
   ]
  },
  {
   "cell_type": "code",
   "execution_count": 54,
   "id": "52ff26a0",
   "metadata": {},
   "outputs": [
    {
     "name": "stdout",
     "output_type": "stream",
     "text": [
      "************************ CONTACT ************************\n",
      "cellular     29285\n",
      "Unknown      13018\n",
      "telephone     2906\n",
      "Name: contact, dtype: int64\n",
      "\n",
      "\n",
      "************************ EDUCATION ************************\n",
      "secondary    23202\n",
      "tertiary     13300\n",
      "primary       6850\n",
      "Unknown       1857\n",
      "Name: education, dtype: int64\n",
      "\n",
      "\n",
      "************************ DEVICE ************************\n",
      "mobile     27504\n",
      "desktop    12112\n",
      "tablet      5499\n",
      "Unknown       94\n",
      "Name: device, dtype: int64\n",
      "\n",
      "\n",
      "************************ JOB ************************\n",
      "blue-collar      9731\n",
      "management       9457\n",
      "technician       7597\n",
      "admin.           5171\n",
      "services         4154\n",
      "retired          2264\n",
      "self-employed    1579\n",
      "entrepreneur     1487\n",
      "unemployed       1303\n",
      "housemaid        1240\n",
      "student           938\n",
      "Unknown           288\n",
      "Name: job, dtype: int64\n",
      "\n",
      "\n"
     ]
    }
   ],
   "source": [
    "for i in categorical_columns:\n",
    "    print('************************', i.upper(), '************************')\n",
    "    print(users_data_cleaned[i].value_counts())\n",
    "    print('\\n')"
   ]
  },
  {
   "cell_type": "code",
   "execution_count": 55,
   "id": "1c170a42",
   "metadata": {},
   "outputs": [
    {
     "name": "stdout",
     "output_type": "stream",
     "text": [
      "Device 0\n",
      "Education 0\n",
      "Contact 0\n",
      "Job 0\n"
     ]
    }
   ],
   "source": [
    "print('Device', users_data_cleaned['device'].isnull().sum())\n",
    "print('Education', users_data_cleaned['education'].isnull().sum())\n",
    "print('Contact', users_data_cleaned['contact'].isnull().sum())\n",
    "print('Job', users_data_cleaned['job'].isnull().sum())"
   ]
  },
  {
   "cell_type": "markdown",
   "id": "a22b4b2f",
   "metadata": {},
   "source": [
    "# Check if there are any other missing values"
   ]
  },
  {
   "cell_type": "code",
   "execution_count": 56,
   "id": "4025f59f",
   "metadata": {},
   "outputs": [
    {
     "name": "stdout",
     "output_type": "stream",
     "text": [
      "Number of features with missing values: 1\n",
      "Features with missing values: ['date_joined']\n"
     ]
    }
   ],
   "source": [
    "missing_value_df = missing_value_pct_df(users_data_cleaned)\n",
    "missing_columns = list(missing_value_df[missing_value_df['percent_missing'] > 0]['column_name'])\n",
    "\n",
    "print('Number of features with missing values:', len(missing_columns))\n",
    "print('Features with missing values:', missing_columns)"
   ]
  },
  {
   "cell_type": "markdown",
   "id": "1227af02",
   "metadata": {},
   "source": [
    "# Remove all rows where date_joined is missing"
   ]
  },
  {
   "cell_type": "code",
   "execution_count": 57,
   "id": "854c32f6",
   "metadata": {},
   "outputs": [
    {
     "data": {
      "text/plain": [
       "45209"
      ]
     },
     "execution_count": 57,
     "metadata": {},
     "output_type": "execute_result"
    }
   ],
   "source": [
    "users_data_cleaned.shape[0]"
   ]
  },
  {
   "cell_type": "code",
   "execution_count": 58,
   "id": "f206866d",
   "metadata": {},
   "outputs": [
    {
     "name": "stdout",
     "output_type": "stream",
     "text": [
      "Number of users with corrupted data: 30\n"
     ]
    }
   ],
   "source": [
    "print('Number of users with corrupted data:', users_data_cleaned[users_data_cleaned['date_joined'].isnull()].shape[0])"
   ]
  },
  {
   "cell_type": "code",
   "execution_count": 59,
   "id": "6c9fada5",
   "metadata": {},
   "outputs": [],
   "source": [
    "# Remove corrupted data.\n",
    "users_data_cleaned = users_data_cleaned[users_data_cleaned['date_joined'].notnull()]"
   ]
  },
  {
   "cell_type": "code",
   "execution_count": 60,
   "id": "9c8aa39f",
   "metadata": {},
   "outputs": [
    {
     "name": "stdout",
     "output_type": "stream",
     "text": [
      "Number of users with corrupted data: 0\n"
     ]
    }
   ],
   "source": [
    "# Check to see if any corrupted rows remain.\n",
    "print('Number of users with corrupted data:', users_data_cleaned[users_data_cleaned['date_joined'].isnull()].shape[0])"
   ]
  },
  {
   "cell_type": "code",
   "execution_count": 61,
   "id": "da974a57",
   "metadata": {},
   "outputs": [
    {
     "data": {
      "text/plain": [
       "45179"
      ]
     },
     "execution_count": 61,
     "metadata": {},
     "output_type": "execute_result"
    }
   ],
   "source": [
    "users_data_cleaned.shape[0]"
   ]
  },
  {
   "cell_type": "markdown",
   "id": "9dd79776",
   "metadata": {},
   "source": [
    "# Perform one last check for missing values"
   ]
  },
  {
   "cell_type": "code",
   "execution_count": 62,
   "id": "67c314d1",
   "metadata": {},
   "outputs": [
    {
     "name": "stdout",
     "output_type": "stream",
     "text": [
      "Number of features with missing values: 0\n"
     ]
    }
   ],
   "source": [
    "missing_value_df = missing_value_pct_df(users_data_cleaned)\n",
    "missing_columns = list(missing_value_df[missing_value_df['percent_missing'] > 0]['column_name'])\n",
    "\n",
    "print('Number of features with missing values:', len(missing_columns))"
   ]
  },
  {
   "cell_type": "code",
   "execution_count": null,
   "id": "2e74c17f",
   "metadata": {},
   "outputs": [],
   "source": []
  },
  {
   "cell_type": "code",
   "execution_count": null,
   "id": "23d20e9d",
   "metadata": {},
   "outputs": [],
   "source": []
  }
 ],
 "metadata": {
  "kernelspec": {
   "display_name": "Python 3 (ipykernel)",
   "language": "python",
   "name": "python3"
  },
  "language_info": {
   "codemirror_mode": {
    "name": "ipython",
    "version": 3
   },
   "file_extension": ".py",
   "mimetype": "text/x-python",
   "name": "python",
   "nbconvert_exporter": "python",
   "pygments_lexer": "ipython3",
   "version": "3.9.12"
  }
 },
 "nbformat": 4,
 "nbformat_minor": 5
}
