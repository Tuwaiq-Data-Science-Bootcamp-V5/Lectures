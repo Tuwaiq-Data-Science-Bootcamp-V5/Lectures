{
 "cells": [
  {
   "cell_type": "code",
   "execution_count": null,
   "id": "75b01be5",
   "metadata": {},
   "outputs": [],
   "source": [
    "import pandas as pd\n",
    "import plotly.express as px"
   ]
  },
  {
   "cell_type": "code",
   "execution_count": null,
   "id": "bed7cba8",
   "metadata": {},
   "outputs": [],
   "source": [
    "df = pd.read_csv('avocado-updated-2020.csv')\n",
    "df.info()"
   ]
  },
  {
   "cell_type": "code",
   "execution_count": null,
   "id": "8509bb96",
   "metadata": {},
   "outputs": [],
   "source": [
    "fig = df['geography'] == 'Boston'\n",
    "px.line(df[fig] , x= 'date' , y='average_price',color ='type')"
   ]
  },
  {
   "cell_type": "code",
   "execution_count": null,
   "id": "36d75767",
   "metadata": {},
   "outputs": [],
   "source": [
    "from jupyter_dash import JupyterDash\n",
    "import dash_html_components as html \n",
    "import dash_bootstrap_components as dbc\n",
    "import dash_core_components as dcc\n",
    "from dash.dependencies import Input, Output"
   ]
  },
  {
   "cell_type": "code",
   "execution_count": null,
   "id": "ac96a4f3",
   "metadata": {},
   "outputs": [],
   "source": [
    "app = JupyterDash(external_stylesheets=[dbc.themes.LUX])\n",
    "\n",
    "#app layout\n",
    "app.layout = html.Div(children = [\n",
    "    \n",
    "    html.Br([]),\n",
    "    \n",
    "    html.H1('Avocado price dash app', style = {'text-align':'center' ,  'color': 'white'}),\n",
    "    \n",
    "    html.P('25-1-2023 wensday plotly dash' , style = {'text-align':'center' , 'color': 'gray',\"padding\": \"20px\"}),\n",
    "    \n",
    "    #dropdown\n",
    "    dcc.Dropdown(\n",
    "        id='my-drop',\n",
    "        options=[{'label':i , 'value':i}\n",
    "        for i in df['geography'].unique()]\n",
    "    ),\n",
    "    \n",
    "    #garph\n",
    "    dcc.Graph(id='my-graph'),\n",
    "\n",
    "])\n",
    "\n",
    "@app.callback(\n",
    "    Output('my-graph', 'figure'),\n",
    "    Input('my-drop','value')\n",
    ")\n",
    "\n",
    "def update_graph(selected_geography):\n",
    "    \n",
    "    fillter_df = df[df['geography']==selected_geography ]\n",
    "    \n",
    "    line_chart = px.line(fillter_df , x='date' , y='average_price' , \n",
    "                         color='type' , \n",
    "                         title = f'Avocado price in {selected_geography}')\n",
    "    \n",
    "    return line_chart\n",
    "\n",
    "if __name__ == '__main__':\n",
    "    app.run_server()"
   ]
  },
  {
   "cell_type": "code",
   "execution_count": null,
   "id": "c84315aa",
   "metadata": {},
   "outputs": [],
   "source": []
  }
 ],
 "metadata": {
  "kernelspec": {
   "display_name": "Python 3 (ipykernel)",
   "language": "python",
   "name": "python3"
  },
  "language_info": {
   "codemirror_mode": {
    "name": "ipython",
    "version": 3
   },
   "file_extension": ".py",
   "mimetype": "text/x-python",
   "name": "python",
   "nbconvert_exporter": "python",
   "pygments_lexer": "ipython3",
   "version": "3.9.12"
  }
 },
 "nbformat": 4,
 "nbformat_minor": 5
}
