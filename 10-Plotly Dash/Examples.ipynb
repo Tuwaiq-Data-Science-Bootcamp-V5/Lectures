{
 "cells": [
  {
   "cell_type": "markdown",
   "id": "118746d6",
   "metadata": {},
   "source": [
    "# Example 1"
   ]
  },
  {
   "cell_type": "code",
   "execution_count": null,
   "id": "4fffda6f",
   "metadata": {},
   "outputs": [],
   "source": [
    "import warnings\n",
    "warnings.filterwarnings('ignore')\n",
    "\n",
    "from jupyter_dash import JupyterDash\n",
    "from dash import html\n",
    "\n",
    "app = JupyterDash('Test')\n",
    "\n",
    "app.layout = html.Div([\n",
    "    html.H1('Hello, World!')\n",
    "])\n",
    "\n",
    "if __name__ == '__main__':\n",
    "    app.run_server()"
   ]
  },
  {
   "cell_type": "markdown",
   "id": "6560b70e",
   "metadata": {},
   "source": [
    "# Example 2"
   ]
  },
  {
   "cell_type": "code",
   "execution_count": null,
   "id": "3c1bebba",
   "metadata": {},
   "outputs": [],
   "source": [
    "import warnings\n",
    "warnings.filterwarnings('ignore')\n",
    "\n",
    "from jupyter_dash import JupyterDash\n",
    "from dash import html\n",
    "import dash_core_components as dcc\n",
    "\n",
    "app = JupyterDash('Test')\n",
    "\n",
    "app.layout = html.Div([\n",
    "    dcc.Checklist(\n",
    "        ['New York City', 'Montréal', 'San Francisco'],\n",
    "        ['New York City', 'Montréal']\n",
    "    )\n",
    "])\n",
    "\n",
    "if __name__ == '__main__':\n",
    "    app.run_server()"
   ]
  },
  {
   "cell_type": "markdown",
   "id": "275a85df",
   "metadata": {},
   "source": [
    "# Example 3"
   ]
  },
  {
   "cell_type": "code",
   "execution_count": null,
   "id": "b2b6c3bb",
   "metadata": {},
   "outputs": [],
   "source": [
    "import warnings\n",
    "warnings.filterwarnings('ignore')\n",
    "\n",
    "from jupyter_dash import JupyterDash\n",
    "from dash import html\n",
    "import dash_core_components as dcc\n",
    "\n",
    "app = JupyterDash('Test')\n",
    "\n",
    "app.layout = html.Div([\n",
    "    dcc.Dropdown(\n",
    "        ['NYC', 'MTL', 'SF'], \n",
    "        'NYC', \n",
    "        id='demo-dropdown'\n",
    "    )\n",
    "])\n",
    "\n",
    "if __name__ == '__main__':\n",
    "    app.run_server()"
   ]
  },
  {
   "cell_type": "markdown",
   "id": "cbc25c02",
   "metadata": {},
   "source": [
    "# Example 4"
   ]
  },
  {
   "cell_type": "code",
   "execution_count": null,
   "id": "b935d12b",
   "metadata": {},
   "outputs": [],
   "source": [
    "import warnings\n",
    "warnings.filterwarnings('ignore')\n",
    "\n",
    "from jupyter_dash import JupyterDash\n",
    "from dash import html\n",
    "import dash_core_components as dcc\n",
    "\n",
    "app = JupyterDash('Test')\n",
    "\n",
    "app.layout = html.Div([\n",
    "    html.Label('Choose from RangeSlider'),\n",
    "    \n",
    "    dcc.RangeSlider(0, 20, 1, value=[15, 5], id='my-range-slider'),\n",
    "    \n",
    "    html.Div(id='output-container-range-slider')\n",
    "])\n",
    "\n",
    "if __name__ == '__main__':\n",
    "    app.run_server()"
   ]
  },
  {
   "cell_type": "markdown",
   "id": "da27d62c",
   "metadata": {},
   "source": [
    "# Example 5"
   ]
  },
  {
   "cell_type": "code",
   "execution_count": null,
   "id": "478ff5f5",
   "metadata": {},
   "outputs": [],
   "source": [
    "import warnings\n",
    "warnings.filterwarnings('ignore')\n",
    "\n",
    "import dash_bootstrap_components as dbc\n",
    "from jupyter_dash import JupyterDash\n",
    "from dash import html\n",
    "\n",
    "app = JupyterDash(\n",
    "    __name__,\n",
    "    external_stylesheets=[dbc.themes.SPACELAB, dbc.icons.BOOTSTRAP]\n",
    ")\n",
    "\n",
    "card =  dbc.Card(\n",
    "    dbc.CardBody(\n",
    "        [\n",
    "            html.H1(\"الحضور\"),\n",
    "            html.H3(\"1k\")\n",
    "        ],\n",
    "    ),\n",
    ")\n",
    "\n",
    "app.layout = dbc.Container(card)\n",
    "\n",
    "if __name__ == '__main__':\n",
    "    app.run_server()"
   ]
  },
  {
   "cell_type": "markdown",
   "id": "ec34219e",
   "metadata": {},
   "source": [
    "# Example 6"
   ]
  },
  {
   "cell_type": "code",
   "execution_count": null,
   "id": "9e2ef68b",
   "metadata": {},
   "outputs": [],
   "source": [
    "import warnings\n",
    "warnings.filterwarnings('ignore')\n",
    "\n",
    "import dash_bootstrap_components as dbc\n",
    "from jupyter_dash import JupyterDash\n",
    "from dash import html\n",
    "\n",
    "app = JupyterDash(\n",
    "    __name__,\n",
    "    external_stylesheets=[dbc.themes.SPACELAB, dbc.icons.BOOTSTRAP]\n",
    ")\n",
    "\n",
    "card =  dbc.Card(\n",
    "     dbc.CardBody(\n",
    "         [\n",
    "             html.H1(\"الحضور\"),\n",
    "             html.H3(\"1K\", className=\"text-danger\")\n",
    "         ],\n",
    "     ),\n",
    "     className=\"text-center\"\n",
    " )\n",
    "\n",
    "app.layout=dbc.Container(card)\n",
    "\n",
    "if __name__ == '__main__':\n",
    "    app.run_server()"
   ]
  },
  {
   "cell_type": "markdown",
   "id": "9a826009",
   "metadata": {},
   "source": [
    "# Example 7"
   ]
  },
  {
   "cell_type": "code",
   "execution_count": null,
   "id": "51933fd7",
   "metadata": {},
   "outputs": [],
   "source": [
    "import warnings\n",
    "warnings.filterwarnings('ignore')\n",
    "\n",
    "import dash_bootstrap_components as dbc\n",
    "from jupyter_dash import JupyterDash\n",
    "from dash import html\n",
    "\n",
    "app = JupyterDash(\n",
    "    __name__,\n",
    "    external_stylesheets=[dbc.themes.SPACELAB, dbc.icons.BOOTSTRAP]\n",
    ")\n",
    "\n",
    "card = dbc.Card(\n",
    "     dbc.CardBody(\n",
    "         [\n",
    "             html.H1(children=[html.I(className=\"bi bi-people-fill\"), \"الحضور \"]),\n",
    "             html.H3(\"1K\"),\n",
    "             html.H6(html.I(\"في أكاديمية طويق\", className=\" text-success\")),\n",
    "         ],\n",
    "     ),\n",
    "     className=\"text-center m-4 bg-primary text-white\",\n",
    " )\n",
    "\n",
    "app.layout=dbc.Container(card)\n",
    "\n",
    "if __name__ == '__main__':\n",
    "    app.run_server()"
   ]
  },
  {
   "cell_type": "markdown",
   "id": "e403fa5a",
   "metadata": {},
   "source": [
    "# Example 8"
   ]
  },
  {
   "cell_type": "code",
   "execution_count": null,
   "id": "59413f59",
   "metadata": {},
   "outputs": [],
   "source": [
    "import warnings\n",
    "warnings.filterwarnings('ignore')\n",
    "\n",
    "import dash_bootstrap_components as dbc\n",
    "from jupyter_dash import JupyterDash\n",
    "from dash import html\n",
    "\n",
    "app = JupyterDash(__name__, external_stylesheets=[dbc.themes.SPACELAB])\n",
    "\n",
    "img = 'data:image/png;base64,iVBORw0KGgoAAAANSUhEUgAAAOAAAADgCAMAAAAt85rTAAABNVBMVEX///9YWFjp6ek4ODj4+PhAQEA7OzuRkZH09PTi4uLPz8/Y2NhkZGRDQ0MxMTFycnLHx8eBgYFPT0+goKCnp6eysrJKSkq7u7sAyv94eHjv/f5paWmLi4v59/+Giv9RqP+Mh/8A7dMA4OxHrv9bov8lwf9mnP8A5OMA8Mstvf8A1P86tf/y7v91lP+Wgf8A3vEA6Nze+P/d6f8A2/Xj/PoA2PvAaf/I8//Xz/+Xc/+kq/+wbf+3n//FX//U3f+kef+DrP/o5P9R6PC91P+lx//K/PN67+963P91v/+fjv+K8+qf8vR55f/Etf9o8Oa14P+Cof9Z4/lT0/+Cuf+Ylf/t2f+Jzf+0vv9zf//Ppv986veW4f+e1/929d9T9dcXFxfQjP/Fe//Zs//GUP/vyv8A87/nqv/0FGQpAAARVUlEQVR4nO2cCX/TuNaHvcmW93iT6yxt6ZKZli40FFoKhJaUoYUBSguUZbgwc+97v/9HuDqSnThNCgUKjvv6/4NY8ZLqsY50pCPZglCpUqVKlSpVqnRJqj/ZLDoLP1WbH3//16OiM/ET9eja71RXl/DRNQZ4VQnrlO8aR/x4FSvi5nPA+/joIyBewYpYf37jxrVrz+uC8JGV4lUrw/oN0JM6pJ8wwqtVhpu//fbbjRtP029PoCr+60qV4R8U8Lc/+l85YYH5uWw9ZXzMPrllXjHCp3Nzfb7/+8h2PWFNaqG5ujxtzFGlfOAE2U7mNJ4Umq/L0tb6+tzcwz5fSlhnhFeioXm/TgkZCe+K/v47Kzjm+K9CEW6t31xf34JU/VomxsV6buX3hvWXN2/eTB3gkz4h43oKqXqRmbsMvb9169ZLoNikH09upIDPmcleBSPdoHy3WOr5DUaY6jns2oTuacmN9NbyrVusAkJfpp66/H635tGNrDDLqg/Ly8t/MgNlVJtppw0EJbcJQ4wyG+nG8tTyMhRg/SE4+7mHQAjdGipIC0/BXEvcznyYmpp6DPl/OsdF/X3KOjfHmtbnWX0spTYo3xQU4MZ6pjkgTNNwZBOGUaVtZx4v0gJkqS3whkwvKS5LUEI48pwSlrUI60uLi4tgoFt1YePlrVQf6HfY3rx5C4yUtT5Pv/ZTk6m/lhaXoAA3oCGt/0kb1IzwzxR2Q+CO449StjMbS1SQc0Db4oRMG/30n0KZi/Cv69ev/0W3W8tTU4zq8VRKCPuYSl2EGwfXry8BwGNoS6fAHfLU1BRUw/5OXoQlBHwxPz//hm43jvtY9YyQci2zBHOSD4cCUmVR62Bm/qADqa1j2pguTi0ufuCOY2pq8bjOfeTUFBTxJvRtCs7ut6szMzNzAOVDG9DHi0xLH+obxzxJWT+wxDGc+zDr15RJJwszM1CA9UVqj1tvlpiON+qPeYqVJgiKcGsuC9qUSO2FhQXYvri+BC3Jm+tMixT4+hL3HxsZKe+ebhWb329Vr91u9yABWG8UAGVaolws8Yb7kevMUz5dn5t7X3COv1GnFHAFEjO0MWWtTedgnvLMH7Q2OOoLoZ5uWWRx/WGpBr6to3Z7t0UT9RcHjPAFOMZ5lqy/4NuW8BdFZq6k/p6OM0plo93V1dV9nuwczMzMz8xTe1UOeHEKnLTDkQ+gmXmfhRbLolMK2KXbTqfFPcbMTI9WxAOWOuBbWoQ92MJ5W3T8VKZ2tLUzvXoETqK3cNJtCa3eDG1TTygrI1roMeSFDkeHtgiip+slAtx7NT29Q3laJ+02RaSFeNJeaJ90evsLTN0efM4IKycpuPCSjg9LBNidnZ0+pdvObhu0TxEoKmVk/xfaCwy03RLYFgAhPlyizsz22uw0q4JHba79LkPlvO3u7gnwtk+EDjCDLcMg/2XR2b6wWs/W1g73INE7ba+utul/+tFe3T89AuLd3j7rCLRpNQVk1twuZxHwMqh1b23tVYslle7+aqbd7u5Kb3X/aHX1tLPL9vSE3mp79QhOhHhGoZn+Fq08eLB2CIk9oOylfNMrR6fC0WnnqNPpdY/YrqOuABs49SWLZZREK3cf3NmG7fTbnZXtaSrg2xGOuqf0Y0ehbiSDPqIpVl0hSlOa7uh2Bvh2evbt7HSqHWFlZ2eFesgu/RiIAsK5W1M8BlUKvbt79y5kurs2m9Or01evus/ezr7d2X47ndcsnEtH+OUChEb02Z01Lk64NrtHm9dXz1r3Zof0FlwmhDCOi874RfXu9t27LNHavne41tfhyrM7O7TluTfYtTb7amebnVo/LhHg59u372fp1vYzCglFebhHS/Rw5/BOn+7VvWevW+l5pQK8TwFXBl9X9l5Tynv3Du9kWqPfnm3vreROgnDUcVl6o/+mhH+/e53f1aJaGYh+G7pig0WgpsoyJPz3/fv3b9N//+yd4RirVguCM0swFVUWwP9+BkKq+5/fbb/+EmOr0+3RYT2PRy1+KIuJCiv/yRBv3/373T/br1+POanT6e6fwIh3nhG+eVGanhqotffPbaiK1GHcvfvgwYPDw3vbffV6vd3d3SM6IqSjXh7FeNMqTekNtPfP59sDxAd3uH94SwfD0DddZUNDGNifvOgUndXv1t5/3r37/PffKWPWq+G9bzqYONo92e+Vl46rtff69evt7XvgCB+AD4TeC9Vpt9vprFyglS2JWjlPyNJFZ6hSpUqV/l/JqBlK0Xn4mYosN7jKgCZRcHn5sP7VU0zfwHpZCU2x8dVzdMshTfwLMjMqHEaKEsY/cHdj3/3qOUESm9L3/4kfUYBUM0L2D/z1iwBibMYFAWoU0LDJD5jPKCCmOmsSnxpfr6k/RXoQKkpk/MAvnAFUzMhLEu/sHXPcggC/V0o/v8OAZlO0VdnRzp5fMKA0ZFH6F/JimHxbE8N0Tx5QCUXVESMsjTRaxQFiI6B3PN8CWCjOfdMbYf6YGvGEhpDPKXKAuiuL2vjqXBSgFIkyQkTNA7p+DhB7tpwjdEkKaLjEThjLADAmxDsPoxhApZaoSEziRD4XUFMRsQZ56wMKkkYII88AcUga1BcoOeV+tBjA2LdJqGNFc84DjFWvZvWh8oCC4CFXEgaANZ+IrtvIyXWbtezkQgAlkfhgZecDYks0hBANGv08oGCzyto3UU88I99GcnZpIYARQswBnguoaNCmGKpo9o/lAWPk4hygZJxRLdREZPFrCwHUbN64nAto+gQ2Mupb2hAgdpH+5a6aYvp2gxEWBcgM6DxARZNZ5tSB3xgG9FDwtb4oJWSHCwE0VF40FDDvvFw/LTBdJiqMM5q2lzWIQ4BCpGpf7Wwb9DeEggCxa/uGaZqGp9bMvvSGH/KESywfeTW9aSdGdozEEF+p8UoWoCYANnTzfNVcOKkgN6FrtkwbO09D+caP2D5PqJQrsYlrEZIdk0Na1qqjIiYbJcy9n20+h9tSAgbhFDOaUHCgNWtYCrRxijD05GhXR9TCVKwy6oPTqcGaY6/NiRl8MyxmQH8RGZr59ZPKI4XeaWXs6Bt2SpNbDheUEiSxELrR6BEjCRQzOWewUB5Jsm1h1ZZHDuguEs0QoXDMRWUSFn1NSXxr5IASkIYe+VZtzEWlkk5dO66NadNxbNIDV6q9qVTpyqjEU0cXEQ6SguLyv0iS45QBUPeJqfvOdzhySVXLABjYKDBFGKN/q0oCaBBi4MT+jp5KSQDZSAF/T07LAniuvraAoESAkjmmsykF/RkHrNeM0fHSEKDypbmpglXTEmt0Zk+Is4CRHnku8sfcgT6gHgdN19XCeOScCZDu+QghMuqzY5UBKpFIkErQaCuUAUqa5asg229Mns3GBIleFKHR8B4HlFzVtjTdPhdQiRzku1ocx5GbRnsnQjhm8xMGQYkJsd7R8B4DVBJEIMqWjBnSM0AIMPYnkyLfn5iBcYRYpRJtj1mVTEYWJDDAWCWsYmloZH0BAOJaA/m51TYNe1JCG5iweVrspDNI8qgJMkDRbrLsjwe0Qx+J+aIP1e/oEf0URQ4rmEhN6955gA6faTsHkNj28EqtWC1o5daIEt7sm7L15RK0U5ujgCNeH1NAbbjZNOTR+1CM5LTkbJLAjIqJ7NAcnsY0A5ueEyA/hC+e7dbOTnTGNrFqw1fF6qQAZk48lG0+8zI6k+IjWk0l3yZ8KsUfnV8hoztRc0IG+U5qmkKcWCmge1asOkmemwJaF9GkFKAgD8ZHemqi557LTTTRpQtoQspPENzhEa4yppEZUqNssfvasGcPs1URmWJdkOKBudVyKy7KIZwQp29POCT28LxSQ/ZMUc4aDGyI9ph5p8mWlCA7qDHFDVs9Mz3mql4s8hVNghknRNYmpnJdWFKE5FSInJ3+i5MYRx6vloGjkhLyUelhNp1ujvZS0v9UUjMo7aMBlSpVqlSp0i9RHE9WYNtyQDJ8fJKUkGS5011NEDTH5T4ee06SHgg/8Y6pEon9tTSeyPvrOCKOqspOMkH98SYMaEXfop8Wlpz+4wWxQ0dR2OcrggVT7D9aYKWDj5pD5Kxbl0bkdEu1G/BzXxpT/mpJuq5LTTGmGz0/iRLLAJiofJIhRCRd5qw7aWjf8i2STWNwQJwgMYLfMT1EJiVoyKWlY7yzgEKssoc7FQ95Ns9yJHMqU/YMK4uEMkBFs7OhItZUNFE18VxAU3Tgiy6LWUi/kZZkk8SCl40NGaBuyf1YgKKxZcwTo3MBsceexYIwtcjip6ZosYpHtxI11zS4ywBjVRz8YkysSZpeOhdQCG1PgIkGQwhleA4+Ih47HLBIjpi2PABICy03syhZ4o88c3nZOh/QgBKTwDx1JGJBacrMKnWXLYyJHW6UAIi9PKDglgRQSGhdi1Ta6itNRwdHkB5lVUxxuZ9kgM08oDKhgOmTMMIAMFQ1JWGZjai1xioDkxq2ZkAQx+MzMrwOotycZ80XJ6kZzQCxq2YNocZnAwXFSUIxgb6LaSHs8kd9QoQc3gOyWW9mpBUdLs7ilQHS8kpfaqCLfmpiDctFrN7Bk2jpM5+2H2MWvjYTGU7jjj6w+xPztMs2SQU4ANQt5MFD8HoiZ34sVklqt7Fv2yyoFvbjpLSVZY/t8Oubsh1JcLmo+pNUA3OAQiyqoucltuxmlRETOy1VbNnMF+LGIPirW3BpCqhovmx7nquiSVu5HjQyQMVMfFq1xLDvpnHTz3CaYgKGZ1jJIHiqwdPmJLu+prmqTaxoouxTgFczKLk0rVt47EFqfLBRMM4fxflTFGrdqgh3x5jItUCXIUUjdlNznUmZo798KbFHB5jBJPVFL1vYNCetFlaqVKnSz9LQlKaCMcZjj+JUyvC5OLtgeFk3vIhk6NTCJk71OPd0NK5pHtUgNq3X+rGjxOMKjNTBSVq6x4OYsJmEOQbdiwRd6093K1pSlNugw4bBshAzISqbqnfThZ/YtfvDHic9JpOER3X1hp3O7H8SYPFdbi23oskaRMOzTmw8ZoXiL1JoN1D2UsWahUigwyDPITyzIfLTIBOsiGJjQByLsp3GZWScrmqi3wxEkn4RGnRcBaP6Ropljy6y/UXSLdUURW5zptW/z3HaUXZ8M8lCD4MVUHRcCGWou07ulyig2u9eiwQA6fiQD+u94hZHxciio3j+50N09u1xNdnDUbZyN7fEK2AL10cACUnTkS0yQImIcI0pFrYEH7uyQf++zdINdHYNUwJvHnHSYs0BKsg2RgDVRpJOuUiuFfCQTChTs6UVsrCRUw1BnFpzoIZISD5znw0RzLM5Zi13E6yR1kFh4CUM1a2lcxWhGhncOCWR3jTD9n8JzDh57EU4Bnt9piRbZyxUY68bw3xN9xAgW7etu4SH1j6xRkZ1pYgtYzZ8Qo2b1z7DVqUGKmxgKPHVvjzuOQJoimz+T2ny/cOATYUC2k0mZsMGW5nv12CSKe4DYo2IanGvvm3aAXv5WQwNiSSfudOBmrB3pMU8VpoH9MaaqC4YTqKYAJ8BQgUv7p2GukVE9vozC8Kd2FKHQmHYstOjhEWs84A2nHq2kYGnYzQ1dsHn9QEF73ueKL0kBbaVrsmGaWkltFHeliI1OyqycHYOUFNhlncMIC0wPns9EYCS25+FNaE50V2UmMzcpDhSBItkXa+Q5VFOHwyR9Mhn7m0coBIiNqM2CYBKMJg+UJo2hh6yKnpBEGiJ7OJ4EL2WWHBXJnCMHrRkHgWlNyQMuMwMUMD87ZyTAIjz0wdsTQVldmQZloF4GFtkUOUCeGjSQbyz7ZB0+KE30t63DJ1qY+ilVDUnG4V4TlGAev61tzjOXqoZNdnTm1KcW4iuRzUsRDHX4JpanEmHJTK1XCOsR5l9G/EErZmpVKlSpUqVKlWqVKlSpUqVKlWqVKlSpUqVKlWqVKlSpUqVKlWqVFr9D/f1FQBM8zshAAAAAElFTkSuQmCC'\n",
    "\n",
    "card = dbc.Card([\n",
    "    html.Img(src=img),\n",
    "    #dbc.CardImg(src=img),\n",
    "    dbc.CardBody(\n",
    "        [\n",
    "            html.H3(\"Data Science Bootcamp\", className=\"text-primary\"),\n",
    "            html.Div(\"5 weeks, 6 hours\"),\n",
    "            html.Div(\"Tuwaiq Academy,2023.\"),\n",
    "        ]\n",
    "    )],\n",
    "    className=\"shadow my-2\",\n",
    "    style={\"maxWidth\": 350},\n",
    ")\n",
    "\n",
    "app.layout=dbc.Container(card)\n",
    "\n",
    "if __name__ == '__main__':\n",
    "    app.run_server()"
   ]
  },
  {
   "cell_type": "markdown",
   "id": "4bd916f0",
   "metadata": {},
   "source": [
    "# Titanic"
   ]
  },
  {
   "cell_type": "code",
   "execution_count": null,
   "id": "fa4d0a17",
   "metadata": {},
   "outputs": [],
   "source": [
    "from dash import html\n",
    "from dash import dcc\n",
    "import dash_bootstrap_components as dbc\n",
    "from jupyter_dash import JupyterDash\n",
    "\n",
    "import pandas as pd\n",
    "import plotly.express as px"
   ]
  },
  {
   "cell_type": "code",
   "execution_count": null,
   "id": "2c3439b3",
   "metadata": {},
   "outputs": [],
   "source": [
    "df = pd.read_csv('titanic passenger list.csv')\n",
    "df"
   ]
  },
  {
   "cell_type": "code",
   "execution_count": null,
   "id": "29bf832a",
   "metadata": {},
   "outputs": [],
   "source": [
    "colors = ['#002366', '#74b3ce']\n",
    "\n",
    "fig = px.bar(\n",
    "    data_frame=df, x='embarked', y='survived', template='simple_white'\n",
    ")\n",
    "\n",
    "fig2 = px.pie(\n",
    "    df, values='survived', names='sex', template='simple_white'\n",
    ")\n",
    "\n",
    "fig3 = px.scatter(\n",
    "    df, x='home.dest', y='age', hover_name='survived',\n",
    "    template='simple_white', width=1200, height=600\n",
    ")\n",
    "\n",
    "fig3.update_traces(\n",
    "    marker=dict(size=10, line=dict(width=2, color=colors)),\n",
    "    opacity=0.5, selector=dict(mode='markers')\n",
    ")"
   ]
  },
  {
   "cell_type": "code",
   "execution_count": null,
   "id": "e82b4431",
   "metadata": {},
   "outputs": [],
   "source": [
    "app = JupyterDash(\n",
    "    __name__,\n",
    "    external_stylesheets = [dbc.themes.LUX]\n",
    ")\n",
    "\n",
    "app.layout = dbc.Container([\n",
    "    dbc.Row([\n",
    "        dbc.Col([\n",
    "            html.H1(\"Titanic Passenger List\", style={'textAlign':'center'})\n",
    "        ], width=12)\n",
    "    ]),\n",
    "    \n",
    "    dbc.Row([\n",
    "        dbc.Col([\n",
    "            dcc.Graph(id='our-plot', figure=fig)\n",
    "        ], width=6),\n",
    "        \n",
    "        dbc.Col([\n",
    "            dcc.Graph(id='our-plot', figure=fig2)\n",
    "        ], width=4)\n",
    "    ]),\n",
    "    \n",
    "    dbc.Row([\n",
    "        dbc.Col([\n",
    "            dcc.Graph(id='scatter-plot', figure=fig3)\n",
    "        ], width=50)\n",
    "    ])\n",
    "])\n",
    "\n",
    "if __name__ == '__main__':\n",
    "    app.run_server()"
   ]
  },
  {
   "cell_type": "code",
   "execution_count": null,
   "id": "5a78cc8e",
   "metadata": {},
   "outputs": [],
   "source": []
  }
 ],
 "metadata": {
  "kernelspec": {
   "display_name": "Python 3 (ipykernel)",
   "language": "python",
   "name": "python3"
  },
  "language_info": {
   "codemirror_mode": {
    "name": "ipython",
    "version": 3
   },
   "file_extension": ".py",
   "mimetype": "text/x-python",
   "name": "python",
   "nbconvert_exporter": "python",
   "pygments_lexer": "ipython3",
   "version": "3.9.12"
  }
 },
 "nbformat": 4,
 "nbformat_minor": 5
}
