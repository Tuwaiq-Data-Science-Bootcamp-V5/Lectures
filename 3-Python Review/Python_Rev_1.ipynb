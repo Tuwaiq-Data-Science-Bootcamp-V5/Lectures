{
 "cells": [
  {
   "cell_type": "markdown",
   "id": "c74a5ae4",
   "metadata": {},
   "source": [
    "# Python Programming Language\n",
    "\n",
    "<img src=\"data:image/png;base64,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\">\n",
    "\n",
    "### Why Python?\n",
    "- Data analysis and forecasting tools\n",
    "- Artificial intelligence\n",
    "- Web apps\n",
    "- Video games\n",
    "- Audio/video apps\n",
    "- Mobile apps\n",
    "- Networking apps\n",
    "- Scientific/mathematical apps\n",
    "- Security utilities\n",
    "- Educational apps\n",
    "\n",
    "### Some Examples\n",
    "- Instagram\n",
    "- Spotify\n",
    "- Dropbox\n",
    "- PyCharm\n",
    "- Django\n",
    "- Blender\n",
    "- ERP5"
   ]
  },
  {
   "cell_type": "markdown",
   "id": "3e1fb0f3",
   "metadata": {},
   "source": [
    "# History of Python\n",
    "\n",
    "### Created by Guido van Rossum in the late 1980s. \n",
    "- Goals\n",
    "    1. Easy to read\n",
    "    2. Require minimal lines of code as compared to other languages\n",
    "\n",
    "- Early versions released over the next few years\n",
    "- Version 1.0 not released until January of 1994\n",
    "\n",
    "### Python 2\n",
    "- First major update to Python\n",
    "- Released in October 2000\n",
    "- Garbage collection, augmented assignment, list comprehension, Unicode strings, etc.\n",
    "- As of April 2020, most recent version of Python 2 is 2.7.18\n",
    "- Superseded by Python 3 but remains in use by some developers\n",
    "\n",
    "### Python 3 \n",
    "- Most recent major version\n",
    "- Up to version 3.9.0 as of late 2020"
   ]
  },
  {
   "cell_type": "markdown",
   "id": "65e3325f",
   "metadata": {},
   "source": [
    "# Interpresters and Compilers\n",
    "\n",
    "### Compiler\n",
    "\n",
    "- Translates source code into code that can run on the computer.\n",
    "- Translates code in advance, compiling it into a ready-to-run executable file.\n",
    "\n",
    "* Benefits:\n",
    "    1. Tends to run faster than interpreter\n",
    "    2. Reveals major errors to the programmer when program is compiled\n",
    "\n",
    "### Interpreter\n",
    "\n",
    "- Translates source code into code that can run on the computer.\n",
    "- Translates code just-in-time, interpreting the source code into executable code as the program runs.\n",
    "\n",
    "* Benefits:\n",
    "    1. Generally easier to use than compiler\n",
    "    2. Deliverable is more “portable”\n",
    "    3. More convenient to perform quick updates"
   ]
  },
  {
   "cell_type": "markdown",
   "id": "06c6e823",
   "metadata": {},
   "source": [
    "# Hello World in Python"
   ]
  },
  {
   "cell_type": "code",
   "execution_count": 1,
   "id": "37c834a0",
   "metadata": {},
   "outputs": [
    {
     "name": "stdout",
     "output_type": "stream",
     "text": [
      "Hello, World!\n"
     ]
    }
   ],
   "source": [
    "print(\"Hello, World!\")"
   ]
  },
  {
   "cell_type": "markdown",
   "id": "56c84d45",
   "metadata": {},
   "source": [
    "# 1. Variables in Python"
   ]
  },
  {
   "cell_type": "code",
   "execution_count": 2,
   "id": "39f245b0",
   "metadata": {},
   "outputs": [
    {
     "name": "stdout",
     "output_type": "stream",
     "text": [
      "5\n",
      "Hello, World\n",
      "Sally\n"
     ]
    }
   ],
   "source": [
    "# In Python, variables are created when you assign a value to it:\n",
    "x = 5\n",
    "y = \"Hello, World\"\n",
    "print(x)\n",
    "print(y)\n",
    "\n",
    "# Variables do not need to be declared with any particular type, and can even change type after they have been set.\n",
    "x = 4       # x is of type int\n",
    "x = \"Sally\" # x is now of type str\n",
    "print(x)"
   ]
  },
  {
   "cell_type": "markdown",
   "id": "01439cec",
   "metadata": {},
   "source": [
    "### Case-Sensitive"
   ]
  },
  {
   "cell_type": "code",
   "execution_count": 3,
   "id": "ebda4927",
   "metadata": {},
   "outputs": [
    {
     "ename": "NameError",
     "evalue": "name 'A' is not defined",
     "output_type": "error",
     "traceback": [
      "\u001b[1;31m---------------------------------------------------------------------------\u001b[0m",
      "\u001b[1;31mNameError\u001b[0m                                 Traceback (most recent call last)",
      "Cell \u001b[1;32mIn[3], line 2\u001b[0m\n\u001b[0;32m      1\u001b[0m a \u001b[38;5;241m=\u001b[39m \u001b[38;5;241m4\u001b[39m\n\u001b[1;32m----> 2\u001b[0m \u001b[38;5;28mprint\u001b[39m(\u001b[43mA\u001b[49m)\n",
      "\u001b[1;31mNameError\u001b[0m: name 'A' is not defined"
     ]
    }
   ],
   "source": [
    "a = 4\n",
    "print(A)"
   ]
  },
  {
   "cell_type": "markdown",
   "id": "e37fcb68",
   "metadata": {},
   "source": [
    "### Variable Names in Python\n",
    "\n",
    "- A variable name must start with a letter or the underscore character\n",
    "- A variable name cannot start with a number\n",
    "- A variable name can only contain alpha-numeric characters and underscores (A-z, 0-9, and _ )\n",
    "- Variable names are case-sensitive (age, Age and AGE are three different variables)"
   ]
  },
  {
   "cell_type": "code",
   "execution_count": 4,
   "id": "878ec65a",
   "metadata": {},
   "outputs": [],
   "source": [
    "# examples:\n",
    "myvar = \"John\"\n",
    "my_var = \"John\"\n",
    "_my_var = \"John\"\n",
    "myVar = \"John\"\n",
    "MYVAR = \"John\"\n",
    "myvar2 = \"John\""
   ]
  },
  {
   "cell_type": "markdown",
   "id": "6ea7fdde",
   "metadata": {},
   "source": [
    "# Operators"
   ]
  },
  {
   "cell_type": "markdown",
   "id": "084455e9",
   "metadata": {},
   "source": [
    "### Arthmetic Operators"
   ]
  },
  {
   "cell_type": "code",
   "execution_count": 5,
   "id": "dce20ae0",
   "metadata": {},
   "outputs": [
    {
     "name": "stdout",
     "output_type": "stream",
     "text": [
      "x = 10\n",
      "y = 10\n",
      "z = 100\n",
      "w = 10.0\n",
      "s = 0.0\n",
      "p = 100\n"
     ]
    }
   ],
   "source": [
    "x = 9 + 1\n",
    "print(f'x = {x}')\n",
    "\n",
    "y = 15 - 5\n",
    "print(f'y = {y}')\n",
    "\n",
    "z = x * y\n",
    "print(f'z = {z}')\n",
    "\n",
    "w = z / x\n",
    "print(f'w = {w}')\n",
    "\n",
    "s = w % y\n",
    "print(f's = {s}')\n",
    "\n",
    "p = x ** 2\n",
    "print(f'p = {p}')"
   ]
  },
  {
   "cell_type": "markdown",
   "id": "d0f12fca",
   "metadata": {},
   "source": [
    "### Assignment Operators"
   ]
  },
  {
   "cell_type": "code",
   "execution_count": 6,
   "id": "756bfa2e",
   "metadata": {},
   "outputs": [],
   "source": [
    "# Equal sign\n",
    "name = 'Hamad'\n",
    "\n",
    "# Increment by n sign\n",
    "a = 0\n",
    "a += 1\n",
    "a = a + 1"
   ]
  },
  {
   "cell_type": "markdown",
   "id": "0df46676",
   "metadata": {},
   "source": [
    "### Comparison Operators"
   ]
  },
  {
   "cell_type": "code",
   "execution_count": 7,
   "id": "eccefee6",
   "metadata": {},
   "outputs": [
    {
     "name": "stdout",
     "output_type": "stream",
     "text": [
      "True\n",
      "True\n",
      "True\n",
      "True\n",
      "False\n",
      "False\n"
     ]
    }
   ],
   "source": [
    "print(x == 10)\n",
    "print(x != 1)\n",
    "print(x >= 10)\n",
    "print(x <= 10)\n",
    "print(x > 10)\n",
    "print(x < 10)"
   ]
  },
  {
   "cell_type": "markdown",
   "id": "7432349b",
   "metadata": {},
   "source": [
    "### Logical Operators"
   ]
  },
  {
   "cell_type": "code",
   "execution_count": 10,
   "id": "78c1f654",
   "metadata": {},
   "outputs": [
    {
     "name": "stdout",
     "output_type": "stream",
     "text": [
      "AND Operator :-\n",
      "True\n",
      "False\n",
      "False\n",
      "False\n",
      "\n",
      "OR Operator :-\n",
      "True\n",
      "True\n",
      "True\n",
      "False\n"
     ]
    }
   ],
   "source": [
    "print('AND Operator :-')\n",
    "print(True and True)\n",
    "print(True and False)\n",
    "print(False and True)\n",
    "print(False and False)\n",
    "\n",
    "print('\\nOR Operator :-')\n",
    "print(True or True)\n",
    "print(True or False)\n",
    "print(False or True)\n",
    "print(False or False)"
   ]
  },
  {
   "cell_type": "markdown",
   "id": "d39771b1",
   "metadata": {},
   "source": [
    "### Python Keywords"
   ]
  },
  {
   "cell_type": "code",
   "execution_count": 11,
   "id": "13f33a90",
   "metadata": {},
   "outputs": [
    {
     "name": "stdout",
     "output_type": "stream",
     "text": [
      "['False', 'None', 'True', '__peg_parser__', 'and', 'as', 'assert', 'async', 'await', 'break', 'class', 'continue', 'def', 'del', 'elif', 'else', 'except', 'finally', 'for', 'from', 'global', 'if', 'import', 'in', 'is', 'lambda', 'nonlocal', 'not', 'or', 'pass', 'raise', 'return', 'try', 'while', 'with', 'yield']\n"
     ]
    }
   ],
   "source": [
    "import keyword\n",
    "\n",
    "print(keyword.kwlist)"
   ]
  },
  {
   "cell_type": "markdown",
   "id": "f2e284bc",
   "metadata": {},
   "source": [
    "### Multi Words Variable Names in Python\n",
    "\n",
    "- Camel Case >> myVar\n",
    "- Pascal Case >> MyVar\n",
    "- Snake Case >> my_var"
   ]
  },
  {
   "cell_type": "code",
   "execution_count": 12,
   "id": "bd9391be",
   "metadata": {},
   "outputs": [],
   "source": [
    "myVar = 10\n",
    "MyVar = 'X'\n",
    "my_var = True"
   ]
  },
  {
   "cell_type": "markdown",
   "id": "6d700d71",
   "metadata": {},
   "source": [
    "### Many Values to Multiple Variables in Python"
   ]
  },
  {
   "cell_type": "code",
   "execution_count": 15,
   "id": "f11c48b5",
   "metadata": {},
   "outputs": [
    {
     "name": "stdout",
     "output_type": "stream",
     "text": [
      "Orange\n",
      "Banana\n",
      "Cherry\n"
     ]
    }
   ],
   "source": [
    "x, y, z = \"Orange\", \"Banana\", \"Cherry\"\n",
    "print(x)\n",
    "print(y)\n",
    "print(z)"
   ]
  },
  {
   "cell_type": "markdown",
   "id": "cc533248",
   "metadata": {},
   "source": [
    "### One Value to Multiple Variables"
   ]
  },
  {
   "cell_type": "code",
   "execution_count": 16,
   "id": "dbd825a9",
   "metadata": {},
   "outputs": [
    {
     "name": "stdout",
     "output_type": "stream",
     "text": [
      "Orange\n",
      "Orange\n",
      "Orange\n"
     ]
    }
   ],
   "source": [
    "x = y = z = \"Orange\"\n",
    "print(x)\n",
    "print(y)\n",
    "print(z)"
   ]
  },
  {
   "cell_type": "markdown",
   "id": "e6f66f9c",
   "metadata": {},
   "source": [
    "# Errors"
   ]
  },
  {
   "cell_type": "markdown",
   "id": "36608d50",
   "metadata": {},
   "source": [
    "### Syntax Error"
   ]
  },
  {
   "cell_type": "code",
   "execution_count": 17,
   "id": "152700aa",
   "metadata": {},
   "outputs": [
    {
     "ename": "SyntaxError",
     "evalue": "EOL while scanning string literal (3003027488.py, line 1)",
     "output_type": "error",
     "traceback": [
      "\u001b[1;36m  Cell \u001b[1;32mIn[17], line 1\u001b[1;36m\u001b[0m\n\u001b[1;33m    s = 'hamad\u001b[0m\n\u001b[1;37m              ^\u001b[0m\n\u001b[1;31mSyntaxError\u001b[0m\u001b[1;31m:\u001b[0m EOL while scanning string literal\n"
     ]
    }
   ],
   "source": [
    "s = 'hamad"
   ]
  },
  {
   "cell_type": "code",
   "execution_count": 18,
   "id": "74135023",
   "metadata": {},
   "outputs": [
    {
     "ename": "SyntaxError",
     "evalue": "invalid syntax (2001812892.py, line 3)",
     "output_type": "error",
     "traceback": [
      "\u001b[1;36m  Cell \u001b[1;32mIn[18], line 3\u001b[1;36m\u001b[0m\n\u001b[1;33m    if count < 1 or count > 10\u001b[0m\n\u001b[1;37m                              ^\u001b[0m\n\u001b[1;31mSyntaxError\u001b[0m\u001b[1;31m:\u001b[0m invalid syntax\n"
     ]
    }
   ],
   "source": [
    "count = 1\n",
    "\n",
    "if count < 1 or count > 10\n",
    "    print('Sorry')\n",
    "else:\n",
    "    print('Thank you')"
   ]
  },
  {
   "cell_type": "markdown",
   "id": "41d5d14b",
   "metadata": {},
   "source": [
    "### Logic Error"
   ]
  },
  {
   "cell_type": "code",
   "execution_count": 19,
   "id": "022f31b2",
   "metadata": {},
   "outputs": [
    {
     "name": "stdout",
     "output_type": "stream",
     "text": [
      "What is your favorite number?10\n",
      "What is your favorite number?10\n",
      "10\n",
      "10\n"
     ]
    }
   ],
   "source": [
    "fav_number = input(\"What is your favorite number?\")\n",
    "fav_color = input(\"What is your favorite number?\")\n",
    "\n",
    "print(fav_number)\n",
    "print(fav_color)"
   ]
  },
  {
   "cell_type": "markdown",
   "id": "735039da",
   "metadata": {},
   "source": [
    "# Functions in Python"
   ]
  },
  {
   "cell_type": "markdown",
   "id": "8266a4b9",
   "metadata": {},
   "source": [
    "### Simple function"
   ]
  },
  {
   "cell_type": "code",
   "execution_count": 20,
   "id": "566b09da",
   "metadata": {},
   "outputs": [
    {
     "name": "stdout",
     "output_type": "stream",
     "text": [
      "Hello World!\n"
     ]
    }
   ],
   "source": [
    "def welcome():\n",
    "    print('Hello World!')\n",
    "\n",
    "welcome()"
   ]
  },
  {
   "cell_type": "markdown",
   "id": "dcc111ab",
   "metadata": {},
   "source": [
    "### Arguements and Parameters"
   ]
  },
  {
   "cell_type": "code",
   "execution_count": 21,
   "id": "977a1690",
   "metadata": {},
   "outputs": [
    {
     "name": "stdout",
     "output_type": "stream",
     "text": [
      "30\n"
     ]
    }
   ],
   "source": [
    "def add(a, b):\n",
    "    return a + b\n",
    "\n",
    "print(add(10, 20))"
   ]
  },
  {
   "cell_type": "code",
   "execution_count": 23,
   "id": "ca24b574",
   "metadata": {},
   "outputs": [
    {
     "name": "stdout",
     "output_type": "stream",
     "text": [
      "30\n"
     ]
    }
   ],
   "source": [
    "sum = 10 + 20\n",
    "print(sum)"
   ]
  },
  {
   "cell_type": "markdown",
   "id": "9e21f9ce",
   "metadata": {},
   "source": [
    "### Global function"
   ]
  },
  {
   "cell_type": "code",
   "execution_count": 24,
   "id": "e99d78a3",
   "metadata": {},
   "outputs": [
    {
     "name": "stdout",
     "output_type": "stream",
     "text": [
      "Python is fantastic\n"
     ]
    }
   ],
   "source": [
    "x = \"awesome\" # Global Variable\n",
    "\n",
    "def myfunc():\n",
    "    global x\n",
    "    x = \"fantastic\" # local Variable\n",
    "\n",
    "myfunc()\n",
    "print(\"Python is \" + x) "
   ]
  },
  {
   "cell_type": "markdown",
   "id": "777c4d62",
   "metadata": {},
   "source": [
    "# Strings in Python"
   ]
  },
  {
   "cell_type": "code",
   "execution_count": 25,
   "id": "f52dba42",
   "metadata": {},
   "outputs": [
    {
     "name": "stdout",
     "output_type": "stream",
     "text": [
      "Hello World\n",
      "DS Bootcamp\n",
      "66661111\n"
     ]
    }
   ],
   "source": [
    "s = 'Hello World'\n",
    "x = str(\"DS Bootcamp\")\n",
    "y = str(66661111)\n",
    "\n",
    "print(s)\n",
    "print(x)\n",
    "print(y)"
   ]
  },
  {
   "cell_type": "markdown",
   "id": "a5a4c8e8",
   "metadata": {},
   "source": [
    "### Strings Operators"
   ]
  },
  {
   "cell_type": "code",
   "execution_count": 27,
   "id": "9b3e6731",
   "metadata": {},
   "outputs": [
    {
     "name": "stdout",
     "output_type": "stream",
     "text": [
      "Hello World\n",
      "HelloHelloHello\n",
      "--------------------------------------------------\n"
     ]
    }
   ],
   "source": [
    "s = 'Hello' + ' ' + 'World'\n",
    "print(s)\n",
    "\n",
    "s = 'Hello' * 3\n",
    "print(s)\n",
    "\n",
    "print('-' * 50)"
   ]
  },
  {
   "cell_type": "markdown",
   "id": "2fb2ad56",
   "metadata": {},
   "source": [
    "### Slicing in the Strings"
   ]
  },
  {
   "cell_type": "code",
   "execution_count": 33,
   "id": "ad93aa5c",
   "metadata": {},
   "outputs": [
    {
     "name": "stdout",
     "output_type": "stream",
     "text": [
      "a\n",
      "Ha\n"
     ]
    }
   ],
   "source": [
    "x = 'Hamad'\n",
    "print(x[1:2]) # String Slicing [start : end]\n",
    "print(x[:2]) # String Slicing [start : end]"
   ]
  },
  {
   "cell_type": "markdown",
   "id": "51b7c447",
   "metadata": {},
   "source": [
    "### Membership in the Strings"
   ]
  },
  {
   "cell_type": "code",
   "execution_count": 34,
   "id": "8fe1c68e",
   "metadata": {},
   "outputs": [
    {
     "name": "stdout",
     "output_type": "stream",
     "text": [
      "True\n",
      "True\n"
     ]
    }
   ],
   "source": [
    "print('s' in 'start')\n",
    "print('x' not in 'y')"
   ]
  },
  {
   "cell_type": "markdown",
   "id": "1fd088d2",
   "metadata": {},
   "source": [
    "### Strings formating"
   ]
  },
  {
   "cell_type": "code",
   "execution_count": 35,
   "id": "84515aac",
   "metadata": {},
   "outputs": [
    {
     "name": "stdout",
     "output_type": "stream",
     "text": [
      "Hello, my name is Hamad\n"
     ]
    }
   ],
   "source": [
    "x = 'Hamad'\n",
    "s = f'Hello, my name is {x}'\n",
    "print(s)"
   ]
  },
  {
   "cell_type": "code",
   "execution_count": 39,
   "id": "78358a30",
   "metadata": {},
   "outputs": [
    {
     "name": "stdout",
     "output_type": "stream",
     "text": [
      "There are 2 people names Hamad just hello\n",
      "There are Hamad people names 2\n"
     ]
    }
   ],
   "source": [
    "s = 'There are {} people names {} just {}'.format(2, 'Hamad', 'hello')\n",
    "print(s)\n",
    "\n",
    "s = 'There are {1} people names {0}'.format(2, 'Hamad')\n",
    "print(s)"
   ]
  },
  {
   "cell_type": "markdown",
   "id": "60beee31",
   "metadata": {},
   "source": [
    "### New Line in the string"
   ]
  },
  {
   "cell_type": "code",
   "execution_count": 45,
   "id": "268e2208",
   "metadata": {},
   "outputs": [
    {
     "name": "stdout",
     "output_type": "stream",
     "text": [
      "Hello, my name is Hamad.\n",
      "Python is great!!\n"
     ]
    }
   ],
   "source": [
    "s = \"Hello, my name is Hamad.\\nPython is great!!\"\n",
    "\n",
    "print(s)"
   ]
  },
  {
   "cell_type": "markdown",
   "id": "2c380114",
   "metadata": {},
   "source": [
    "### Escape Code"
   ]
  },
  {
   "cell_type": "code",
   "execution_count": 47,
   "id": "6b4b7ec6",
   "metadata": {},
   "outputs": [
    {
     "name": "stdout",
     "output_type": "stream",
     "text": [
      "Hello, my name is Hamad Today i will teach you Python!!\n"
     ]
    }
   ],
   "source": [
    "s = \"Hello, my name is Hamad\" \\\n",
    "\" Today i will teach you Python!!\"\n",
    "\n",
    "print(s)"
   ]
  },
  {
   "cell_type": "code",
   "execution_count": 49,
   "id": "f1653888",
   "metadata": {},
   "outputs": [
    {
     "name": "stdout",
     "output_type": "stream",
     "text": [
      "50\n"
     ]
    }
   ],
   "source": [
    "x = 10 + 10 + 10 \\\n",
    "+ 10 + 10\n",
    "\n",
    "print(x)"
   ]
  },
  {
   "cell_type": "markdown",
   "id": "d3e9e09f",
   "metadata": {},
   "source": [
    "### Comments in Python"
   ]
  },
  {
   "cell_type": "code",
   "execution_count": 50,
   "id": "1ab5fab3",
   "metadata": {},
   "outputs": [
    {
     "data": {
      "text/plain": [
       "'\\nAlso\\nMultiple\\nLines\\nComment\\n'"
      ]
     },
     "execution_count": 50,
     "metadata": {},
     "output_type": "execute_result"
    }
   ],
   "source": [
    "# Single Comment\n",
    "\n",
    "'''\n",
    "Multiple\n",
    "Lines\n",
    "Comment\n",
    "'''\n",
    "\n",
    "\"\"\"\n",
    "Also\n",
    "Multiple\n",
    "Lines\n",
    "Comment\n",
    "\"\"\""
   ]
  },
  {
   "cell_type": "markdown",
   "id": "c54a64eb",
   "metadata": {},
   "source": [
    "# Input Function"
   ]
  },
  {
   "cell_type": "code",
   "execution_count": 51,
   "id": "da77bc3b",
   "metadata": {},
   "outputs": [
    {
     "name": "stdout",
     "output_type": "stream",
     "text": [
      "Enter your name: Hamad\n",
      "Hamad\n"
     ]
    }
   ],
   "source": [
    "inpt = input(\"Enter your name: \")\n",
    "print(inpt)"
   ]
  },
  {
   "cell_type": "markdown",
   "id": "67a6c46b",
   "metadata": {},
   "source": [
    "# Check the data type"
   ]
  },
  {
   "cell_type": "code",
   "execution_count": 52,
   "id": "8fd5d66a",
   "metadata": {},
   "outputs": [
    {
     "name": "stdout",
     "output_type": "stream",
     "text": [
      "The data type of 1 is <class 'int'>\n",
      "The data type of 1.5 is <class 'float'>\n",
      "The data type of True is <class 'bool'>\n",
      "The data type of Tuwaiq is <class 'str'>\n"
     ]
    }
   ],
   "source": [
    "print('The data type of 1 is', type(1))\n",
    "print('The data type of 1.5 is', type(1.5))\n",
    "print('The data type of True is', type(True))\n",
    "print('The data type of Tuwaiq is', type('Tuwaiq'))"
   ]
  },
  {
   "cell_type": "markdown",
   "id": "723ebb0a",
   "metadata": {},
   "source": [
    "# Numeric Data Type"
   ]
  },
  {
   "cell_type": "code",
   "execution_count": 53,
   "id": "95e67327",
   "metadata": {},
   "outputs": [
    {
     "name": "stdout",
     "output_type": "stream",
     "text": [
      "<class 'int'>\n",
      "<class 'float'>\n",
      "<class 'complex'>\n"
     ]
    }
   ],
   "source": [
    "x = 20     # int\n",
    "print(type(x))\n",
    "\n",
    "x = 20.5  # float\n",
    "print(type(x))\n",
    "\n",
    "x = 1j+3  # complex\n",
    "print(type(x))"
   ]
  },
  {
   "cell_type": "markdown",
   "id": "1be9a7e8",
   "metadata": {},
   "source": [
    "# Boolean Data Type"
   ]
  },
  {
   "cell_type": "code",
   "execution_count": 54,
   "id": "e9e07d64",
   "metadata": {},
   "outputs": [
    {
     "name": "stdout",
     "output_type": "stream",
     "text": [
      "True\n",
      "False\n"
     ]
    }
   ],
   "source": [
    "true = True\n",
    "print(true)\n",
    "\n",
    "false = False\n",
    "print(false)"
   ]
  },
  {
   "cell_type": "markdown",
   "id": "0986c45f",
   "metadata": {},
   "source": [
    "# Sequence Data Type"
   ]
  },
  {
   "cell_type": "code",
   "execution_count": 55,
   "id": "c71fd3f6",
   "metadata": {},
   "outputs": [
    {
     "name": "stdout",
     "output_type": "stream",
     "text": [
      "<class 'list'>\n",
      "<class 'tuple'>\n",
      "<class 'range'>\n"
     ]
    }
   ],
   "source": [
    "x = [\"apple\", \"banana\", \"cherry\"] # list\n",
    "print(type(x))\n",
    "\n",
    "x = (\"apple\", \"banana\", \"cherry\") # tuple\n",
    "print(type(x))\n",
    "\n",
    "x = range(6) # range\n",
    "print(type(x))"
   ]
  },
  {
   "cell_type": "markdown",
   "id": "f9d173be",
   "metadata": {},
   "source": [
    "# Type Conversion"
   ]
  },
  {
   "cell_type": "code",
   "execution_count": 56,
   "id": "19c4999a",
   "metadata": {},
   "outputs": [
    {
     "name": "stdout",
     "output_type": "stream",
     "text": [
      "Value of num_new: 124.23\n",
      "datatype of num_new: <class 'float'>\n"
     ]
    }
   ],
   "source": [
    "num_int = 123\n",
    "num_flo = 1.23\n",
    "\n",
    "num_new = num_int + num_flo\n",
    "\n",
    "print(\"Value of num_new:\",num_new)\n",
    "print(\"datatype of num_new:\",type(num_new))"
   ]
  },
  {
   "cell_type": "markdown",
   "id": "f336581f",
   "metadata": {},
   "source": [
    "# Casting"
   ]
  },
  {
   "cell_type": "code",
   "execution_count": 57,
   "id": "57481f85",
   "metadata": {},
   "outputs": [],
   "source": [
    "# If you want to specify the data type of a variable, this can be done with casting.\n",
    "x = str(3)    # x will be '3'\n",
    "y = int(3.9)    # y will be 3\n",
    "z = float(3)  # z will be 3.0"
   ]
  },
  {
   "cell_type": "code",
   "execution_count": 58,
   "id": "e0370d69",
   "metadata": {},
   "outputs": [
    {
     "name": "stdout",
     "output_type": "stream",
     "text": [
      "<class 'str'> 3\n",
      "<class 'int'> 3\n",
      "<class 'float'> 3.0\n"
     ]
    }
   ],
   "source": [
    "print(type(x), x)\n",
    "print(type(y), y)\n",
    "print(type(z), z)"
   ]
  },
  {
   "cell_type": "markdown",
   "id": "5490b494",
   "metadata": {},
   "source": [
    "# Help Function"
   ]
  },
  {
   "cell_type": "code",
   "execution_count": 63,
   "id": "09e5bd63",
   "metadata": {},
   "outputs": [
    {
     "name": "stdout",
     "output_type": "stream",
     "text": [
      "Help on NoneType object:\n",
      "\n",
      "class NoneType(object)\n",
      " |  Methods defined here:\n",
      " |  \n",
      " |  __bool__(self, /)\n",
      " |      True if self else False\n",
      " |  \n",
      " |  __repr__(self, /)\n",
      " |      Return repr(self).\n",
      " |  \n",
      " |  ----------------------------------------------------------------------\n",
      " |  Static methods defined here:\n",
      " |  \n",
      " |  __new__(*args, **kwargs) from builtins.type\n",
      " |      Create and return a new object.  See help(type) for accurate signature.\n",
      "\n"
     ]
    }
   ],
   "source": [
    "help(\"None\")"
   ]
  },
  {
   "cell_type": "markdown",
   "id": "9149816a",
   "metadata": {},
   "source": [
    "# Dir Function"
   ]
  },
  {
   "cell_type": "code",
   "execution_count": 66,
   "id": "e88edaf9",
   "metadata": {},
   "outputs": [
    {
     "data": {
      "text/plain": [
       "['__add__',\n",
       " '__class__',\n",
       " '__contains__',\n",
       " '__delattr__',\n",
       " '__dir__',\n",
       " '__doc__',\n",
       " '__eq__',\n",
       " '__format__',\n",
       " '__ge__',\n",
       " '__getattribute__',\n",
       " '__getitem__',\n",
       " '__getnewargs__',\n",
       " '__gt__',\n",
       " '__hash__',\n",
       " '__init__',\n",
       " '__init_subclass__',\n",
       " '__iter__',\n",
       " '__le__',\n",
       " '__len__',\n",
       " '__lt__',\n",
       " '__mod__',\n",
       " '__mul__',\n",
       " '__ne__',\n",
       " '__new__',\n",
       " '__reduce__',\n",
       " '__reduce_ex__',\n",
       " '__repr__',\n",
       " '__rmod__',\n",
       " '__rmul__',\n",
       " '__setattr__',\n",
       " '__sizeof__',\n",
       " '__str__',\n",
       " '__subclasshook__',\n",
       " 'capitalize',\n",
       " 'casefold',\n",
       " 'center',\n",
       " 'count',\n",
       " 'encode',\n",
       " 'endswith',\n",
       " 'expandtabs',\n",
       " 'find',\n",
       " 'format',\n",
       " 'format_map',\n",
       " 'index',\n",
       " 'isalnum',\n",
       " 'isalpha',\n",
       " 'isascii',\n",
       " 'isdecimal',\n",
       " 'isdigit',\n",
       " 'isidentifier',\n",
       " 'islower',\n",
       " 'isnumeric',\n",
       " 'isprintable',\n",
       " 'isspace',\n",
       " 'istitle',\n",
       " 'isupper',\n",
       " 'join',\n",
       " 'ljust',\n",
       " 'lower',\n",
       " 'lstrip',\n",
       " 'maketrans',\n",
       " 'partition',\n",
       " 'removeprefix',\n",
       " 'removesuffix',\n",
       " 'replace',\n",
       " 'rfind',\n",
       " 'rindex',\n",
       " 'rjust',\n",
       " 'rpartition',\n",
       " 'rsplit',\n",
       " 'rstrip',\n",
       " 'split',\n",
       " 'splitlines',\n",
       " 'startswith',\n",
       " 'strip',\n",
       " 'swapcase',\n",
       " 'title',\n",
       " 'translate',\n",
       " 'upper',\n",
       " 'zfill']"
      ]
     },
     "execution_count": 66,
     "metadata": {},
     "output_type": "execute_result"
    }
   ],
   "source": [
    "dir('Data Science')"
   ]
  },
  {
   "cell_type": "code",
   "execution_count": 67,
   "id": "b8fbcf1e",
   "metadata": {},
   "outputs": [
    {
     "data": {
      "text/plain": [
       "['__abs__',\n",
       " '__add__',\n",
       " '__and__',\n",
       " '__bool__',\n",
       " '__ceil__',\n",
       " '__class__',\n",
       " '__delattr__',\n",
       " '__dir__',\n",
       " '__divmod__',\n",
       " '__doc__',\n",
       " '__eq__',\n",
       " '__float__',\n",
       " '__floor__',\n",
       " '__floordiv__',\n",
       " '__format__',\n",
       " '__ge__',\n",
       " '__getattribute__',\n",
       " '__getnewargs__',\n",
       " '__gt__',\n",
       " '__hash__',\n",
       " '__index__',\n",
       " '__init__',\n",
       " '__init_subclass__',\n",
       " '__int__',\n",
       " '__invert__',\n",
       " '__le__',\n",
       " '__lshift__',\n",
       " '__lt__',\n",
       " '__mod__',\n",
       " '__mul__',\n",
       " '__ne__',\n",
       " '__neg__',\n",
       " '__new__',\n",
       " '__or__',\n",
       " '__pos__',\n",
       " '__pow__',\n",
       " '__radd__',\n",
       " '__rand__',\n",
       " '__rdivmod__',\n",
       " '__reduce__',\n",
       " '__reduce_ex__',\n",
       " '__repr__',\n",
       " '__rfloordiv__',\n",
       " '__rlshift__',\n",
       " '__rmod__',\n",
       " '__rmul__',\n",
       " '__ror__',\n",
       " '__round__',\n",
       " '__rpow__',\n",
       " '__rrshift__',\n",
       " '__rshift__',\n",
       " '__rsub__',\n",
       " '__rtruediv__',\n",
       " '__rxor__',\n",
       " '__setattr__',\n",
       " '__sizeof__',\n",
       " '__str__',\n",
       " '__sub__',\n",
       " '__subclasshook__',\n",
       " '__truediv__',\n",
       " '__trunc__',\n",
       " '__xor__',\n",
       " 'as_integer_ratio',\n",
       " 'bit_length',\n",
       " 'conjugate',\n",
       " 'denominator',\n",
       " 'from_bytes',\n",
       " 'imag',\n",
       " 'numerator',\n",
       " 'real',\n",
       " 'to_bytes']"
      ]
     },
     "execution_count": 67,
     "metadata": {},
     "output_type": "execute_result"
    }
   ],
   "source": [
    "dir(1)"
   ]
  },
  {
   "cell_type": "markdown",
   "id": "078bfd47",
   "metadata": {},
   "source": [
    "# Conditions"
   ]
  },
  {
   "cell_type": "code",
   "execution_count": 68,
   "id": "6f9768a6",
   "metadata": {},
   "outputs": [],
   "source": [
    "value = 10\n",
    "\n",
    "if value == 20:\n",
    "    print(\"yes\")"
   ]
  },
  {
   "cell_type": "code",
   "execution_count": 69,
   "id": "7eca48cc",
   "metadata": {},
   "outputs": [
    {
     "name": "stdout",
     "output_type": "stream",
     "text": [
      "yes\n"
     ]
    }
   ],
   "source": [
    "value = 10\n",
    "if value == 10:\n",
    "    print(\"yes\")\n",
    "else:\n",
    "    print(\"No\")"
   ]
  },
  {
   "cell_type": "code",
   "execution_count": 70,
   "id": "2403818a",
   "metadata": {},
   "outputs": [
    {
     "name": "stdout",
     "output_type": "stream",
     "text": [
      "The two teams got the same score\n"
     ]
    }
   ],
   "source": [
    "teamBlueScore = teamRedScore = 7\n",
    "\n",
    "if teamBlueScore > teamRedScore:\n",
    "        print(\"Team Blue Won\")\n",
    "elif teamBlueScore == teamRedScore:\n",
    "        print(\"The two teams got the same score\")\n",
    "else:\n",
    "        print(\"Team Blue Lost\")"
   ]
  },
  {
   "cell_type": "code",
   "execution_count": 74,
   "id": "26bfdc83",
   "metadata": {},
   "outputs": [],
   "source": [
    "name = \"Mohammad\"\n",
    "number = 22\n",
    "\n",
    "if name == \"Mohammad\":\n",
    "    if number == 23:\n",
    "        print(\"Your name is Mohammad, and your number is 23\")"
   ]
  },
  {
   "cell_type": "code",
   "execution_count": 75,
   "id": "272a85ee",
   "metadata": {},
   "outputs": [
    {
     "name": "stdout",
     "output_type": "stream",
     "text": [
      "I have 2 cats.\n"
     ]
    }
   ],
   "source": [
    "num = 2\n",
    "print(f'I have {num} cats.')"
   ]
  },
  {
   "cell_type": "code",
   "execution_count": 76,
   "id": "2d3e9a5a",
   "metadata": {},
   "outputs": [
    {
     "name": "stdout",
     "output_type": "stream",
     "text": [
      "I have 2 cats.\n"
     ]
    }
   ],
   "source": [
    "num = 2\n",
    "print('I have {} cats.'.format(num))"
   ]
  },
  {
   "cell_type": "code",
   "execution_count": 77,
   "id": "a799373b",
   "metadata": {},
   "outputs": [
    {
     "name": "stdout",
     "output_type": "stream",
     "text": [
      "Yes it is\n",
      "Yes\n"
     ]
    }
   ],
   "source": [
    "if 's' in 'sir':\n",
    "    print('Yes it is')\n",
    "\n",
    "if 'r' not in 'sir':\n",
    "    print('Nooo')\n",
    "else:\n",
    "    print('Yes')"
   ]
  },
  {
   "cell_type": "markdown",
   "id": "e5a6a5bb",
   "metadata": {},
   "source": [
    "# Loops"
   ]
  },
  {
   "cell_type": "markdown",
   "id": "6912e5d4",
   "metadata": {},
   "source": [
    "### While Loop"
   ]
  },
  {
   "cell_type": "code",
   "execution_count": 78,
   "id": "05e94335",
   "metadata": {},
   "outputs": [
    {
     "name": "stdout",
     "output_type": "stream",
     "text": [
      "1\n",
      "2\n",
      "3\n",
      "4\n",
      "5\n",
      "6\n",
      "7\n",
      "8\n",
      "9\n",
      "10\n"
     ]
    }
   ],
   "source": [
    "x = 1\n",
    "\n",
    "while x <= 10:\n",
    "    print(x)\n",
    "    x += 1"
   ]
  },
  {
   "cell_type": "markdown",
   "id": "c4d7bd64",
   "metadata": {},
   "source": [
    "### For Loop"
   ]
  },
  {
   "cell_type": "code",
   "execution_count": 80,
   "id": "b85e9918",
   "metadata": {},
   "outputs": [
    {
     "name": "stdout",
     "output_type": "stream",
     "text": [
      "[0, 1, 2]\n"
     ]
    }
   ],
   "source": [
    "print(numbers)"
   ]
  },
  {
   "cell_type": "code",
   "execution_count": 79,
   "id": "291ea96d",
   "metadata": {},
   "outputs": [
    {
     "name": "stdout",
     "output_type": "stream",
     "text": [
      "0\n",
      "1\n",
      "2\n"
     ]
    }
   ],
   "source": [
    "numbers = [0, 1, 2]\n",
    "\n",
    "for num in numbers:\n",
    "    print(num)"
   ]
  },
  {
   "cell_type": "markdown",
   "id": "5be0526e",
   "metadata": {},
   "source": [
    "### Range function"
   ]
  },
  {
   "cell_type": "code",
   "execution_count": 81,
   "id": "ab876b02",
   "metadata": {},
   "outputs": [
    {
     "name": "stdout",
     "output_type": "stream",
     "text": [
      "1\n",
      "2\n"
     ]
    }
   ],
   "source": [
    "for num in range(1, 3):\n",
    "    print(num)"
   ]
  },
  {
   "cell_type": "code",
   "execution_count": 84,
   "id": "f2f9a7e7",
   "metadata": {},
   "outputs": [
    {
     "name": "stdout",
     "output_type": "stream",
     "text": [
      "1\n",
      "6\n"
     ]
    }
   ],
   "source": [
    "for num in range(1, 10, 5): #(start, end, gap)\n",
    "    print(num)"
   ]
  },
  {
   "cell_type": "markdown",
   "id": "aad12501",
   "metadata": {},
   "source": [
    "### Nested Loops"
   ]
  },
  {
   "cell_type": "code",
   "execution_count": 85,
   "id": "2074e776",
   "metadata": {},
   "outputs": [
    {
     "name": "stdout",
     "output_type": "stream",
     "text": [
      "1 A\n",
      "1 B\n",
      "1 C\n",
      "2 A\n",
      "2 B\n",
      "2 C\n"
     ]
    }
   ],
   "source": [
    "numbers = [1, 2]\n",
    "letters = [\"A\", \"B\", \"C\"]\n",
    "\n",
    "for num in numbers:\n",
    "    for letter in letters:\n",
    "        print(num, letter)"
   ]
  },
  {
   "cell_type": "markdown",
   "id": "9824908d",
   "metadata": {},
   "source": [
    "### Continue Statement"
   ]
  },
  {
   "cell_type": "code",
   "execution_count": 86,
   "id": "580e6ee0",
   "metadata": {},
   "outputs": [
    {
     "name": "stdout",
     "output_type": "stream",
     "text": [
      "1  is odd\n",
      "3  is odd\n",
      "5  is odd\n"
     ]
    }
   ],
   "source": [
    "numbers = [1, 2, 3, 4, 5]\n",
    "\n",
    "for num in numbers:\n",
    "    if num % 2 == 0:\n",
    "        continue\n",
    "    \n",
    "    print(num,\" is odd\")"
   ]
  },
  {
   "cell_type": "markdown",
   "id": "cc129a78",
   "metadata": {},
   "source": [
    "### Break Statement"
   ]
  },
  {
   "cell_type": "code",
   "execution_count": 87,
   "id": "58535fc7",
   "metadata": {},
   "outputs": [
    {
     "name": "stdout",
     "output_type": "stream",
     "text": [
      "1  is odd\n"
     ]
    }
   ],
   "source": [
    "numbers = [1, 2, 3, 4, 5]\n",
    "for num in numbers:\n",
    "    if num % 2 == 0:\n",
    "        break\n",
    "    print(num,\" is odd\")"
   ]
  },
  {
   "cell_type": "markdown",
   "id": "9ce17e38",
   "metadata": {},
   "source": [
    "### Pass Statement"
   ]
  },
  {
   "cell_type": "code",
   "execution_count": 93,
   "id": "66bb5712",
   "metadata": {},
   "outputs": [],
   "source": [
    "for x in [0, 1, 2]:\n",
    "    pass"
   ]
  },
  {
   "cell_type": "markdown",
   "id": "b3ff6805",
   "metadata": {},
   "source": [
    "### Lambda function"
   ]
  },
  {
   "cell_type": "code",
   "execution_count": 90,
   "id": "79a39156",
   "metadata": {},
   "outputs": [
    {
     "name": "stdout",
     "output_type": "stream",
     "text": [
      "10\n"
     ]
    }
   ],
   "source": [
    "sum = lambda firstNumber, secondNumber : firstNumber + secondNumber\n",
    "print(sum(1, 9))"
   ]
  },
  {
   "cell_type": "markdown",
   "id": "f0b31137",
   "metadata": {},
   "source": [
    "### Equivelent def function"
   ]
  },
  {
   "cell_type": "code",
   "execution_count": 91,
   "id": "a24cce58",
   "metadata": {},
   "outputs": [
    {
     "name": "stdout",
     "output_type": "stream",
     "text": [
      "10\n"
     ]
    }
   ],
   "source": [
    "def function(firstNumber, secondNumber):\n",
    "    return firstNumber + secondNumber\n",
    "\n",
    "sum = function(1, 9)\n",
    "print(sum)"
   ]
  },
  {
   "cell_type": "markdown",
   "id": "e4421aaf",
   "metadata": {},
   "source": [
    "# Try and Except"
   ]
  },
  {
   "cell_type": "code",
   "execution_count": 96,
   "id": "56b16b3c",
   "metadata": {},
   "outputs": [
    {
     "name": "stdout",
     "output_type": "stream",
     "text": [
      "Enter your number to add it by 2 : 3\n"
     ]
    },
    {
     "ename": "TypeError",
     "evalue": "can only concatenate str (not \"int\") to str",
     "output_type": "error",
     "traceback": [
      "\u001b[1;31m---------------------------------------------------------------------------\u001b[0m",
      "\u001b[1;31mTypeError\u001b[0m                                 Traceback (most recent call last)",
      "Cell \u001b[1;32mIn[96], line 2\u001b[0m\n\u001b[0;32m      1\u001b[0m enter \u001b[38;5;241m=\u001b[39m \u001b[38;5;28minput\u001b[39m(\u001b[38;5;124m'\u001b[39m\u001b[38;5;124mEnter your number to add it by 2 : \u001b[39m\u001b[38;5;124m'\u001b[39m)\n\u001b[1;32m----> 2\u001b[0m \u001b[38;5;28mprint\u001b[39m(\u001b[43menter\u001b[49m\u001b[43m \u001b[49m\u001b[38;5;241;43m+\u001b[39;49m\u001b[43m \u001b[49m\u001b[38;5;241;43m2\u001b[39;49m)\n",
      "\u001b[1;31mTypeError\u001b[0m: can only concatenate str (not \"int\") to str"
     ]
    }
   ],
   "source": [
    "enter = input('Enter your number to add it by 2 : ')\n",
    "print(enter + 2)"
   ]
  },
  {
   "cell_type": "code",
   "execution_count": 103,
   "id": "442efadd",
   "metadata": {},
   "outputs": [
    {
     "name": "stdout",
     "output_type": "stream",
     "text": [
      "Enter your number to add it by 2 : 3\n",
      "32\n",
      "Hamad\n",
      "Hello\n"
     ]
    }
   ],
   "source": [
    "try:\n",
    "    enter = input('Enter your number to add it by 2 : ')\n",
    "    print(enter + str(2))\n",
    "    print('Hamad')\n",
    "except:\n",
    "    print('Ops!! Something wrong..')\n",
    "\n",
    "print('Hello')"
   ]
  },
  {
   "cell_type": "code",
   "execution_count": 101,
   "id": "54135b03",
   "metadata": {},
   "outputs": [
    {
     "name": "stdout",
     "output_type": "stream",
     "text": [
      "Enter your number to add it by 2 : 3\n",
      "can only concatenate str (not \"int\") to str\n",
      "Hamad\n"
     ]
    }
   ],
   "source": [
    "try:\n",
    "    enter = input('Enter your number to add it by 2 : ')\n",
    "    print(enter + 2)\n",
    "except Exception as e:\n",
    "    print(e)\n",
    "\n",
    "print('Hamad')"
   ]
  },
  {
   "cell_type": "markdown",
   "id": "e0a078b7",
   "metadata": {},
   "source": [
    "# Additional Resources:\n",
    "\n",
    "- Python’s standard documentation, https://docs.python.org/3/tutorial/index.html\n",
    "- Introducing Python, https://learning.oreilly.com/library/view/introducing-python-2nd/9781492051374/\n",
    "- Fluent Python, https://learning.oreilly.com/library/view/fluent-python-2nd/9781492056348/\n",
    "- https://www.w3schools.com/python/"
   ]
  },
  {
   "cell_type": "code",
   "execution_count": null,
   "id": "50e20956",
   "metadata": {},
   "outputs": [],
   "source": []
  }
 ],
 "metadata": {
  "kernelspec": {
   "display_name": "Python 3 (ipykernel)",
   "language": "python",
   "name": "python3"
  },
  "language_info": {
   "codemirror_mode": {
    "name": "ipython",
    "version": 3
   },
   "file_extension": ".py",
   "mimetype": "text/x-python",
   "name": "python",
   "nbconvert_exporter": "python",
   "pygments_lexer": "ipython3",
   "version": "3.9.12"
  }
 },
 "nbformat": 4,
 "nbformat_minor": 5
}
