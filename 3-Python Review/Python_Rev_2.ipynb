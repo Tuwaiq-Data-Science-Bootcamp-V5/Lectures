{
 "cells": [
  {
   "cell_type": "markdown",
   "id": "7cf91647",
   "metadata": {},
   "source": [
    "# Python Programming Language 2\n",
    "\n",
    "<img src=\"data:image/png;base64,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\">"
   ]
  },
  {
   "cell_type": "markdown",
   "id": "ba7ad600",
   "metadata": {},
   "source": [
    "# 1. Collections\n",
    "\n",
    "A set of variables saved in a python collection"
   ]
  },
  {
   "cell_type": "markdown",
   "id": "11dd0949",
   "metadata": {},
   "source": [
    "## 1.1 Lists\n",
    "\n",
    "Collection of variables, no matter what are the data types of these variables.\n",
    "\n",
    "can be written like this :-\n",
    "\n",
    "```Python\n",
    "my_list1 = [1, 2, 3, 4]\n",
    "my_list2 = ['a', 'b', 'c']\n",
    "my_list3 = [1, 'a', True, 2.6]\n",
    "```\n",
    "\n",
    "Properties of lists :-\n",
    "1. You can add new elements.\n",
    "2. You can delete all or some elements.\n",
    "3. You can Change values of elements.\n",
    "4. Allow duplicates.\n",
    "5. Ordered."
   ]
  },
  {
   "cell_type": "markdown",
   "id": "d75fc023",
   "metadata": {},
   "source": [
    "#### Define list"
   ]
  },
  {
   "cell_type": "code",
   "execution_count": 1,
   "id": "c626cc9c",
   "metadata": {},
   "outputs": [
    {
     "name": "stdout",
     "output_type": "stream",
     "text": [
      "[1, 2, 3, 4]\n",
      "['a', 'b', 'c']\n",
      "[1, 'a', True, 2.6]\n"
     ]
    }
   ],
   "source": [
    "my_list1 = [1, 2, 3, 4]\n",
    "my_list2 = ['a', 'b', 'c']\n",
    "my_list3 = [1, 'a', True, 2.6]\n",
    "\n",
    "print(my_list1)\n",
    "print(my_list2)\n",
    "print(my_list3)"
   ]
  },
  {
   "cell_type": "code",
   "execution_count": 2,
   "id": "d477bdc6",
   "metadata": {},
   "outputs": [
    {
     "name": "stdout",
     "output_type": "stream",
     "text": [
      "[1, 2, 3]\n"
     ]
    }
   ],
   "source": [
    "my_list4 = list([1, 2, 3])\n",
    "print(my_list4)"
   ]
  },
  {
   "cell_type": "markdown",
   "id": "4f0c06cb",
   "metadata": {},
   "source": [
    "#### Access an element(s) in the list"
   ]
  },
  {
   "cell_type": "code",
   "execution_count": 3,
   "id": "d046479d",
   "metadata": {},
   "outputs": [
    {
     "name": "stdout",
     "output_type": "stream",
     "text": [
      "The my_list1 is                : [1, 2, 3, 4]\n",
      "\n",
      "First     element  of my_list1 : 1\n",
      "Second    element  of my_list1 : 2\n",
      "Last      element  of my_list1 : 4\n",
      "First two elements of my_list1 : [1, 2]\n"
     ]
    }
   ],
   "source": [
    "print(f'The my_list1 is                : {my_list1}\\n')\n",
    "print(f'First     element  of my_list1 : {my_list1[0]}')\n",
    "print(f'Second    element  of my_list1 : {my_list1[1]}')\n",
    "print(f'Last      element  of my_list1 : {my_list1[-1]}')\n",
    "print(f'First two elements of my_list1 : {my_list1[0:2]}')"
   ]
  },
  {
   "cell_type": "markdown",
   "id": "fa1813ae",
   "metadata": {},
   "source": [
    "#### Add new element to the list"
   ]
  },
  {
   "cell_type": "code",
   "execution_count": 4,
   "id": "f95114c6",
   "metadata": {},
   "outputs": [
    {
     "name": "stdout",
     "output_type": "stream",
     "text": [
      "[1, 2, 3, 4, 5]\n"
     ]
    }
   ],
   "source": [
    "my_list1.append(5)\n",
    "print(my_list1)"
   ]
  },
  {
   "cell_type": "markdown",
   "id": "7a4a6f98",
   "metadata": {},
   "source": [
    "#### Add new element to the list in a specific index\n",
    "\n",
    "```python\n",
    "my_list.insert(position, element)\n",
    "```"
   ]
  },
  {
   "cell_type": "code",
   "execution_count": 5,
   "id": "334add2d",
   "metadata": {},
   "outputs": [
    {
     "name": "stdout",
     "output_type": "stream",
     "text": [
      "[6, 1, 2, 3, 4, 5]\n"
     ]
    }
   ],
   "source": [
    "my_list1.insert(0, 6)\n",
    "print(my_list1)"
   ]
  },
  {
   "cell_type": "markdown",
   "id": "9bcfaf28",
   "metadata": {},
   "source": [
    "#### Sort the list"
   ]
  },
  {
   "cell_type": "code",
   "execution_count": 6,
   "id": "2657f282",
   "metadata": {},
   "outputs": [
    {
     "name": "stdout",
     "output_type": "stream",
     "text": [
      "[6, 5, 4, 3, 2, 1]\n"
     ]
    }
   ],
   "source": [
    "my_list1.sort(reverse=True)\n",
    "print(my_list1)"
   ]
  },
  {
   "cell_type": "code",
   "execution_count": 7,
   "id": "7455c9fb",
   "metadata": {},
   "outputs": [
    {
     "name": "stdout",
     "output_type": "stream",
     "text": [
      "[1, 2, 3, 4, 5, 6]\n"
     ]
    }
   ],
   "source": [
    "my_list1.sort()\n",
    "print(my_list1)"
   ]
  },
  {
   "cell_type": "code",
   "execution_count": 8,
   "id": "2bb11cd4",
   "metadata": {},
   "outputs": [
    {
     "name": "stdout",
     "output_type": "stream",
     "text": [
      "[6, 5, 4, 3, 2, 1]\n"
     ]
    }
   ],
   "source": [
    "my_list1.reverse()\n",
    "print(my_list1)"
   ]
  },
  {
   "cell_type": "code",
   "execution_count": 9,
   "id": "152f64e3",
   "metadata": {},
   "outputs": [],
   "source": [
    "my_list1.sort(reverse=False)"
   ]
  },
  {
   "cell_type": "markdown",
   "id": "e5ddbe24",
   "metadata": {},
   "source": [
    "#### Change a specific element in the list\n",
    "\n",
    "```python\n",
    "my_list[index] = new_value\n",
    "```"
   ]
  },
  {
   "cell_type": "code",
   "execution_count": 10,
   "id": "0c84f6de",
   "metadata": {},
   "outputs": [
    {
     "name": "stdout",
     "output_type": "stream",
     "text": [
      "['Hello!', 2, 3, 4, 5, 100]\n"
     ]
    }
   ],
   "source": [
    "my_list1[0] = 'Hello!'\n",
    "my_list1[-1] = 100\n",
    "\n",
    "print(my_list1)"
   ]
  },
  {
   "cell_type": "code",
   "execution_count": 11,
   "id": "b66b973d",
   "metadata": {},
   "outputs": [
    {
     "name": "stdout",
     "output_type": "stream",
     "text": [
      "[1, 2, 3, 4, 5, 6]\n"
     ]
    }
   ],
   "source": [
    "my_list1[0] = 1\n",
    "my_list1[-1] = 6\n",
    "\n",
    "print(my_list1)"
   ]
  },
  {
   "cell_type": "markdown",
   "id": "fa56a71b",
   "metadata": {},
   "source": [
    "#### Take a copy of the list"
   ]
  },
  {
   "cell_type": "code",
   "execution_count": 12,
   "id": "af691cb6",
   "metadata": {},
   "outputs": [
    {
     "name": "stdout",
     "output_type": "stream",
     "text": [
      "[1, 2, 3, 4, 5, 6]\n"
     ]
    }
   ],
   "source": [
    "my_list1_copy = my_list1.copy()\n",
    "\n",
    "print(my_list1_copy)"
   ]
  },
  {
   "cell_type": "markdown",
   "id": "cabe27a0",
   "metadata": {},
   "source": [
    "#### Adding duplicated elements to the list"
   ]
  },
  {
   "cell_type": "code",
   "execution_count": 13,
   "id": "452e029b",
   "metadata": {},
   "outputs": [
    {
     "name": "stdout",
     "output_type": "stream",
     "text": [
      "[1, 100, 100, 4, 5, 6]\n"
     ]
    }
   ],
   "source": [
    "my_list1_copy[1] = 100\n",
    "my_list1_copy[2] = 100\n",
    "\n",
    "print(my_list1_copy)"
   ]
  },
  {
   "cell_type": "markdown",
   "id": "823df978",
   "metadata": {},
   "source": [
    "#### Assign multiple values using slicing"
   ]
  },
  {
   "cell_type": "code",
   "execution_count": 14,
   "id": "61c38047",
   "metadata": {},
   "outputs": [
    {
     "name": "stdout",
     "output_type": "stream",
     "text": [
      "[1, 2, 3, 4, 5, 6]\n"
     ]
    }
   ],
   "source": [
    "my_list1_copy = my_list1\n",
    "\n",
    "print(my_list1_copy)"
   ]
  },
  {
   "cell_type": "code",
   "execution_count": 15,
   "id": "2f3b1c4b",
   "metadata": {},
   "outputs": [
    {
     "ename": "TypeError",
     "evalue": "can only assign an iterable",
     "output_type": "error",
     "traceback": [
      "\u001b[1;31m---------------------------------------------------------------------------\u001b[0m",
      "\u001b[1;31mTypeError\u001b[0m                                 Traceback (most recent call last)",
      "Cell \u001b[1;32mIn[15], line 1\u001b[0m\n\u001b[1;32m----> 1\u001b[0m my_list1_copy[\u001b[38;5;241m1\u001b[39m:\u001b[38;5;241m3\u001b[39m] \u001b[38;5;241m=\u001b[39m \u001b[38;5;241m100\u001b[39m\n\u001b[0;32m      2\u001b[0m \u001b[38;5;28mprint\u001b[39m(my_list1_copy)\n",
      "\u001b[1;31mTypeError\u001b[0m: can only assign an iterable"
     ]
    }
   ],
   "source": [
    "my_list1_copy[1:3] = 100\n",
    "print(my_list1_copy)"
   ]
  },
  {
   "cell_type": "code",
   "execution_count": 18,
   "id": "98685dd2",
   "metadata": {},
   "outputs": [
    {
     "name": "stdout",
     "output_type": "stream",
     "text": [
      "[1, 100, 100, 4, 5, 6]\n"
     ]
    }
   ],
   "source": [
    "my_list1_copy[1:3] = [100, 100] # We have added a duplicated elements also\n",
    "print(my_list1_copy)"
   ]
  },
  {
   "cell_type": "markdown",
   "id": "a39550cd",
   "metadata": {},
   "source": [
    "#### Count how many time a specific element repeated in the list\n",
    "\n",
    "```python\n",
    "my_list.count(element)\n",
    "```"
   ]
  },
  {
   "cell_type": "code",
   "execution_count": 19,
   "id": "23df1dd1",
   "metadata": {},
   "outputs": [
    {
     "name": "stdout",
     "output_type": "stream",
     "text": [
      "1\n",
      "2\n"
     ]
    }
   ],
   "source": [
    "print(my_list1_copy.count(1))\n",
    "print(my_list1_copy.count(100))"
   ]
  },
  {
   "cell_type": "markdown",
   "id": "0ad877ba",
   "metadata": {},
   "source": [
    "#### What is the index of a specific element in the list\n",
    "\n",
    "```python\n",
    "my_list.index(element)\n",
    "```"
   ]
  },
  {
   "cell_type": "code",
   "execution_count": 20,
   "id": "40479b0a",
   "metadata": {},
   "outputs": [
    {
     "name": "stdout",
     "output_type": "stream",
     "text": [
      "0\n",
      "4\n"
     ]
    }
   ],
   "source": [
    "print(my_list1_copy.index(1))\n",
    "print(my_list1_copy.index(5))"
   ]
  },
  {
   "cell_type": "code",
   "execution_count": 22,
   "id": "00be9681",
   "metadata": {},
   "outputs": [
    {
     "name": "stdout",
     "output_type": "stream",
     "text": [
      "1\n"
     ]
    }
   ],
   "source": [
    "# If there are duplicated elements, return the first one from the left.\n",
    "print(my_list1_copy.index(100))"
   ]
  },
  {
   "cell_type": "markdown",
   "id": "5827a097",
   "metadata": {},
   "source": [
    "#### Delete an element in a specific index"
   ]
  },
  {
   "cell_type": "code",
   "execution_count": 23,
   "id": "54259a59",
   "metadata": {},
   "outputs": [
    {
     "name": "stdout",
     "output_type": "stream",
     "text": [
      "[1, 100, 4, 5, 6]\n"
     ]
    }
   ],
   "source": [
    "first_100 = my_list1_copy.pop(1)\n",
    "print(my_list1_copy)"
   ]
  },
  {
   "cell_type": "markdown",
   "id": "7c6b054e",
   "metadata": {},
   "source": [
    "#### Delete an element by passing the element value"
   ]
  },
  {
   "cell_type": "code",
   "execution_count": 24,
   "id": "dce7c0ec",
   "metadata": {},
   "outputs": [
    {
     "name": "stdout",
     "output_type": "stream",
     "text": [
      "[1, 4, 5, 6]\n"
     ]
    }
   ],
   "source": [
    "second_100 = my_list1_copy.remove(100)\n",
    "print(my_list1_copy)"
   ]
  },
  {
   "cell_type": "markdown",
   "id": "8aad13b7",
   "metadata": {},
   "source": [
    "#### Merge two lists"
   ]
  },
  {
   "cell_type": "code",
   "execution_count": 25,
   "id": "0b771e90",
   "metadata": {},
   "outputs": [
    {
     "name": "stdout",
     "output_type": "stream",
     "text": [
      "[1, 4, 5, 6, 'a', 'b', 'c']\n"
     ]
    }
   ],
   "source": [
    "my_list1.extend(my_list2)\n",
    "\n",
    "print(my_list1)"
   ]
  },
  {
   "cell_type": "code",
   "execution_count": 28,
   "id": "daf409e5",
   "metadata": {},
   "outputs": [
    {
     "name": "stdout",
     "output_type": "stream",
     "text": [
      "None\n"
     ]
    }
   ],
   "source": [
    "my_list = my_list2.copy().extend(my_list3)\n",
    "\n",
    "print(my_list)"
   ]
  },
  {
   "cell_type": "code",
   "execution_count": 29,
   "id": "b7dd8b66",
   "metadata": {},
   "outputs": [
    {
     "name": "stdout",
     "output_type": "stream",
     "text": [
      "['a', 'b', 'c', 1, 'a', True, 2.6]\n"
     ]
    }
   ],
   "source": [
    "my_list = my_list2 + my_list3\n",
    "\n",
    "print(my_list)"
   ]
  },
  {
   "cell_type": "markdown",
   "id": "aa970ab4",
   "metadata": {},
   "source": [
    "#### Membership operator in the list"
   ]
  },
  {
   "cell_type": "code",
   "execution_count": 30,
   "id": "a027c492",
   "metadata": {},
   "outputs": [
    {
     "name": "stdout",
     "output_type": "stream",
     "text": [
      "Yes it is\n"
     ]
    }
   ],
   "source": [
    "if 'a' in my_list:\n",
    "    print('Yes it is')\n",
    "else:\n",
    "    print('No')"
   ]
  },
  {
   "cell_type": "markdown",
   "id": "4b5815e5",
   "metadata": {},
   "source": [
    "#### Loops using lists"
   ]
  },
  {
   "cell_type": "code",
   "execution_count": 31,
   "id": "74edbd6d",
   "metadata": {},
   "outputs": [
    {
     "name": "stdout",
     "output_type": "stream",
     "text": [
      "a\n",
      "b\n",
      "c\n",
      "1\n",
      "a\n",
      "True\n",
      "2.6\n"
     ]
    }
   ],
   "source": [
    "for element in my_list:\n",
    "    print(element)"
   ]
  },
  {
   "cell_type": "code",
   "execution_count": 36,
   "id": "5d43e9b1",
   "metadata": {},
   "outputs": [
    {
     "name": "stdout",
     "output_type": "stream",
     "text": [
      "0\n",
      "1\n",
      "2\n",
      "3\n",
      "4\n",
      "5\n",
      "6\n"
     ]
    }
   ],
   "source": [
    "for idx in range(len(my_list)):\n",
    "    print(idx)"
   ]
  },
  {
   "cell_type": "markdown",
   "id": "1a6dc415",
   "metadata": {},
   "source": [
    "#### Clear (delete all elements) of the list"
   ]
  },
  {
   "cell_type": "code",
   "execution_count": 37,
   "id": "a08f3e40",
   "metadata": {},
   "outputs": [
    {
     "name": "stdout",
     "output_type": "stream",
     "text": [
      "[]\n"
     ]
    }
   ],
   "source": [
    "my_list.clear()\n",
    "\n",
    "print(my_list)"
   ]
  },
  {
   "cell_type": "markdown",
   "id": "ca134fa5",
   "metadata": {},
   "source": [
    "## 1.2 Tuples\n",
    "\n",
    "Collection of variables, no matter what are the data types of these variables.\n",
    "\n",
    "can be written like this :-\n",
    "\n",
    "```python\n",
    "my_tuple1 = (1, 2, 3, 4)\n",
    "my_tuple2 = ('a', 'b', 'c')\n",
    "my_tuple3 = ('Hello', 10, False, 33.3)\n",
    "```\n",
    "\n",
    "Properties of tuples :-\n",
    "1. You can \"NOT\" add new elements.\n",
    "2. You can \"NOT\" delete all or some elements.\n",
    "3. You can \"NOT\" Change values of elements.\n",
    "4. Allow duplicates.\n",
    "5. Ordered."
   ]
  },
  {
   "cell_type": "markdown",
   "id": "3045618a",
   "metadata": {},
   "source": [
    "#### Define tuple"
   ]
  },
  {
   "cell_type": "code",
   "execution_count": 38,
   "id": "9e22851c",
   "metadata": {},
   "outputs": [
    {
     "name": "stdout",
     "output_type": "stream",
     "text": [
      "(1, 2, 3, 4)\n",
      "('a', 'b', 'c')\n",
      "(1, 'a', True, 2.6)\n"
     ]
    }
   ],
   "source": [
    "my_tuple1 = (1, 2, 3, 4)\n",
    "my_tuple2 = ('a', 'b', 'c')\n",
    "my_tuple3 = (1, 'a', True, 2.6)\n",
    "\n",
    "print(my_tuple1)\n",
    "print(my_tuple2)\n",
    "print(my_tuple3)"
   ]
  },
  {
   "cell_type": "code",
   "execution_count": 39,
   "id": "bef90227",
   "metadata": {},
   "outputs": [
    {
     "name": "stdout",
     "output_type": "stream",
     "text": [
      "(1, 2, 3)\n",
      "(1, 2, 3)\n",
      "[1, 2, 3]\n"
     ]
    }
   ],
   "source": [
    "my_tuple4 = tuple((1, 2, 3))\n",
    "print(my_tuple4)\n",
    "\n",
    "my_tuple4 = tuple([1, 2, 3]) # Convert list to tuple\n",
    "print(my_tuple4)\n",
    "\n",
    "my_list = list((1, 2, 3))   # Convert tuple to list\n",
    "print(my_list)"
   ]
  },
  {
   "cell_type": "markdown",
   "id": "d1921aca",
   "metadata": {},
   "source": [
    "#### Access an element(s) in the tuple"
   ]
  },
  {
   "cell_type": "code",
   "execution_count": 40,
   "id": "6d325243",
   "metadata": {},
   "outputs": [
    {
     "name": "stdout",
     "output_type": "stream",
     "text": [
      "The my_tuple1 is                : (1, 2, 3, 4)\n",
      "\n",
      "First     element  of my_tuple1 : 1\n",
      "Second    element  of my_tuple1 : 2\n",
      "Last      element  of my_tuple1 : 4\n",
      "First two elements of my_tuple1 : (1, 2)\n"
     ]
    }
   ],
   "source": [
    "print(f'The my_tuple1 is                : {my_tuple1}\\n')\n",
    "print(f'First     element  of my_tuple1 : {my_tuple1[0]}')\n",
    "print(f'Second    element  of my_tuple1 : {my_tuple1[1]}')\n",
    "print(f'Last      element  of my_tuple1 : {my_tuple1[-1]}')\n",
    "print(f'First two elements of my_tuple1 : {my_tuple1[0:2]}')"
   ]
  },
  {
   "cell_type": "markdown",
   "id": "1fe90854",
   "metadata": {},
   "source": [
    "#### Duplicated elements in the tuple"
   ]
  },
  {
   "cell_type": "code",
   "execution_count": 41,
   "id": "6905c148",
   "metadata": {},
   "outputs": [
    {
     "name": "stdout",
     "output_type": "stream",
     "text": [
      "(1, 2, 2, 3, 4, 4, 5)\n"
     ]
    }
   ],
   "source": [
    "my_tuple = (1, 2, 2, 3, 4, 4, 5)\n",
    "\n",
    "print(my_tuple)"
   ]
  },
  {
   "cell_type": "markdown",
   "id": "73aee55c",
   "metadata": {},
   "source": [
    "#### Count how many time a specific element repeated in the list\n",
    "\n",
    "```python\n",
    "my_tuple.count(element)\n",
    "```"
   ]
  },
  {
   "cell_type": "code",
   "execution_count": 42,
   "id": "ffb63c99",
   "metadata": {},
   "outputs": [
    {
     "data": {
      "text/plain": [
       "2"
      ]
     },
     "execution_count": 42,
     "metadata": {},
     "output_type": "execute_result"
    }
   ],
   "source": [
    "my_tuple.count(4)"
   ]
  },
  {
   "cell_type": "markdown",
   "id": "0a701f4c",
   "metadata": {},
   "source": [
    "#### What is the index of a specific element in the tuple\n",
    "\n",
    "```python\n",
    "my_tuple.index(element)\n",
    "```"
   ]
  },
  {
   "cell_type": "code",
   "execution_count": 43,
   "id": "f9fb2768",
   "metadata": {},
   "outputs": [
    {
     "data": {
      "text/plain": [
       "6"
      ]
     },
     "execution_count": 43,
     "metadata": {},
     "output_type": "execute_result"
    }
   ],
   "source": [
    "my_tuple.index(5)"
   ]
  },
  {
   "cell_type": "markdown",
   "id": "f29a7693",
   "metadata": {},
   "source": [
    "#### Can we add new element to tuple using some \"TRICK\"?"
   ]
  },
  {
   "cell_type": "code",
   "execution_count": 44,
   "id": "7538758d",
   "metadata": {},
   "outputs": [
    {
     "name": "stdout",
     "output_type": "stream",
     "text": [
      "The old tuple                          : (1, 2, 2, 3, 4, 4, 5)\n",
      "The list after converting the tuple    : [1, 2, 2, 3, 4, 4, 5]\n",
      "The list after adding new element      : [1, 2, 2, 3, 4, 4, 5, 6]\n",
      "The new tuple after adding new element : (1, 2, 2, 3, 4, 4, 5, 6)\n"
     ]
    }
   ],
   "source": [
    "print(f'The old tuple                          : {my_tuple}')\n",
    "\n",
    "lst = list(my_tuple)\n",
    "\n",
    "print(f'The list after converting the tuple    : {lst}')\n",
    "\n",
    "lst.append(6)\n",
    "\n",
    "print(f'The list after adding new element      : {lst}')\n",
    "\n",
    "new_tuple = tuple(lst)\n",
    "\n",
    "print(f'The new tuple after adding new element : {new_tuple}')"
   ]
  },
  {
   "cell_type": "markdown",
   "id": "db7ac7d2",
   "metadata": {},
   "source": [
    "#### Can we sort tuple using some \"TRICK\"?"
   ]
  },
  {
   "cell_type": "code",
   "execution_count": 45,
   "id": "6ba3453e",
   "metadata": {},
   "outputs": [
    {
     "name": "stdout",
     "output_type": "stream",
     "text": [
      "The old tuple                          : (1, 2, 2, 3, 4, 4, 5)\n",
      "The list after converting the tuple    : [1, 2, 2, 3, 4, 4, 5]\n",
      "The list after sorting                 : [5, 4, 4, 3, 2, 2, 1]\n",
      "The new tuple after sorting            : (5, 4, 4, 3, 2, 2, 1)\n"
     ]
    }
   ],
   "source": [
    "print(f'The old tuple                          : {my_tuple}')\n",
    "\n",
    "lst = list(my_tuple)\n",
    "\n",
    "print(f'The list after converting the tuple    : {lst}')\n",
    "\n",
    "lst.sort(reverse=True)\n",
    "\n",
    "print(f'The list after sorting                 : {lst}')\n",
    "\n",
    "new_tuple = tuple(lst)\n",
    "\n",
    "print(f'The new tuple after sorting            : {new_tuple}')"
   ]
  },
  {
   "cell_type": "markdown",
   "id": "1fc8b342",
   "metadata": {},
   "source": [
    "#### Can we change values using some \"TRICK\"?"
   ]
  },
  {
   "cell_type": "code",
   "execution_count": 46,
   "id": "9131e9b4",
   "metadata": {},
   "outputs": [
    {
     "name": "stdout",
     "output_type": "stream",
     "text": [
      "The old tuple                                    : (1, 2, 2, 3, 4, 4, 5)\n",
      "The list after converting the tuple              : [1, 2, 2, 3, 4, 4, 5]\n",
      "The list after changing value of an element      : ['Hamad', 2, 2, 3, 4, 4, 5]\n",
      "The new tuple after changing value of an element : ('Hamad', 2, 2, 3, 4, 4, 5)\n"
     ]
    }
   ],
   "source": [
    "print(f'The old tuple                                    : {my_tuple}')\n",
    "\n",
    "lst = list(my_tuple)\n",
    "\n",
    "print(f'The list after converting the tuple              : {lst}')\n",
    "\n",
    "lst[0] = 'Hamad'\n",
    "\n",
    "print(f'The list after changing value of an element      : {lst}')\n",
    "\n",
    "new_tuple = tuple(lst)\n",
    "\n",
    "print(f'The new tuple after changing value of an element : {new_tuple}')"
   ]
  },
  {
   "cell_type": "markdown",
   "id": "92ef3eb3",
   "metadata": {},
   "source": [
    "#### Can we delete an element from tuple using some \"TRICK\"?"
   ]
  },
  {
   "cell_type": "code",
   "execution_count": 47,
   "id": "720ca8c3",
   "metadata": {},
   "outputs": [
    {
     "name": "stdout",
     "output_type": "stream",
     "text": [
      "The old tuple                           : (1, 2, 2, 3, 4, 4, 5)\n",
      "The list after converting the tuple     : [1, 2, 2, 3, 4, 4, 5]\n",
      "The list after deleting an element      : [2, 2, 3, 4, 4, 5]\n",
      "The new tuple after deleting an element : (2, 2, 3, 4, 4, 5)\n"
     ]
    }
   ],
   "source": [
    "print(f'The old tuple                           : {my_tuple}')\n",
    "\n",
    "lst = list(my_tuple)\n",
    "\n",
    "print(f'The list after converting the tuple     : {lst}')\n",
    "\n",
    "lst.pop(0)\n",
    "\n",
    "print(f'The list after deleting an element      : {lst}')\n",
    "\n",
    "new_tuple = tuple(lst)\n",
    "\n",
    "print(f'The new tuple after deleting an element : {new_tuple}')"
   ]
  },
  {
   "cell_type": "markdown",
   "id": "0694e524",
   "metadata": {},
   "source": [
    "## 1.3 Sets\n",
    "\n",
    "Collection of variables, no matter what are the data types of these variables.\n",
    "\n",
    "can be written like this :-\n",
    "\n",
    "```python\n",
    "my_tuple1 = {1, 2, 3, 4}\n",
    "my_tuple2 = {'a', 'b', 'c'}\n",
    "my_tuple3 = {'Hello', 10, False, 33.3}\n",
    "```\n",
    "\n",
    "Properties of sets :-\n",
    "1. You can \"NOT\" add new elements.\n",
    "2. You can \"NOT\" delete all or some elements.\n",
    "3. You can \"NOT\" Change values of elements.\n",
    "4. Not allow to add duplicates.\n",
    "5. Unordered.\n",
    "6. Unindexed."
   ]
  },
  {
   "cell_type": "markdown",
   "id": "27c1418f",
   "metadata": {},
   "source": [
    "#### Define a set"
   ]
  },
  {
   "cell_type": "code",
   "execution_count": 48,
   "id": "5bf9dd09",
   "metadata": {},
   "outputs": [
    {
     "name": "stdout",
     "output_type": "stream",
     "text": [
      "{1, 2, 3, 4}\n",
      "{'b', 'a', 'c'}\n",
      "{False, 33.3, 10, 'Hello'}\n"
     ]
    }
   ],
   "source": [
    "my_set1 = {1, 2, 3, 4}\n",
    "my_set2 = {'a', 'b', 'c'}\n",
    "my_set3 = {'Hello', 10, False, 33.3}\n",
    "\n",
    "print(my_set1)\n",
    "print(my_set2)\n",
    "print(my_set3)"
   ]
  },
  {
   "cell_type": "code",
   "execution_count": 49,
   "id": "b7223c4f",
   "metadata": {},
   "outputs": [
    {
     "name": "stdout",
     "output_type": "stream",
     "text": [
      "{1, 2, 3}\n",
      "{1, 2, 3}\n",
      "{1, 2, 3}\n",
      "[1, 2, 3]\n"
     ]
    }
   ],
   "source": [
    "my_set4 = set({1, 2, 3})\n",
    "print(my_set4)\n",
    "\n",
    "my_set4 = set([1, 2, 3])    # Convert list to set\n",
    "print(my_set4)\n",
    "\n",
    "my_set4 = set((1, 2, 3))    # Convert tuple to set\n",
    "print(my_set4)\n",
    "\n",
    "my_set4 = list({1, 2, 3})   # Convert set to list\n",
    "print(my_set4)"
   ]
  },
  {
   "cell_type": "markdown",
   "id": "67a05bae",
   "metadata": {},
   "source": [
    "#### No duplicated elements"
   ]
  },
  {
   "cell_type": "code",
   "execution_count": 51,
   "id": "de62111d",
   "metadata": {},
   "outputs": [
    {
     "name": "stdout",
     "output_type": "stream",
     "text": [
      "{1, 2, 5}\n",
      "{1, 2, 4, 5}\n",
      "{1, 2, 4, 5}\n"
     ]
    }
   ],
   "source": [
    "my_set = {1, 5, 2}\n",
    "print(my_set)\n",
    "\n",
    "my_set.add(4)\n",
    "print(my_set)\n",
    "\n",
    "my_set.add(4)\n",
    "print(my_set)"
   ]
  },
  {
   "cell_type": "markdown",
   "id": "cc3fb72d",
   "metadata": {},
   "source": [
    "#### Ordering automatically"
   ]
  },
  {
   "cell_type": "code",
   "execution_count": 52,
   "id": "89829672",
   "metadata": {},
   "outputs": [
    {
     "name": "stdout",
     "output_type": "stream",
     "text": [
      "{1, 2, 3}\n"
     ]
    }
   ],
   "source": [
    "my_set = {1, 3, 2}\n",
    "print(my_set)"
   ]
  },
  {
   "cell_type": "markdown",
   "id": "b6fd5ecb",
   "metadata": {},
   "source": [
    "#### Update function"
   ]
  },
  {
   "cell_type": "code",
   "execution_count": 55,
   "id": "169d086a",
   "metadata": {},
   "outputs": [
    {
     "name": "stdout",
     "output_type": "stream",
     "text": [
      "{1, 2, 3, 10, 50, 20, 30}\n"
     ]
    }
   ],
   "source": [
    "lst = [10, 20, 30]\n",
    "\n",
    "my_set.update(lst)\n",
    "\n",
    "print(my_set)"
   ]
  },
  {
   "cell_type": "markdown",
   "id": "305723c2",
   "metadata": {},
   "source": [
    "#### Remove function"
   ]
  },
  {
   "cell_type": "code",
   "execution_count": 58,
   "id": "c1fe382e",
   "metadata": {},
   "outputs": [
    {
     "name": "stdout",
     "output_type": "stream",
     "text": [
      "{2, 3, 10, 50}\n"
     ]
    }
   ],
   "source": [
    "my_set.remove(20)\n",
    "print(my_set)"
   ]
  },
  {
   "cell_type": "markdown",
   "id": "d0709a70",
   "metadata": {},
   "source": [
    "## 1.4 Dictionaries\n",
    "\n",
    "Collection of variables, no matter what are the data types of these variables.\n",
    "\n",
    "can be written like this :-\n",
    "\n",
    "```python\n",
    "my_dict = {\n",
    "    'names':['Hamad', 'Razan', 'Saleh'],\n",
    "    'ids':[111, 222, 333]\n",
    "}\n",
    "```\n",
    "\n",
    "Properties of sets :-\n",
    "1. No duplicate in the keys just.\n",
    "2. You can add new elements.\n",
    "3. You can delete all or some elements.\n",
    "4. You can Change values of elements.\n",
    "5. Ordered."
   ]
  },
  {
   "cell_type": "markdown",
   "id": "f0de0741",
   "metadata": {},
   "source": [
    "#### Define dictionary"
   ]
  },
  {
   "cell_type": "code",
   "execution_count": 62,
   "id": "346e44ac",
   "metadata": {},
   "outputs": [
    {
     "name": "stdout",
     "output_type": "stream",
     "text": [
      "{'Name': 'Sara', 'B.O.D': [1995, 20], 'Age': 26}\n",
      "3\n"
     ]
    }
   ],
   "source": [
    "dict1 = {\n",
    "  \"Name\": \"Sara\",\n",
    "  \"B.O.D\": [1995, 20],\n",
    "  \"Age\": 26 \n",
    "}\n",
    "\n",
    "print(dict1)\n",
    "print(len(dict1))"
   ]
  },
  {
   "cell_type": "markdown",
   "id": "2762446d",
   "metadata": {},
   "source": [
    "#### No duplication on keys"
   ]
  },
  {
   "cell_type": "code",
   "execution_count": 64,
   "id": "1afea9ea",
   "metadata": {},
   "outputs": [
    {
     "name": "stdout",
     "output_type": "stream",
     "text": [
      "{'Name': 'Sara', 'B.O.D': 1995, 'Age': 56}\n"
     ]
    }
   ],
   "source": [
    "dict1 = {\n",
    "  \"Name\": \"Sara\",\n",
    "  \"B.O.D\": 1995,\n",
    "  \"Age\": 26,\n",
    "  \"Age\": 56\n",
    "}\n",
    "\n",
    "print(dict1)"
   ]
  },
  {
   "cell_type": "markdown",
   "id": "087ef1e7",
   "metadata": {},
   "source": [
    "#### You can change the value of an element"
   ]
  },
  {
   "cell_type": "code",
   "execution_count": 65,
   "id": "57cba81e",
   "metadata": {},
   "outputs": [
    {
     "name": "stdout",
     "output_type": "stream",
     "text": [
      "{'Name': 'Sara', 'B.O.D': 1995, 'Age': 56, 'Blood Type': 'B'}\n"
     ]
    }
   ],
   "source": [
    "# Changeable\n",
    "dict1[\"Blood Type\"] = \"B\"\n",
    "print(dict1)"
   ]
  },
  {
   "cell_type": "markdown",
   "id": "64686167",
   "metadata": {},
   "source": [
    "#### Accessing items in dictionaries"
   ]
  },
  {
   "cell_type": "code",
   "execution_count": 66,
   "id": "dfd0b410",
   "metadata": {},
   "outputs": [
    {
     "name": "stdout",
     "output_type": "stream",
     "text": [
      "Sara\n",
      "Sara\n"
     ]
    }
   ],
   "source": [
    "# Accessing Items\n",
    "x = dict1[\"Name\"]\n",
    "print(x)\n",
    "\n",
    "x = dict1.get(\"Name\")\n",
    "print(x)"
   ]
  },
  {
   "cell_type": "markdown",
   "id": "059a963a",
   "metadata": {},
   "source": [
    "#### Collection of values"
   ]
  },
  {
   "cell_type": "code",
   "execution_count": 67,
   "id": "9d22a7f4",
   "metadata": {},
   "outputs": [
    {
     "name": "stdout",
     "output_type": "stream",
     "text": [
      "dict_values(['Sara', 1995, 56, 'B'])\n"
     ]
    }
   ],
   "source": [
    "print(dict1.values())"
   ]
  },
  {
   "cell_type": "markdown",
   "id": "245bba0d",
   "metadata": {},
   "source": [
    "#### Collection of keys"
   ]
  },
  {
   "cell_type": "code",
   "execution_count": 68,
   "id": "a059d210",
   "metadata": {},
   "outputs": [
    {
     "name": "stdout",
     "output_type": "stream",
     "text": [
      "dict_keys(['Name', 'B.O.D', 'Age', 'Blood Type'])\n"
     ]
    }
   ],
   "source": [
    "print(dict1.keys())"
   ]
  },
  {
   "cell_type": "markdown",
   "id": "9bb1ea61",
   "metadata": {},
   "source": [
    "#### Collection of items (both keys and values)"
   ]
  },
  {
   "cell_type": "code",
   "execution_count": 69,
   "id": "ed513874",
   "metadata": {},
   "outputs": [
    {
     "name": "stdout",
     "output_type": "stream",
     "text": [
      "dict_items([('Name', 'Sara'), ('B.O.D', 1995), ('Age', 56), ('Blood Type', 'B')])\n"
     ]
    }
   ],
   "source": [
    "print(dict1.items())"
   ]
  },
  {
   "cell_type": "markdown",
   "id": "b1e3f288",
   "metadata": {},
   "source": [
    "#### You can change values even after using values() method"
   ]
  },
  {
   "cell_type": "code",
   "execution_count": 70,
   "id": "273270d5",
   "metadata": {},
   "outputs": [
    {
     "name": "stdout",
     "output_type": "stream",
     "text": [
      "dict_values(['Sara', 1995, 56, 'B'])\n",
      "dict_values(['Sara', 1994, 56, 'B'])\n"
     ]
    }
   ],
   "source": [
    "x = dict1.values()\n",
    "print(x) #before the change\n",
    "\n",
    "dict1[\"B.O.D\"] = 1994\n",
    "print(x) #after the change"
   ]
  },
  {
   "cell_type": "markdown",
   "id": "9759c408",
   "metadata": {},
   "source": [
    "#### update function"
   ]
  },
  {
   "cell_type": "code",
   "execution_count": 71,
   "id": "6f2cee38",
   "metadata": {},
   "outputs": [
    {
     "name": "stdout",
     "output_type": "stream",
     "text": [
      "{'Name': 'Reem', 'B.O.D': 1994, 'Age': 56, 'Blood Type': 'B'}\n"
     ]
    }
   ],
   "source": [
    "dict1.update({\"Name\": \"Reem\"})\n",
    "print(dict1)"
   ]
  },
  {
   "cell_type": "markdown",
   "id": "4bfd7bd9",
   "metadata": {},
   "source": [
    "#### pop function\n",
    "\n",
    "```python\n",
    "my_dict.pop(key)\n",
    "```"
   ]
  },
  {
   "cell_type": "code",
   "execution_count": 72,
   "id": "615f76a8",
   "metadata": {},
   "outputs": [
    {
     "name": "stdout",
     "output_type": "stream",
     "text": [
      "{'Name': 'Reem', 'B.O.D': 1994, 'Age': 56}\n"
     ]
    }
   ],
   "source": [
    "dict1.pop(\"Blood Type\")\n",
    "print(dict1)"
   ]
  },
  {
   "cell_type": "markdown",
   "id": "b5ff5b29",
   "metadata": {},
   "source": [
    "#### Remove the last item"
   ]
  },
  {
   "cell_type": "code",
   "execution_count": 73,
   "id": "0e5bea18",
   "metadata": {},
   "outputs": [
    {
     "name": "stdout",
     "output_type": "stream",
     "text": [
      "{'Name': 'Reem', 'B.O.D': 1994}\n"
     ]
    }
   ],
   "source": [
    "dict1.popitem()\n",
    "print(dict1)"
   ]
  },
  {
   "cell_type": "markdown",
   "id": "7cc86ec6",
   "metadata": {},
   "source": [
    "#### del keyword"
   ]
  },
  {
   "cell_type": "code",
   "execution_count": 74,
   "id": "c6f363d0",
   "metadata": {},
   "outputs": [
    {
     "name": "stdout",
     "output_type": "stream",
     "text": [
      "{'Name': 'Reem'}\n"
     ]
    },
    {
     "ename": "NameError",
     "evalue": "name 'dict1' is not defined",
     "output_type": "error",
     "traceback": [
      "\u001b[1;31m---------------------------------------------------------------------------\u001b[0m",
      "\u001b[1;31mNameError\u001b[0m                                 Traceback (most recent call last)",
      "Cell \u001b[1;32mIn[74], line 7\u001b[0m\n\u001b[0;32m      5\u001b[0m \u001b[38;5;66;03m# The del keyword can also delete the dictionary completely\u001b[39;00m\n\u001b[0;32m      6\u001b[0m \u001b[38;5;28;01mdel\u001b[39;00m dict1\n\u001b[1;32m----> 7\u001b[0m \u001b[38;5;28mprint\u001b[39m(\u001b[43mdict1\u001b[49m)\n",
      "\u001b[1;31mNameError\u001b[0m: name 'dict1' is not defined"
     ]
    }
   ],
   "source": [
    "# del keyword removes the item with the specified key name\n",
    "del dict1[\"B.O.D\"]\n",
    "print(dict1)\n",
    "\n",
    "# The del keyword can also delete the dictionary completely\n",
    "del dict1\n",
    "print(dict1)"
   ]
  },
  {
   "cell_type": "markdown",
   "id": "7ab908f3",
   "metadata": {},
   "source": [
    "#### Clear function"
   ]
  },
  {
   "cell_type": "code",
   "execution_count": 75,
   "id": "a3bd6e63",
   "metadata": {},
   "outputs": [
    {
     "name": "stdout",
     "output_type": "stream",
     "text": [
      "{'Name': 'Sara', 'B.O.D': 1995, 'Age': 26}\n",
      "{}\n"
     ]
    }
   ],
   "source": [
    "# clear() method empties the dictionary\n",
    "dict1 = {\n",
    "  \"Name\": \"Sara\",\n",
    "  \"B.O.D\": 1995,\n",
    "  \"Age\": 26 \n",
    "}\n",
    "print(dict1)\n",
    "dict1.clear()\n",
    "print(dict1)"
   ]
  },
  {
   "cell_type": "markdown",
   "id": "cf87479b",
   "metadata": {},
   "source": [
    "#### Normal for loop in dictionaries"
   ]
  },
  {
   "cell_type": "code",
   "execution_count": 76,
   "id": "f7bb81d7",
   "metadata": {},
   "outputs": [
    {
     "name": "stdout",
     "output_type": "stream",
     "text": [
      "Name\n",
      "B.O.D\n",
      "Age\n"
     ]
    }
   ],
   "source": [
    "dict1 = {\n",
    "  \"Name\": \"Sara\",\n",
    "  \"B.O.D\": 1995,\n",
    "  \"Age\": 26 \n",
    "}\n",
    "\n",
    "for x in dict1:\n",
    "    print(x)"
   ]
  },
  {
   "cell_type": "markdown",
   "id": "ecddc5a6",
   "metadata": {},
   "source": [
    "#### For loop for the keys"
   ]
  },
  {
   "cell_type": "code",
   "execution_count": 77,
   "id": "50204b9b",
   "metadata": {},
   "outputs": [
    {
     "name": "stdout",
     "output_type": "stream",
     "text": [
      "Name\n",
      "B.O.D\n",
      "Age\n"
     ]
    }
   ],
   "source": [
    "for x in dict1.keys():\n",
    "    print(x)"
   ]
  },
  {
   "cell_type": "markdown",
   "id": "c3181f06",
   "metadata": {},
   "source": [
    "#### For loop for the values (1)"
   ]
  },
  {
   "cell_type": "code",
   "execution_count": 78,
   "id": "aa80b6ad",
   "metadata": {},
   "outputs": [
    {
     "name": "stdout",
     "output_type": "stream",
     "text": [
      "Sara\n",
      "1995\n",
      "26\n"
     ]
    }
   ],
   "source": [
    "for x in dict1:\n",
    "    print(dict1[x])"
   ]
  },
  {
   "cell_type": "markdown",
   "id": "3a92d6bd",
   "metadata": {},
   "source": [
    "#### For loop for the values (2)"
   ]
  },
  {
   "cell_type": "code",
   "execution_count": 79,
   "id": "cec9cf11",
   "metadata": {},
   "outputs": [
    {
     "name": "stdout",
     "output_type": "stream",
     "text": [
      "Sara\n",
      "1995\n",
      "26\n"
     ]
    }
   ],
   "source": [
    "for x in dict1.values():\n",
    "    print(x)"
   ]
  },
  {
   "cell_type": "markdown",
   "id": "c9b45112",
   "metadata": {},
   "source": [
    "#### Nested dictionaries"
   ]
  },
  {
   "cell_type": "code",
   "execution_count": 80,
   "id": "ba83a1f1",
   "metadata": {},
   "outputs": [
    {
     "name": "stdout",
     "output_type": "stream",
     "text": [
      "{'student1': {'Name': 'Sara', 'B.O.D': 1995, 'Age': 26}, 'student2': {'Name': 'Ahmed', 'B.O.D': 1998, 'Age': 23}}\n"
     ]
    }
   ],
   "source": [
    "# Nested Dictionaries\n",
    "dict4 = {\n",
    "    \n",
    "    \"student1\": {\n",
    "        \"Name\": \"Sara\",\n",
    "        \"B.O.D\": 1995,\n",
    "        \"Age\": 26 \n",
    "    },\n",
    "    \n",
    "    \"student2\": {\n",
    "        \"Name\": \"Ahmed\",\n",
    "        \"B.O.D\": 1998,\n",
    "        \"Age\": 23 \n",
    "    }\n",
    " \n",
    "}\n",
    "\n",
    "print(dict4)"
   ]
  },
  {
   "cell_type": "code",
   "execution_count": 81,
   "id": "004c2618",
   "metadata": {},
   "outputs": [
    {
     "name": "stdout",
     "output_type": "stream",
     "text": [
      "{'student1': {'Name': 'Sara', 'B.O.D': 1995, 'Age': 26}, 'student2': {'Name': 'Ahmed', 'B.O.D': 1998, 'Age': 23}}\n"
     ]
    }
   ],
   "source": [
    "student1 = {\n",
    "        \"Name\": \"Sara\",\n",
    "        \"B.O.D\": 1995,\n",
    "        \"Age\": 26 \n",
    "    }\n",
    "    \n",
    "    \n",
    "student2 = {\n",
    "        \"Name\": \"Ahmed\",\n",
    "        \"B.O.D\": 1998,\n",
    "        \"Age\": 23 \n",
    "    }\n",
    "\n",
    "dict4 = {\n",
    "     \"student1\": student1,\n",
    "     \"student2\": student2\n",
    "}\n",
    "print(dict4)"
   ]
  },
  {
   "cell_type": "markdown",
   "id": "7c551280",
   "metadata": {},
   "source": [
    "# 2. List Comprehension"
   ]
  },
  {
   "cell_type": "code",
   "execution_count": 82,
   "id": "f3463867",
   "metadata": {},
   "outputs": [
    {
     "name": "stdout",
     "output_type": "stream",
     "text": [
      "[1, 2, 3, 4, 5]\n"
     ]
    }
   ],
   "source": [
    "lst = []\n",
    "\n",
    "for i in [1, 2, 3, 4, 5]:\n",
    "    lst.append(i)\n",
    "\n",
    "print(lst)"
   ]
  },
  {
   "cell_type": "code",
   "execution_count": 83,
   "id": "43a596da",
   "metadata": {},
   "outputs": [
    {
     "name": "stdout",
     "output_type": "stream",
     "text": [
      "[1, 2, 3, 4, 5]\n"
     ]
    }
   ],
   "source": [
    "lst = [i for i in [1, 2, 3, 4, 5]]\n",
    "\n",
    "print(lst)"
   ]
  },
  {
   "cell_type": "code",
   "execution_count": 85,
   "id": "4dea6ca7",
   "metadata": {},
   "outputs": [
    {
     "name": "stdout",
     "output_type": "stream",
     "text": [
      "[2, 4, 6, 8, 10]\n"
     ]
    }
   ],
   "source": [
    "lst = [i for i in range(1, 11) if i % 2 == 0]\n",
    "\n",
    "print(lst)"
   ]
  },
  {
   "cell_type": "code",
   "execution_count": 86,
   "id": "7815e01e",
   "metadata": {},
   "outputs": [
    {
     "ename": "SyntaxError",
     "evalue": "invalid syntax (877637713.py, line 1)",
     "output_type": "error",
     "traceback": [
      "\u001b[1;36m  Cell \u001b[1;32mIn[86], line 1\u001b[1;36m\u001b[0m\n\u001b[1;33m    lst = [i for i in range(1, 10+1) if i % 2 == 0 else 'odd']\u001b[0m\n\u001b[1;37m                                                   ^\u001b[0m\n\u001b[1;31mSyntaxError\u001b[0m\u001b[1;31m:\u001b[0m invalid syntax\n"
     ]
    }
   ],
   "source": [
    "lst = [i for i in range(1, 10+1) if i % 2 == 0 else 'odd']\n",
    "\n",
    "print(lst)"
   ]
  },
  {
   "cell_type": "code",
   "execution_count": 91,
   "id": "dd574920",
   "metadata": {},
   "outputs": [
    {
     "name": "stdout",
     "output_type": "stream",
     "text": [
      "['odd', 10, 'odd', 20, 'odd', 30, 'odd', 40, 'odd', 50]\n"
     ]
    }
   ],
   "source": [
    "lst = [i*5 if i % 2 == 0 else 'odd' for i in range(1, 10+1)]\n",
    "\n",
    "print(lst)"
   ]
  },
  {
   "cell_type": "markdown",
   "id": "e0c3e08d",
   "metadata": {},
   "source": [
    "# 3. Classes and Objects"
   ]
  },
  {
   "cell_type": "markdown",
   "id": "f7669610",
   "metadata": {},
   "source": [
    "#### Create class"
   ]
  },
  {
   "cell_type": "code",
   "execution_count": 92,
   "id": "a21df02b",
   "metadata": {},
   "outputs": [],
   "source": [
    "class Vehicle:\n",
    "    \n",
    "    # Constructor function\n",
    "    def __init__(self, max_speed, mileage, color):\n",
    "        self.max_speed = max_speed\n",
    "        self.mileage = mileage\n",
    "        self.color = color\n",
    "        self.seating_capacity = None\n",
    "\n",
    "    # Add value to attribute function\n",
    "    def assign_seating_capacity(self, seating_capacity):\n",
    "        self.seating_capacity = seating_capacity\n",
    "    \n",
    "    # Display info function\n",
    "    def display_properties(self):\n",
    "        print(\"Properties of the Vehicle:\")\n",
    "        print(\"Color:\", self.color)\n",
    "        print(\"Maximum Speed:\", self.max_speed)\n",
    "        print(\"Mileage:\", self.mileage)\n",
    "        print(\"Seating Capacity:\", self.seating_capacity)"
   ]
  },
  {
   "cell_type": "markdown",
   "id": "927e28c0",
   "metadata": {},
   "source": [
    "#### Create objects"
   ]
  },
  {
   "cell_type": "code",
   "execution_count": 93,
   "id": "35b8cd6e",
   "metadata": {},
   "outputs": [
    {
     "name": "stdout",
     "output_type": "stream",
     "text": [
      "Properties of the Vehicle:\n",
      "Color: White\n",
      "Maximum Speed: 200\n",
      "Mileage: 50000\n",
      "Seating Capacity: 5\n",
      "\n",
      "Properties of the Vehicle:\n",
      "Color: Black\n",
      "Maximum Speed: 180\n",
      "Mileage: 75000\n",
      "Seating Capacity: 4\n"
     ]
    }
   ],
   "source": [
    "vehicle1 = Vehicle(200, 50000, 'White')\n",
    "vehicle1.assign_seating_capacity(5)\n",
    "vehicle1.display_properties()\n",
    "\n",
    "print()\n",
    "\n",
    "vehicle2 = Vehicle(180, 75000, 'Black')\n",
    "vehicle2.assign_seating_capacity(4)\n",
    "vehicle2.display_properties()"
   ]
  },
  {
   "cell_type": "markdown",
   "id": "33c48847",
   "metadata": {},
   "source": [
    "#### Inheritance"
   ]
  },
  {
   "cell_type": "code",
   "execution_count": 94,
   "id": "753fa8e0",
   "metadata": {},
   "outputs": [],
   "source": [
    "class Human():\n",
    "    def __init__(self, name, age):\n",
    "        self.name = name\n",
    "        self.age = age"
   ]
  },
  {
   "cell_type": "code",
   "execution_count": 95,
   "id": "1717cf74",
   "metadata": {},
   "outputs": [],
   "source": [
    "class Student(Human):\n",
    "    \n",
    "    def __init__(self, name, age, id_number, university):\n",
    "        super().__init__(name, age)\n",
    "        self.id_number = id_number\n",
    "        self.university = university\n",
    "    \n",
    "    def student_data(self):\n",
    "        return {\n",
    "            'name'       : self.name,\n",
    "            'age'        : self.age,\n",
    "            'id number'  : self.id_number,\n",
    "            'university' : self.university\n",
    "        }"
   ]
  },
  {
   "cell_type": "code",
   "execution_count": 96,
   "id": "7b000cd4",
   "metadata": {},
   "outputs": [
    {
     "data": {
      "text/plain": [
       "{'name': 'Hamad', 'age': 21, 'id number': 444000333, 'university': 'KSU'}"
      ]
     },
     "execution_count": 96,
     "metadata": {},
     "output_type": "execute_result"
    }
   ],
   "source": [
    "s = Student('Hamad', 21, 444000333, 'KSU')\n",
    "s.student_data()"
   ]
  },
  {
   "cell_type": "code",
   "execution_count": 97,
   "id": "836b14d3",
   "metadata": {},
   "outputs": [],
   "source": [
    "class Circle(object):\n",
    "    \n",
    "    # Constructor\n",
    "    def __init__(self, radius=3, color='blue'):\n",
    "        self.radius = radius # Attribute 1\n",
    "        self.color = color   # Attribute 2\n",
    "    \n",
    "    # Method 1\n",
    "    def add_radius(self, r):\n",
    "        self.radius = self.radius + r\n",
    "        return(self.radius)\n",
    "    \n",
    "    # Method 2\n",
    "    def change_color(self, c):\n",
    "        self.color = c\n",
    "    \n",
    "    # Method 3\n",
    "    def draw_circle(self):\n",
    "        \n",
    "        import matplotlib.pyplot as plt\n",
    "        %matplotlib inline\n",
    "        \n",
    "        plt.gca().add_patch(plt.Circle((0, 0), radius=self.radius, fc=self.color))\n",
    "        plt.axis('scaled')\n",
    "        plt.show()"
   ]
  },
  {
   "cell_type": "code",
   "execution_count": 98,
   "id": "c6b8e8b6",
   "metadata": {},
   "outputs": [],
   "source": [
    "red_circle = Circle(10, 'red')"
   ]
  },
  {
   "cell_type": "code",
   "execution_count": 99,
   "id": "3ff87ec8",
   "metadata": {},
   "outputs": [
    {
     "data": {
      "image/png": "[encoded data removed]",
      "text/plain": [
       "<Figure size 432x288 with 1 Axes>"
      ]
     },
     "metadata": {
      "needs_background": "light"
     },
     "output_type": "display_data"
    }
   ],
   "source": [
    "red_circle.draw_circle()"
   ]
  },
  {
   "cell_type": "code",
   "execution_count": 100,
   "id": "3f95c5ea",
   "metadata": {},
   "outputs": [
    {
     "name": "stdout",
     "output_type": "stream",
     "text": [
      "10 red\n"
     ]
    }
   ],
   "source": [
    "print(red_circle.radius, red_circle.color)"
   ]
  },
  {
   "cell_type": "code",
   "execution_count": 101,
   "id": "3b8ece12",
   "metadata": {},
   "outputs": [
    {
     "name": "stdout",
     "output_type": "stream",
     "text": [
      "Radius of object: 10\n",
      "Radius of object of after applying the method add_radius(2): 12\n"
     ]
    }
   ],
   "source": [
    "print('Radius of object:',red_circle.radius)\n",
    "red_circle.add_radius(2)\n",
    "print('Radius of object of after applying the method add_radius(2):',red_circle.radius)"
   ]
  },
  {
   "cell_type": "markdown",
   "id": "281392ef",
   "metadata": {},
   "source": [
    "## Additional Resources:\n",
    "- Python’s standard documentation, https://docs.python.org/3/tutorial/index.html\n",
    "- Introducing Python, https://learning.oreilly.com/library/view/introducing-python-2nd/9781492051374/\n",
    "- Fluent Python, https://learning.oreilly.com/library/view/fluent-python-2nd/9781492056348/\n",
    "- https://www.w3schools.com/python/"
   ]
  }
 ],
 "metadata": {
  "kernelspec": {
   "display_name": "Python 3 (ipykernel)",
   "language": "python",
   "name": "python3"
  },
  "language_info": {
   "codemirror_mode": {
    "name": "ipython",
    "version": 3
   },
   "file_extension": ".py",
   "mimetype": "text/x-python",
   "name": "python",
   "nbconvert_exporter": "python",
   "pygments_lexer": "ipython3",
   "version": "3.9.12"
  }
 },
 "nbformat": 4,
 "nbformat_minor": 5
}
